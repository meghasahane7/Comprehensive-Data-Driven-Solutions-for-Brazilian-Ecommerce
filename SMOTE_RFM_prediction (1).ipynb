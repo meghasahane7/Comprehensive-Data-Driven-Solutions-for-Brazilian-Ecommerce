{
 "cells": [
  {
   "cell_type": "code",
   "execution_count": 1,
   "id": "ae11a8cb",
   "metadata": {},
   "outputs": [],
   "source": [
    "import pandas as pd\n",
    "import numpy as np\n",
    "import matplotlib.pyplot as plt\n",
    "import seaborn as sns\n",
    "from scipy.stats import zscore\n",
    "from sklearn.metrics import confusion_matrix, classification_report,roc_auc_score,roc_curve"
   ]
  },
  {
   "cell_type": "code",
   "execution_count": 9,
   "id": "0440a60d",
   "metadata": {},
   "outputs": [],
   "source": [
    "final=pd.read_csv('merged_df.csv')"
   ]
  },
  {
   "cell_type": "code",
   "execution_count": 3,
   "id": "1e5206fc",
   "metadata": {},
   "outputs": [
    {
     "data": {
      "text/html": [
       "<div>\n",
       "<style scoped>\n",
       "    .dataframe tbody tr th:only-of-type {\n",
       "        vertical-align: middle;\n",
       "    }\n",
       "\n",
       "    .dataframe tbody tr th {\n",
       "        vertical-align: top;\n",
       "    }\n",
       "\n",
       "    .dataframe thead th {\n",
       "        text-align: right;\n",
       "    }\n",
       "</style>\n",
       "<table border=\"1\" class=\"dataframe\">\n",
       "  <thead>\n",
       "    <tr style=\"text-align: right;\">\n",
       "      <th></th>\n",
       "      <th>customer_id</th>\n",
       "      <th>recency_score</th>\n",
       "      <th>frequency_score</th>\n",
       "      <th>monetary_score</th>\n",
       "      <th>rfm_score</th>\n",
       "      <th>segment</th>\n",
       "      <th>customer_unique_id</th>\n",
       "      <th>recency</th>\n",
       "      <th>frequency</th>\n",
       "      <th>monetary_value</th>\n",
       "      <th>customer_tenure</th>\n",
       "      <th>late_deliveries</th>\n",
       "      <th>num_orders</th>\n",
       "      <th>review_score</th>\n",
       "    </tr>\n",
       "  </thead>\n",
       "  <tbody>\n",
       "    <tr>\n",
       "      <th>0</th>\n",
       "      <td>9ef432eb6251297304e76186b10a928d</td>\n",
       "      <td>2</td>\n",
       "      <td>1.0</td>\n",
       "      <td>1.0</td>\n",
       "      <td>4.0</td>\n",
       "      <td>Regular</td>\n",
       "      <td>7c396fd4830fd04220f754e42b4e5bff</td>\n",
       "      <td>335.0</td>\n",
       "      <td>4.0</td>\n",
       "      <td>82.0</td>\n",
       "      <td>27.0</td>\n",
       "      <td>0</td>\n",
       "      <td>2.0</td>\n",
       "      <td>4</td>\n",
       "    </tr>\n",
       "    <tr>\n",
       "      <th>1</th>\n",
       "      <td>9ef432eb6251297304e76186b10a928d</td>\n",
       "      <td>2</td>\n",
       "      <td>1.0</td>\n",
       "      <td>1.0</td>\n",
       "      <td>4.0</td>\n",
       "      <td>Regular</td>\n",
       "      <td>7c396fd4830fd04220f754e42b4e5bff</td>\n",
       "      <td>335.0</td>\n",
       "      <td>4.0</td>\n",
       "      <td>82.0</td>\n",
       "      <td>27.0</td>\n",
       "      <td>0</td>\n",
       "      <td>2.0</td>\n",
       "      <td>4</td>\n",
       "    </tr>\n",
       "    <tr>\n",
       "      <th>2</th>\n",
       "      <td>9ef432eb6251297304e76186b10a928d</td>\n",
       "      <td>2</td>\n",
       "      <td>1.0</td>\n",
       "      <td>1.0</td>\n",
       "      <td>4.0</td>\n",
       "      <td>Regular</td>\n",
       "      <td>7c396fd4830fd04220f754e42b4e5bff</td>\n",
       "      <td>335.0</td>\n",
       "      <td>4.0</td>\n",
       "      <td>82.0</td>\n",
       "      <td>27.0</td>\n",
       "      <td>0</td>\n",
       "      <td>2.0</td>\n",
       "      <td>4</td>\n",
       "    </tr>\n",
       "    <tr>\n",
       "      <th>3</th>\n",
       "      <td>9ef432eb6251297304e76186b10a928d</td>\n",
       "      <td>2</td>\n",
       "      <td>1.0</td>\n",
       "      <td>1.0</td>\n",
       "      <td>4.0</td>\n",
       "      <td>Regular</td>\n",
       "      <td>7c396fd4830fd04220f754e42b4e5bff</td>\n",
       "      <td>335.0</td>\n",
       "      <td>4.0</td>\n",
       "      <td>82.0</td>\n",
       "      <td>27.0</td>\n",
       "      <td>0</td>\n",
       "      <td>2.0</td>\n",
       "      <td>4</td>\n",
       "    </tr>\n",
       "    <tr>\n",
       "      <th>4</th>\n",
       "      <td>9ef432eb6251297304e76186b10a928d</td>\n",
       "      <td>2</td>\n",
       "      <td>1.0</td>\n",
       "      <td>1.0</td>\n",
       "      <td>4.0</td>\n",
       "      <td>Regular</td>\n",
       "      <td>7c396fd4830fd04220f754e42b4e5bff</td>\n",
       "      <td>335.0</td>\n",
       "      <td>4.0</td>\n",
       "      <td>82.0</td>\n",
       "      <td>27.0</td>\n",
       "      <td>0</td>\n",
       "      <td>2.0</td>\n",
       "      <td>4</td>\n",
       "    </tr>\n",
       "  </tbody>\n",
       "</table>\n",
       "</div>"
      ],
      "text/plain": [
       "                        customer_id  recency_score  frequency_score  \\\n",
       "0  9ef432eb6251297304e76186b10a928d              2              1.0   \n",
       "1  9ef432eb6251297304e76186b10a928d              2              1.0   \n",
       "2  9ef432eb6251297304e76186b10a928d              2              1.0   \n",
       "3  9ef432eb6251297304e76186b10a928d              2              1.0   \n",
       "4  9ef432eb6251297304e76186b10a928d              2              1.0   \n",
       "\n",
       "   monetary_score  rfm_score  segment                customer_unique_id  \\\n",
       "0             1.0        4.0  Regular  7c396fd4830fd04220f754e42b4e5bff   \n",
       "1             1.0        4.0  Regular  7c396fd4830fd04220f754e42b4e5bff   \n",
       "2             1.0        4.0  Regular  7c396fd4830fd04220f754e42b4e5bff   \n",
       "3             1.0        4.0  Regular  7c396fd4830fd04220f754e42b4e5bff   \n",
       "4             1.0        4.0  Regular  7c396fd4830fd04220f754e42b4e5bff   \n",
       "\n",
       "   recency  frequency  monetary_value  customer_tenure  late_deliveries  \\\n",
       "0    335.0        4.0            82.0             27.0                0   \n",
       "1    335.0        4.0            82.0             27.0                0   \n",
       "2    335.0        4.0            82.0             27.0                0   \n",
       "3    335.0        4.0            82.0             27.0                0   \n",
       "4    335.0        4.0            82.0             27.0                0   \n",
       "\n",
       "   num_orders  review_score  \n",
       "0         2.0             4  \n",
       "1         2.0             4  \n",
       "2         2.0             4  \n",
       "3         2.0             4  \n",
       "4         2.0             4  "
      ]
     },
     "execution_count": 3,
     "metadata": {},
     "output_type": "execute_result"
    }
   ],
   "source": [
    "final.head()"
   ]
  },
  {
   "cell_type": "code",
   "execution_count": 10,
   "id": "48cb44dc",
   "metadata": {},
   "outputs": [
    {
     "name": "stderr",
     "output_type": "stream",
     "text": [
      "C:\\Temp\\ipykernel_7628\\1792979554.py:1: DtypeWarning: Columns (13,15,18,22,25,26,27,28,32) have mixed types. Specify dtype option on import or set low_memory=False.\n",
      "  df = pd.read_csv('clv_data.csv')\n"
     ]
    }
   ],
   "source": [
    "df = pd.read_csv('clv_data.csv')"
   ]
  },
  {
   "cell_type": "code",
   "execution_count": 5,
   "id": "5fb3c28f",
   "metadata": {},
   "outputs": [
    {
     "data": {
      "text/html": [
       "<div>\n",
       "<style scoped>\n",
       "    .dataframe tbody tr th:only-of-type {\n",
       "        vertical-align: middle;\n",
       "    }\n",
       "\n",
       "    .dataframe tbody tr th {\n",
       "        vertical-align: top;\n",
       "    }\n",
       "\n",
       "    .dataframe thead th {\n",
       "        text-align: right;\n",
       "    }\n",
       "</style>\n",
       "<table border=\"1\" class=\"dataframe\">\n",
       "  <thead>\n",
       "    <tr style=\"text-align: right;\">\n",
       "      <th></th>\n",
       "      <th>product_category_name</th>\n",
       "      <th>seller_id</th>\n",
       "      <th>product_id</th>\n",
       "      <th>order_id</th>\n",
       "      <th>customer_id</th>\n",
       "      <th>order_status</th>\n",
       "      <th>order_purchase_timestamp</th>\n",
       "      <th>order_delivered_customer_date</th>\n",
       "      <th>order_estimated_delivery_date</th>\n",
       "      <th>order_item_id</th>\n",
       "      <th>...</th>\n",
       "      <th>seller_city</th>\n",
       "      <th>seller_state</th>\n",
       "      <th>product_category_name_english</th>\n",
       "      <th>Unnamed: 32</th>\n",
       "      <th>recency</th>\n",
       "      <th>frequency</th>\n",
       "      <th>monetary_value</th>\n",
       "      <th>customer_tenure</th>\n",
       "      <th>late_deliveries</th>\n",
       "      <th>num_orders</th>\n",
       "    </tr>\n",
       "  </thead>\n",
       "  <tbody>\n",
       "    <tr>\n",
       "      <th>0</th>\n",
       "      <td>utilidades_domesticas</td>\n",
       "      <td>3504c0cb71d7fa48d967e0e4c94d59d9</td>\n",
       "      <td>87285b34884572647811a353c7ac498a</td>\n",
       "      <td>e481f51cbdc54678b7cc49136f2d6af7</td>\n",
       "      <td>9ef432eb6251297304e76186b10a928d</td>\n",
       "      <td>delivered</td>\n",
       "      <td>2017-10-02 10:56:33</td>\n",
       "      <td>2017-10-10T21:25:13.000Z</td>\n",
       "      <td>2017-10-18T00:00:00.000Z</td>\n",
       "      <td>1.0</td>\n",
       "      <td>...</td>\n",
       "      <td>maua</td>\n",
       "      <td>SP</td>\n",
       "      <td>housewares</td>\n",
       "      <td>NaN</td>\n",
       "      <td>335</td>\n",
       "      <td>4.0</td>\n",
       "      <td>82.0</td>\n",
       "      <td>27.0</td>\n",
       "      <td>0</td>\n",
       "      <td>2.0</td>\n",
       "    </tr>\n",
       "    <tr>\n",
       "      <th>1</th>\n",
       "      <td>utilidades_domesticas</td>\n",
       "      <td>3504c0cb71d7fa48d967e0e4c94d59d9</td>\n",
       "      <td>87285b34884572647811a353c7ac498a</td>\n",
       "      <td>e481f51cbdc54678b7cc49136f2d6af7</td>\n",
       "      <td>9ef432eb6251297304e76186b10a928d</td>\n",
       "      <td>delivered</td>\n",
       "      <td>2017-10-02 10:56:33</td>\n",
       "      <td>2017-10-10T21:25:13.000Z</td>\n",
       "      <td>2017-10-18T00:00:00.000Z</td>\n",
       "      <td>1.0</td>\n",
       "      <td>...</td>\n",
       "      <td>maua</td>\n",
       "      <td>SP</td>\n",
       "      <td>housewares</td>\n",
       "      <td>NaN</td>\n",
       "      <td>335</td>\n",
       "      <td>4.0</td>\n",
       "      <td>82.0</td>\n",
       "      <td>27.0</td>\n",
       "      <td>0</td>\n",
       "      <td>2.0</td>\n",
       "    </tr>\n",
       "    <tr>\n",
       "      <th>2</th>\n",
       "      <td>utilidades_domesticas</td>\n",
       "      <td>3504c0cb71d7fa48d967e0e4c94d59d9</td>\n",
       "      <td>87285b34884572647811a353c7ac498a</td>\n",
       "      <td>e481f51cbdc54678b7cc49136f2d6af7</td>\n",
       "      <td>9ef432eb6251297304e76186b10a928d</td>\n",
       "      <td>delivered</td>\n",
       "      <td>2017-10-02 10:56:33</td>\n",
       "      <td>2017-10-10T21:25:13.000Z</td>\n",
       "      <td>2017-10-18T00:00:00.000Z</td>\n",
       "      <td>1.0</td>\n",
       "      <td>...</td>\n",
       "      <td>maua</td>\n",
       "      <td>SP</td>\n",
       "      <td>housewares</td>\n",
       "      <td>NaN</td>\n",
       "      <td>335</td>\n",
       "      <td>4.0</td>\n",
       "      <td>82.0</td>\n",
       "      <td>27.0</td>\n",
       "      <td>0</td>\n",
       "      <td>2.0</td>\n",
       "    </tr>\n",
       "    <tr>\n",
       "      <th>3</th>\n",
       "      <td>perfumaria</td>\n",
       "      <td>289cdb325fb7e7f891c38608bf9e0962</td>\n",
       "      <td>595fac2a385ac33a80bd5114aec74eb8</td>\n",
       "      <td>53cdb2fc8bc7dce0b6741e2150273451</td>\n",
       "      <td>b0830fb4747a6c6d20dea0b8c802d7ef</td>\n",
       "      <td>delivered</td>\n",
       "      <td>2018-07-24 20:41:37</td>\n",
       "      <td>2018-08-07T15:27:45.000Z</td>\n",
       "      <td>2018-08-13T00:00:00.000Z</td>\n",
       "      <td>1.0</td>\n",
       "      <td>...</td>\n",
       "      <td>belo horizonte</td>\n",
       "      <td>SP</td>\n",
       "      <td>perfumery</td>\n",
       "      <td>NaN</td>\n",
       "      <td>40</td>\n",
       "      <td>1.0</td>\n",
       "      <td>141.0</td>\n",
       "      <td>0.0</td>\n",
       "      <td>0</td>\n",
       "      <td>1.0</td>\n",
       "    </tr>\n",
       "    <tr>\n",
       "      <th>4</th>\n",
       "      <td>automotivo</td>\n",
       "      <td>4869f7a5dfa277a7dca6462dcf3b52b2</td>\n",
       "      <td>aa4383b373c6aca5d8797843e5594415</td>\n",
       "      <td>47770eb9100c2d0c44946d9cf07ec65d</td>\n",
       "      <td>41ce2a54c0b03bf3443c3d931a367089</td>\n",
       "      <td>delivered</td>\n",
       "      <td>2018-08-08 08:38:49</td>\n",
       "      <td>2018-08-17T18:06:29.000Z</td>\n",
       "      <td>2018-09-04T00:00:00.000Z</td>\n",
       "      <td>1.0</td>\n",
       "      <td>...</td>\n",
       "      <td>guariba</td>\n",
       "      <td>SP</td>\n",
       "      <td>auto</td>\n",
       "      <td>NaN</td>\n",
       "      <td>26</td>\n",
       "      <td>1.0</td>\n",
       "      <td>179.0</td>\n",
       "      <td>0.0</td>\n",
       "      <td>0</td>\n",
       "      <td>1.0</td>\n",
       "    </tr>\n",
       "  </tbody>\n",
       "</table>\n",
       "<p>5 rows × 39 columns</p>\n",
       "</div>"
      ],
      "text/plain": [
       "   product_category_name                         seller_id  \\\n",
       "0  utilidades_domesticas  3504c0cb71d7fa48d967e0e4c94d59d9   \n",
       "1  utilidades_domesticas  3504c0cb71d7fa48d967e0e4c94d59d9   \n",
       "2  utilidades_domesticas  3504c0cb71d7fa48d967e0e4c94d59d9   \n",
       "3             perfumaria  289cdb325fb7e7f891c38608bf9e0962   \n",
       "4             automotivo  4869f7a5dfa277a7dca6462dcf3b52b2   \n",
       "\n",
       "                         product_id                          order_id  \\\n",
       "0  87285b34884572647811a353c7ac498a  e481f51cbdc54678b7cc49136f2d6af7   \n",
       "1  87285b34884572647811a353c7ac498a  e481f51cbdc54678b7cc49136f2d6af7   \n",
       "2  87285b34884572647811a353c7ac498a  e481f51cbdc54678b7cc49136f2d6af7   \n",
       "3  595fac2a385ac33a80bd5114aec74eb8  53cdb2fc8bc7dce0b6741e2150273451   \n",
       "4  aa4383b373c6aca5d8797843e5594415  47770eb9100c2d0c44946d9cf07ec65d   \n",
       "\n",
       "                        customer_id order_status order_purchase_timestamp  \\\n",
       "0  9ef432eb6251297304e76186b10a928d    delivered      2017-10-02 10:56:33   \n",
       "1  9ef432eb6251297304e76186b10a928d    delivered      2017-10-02 10:56:33   \n",
       "2  9ef432eb6251297304e76186b10a928d    delivered      2017-10-02 10:56:33   \n",
       "3  b0830fb4747a6c6d20dea0b8c802d7ef    delivered      2018-07-24 20:41:37   \n",
       "4  41ce2a54c0b03bf3443c3d931a367089    delivered      2018-08-08 08:38:49   \n",
       "\n",
       "  order_delivered_customer_date order_estimated_delivery_date  order_item_id  \\\n",
       "0      2017-10-10T21:25:13.000Z      2017-10-18T00:00:00.000Z            1.0   \n",
       "1      2017-10-10T21:25:13.000Z      2017-10-18T00:00:00.000Z            1.0   \n",
       "2      2017-10-10T21:25:13.000Z      2017-10-18T00:00:00.000Z            1.0   \n",
       "3      2018-08-07T15:27:45.000Z      2018-08-13T00:00:00.000Z            1.0   \n",
       "4      2018-08-17T18:06:29.000Z      2018-09-04T00:00:00.000Z            1.0   \n",
       "\n",
       "   ...     seller_city  seller_state  product_category_name_english  \\\n",
       "0  ...            maua            SP                     housewares   \n",
       "1  ...            maua            SP                     housewares   \n",
       "2  ...            maua            SP                     housewares   \n",
       "3  ...  belo horizonte            SP                      perfumery   \n",
       "4  ...         guariba            SP                           auto   \n",
       "\n",
       "  Unnamed: 32 recency frequency  monetary_value customer_tenure  \\\n",
       "0         NaN     335       4.0            82.0            27.0   \n",
       "1         NaN     335       4.0            82.0            27.0   \n",
       "2         NaN     335       4.0            82.0            27.0   \n",
       "3         NaN      40       1.0           141.0             0.0   \n",
       "4         NaN      26       1.0           179.0             0.0   \n",
       "\n",
       "  late_deliveries num_orders  \n",
       "0               0        2.0  \n",
       "1               0        2.0  \n",
       "2               0        2.0  \n",
       "3               0        1.0  \n",
       "4               0        1.0  \n",
       "\n",
       "[5 rows x 39 columns]"
      ]
     },
     "execution_count": 5,
     "metadata": {},
     "output_type": "execute_result"
    }
   ],
   "source": [
    "df.head()"
   ]
  },
  {
   "cell_type": "code",
   "execution_count": 11,
   "id": "9237d111",
   "metadata": {},
   "outputs": [],
   "source": [
    "df = df[['price','freight_value','payment_type','payment_installments','customer_state','customer_id']]"
   ]
  },
  {
   "cell_type": "code",
   "execution_count": 12,
   "id": "641bdc2a",
   "metadata": {},
   "outputs": [],
   "source": [
    "# Performing the merge\n",
    "final_df = pd.merge(final, df, on='customer_id', how='inner')"
   ]
  },
  {
   "cell_type": "code",
   "execution_count": 13,
   "id": "5377e847",
   "metadata": {},
   "outputs": [
    {
     "data": {
      "text/html": [
       "<div>\n",
       "<style scoped>\n",
       "    .dataframe tbody tr th:only-of-type {\n",
       "        vertical-align: middle;\n",
       "    }\n",
       "\n",
       "    .dataframe tbody tr th {\n",
       "        vertical-align: top;\n",
       "    }\n",
       "\n",
       "    .dataframe thead th {\n",
       "        text-align: right;\n",
       "    }\n",
       "</style>\n",
       "<table border=\"1\" class=\"dataframe\">\n",
       "  <thead>\n",
       "    <tr style=\"text-align: right;\">\n",
       "      <th></th>\n",
       "      <th>customer_id</th>\n",
       "      <th>recency_score</th>\n",
       "      <th>frequency_score</th>\n",
       "      <th>monetary_score</th>\n",
       "      <th>rfm_score</th>\n",
       "      <th>segment</th>\n",
       "      <th>customer_unique_id</th>\n",
       "      <th>recency</th>\n",
       "      <th>frequency</th>\n",
       "      <th>monetary_value</th>\n",
       "      <th>customer_tenure</th>\n",
       "      <th>late_deliveries</th>\n",
       "      <th>num_orders</th>\n",
       "      <th>review_score</th>\n",
       "      <th>price</th>\n",
       "      <th>freight_value</th>\n",
       "      <th>payment_type</th>\n",
       "      <th>payment_installments</th>\n",
       "      <th>customer_state</th>\n",
       "    </tr>\n",
       "  </thead>\n",
       "  <tbody>\n",
       "    <tr>\n",
       "      <th>0</th>\n",
       "      <td>9ef432eb6251297304e76186b10a928d</td>\n",
       "      <td>2</td>\n",
       "      <td>1.0</td>\n",
       "      <td>1.0</td>\n",
       "      <td>4.0</td>\n",
       "      <td>Regular</td>\n",
       "      <td>7c396fd4830fd04220f754e42b4e5bff</td>\n",
       "      <td>335.0</td>\n",
       "      <td>4.0</td>\n",
       "      <td>82.0</td>\n",
       "      <td>27.0</td>\n",
       "      <td>0</td>\n",
       "      <td>2.0</td>\n",
       "      <td>4</td>\n",
       "      <td>29.99</td>\n",
       "      <td>8</td>\n",
       "      <td>voucher</td>\n",
       "      <td>1</td>\n",
       "      <td>SP</td>\n",
       "    </tr>\n",
       "    <tr>\n",
       "      <th>1</th>\n",
       "      <td>9ef432eb6251297304e76186b10a928d</td>\n",
       "      <td>2</td>\n",
       "      <td>1.0</td>\n",
       "      <td>1.0</td>\n",
       "      <td>4.0</td>\n",
       "      <td>Regular</td>\n",
       "      <td>7c396fd4830fd04220f754e42b4e5bff</td>\n",
       "      <td>335.0</td>\n",
       "      <td>4.0</td>\n",
       "      <td>82.0</td>\n",
       "      <td>27.0</td>\n",
       "      <td>0</td>\n",
       "      <td>2.0</td>\n",
       "      <td>4</td>\n",
       "      <td>29.99</td>\n",
       "      <td>8</td>\n",
       "      <td>voucher</td>\n",
       "      <td>1</td>\n",
       "      <td>SP</td>\n",
       "    </tr>\n",
       "    <tr>\n",
       "      <th>2</th>\n",
       "      <td>9ef432eb6251297304e76186b10a928d</td>\n",
       "      <td>2</td>\n",
       "      <td>1.0</td>\n",
       "      <td>1.0</td>\n",
       "      <td>4.0</td>\n",
       "      <td>Regular</td>\n",
       "      <td>7c396fd4830fd04220f754e42b4e5bff</td>\n",
       "      <td>335.0</td>\n",
       "      <td>4.0</td>\n",
       "      <td>82.0</td>\n",
       "      <td>27.0</td>\n",
       "      <td>0</td>\n",
       "      <td>2.0</td>\n",
       "      <td>4</td>\n",
       "      <td>29.99</td>\n",
       "      <td>8</td>\n",
       "      <td>credit_card</td>\n",
       "      <td>1</td>\n",
       "      <td>SP</td>\n",
       "    </tr>\n",
       "    <tr>\n",
       "      <th>3</th>\n",
       "      <td>9ef432eb6251297304e76186b10a928d</td>\n",
       "      <td>2</td>\n",
       "      <td>1.0</td>\n",
       "      <td>1.0</td>\n",
       "      <td>4.0</td>\n",
       "      <td>Regular</td>\n",
       "      <td>7c396fd4830fd04220f754e42b4e5bff</td>\n",
       "      <td>335.0</td>\n",
       "      <td>4.0</td>\n",
       "      <td>82.0</td>\n",
       "      <td>27.0</td>\n",
       "      <td>0</td>\n",
       "      <td>2.0</td>\n",
       "      <td>4</td>\n",
       "      <td>29.99</td>\n",
       "      <td>8</td>\n",
       "      <td>voucher</td>\n",
       "      <td>1</td>\n",
       "      <td>SP</td>\n",
       "    </tr>\n",
       "    <tr>\n",
       "      <th>4</th>\n",
       "      <td>9ef432eb6251297304e76186b10a928d</td>\n",
       "      <td>2</td>\n",
       "      <td>1.0</td>\n",
       "      <td>1.0</td>\n",
       "      <td>4.0</td>\n",
       "      <td>Regular</td>\n",
       "      <td>7c396fd4830fd04220f754e42b4e5bff</td>\n",
       "      <td>335.0</td>\n",
       "      <td>4.0</td>\n",
       "      <td>82.0</td>\n",
       "      <td>27.0</td>\n",
       "      <td>0</td>\n",
       "      <td>2.0</td>\n",
       "      <td>4</td>\n",
       "      <td>29.99</td>\n",
       "      <td>8</td>\n",
       "      <td>voucher</td>\n",
       "      <td>1</td>\n",
       "      <td>SP</td>\n",
       "    </tr>\n",
       "  </tbody>\n",
       "</table>\n",
       "</div>"
      ],
      "text/plain": [
       "                        customer_id  recency_score  frequency_score  \\\n",
       "0  9ef432eb6251297304e76186b10a928d              2              1.0   \n",
       "1  9ef432eb6251297304e76186b10a928d              2              1.0   \n",
       "2  9ef432eb6251297304e76186b10a928d              2              1.0   \n",
       "3  9ef432eb6251297304e76186b10a928d              2              1.0   \n",
       "4  9ef432eb6251297304e76186b10a928d              2              1.0   \n",
       "\n",
       "   monetary_score  rfm_score  segment                customer_unique_id  \\\n",
       "0             1.0        4.0  Regular  7c396fd4830fd04220f754e42b4e5bff   \n",
       "1             1.0        4.0  Regular  7c396fd4830fd04220f754e42b4e5bff   \n",
       "2             1.0        4.0  Regular  7c396fd4830fd04220f754e42b4e5bff   \n",
       "3             1.0        4.0  Regular  7c396fd4830fd04220f754e42b4e5bff   \n",
       "4             1.0        4.0  Regular  7c396fd4830fd04220f754e42b4e5bff   \n",
       "\n",
       "   recency  frequency  monetary_value  customer_tenure  late_deliveries  \\\n",
       "0    335.0        4.0            82.0             27.0                0   \n",
       "1    335.0        4.0            82.0             27.0                0   \n",
       "2    335.0        4.0            82.0             27.0                0   \n",
       "3    335.0        4.0            82.0             27.0                0   \n",
       "4    335.0        4.0            82.0             27.0                0   \n",
       "\n",
       "   num_orders  review_score  price  freight_value payment_type  \\\n",
       "0         2.0             4  29.99              8      voucher   \n",
       "1         2.0             4  29.99              8      voucher   \n",
       "2         2.0             4  29.99              8  credit_card   \n",
       "3         2.0             4  29.99              8      voucher   \n",
       "4         2.0             4  29.99              8      voucher   \n",
       "\n",
       "  payment_installments customer_state  \n",
       "0                    1             SP  \n",
       "1                    1             SP  \n",
       "2                    1             SP  \n",
       "3                    1             SP  \n",
       "4                    1             SP  "
      ]
     },
     "execution_count": 13,
     "metadata": {},
     "output_type": "execute_result"
    }
   ],
   "source": [
    "final_df.head()"
   ]
  },
  {
   "cell_type": "code",
   "execution_count": 14,
   "id": "e342f178",
   "metadata": {},
   "outputs": [],
   "source": [
    "final_df.drop(columns=['customer_unique_id'],inplace=True)"
   ]
  },
  {
   "cell_type": "code",
   "execution_count": 15,
   "id": "687f2ecb",
   "metadata": {},
   "outputs": [],
   "source": [
    "churn_threshold_days = 180\n",
    "final_df['churn'] = (final_df['recency'] > churn_threshold_days).astype(int).astype(str)\n"
   ]
  },
  {
   "cell_type": "code",
   "execution_count": 16,
   "id": "4345e7b0",
   "metadata": {},
   "outputs": [
    {
     "data": {
      "text/plain": [
       "(945503, 19)"
      ]
     },
     "execution_count": 16,
     "metadata": {},
     "output_type": "execute_result"
    }
   ],
   "source": [
    "final_df.shape"
   ]
  },
  {
   "cell_type": "code",
   "execution_count": 22,
   "id": "1342af88",
   "metadata": {},
   "outputs": [
    {
     "data": {
      "text/plain": [
       "customer_id             0\n",
       "recency_score           0\n",
       "frequency_score         0\n",
       "monetary_score          0\n",
       "rfm_score               0\n",
       "recency                 0\n",
       "frequency               0\n",
       "monetary_value          0\n",
       "customer_tenure         0\n",
       "late_deliveries         0\n",
       "num_orders              0\n",
       "review_score            0\n",
       "price                   0\n",
       "freight_value           0\n",
       "payment_type            0\n",
       "payment_installments    0\n",
       "customer_state          0\n",
       "churn                   0\n",
       "dtype: int64"
      ]
     },
     "execution_count": 22,
     "metadata": {},
     "output_type": "execute_result"
    }
   ],
   "source": [
    "final_df.isna().sum()"
   ]
  },
  {
   "cell_type": "code",
   "execution_count": 18,
   "id": "5868aac8",
   "metadata": {},
   "outputs": [],
   "source": [
    "final_df.drop(columns=['segment'],inplace=True)"
   ]
  },
  {
   "cell_type": "code",
   "execution_count": 21,
   "id": "bb8d6b32",
   "metadata": {},
   "outputs": [],
   "source": [
    "final_df.dropna(inplace=True)"
   ]
  },
  {
   "cell_type": "code",
   "execution_count": 23,
   "id": "93bbbfb6",
   "metadata": {},
   "outputs": [
    {
     "data": {
      "image/png": "[encoded data removed]",
      "text/plain": [
       "<Figure size 432x288 with 1 Axes>"
      ]
     },
     "metadata": {
      "needs_background": "light"
     },
     "output_type": "display_data"
    }
   ],
   "source": [
    "# Visualize the churn segmentation\n",
    "sns.countplot(x='churn', data=final_df)\n",
    "plt.title('Distribution of Churners and Non-Churners')\n",
    "plt.xlabel('Churn')\n",
    "plt.ylabel('Count')\n",
    "plt.show()\n"
   ]
  },
  {
   "cell_type": "code",
   "execution_count": 24,
   "id": "43a5ce50",
   "metadata": {},
   "outputs": [
    {
     "data": {
      "text/plain": [
       "1    78.399177\n",
       "0    21.600823\n",
       "Name: churn, dtype: float64"
      ]
     },
     "execution_count": 24,
     "metadata": {},
     "output_type": "execute_result"
    }
   ],
   "source": [
    "final_df['churn'].value_counts(normalize=True)*100"
   ]
  },
  {
   "cell_type": "code",
   "execution_count": 27,
   "id": "cb75be9f",
   "metadata": {},
   "outputs": [],
   "source": [
    "from imblearn.over_sampling import SMOTE"
   ]
  },
  {
   "cell_type": "code",
   "execution_count": 38,
   "id": "4a4894a0",
   "metadata": {},
   "outputs": [
    {
     "name": "stdout",
     "output_type": "stream",
     "text": [
      "<class 'pandas.core.frame.DataFrame'>\n",
      "Int64Index: 945501 entries, 0 to 945502\n",
      "Data columns (total 18 columns):\n",
      " #   Column                Non-Null Count   Dtype  \n",
      "---  ------                --------------   -----  \n",
      " 0   customer_id           945501 non-null  object \n",
      " 1   recency_score         945501 non-null  int64  \n",
      " 2   frequency_score       945501 non-null  float64\n",
      " 3   monetary_score        945501 non-null  float64\n",
      " 4   rfm_score             945501 non-null  float64\n",
      " 5   recency               945501 non-null  float64\n",
      " 6   frequency             945501 non-null  float64\n",
      " 7   monetary_value        945501 non-null  float64\n",
      " 8   customer_tenure       945501 non-null  float64\n",
      " 9   late_deliveries       945501 non-null  int64  \n",
      " 10  num_orders            945501 non-null  float64\n",
      " 11  review_score          945501 non-null  int64  \n",
      " 12  price                 945501 non-null  float64\n",
      " 13  freight_value         945501 non-null  int64  \n",
      " 14  payment_type          945501 non-null  object \n",
      " 15  payment_installments  945501 non-null  object \n",
      " 16  customer_state        945501 non-null  object \n",
      " 17  churn                 945501 non-null  object \n",
      "dtypes: float64(9), int64(4), object(5)\n",
      "memory usage: 137.1+ MB\n"
     ]
    }
   ],
   "source": [
    "final_df.info()"
   ]
  },
  {
   "cell_type": "code",
   "execution_count": 30,
   "id": "fc512a9c",
   "metadata": {},
   "outputs": [],
   "source": [
    "# One-hot encoding for categorical variables\n",
    "df= pd.get_dummies(final_df, columns=['payment_type', 'payment_installments', 'customer_state'], drop_first=True)"
   ]
  },
  {
   "cell_type": "code",
   "execution_count": 31,
   "id": "dccf0633",
   "metadata": {},
   "outputs": [],
   "source": [
    "from sklearn.preprocessing import StandardScaler\n",
    "\n",
    "# Select numerical columns\n",
    "numerical_columns = ['recency_score', 'frequency_score', 'monetary_score', 'rfm_score', 'recency', 'frequency', 'monetary_value', 'customer_tenure', 'late_deliveries', 'num_orders', 'review_score', 'price', 'freight_value']\n",
    "\n",
    "# Initialize the scaler\n",
    "scaler = StandardScaler()\n",
    "\n",
    "# Fit and transform the numerical columns\n",
    "df[numerical_columns] = scaler.fit_transform(df[numerical_columns])"
   ]
  },
  {
   "cell_type": "code",
   "execution_count": 33,
   "id": "f1093ff4",
   "metadata": {},
   "outputs": [],
   "source": [
    "# Convert relevant columns to appropriate types\n",
    "df['recency_score'] = df['recency_score'].astype(int)\n",
    "df['frequency_score'] = df['frequency_score'].astype(float)\n",
    "df['monetary_score'] = df['monetary_score'].astype(float)\n",
    "df['late_deliveries'] = df['late_deliveries'].astype(int)\n",
    "df['review_score'] = df['review_score'].astype(int)\n",
    "df['freight_value'] = df['freight_value'].astype(int)\n",
    "df['churn'] = df['churn'].astype(int)  "
   ]
  },
  {
   "cell_type": "code",
   "execution_count": 36,
   "id": "86ea5d06",
   "metadata": {},
   "outputs": [],
   "source": [
    "df.drop(columns=['customer_id'],inplace=True)"
   ]
  },
  {
   "cell_type": "code",
   "execution_count": 42,
   "id": "8a0f1f5e",
   "metadata": {},
   "outputs": [],
   "source": [
    "df.drop(columns=['recency','recency_score'],inplace=True)"
   ]
  },
  {
   "cell_type": "code",
   "execution_count": 43,
   "id": "a9bab92c",
   "metadata": {},
   "outputs": [],
   "source": [
    "# Assuming final_df is your dataframe\n",
    "from sklearn.model_selection import train_test_split\n",
    "\n",
    "X = df.drop('churn', axis=1)  # Features\n",
    "y = df['churn']  # Target\n",
    "\n",
    "# Split the data into training and testing sets\n",
    "X_train, X_test, y_train, y_test = train_test_split(X, y, test_size=0.2, random_state=42)\n",
    "\n",
    "# Apply SMOTE to the training data\n",
    "smote = SMOTE(random_state=42)\n",
    "X_train_res, y_train_res = smote.fit_resample(X_train, y_train)\n",
    "\n"
   ]
  },
  {
   "cell_type": "code",
   "execution_count": 44,
   "id": "bba1a87a",
   "metadata": {},
   "outputs": [
    {
     "data": {
      "text/plain": [
       "(1185646, 102)"
      ]
     },
     "execution_count": 44,
     "metadata": {},
     "output_type": "execute_result"
    }
   ],
   "source": [
    "X_train_res.shape"
   ]
  },
  {
   "cell_type": "code",
   "execution_count": null,
   "id": "439b4e57",
   "metadata": {},
   "outputs": [],
   "source": []
  },
  {
   "cell_type": "code",
   "execution_count": 45,
   "id": "5633d37c",
   "metadata": {},
   "outputs": [
    {
     "name": "stdout",
     "output_type": "stream",
     "text": [
      "[[ 40231    428]\n",
      " [  1244 147198]]\n",
      "              precision    recall  f1-score   support\n",
      "\n",
      "           0       0.97      0.99      0.98     40659\n",
      "           1       1.00      0.99      0.99    148442\n",
      "\n",
      "    accuracy                           0.99    189101\n",
      "   macro avg       0.98      0.99      0.99    189101\n",
      "weighted avg       0.99      0.99      0.99    189101\n",
      "\n"
     ]
    }
   ],
   "source": [
    "# Train a Random Forest classifier on the resampled data\n",
    "from sklearn.ensemble import RandomForestClassifier\n",
    "from sklearn.metrics import classification_report, confusion_matrix\n",
    "clf = RandomForestClassifier(random_state=42)\n",
    "clf.fit(X_train_res, y_train_res)\n",
    "\n",
    "# Make predictions on the test set\n",
    "y_pred = clf.predict(X_test)\n",
    "\n",
    "# Evaluate the model\n",
    "print(confusion_matrix(y_test, y_pred))\n",
    "print(classification_report(y_test, y_pred))"
   ]
  },
  {
   "cell_type": "code",
   "execution_count": 47,
   "id": "d89b6ddb",
   "metadata": {},
   "outputs": [
    {
     "data": {
      "image/png": "[encoded data removed]",
      "text/plain": [
       "<Figure size 720x504 with 1 Axes>"
      ]
     },
     "metadata": {
      "needs_background": "light"
     },
     "output_type": "display_data"
    }
   ],
   "source": [
    "\n",
    "# Plot ROC Curve and calculate AUC\n",
    "y_pred_prob_rf = clf.predict_proba(X_test)[:, 1]\n",
    "fpr_rf, tpr_rf, _ = roc_curve(y_test, y_pred_prob_rf)\n",
    "roc_auc_rf = roc_auc_score(y_test, y_pred_prob_rf)\n",
    "\n",
    "plt.figure(figsize=(10, 7))\n",
    "plt.plot(fpr_rf, tpr_rf, color='blue', lw=2, label='ROC curve (area = %0.2f)' % roc_auc_rf)\n",
    "plt.plot([0, 1], [0, 1], color='grey', lw=2, linestyle='--')\n",
    "plt.xlim([0.0, 1.0])\n",
    "plt.ylim([0.0, 1.05])\n",
    "plt.xlabel('False Positive Rate')\n",
    "plt.ylabel('True Positive Rate')\n",
    "plt.title('Receiver Operating Characteristic (ROC) - Random Forest')\n",
    "plt.legend(loc=\"lower right\")\n",
    "plt.show()"
   ]
  },
  {
   "cell_type": "code",
   "execution_count": 49,
   "id": "1565282e",
   "metadata": {},
   "outputs": [],
   "source": [
    "# Make predictions on the test set\n",
    "y_pred_rf = clf.predict(X_test)"
   ]
  },
  {
   "cell_type": "code",
   "execution_count": 50,
   "id": "88f19489",
   "metadata": {},
   "outputs": [
    {
     "data": {
      "image/png": "[encoded data removed]",
      "text/plain": [
       "<Figure size 720x504 with 2 Axes>"
      ]
     },
     "metadata": {
      "needs_background": "light"
     },
     "output_type": "display_data"
    }
   ],
   "source": [
    "# Plot Confusion Matrix\n",
    "plt.figure(figsize=(10, 7))\n",
    "sns.heatmap(confusion_matrix(y_test, y_pred_rf), annot=True, fmt='d', cmap='Blues')\n",
    "plt.title('Random Forest Confusion Matrix')\n",
    "plt.xlabel('Predicted')\n",
    "plt.ylabel('Actual')\n",
    "plt.show()"
   ]
  },
  {
   "cell_type": "code",
   "execution_count": 52,
   "id": "aaebe9fe",
   "metadata": {},
   "outputs": [],
   "source": [
    "fpr_rf, tpr_rf, _ = roc_curve(y_test, y_pred_rf)\n",
    "roc_auc_rf = roc_auc_score(y_test, y_pred_rf)"
   ]
  },
  {
   "cell_type": "code",
   "execution_count": 53,
   "id": "de7b340b",
   "metadata": {},
   "outputs": [
    {
     "data": {
      "text/plain": [
       "0.9905465238983506"
      ]
     },
     "execution_count": 53,
     "metadata": {},
     "output_type": "execute_result"
    }
   ],
   "source": [
    "roc_auc_rf"
   ]
  },
  {
   "cell_type": "code",
   "execution_count": 55,
   "id": "688afb40",
   "metadata": {},
   "outputs": [
    {
     "name": "stdout",
     "output_type": "stream",
     "text": [
      "Feature Importances (Random Forest):\n",
      "rfm_score                        0.447841\n",
      "frequency                        0.144631\n",
      "monetary_value                   0.094659\n",
      "price                            0.075714\n",
      "num_orders                       0.029754\n",
      "                                   ...   \n",
      "payment_installments_curitiba    0.000000\n",
      "payment_type_93218               0.000000\n",
      "payment_type_81230               0.000000\n",
      "payment_type_73.42               0.000000\n",
      "customer_state_4/26/2018 3:25    0.000000\n",
      "Length: 102, dtype: float64\n"
     ]
    }
   ],
   "source": [
    "# Feature Importance\n",
    "feature_importance_rf = pd.Series(clf.feature_importances_, index=X.columns).sort_values(ascending=False)\n",
    "print(\"Feature Importances (Random Forest):\")\n",
    "print(feature_importance_rf)"
   ]
  },
  {
   "cell_type": "code",
   "execution_count": 57,
   "id": "b8b2a0ec",
   "metadata": {},
   "outputs": [],
   "source": [
    "from sklearn.tree import DecisionTreeClassifier\n",
    "import xgboost as xgb"
   ]
  },
  {
   "cell_type": "code",
   "execution_count": 58,
   "id": "2cfe3b19",
   "metadata": {},
   "outputs": [],
   "source": [
    "# Train a Decision Tree classifier on the resampled data\n",
    "clf_dt = DecisionTreeClassifier(random_state=42)\n",
    "clf_dt.fit(X_train_res, y_train_res)\n",
    "\n",
    "# Make predictions on the test set\n",
    "y_pred_dt = clf_dt.predict(X_test)\n"
   ]
  },
  {
   "cell_type": "code",
   "execution_count": 59,
   "id": "13218a2a",
   "metadata": {},
   "outputs": [
    {
     "data": {
      "image/png": "[encoded data removed]",
      "text/plain": [
       "<Figure size 720x504 with 1 Axes>"
      ]
     },
     "metadata": {
      "needs_background": "light"
     },
     "output_type": "display_data"
    }
   ],
   "source": [
    "# Plot ROC Curve and calculate AUC for Decision Tree\n",
    "y_pred_prob_dt = clf_dt.predict_proba(X_test)[:, 1]\n",
    "fpr_dt, tpr_dt, _ = roc_curve(y_test, y_pred_prob_dt)\n",
    "roc_auc_dt = roc_auc_score(y_test, y_pred_prob_dt)\n",
    "\n",
    "plt.figure(figsize=(10, 7))\n",
    "plt.plot(fpr_dt, tpr_dt, color='blue', lw=2, label='ROC curve (area = %0.2f)' % roc_auc_dt)\n",
    "plt.plot([0, 1], [0, 1], color='grey', lw=2, linestyle='--')\n",
    "plt.xlim([0.0, 1.0])\n",
    "plt.ylim([0.0, 1.05])\n",
    "plt.xlabel('False Positive Rate')\n",
    "plt.ylabel('True Positive Rate')\n",
    "plt.title('Receiver Operating Characteristic (ROC) - Decision Tree')\n",
    "plt.legend(loc=\"lower right\")\n",
    "plt.show()"
   ]
  },
  {
   "cell_type": "code",
   "execution_count": 61,
   "id": "95d20935",
   "metadata": {},
   "outputs": [
    {
     "name": "stdout",
     "output_type": "stream",
     "text": [
      "Decision Tree Classifier\n",
      "[[ 40024    635]\n",
      " [   914 147528]]\n",
      "              precision    recall  f1-score   support\n",
      "\n",
      "           0       0.98      0.98      0.98     40659\n",
      "           1       1.00      0.99      0.99    148442\n",
      "\n",
      "    accuracy                           0.99    189101\n",
      "   macro avg       0.99      0.99      0.99    189101\n",
      "weighted avg       0.99      0.99      0.99    189101\n",
      "\n"
     ]
    },
    {
     "data": {
      "image/png": "[encoded data removed]",
      "text/plain": [
       "<Figure size 720x504 with 2 Axes>"
      ]
     },
     "metadata": {
      "needs_background": "light"
     },
     "output_type": "display_data"
    }
   ],
   "source": [
    "# Make predictions on the test set\n",
    "y_pred_dt = clf_dt.predict(X_test)\n",
    "\n",
    "# Evaluate the Decision Tree model\n",
    "print(\"Decision Tree Classifier\")\n",
    "print(confusion_matrix(y_test, y_pred_dt))\n",
    "print(classification_report(y_test, y_pred_dt))\n",
    "\n",
    "# Plot Confusion Matrix for Decision Tree\n",
    "plt.figure(figsize=(10, 7))\n",
    "sns.heatmap(confusion_matrix(y_test, y_pred_dt), annot=True, fmt='d', cmap='Blues')\n",
    "plt.title('Decision Tree Confusion Matrix')\n",
    "plt.xlabel('Predicted')\n",
    "plt.ylabel('Actual')\n",
    "plt.show()"
   ]
  },
  {
   "cell_type": "code",
   "execution_count": 62,
   "id": "57e92101",
   "metadata": {},
   "outputs": [
    {
     "data": {
      "image/png": "[encoded data removed]",
      "text/plain": [
       "<Figure size 720x360 with 2 Axes>"
      ]
     },
     "metadata": {
      "needs_background": "light"
     },
     "output_type": "display_data"
    }
   ],
   "source": [
    "# Visualize class distribution before SMOTE\n",
    "plt.figure(figsize=(10, 5))\n",
    "\n",
    "plt.subplot(1, 2, 1)\n",
    "y_train.value_counts().plot(kind='bar', color=['blue', 'orange'])\n",
    "plt.title('Class Distribution Before SMOTE')\n",
    "plt.xlabel('Churn')\n",
    "plt.ylabel('Count')\n",
    "\n",
    "# Visualize class distribution after SMOTE\n",
    "plt.subplot(1, 2, 2)\n",
    "y_train_res.value_counts().plot(kind='bar', color=['blue', 'orange'])\n",
    "plt.title('Class Distribution After SMOTE')\n",
    "plt.xlabel('Churn')\n",
    "plt.ylabel('Count')\n",
    "\n",
    "plt.tight_layout()\n",
    "plt.show()"
   ]
  },
  {
   "cell_type": "code",
   "execution_count": 63,
   "id": "92559b92",
   "metadata": {},
   "outputs": [],
   "source": [
    "# Train a Decision Tree classifier on the original data\n",
    "clf_dt_original = DecisionTreeClassifier(random_state=42)\n",
    "clf_dt_original.fit(X_train, y_train)\n",
    "\n",
    "# Predict probabilities on the test set\n",
    "y_pred_prob_dt_original = clf_dt_original.predict_proba(X_test)[:, 1]"
   ]
  },
  {
   "cell_type": "code",
   "execution_count": 64,
   "id": "7b4586c2",
   "metadata": {},
   "outputs": [
    {
     "data": {
      "image/png": "[encoded data removed]",
      "text/plain": [
       "<Figure size 720x504 with 1 Axes>"
      ]
     },
     "metadata": {
      "needs_background": "light"
     },
     "output_type": "display_data"
    }
   ],
   "source": [
    "# Calculate ROC curves and AUC scores\n",
    "fpr_dt_original, tpr_dt_original, _ = roc_curve(y_test, y_pred_prob_dt_original)\n",
    "roc_auc_dt_original = roc_auc_score(y_test, y_pred_prob_dt_original)\n",
    "\n",
    "fpr_dt_smote, tpr_dt_smote, _ = roc_curve(y_test, y_pred_dt)\n",
    "roc_auc_dt_smote = roc_auc_score(y_test, y_pred_dt)\n",
    "\n",
    "# Plot ROC curves\n",
    "plt.figure(figsize=(10, 7))\n",
    "plt.plot(fpr_dt_original, tpr_dt_original, color='blue', lw=2, label='Original ROC curve (area = %0.2f)' % roc_auc_dt_original)\n",
    "plt.plot(fpr_dt_smote, tpr_dt_smote, color='orange', lw=2, label='SMOTE ROC curve (area = %0.2f)' % roc_auc_dt_smote)\n",
    "plt.plot([0, 1], [0, 1], color='grey', lw=2, linestyle='--')\n",
    "plt.xlim([0.0, 1.0])\n",
    "plt.ylim([0.0, 1.05])\n",
    "plt.xlabel('False Positive Rate')\n",
    "plt.ylabel('True Positive Rate')\n",
    "plt.title('Receiver Operating Characteristic (ROC) - Decision Tree')\n",
    "plt.legend(loc=\"lower right\")\n",
    "plt.show()"
   ]
  },
  {
   "cell_type": "code",
   "execution_count": null,
   "id": "30c4b77b",
   "metadata": {},
   "outputs": [],
   "source": []
  }
 ],
 "metadata": {
  "kernelspec": {
   "display_name": "Python 3 (ipykernel)",
   "language": "python",
   "name": "python3"
  },
  "language_info": {
   "codemirror_mode": {
    "name": "ipython",
    "version": 3
   },
   "file_extension": ".py",
   "mimetype": "text/x-python",
   "name": "python",
   "nbconvert_exporter": "python",
   "pygments_lexer": "ipython3",
   "version": "3.9.12"
  }
 },
 "nbformat": 4,
 "nbformat_minor": 5
}
