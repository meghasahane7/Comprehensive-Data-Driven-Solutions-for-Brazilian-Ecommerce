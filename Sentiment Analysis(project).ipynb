{
 "cells": [
  {
   "cell_type": "code",
   "execution_count": 86,
   "id": "4d5fa330",
   "metadata": {},
   "outputs": [],
   "source": [
    "import pandas as pd\n",
    "import numpy as np\n",
    "import matplotlib.pyplot as plt"
   ]
  },
  {
   "cell_type": "code",
   "execution_count": 87,
   "id": "30b46a6b",
   "metadata": {},
   "outputs": [],
   "source": [
    "customers_df=pd.read_csv('olist_customers_dataset.csv')\n"
   ]
  },
  {
   "cell_type": "code",
   "execution_count": 88,
   "id": "a8cc9c5d",
   "metadata": {},
   "outputs": [
    {
     "data": {
      "text/plain": [
       "(99441, 5)"
      ]
     },
     "execution_count": 88,
     "metadata": {},
     "output_type": "execute_result"
    }
   ],
   "source": [
    "customers_df.shape"
   ]
  },
  {
   "cell_type": "code",
   "execution_count": 89,
   "id": "e737e0b7",
   "metadata": {},
   "outputs": [
    {
     "data": {
      "text/plain": [
       "customer_id                 0\n",
       "customer_unique_id          0\n",
       "customer_zip_code_prefix    0\n",
       "customer_city               0\n",
       "customer_state              0\n",
       "dtype: int64"
      ]
     },
     "execution_count": 89,
     "metadata": {},
     "output_type": "execute_result"
    }
   ],
   "source": [
    "customers_df.isna().sum()"
   ]
  },
  {
   "cell_type": "code",
   "execution_count": 90,
   "id": "6e7e27d7",
   "metadata": {},
   "outputs": [
    {
     "data": {
      "text/plain": [
       "customer_state\n",
       "SP    41746\n",
       "RJ    12852\n",
       "MG    11635\n",
       "RS     5466\n",
       "PR     5045\n",
       "SC     3637\n",
       "BA     3380\n",
       "DF     2140\n",
       "ES     2033\n",
       "GO     2020\n",
       "PE     1652\n",
       "CE     1336\n",
       "PA      975\n",
       "MT      907\n",
       "MA      747\n",
       "MS      715\n",
       "PB      536\n",
       "PI      495\n",
       "RN      485\n",
       "AL      413\n",
       "SE      350\n",
       "TO      280\n",
       "RO      253\n",
       "AM      148\n",
       "AC       81\n",
       "AP       68\n",
       "RR       46\n",
       "Name: count, dtype: int64"
      ]
     },
     "execution_count": 90,
     "metadata": {},
     "output_type": "execute_result"
    }
   ],
   "source": [
    "customers_df['customer_state'].value_counts()"
   ]
  },
  {
   "cell_type": "code",
   "execution_count": 91,
   "id": "a8e76b21",
   "metadata": {},
   "outputs": [],
   "source": [
    "orders_df=pd.read_csv('olist_orders_dataset.csv')"
   ]
  },
  {
   "cell_type": "code",
   "execution_count": 92,
   "id": "05db8e83",
   "metadata": {},
   "outputs": [
    {
     "data": {
      "text/plain": [
       "(99441, 8)"
      ]
     },
     "execution_count": 92,
     "metadata": {},
     "output_type": "execute_result"
    }
   ],
   "source": [
    "orders_df.shape"
   ]
  },
  {
   "cell_type": "code",
   "execution_count": 93,
   "id": "31e14ad7",
   "metadata": {},
   "outputs": [
    {
     "data": {
      "text/plain": [
       "order_id                            0\n",
       "customer_id                         0\n",
       "order_status                        0\n",
       "order_purchase_timestamp            0\n",
       "order_approved_at                 160\n",
       "order_delivered_carrier_date     1783\n",
       "order_delivered_customer_date    2965\n",
       "order_estimated_delivery_date       0\n",
       "dtype: int64"
      ]
     },
     "execution_count": 93,
     "metadata": {},
     "output_type": "execute_result"
    }
   ],
   "source": [
    "orders_df.isna().sum()"
   ]
  },
  {
   "cell_type": "code",
   "execution_count": 94,
   "id": "59e60722",
   "metadata": {},
   "outputs": [
    {
     "data": {
      "text/html": [
       "<div>\n",
       "<style scoped>\n",
       "    .dataframe tbody tr th:only-of-type {\n",
       "        vertical-align: middle;\n",
       "    }\n",
       "\n",
       "    .dataframe tbody tr th {\n",
       "        vertical-align: top;\n",
       "    }\n",
       "\n",
       "    .dataframe thead th {\n",
       "        text-align: right;\n",
       "    }\n",
       "</style>\n",
       "<table border=\"1\" class=\"dataframe\">\n",
       "  <thead>\n",
       "    <tr style=\"text-align: right;\">\n",
       "      <th></th>\n",
       "      <th>order_id</th>\n",
       "      <th>customer_id</th>\n",
       "      <th>order_status</th>\n",
       "      <th>order_purchase_timestamp</th>\n",
       "      <th>order_approved_at</th>\n",
       "      <th>order_delivered_carrier_date</th>\n",
       "      <th>order_delivered_customer_date</th>\n",
       "      <th>order_estimated_delivery_date</th>\n",
       "    </tr>\n",
       "  </thead>\n",
       "  <tbody>\n",
       "    <tr>\n",
       "      <th>0</th>\n",
       "      <td>e481f51cbdc54678b7cc49136f2d6af7</td>\n",
       "      <td>9ef432eb6251297304e76186b10a928d</td>\n",
       "      <td>delivered</td>\n",
       "      <td>2017-10-02 10:56:33</td>\n",
       "      <td>2017-10-02 11:07:15</td>\n",
       "      <td>2017-10-04 19:55:00</td>\n",
       "      <td>2017-10-10 21:25:13</td>\n",
       "      <td>2017-10-18 00:00:00</td>\n",
       "    </tr>\n",
       "    <tr>\n",
       "      <th>1</th>\n",
       "      <td>53cdb2fc8bc7dce0b6741e2150273451</td>\n",
       "      <td>b0830fb4747a6c6d20dea0b8c802d7ef</td>\n",
       "      <td>delivered</td>\n",
       "      <td>2018-07-24 20:41:37</td>\n",
       "      <td>2018-07-26 03:24:27</td>\n",
       "      <td>2018-07-26 14:31:00</td>\n",
       "      <td>2018-08-07 15:27:45</td>\n",
       "      <td>2018-08-13 00:00:00</td>\n",
       "    </tr>\n",
       "    <tr>\n",
       "      <th>2</th>\n",
       "      <td>47770eb9100c2d0c44946d9cf07ec65d</td>\n",
       "      <td>41ce2a54c0b03bf3443c3d931a367089</td>\n",
       "      <td>delivered</td>\n",
       "      <td>2018-08-08 08:38:49</td>\n",
       "      <td>2018-08-08 08:55:23</td>\n",
       "      <td>2018-08-08 13:50:00</td>\n",
       "      <td>2018-08-17 18:06:29</td>\n",
       "      <td>2018-09-04 00:00:00</td>\n",
       "    </tr>\n",
       "    <tr>\n",
       "      <th>3</th>\n",
       "      <td>949d5b44dbf5de918fe9c16f97b45f8a</td>\n",
       "      <td>f88197465ea7920adcdbec7375364d82</td>\n",
       "      <td>delivered</td>\n",
       "      <td>2017-11-18 19:28:06</td>\n",
       "      <td>2017-11-18 19:45:59</td>\n",
       "      <td>2017-11-22 13:39:59</td>\n",
       "      <td>2017-12-02 00:28:42</td>\n",
       "      <td>2017-12-15 00:00:00</td>\n",
       "    </tr>\n",
       "    <tr>\n",
       "      <th>4</th>\n",
       "      <td>ad21c59c0840e6cb83a9ceb5573f8159</td>\n",
       "      <td>8ab97904e6daea8866dbdbc4fb7aad2c</td>\n",
       "      <td>delivered</td>\n",
       "      <td>2018-02-13 21:18:39</td>\n",
       "      <td>2018-02-13 22:20:29</td>\n",
       "      <td>2018-02-14 19:46:34</td>\n",
       "      <td>2018-02-16 18:17:02</td>\n",
       "      <td>2018-02-26 00:00:00</td>\n",
       "    </tr>\n",
       "  </tbody>\n",
       "</table>\n",
       "</div>"
      ],
      "text/plain": [
       "                           order_id                       customer_id  \\\n",
       "0  e481f51cbdc54678b7cc49136f2d6af7  9ef432eb6251297304e76186b10a928d   \n",
       "1  53cdb2fc8bc7dce0b6741e2150273451  b0830fb4747a6c6d20dea0b8c802d7ef   \n",
       "2  47770eb9100c2d0c44946d9cf07ec65d  41ce2a54c0b03bf3443c3d931a367089   \n",
       "3  949d5b44dbf5de918fe9c16f97b45f8a  f88197465ea7920adcdbec7375364d82   \n",
       "4  ad21c59c0840e6cb83a9ceb5573f8159  8ab97904e6daea8866dbdbc4fb7aad2c   \n",
       "\n",
       "  order_status order_purchase_timestamp    order_approved_at  \\\n",
       "0    delivered      2017-10-02 10:56:33  2017-10-02 11:07:15   \n",
       "1    delivered      2018-07-24 20:41:37  2018-07-26 03:24:27   \n",
       "2    delivered      2018-08-08 08:38:49  2018-08-08 08:55:23   \n",
       "3    delivered      2017-11-18 19:28:06  2017-11-18 19:45:59   \n",
       "4    delivered      2018-02-13 21:18:39  2018-02-13 22:20:29   \n",
       "\n",
       "  order_delivered_carrier_date order_delivered_customer_date  \\\n",
       "0          2017-10-04 19:55:00           2017-10-10 21:25:13   \n",
       "1          2018-07-26 14:31:00           2018-08-07 15:27:45   \n",
       "2          2018-08-08 13:50:00           2018-08-17 18:06:29   \n",
       "3          2017-11-22 13:39:59           2017-12-02 00:28:42   \n",
       "4          2018-02-14 19:46:34           2018-02-16 18:17:02   \n",
       "\n",
       "  order_estimated_delivery_date  \n",
       "0           2017-10-18 00:00:00  \n",
       "1           2018-08-13 00:00:00  \n",
       "2           2018-09-04 00:00:00  \n",
       "3           2017-12-15 00:00:00  \n",
       "4           2018-02-26 00:00:00  "
      ]
     },
     "execution_count": 94,
     "metadata": {},
     "output_type": "execute_result"
    }
   ],
   "source": [
    "orders_df.head()"
   ]
  },
  {
   "cell_type": "code",
   "execution_count": 95,
   "id": "feeebc4a",
   "metadata": {},
   "outputs": [],
   "source": [
    "#Filtering out records where order is not delivered\n",
    "orders_df=orders_df[orders_df['order_status']=='delivered']"
   ]
  },
  {
   "cell_type": "code",
   "execution_count": 96,
   "id": "38b597d7",
   "metadata": {},
   "outputs": [],
   "source": [
    "#filling null values of order_approved_at column with order_purchase_timestamp\n",
    "orders_df['order_delivered_customer_date'] = orders_df['order_delivered_customer_date'].combine_first(orders_df['order_estimated_delivery_date'])"
   ]
  },
  {
   "cell_type": "code",
   "execution_count": 97,
   "id": "36302723",
   "metadata": {},
   "outputs": [
    {
     "data": {
      "text/plain": [
       "order_id                          0\n",
       "customer_id                       0\n",
       "order_status                      0\n",
       "order_purchase_timestamp          0\n",
       "order_approved_at                14\n",
       "order_delivered_carrier_date      2\n",
       "order_delivered_customer_date     0\n",
       "order_estimated_delivery_date     0\n",
       "dtype: int64"
      ]
     },
     "execution_count": 97,
     "metadata": {},
     "output_type": "execute_result"
    }
   ],
   "source": [
    "orders_df.isna().sum()"
   ]
  },
  {
   "cell_type": "code",
   "execution_count": 98,
   "id": "9a8057b2",
   "metadata": {},
   "outputs": [],
   "source": [
    "orders_df = orders_df.drop(columns=['order_delivered_carrier_date','order_approved_at'])"
   ]
  },
  {
   "cell_type": "code",
   "execution_count": 99,
   "id": "1b7aa5fa",
   "metadata": {},
   "outputs": [],
   "source": [
    "products_df=pd.read_csv('olist_products_dataset.csv')"
   ]
  },
  {
   "cell_type": "code",
   "execution_count": 100,
   "id": "c03a8426",
   "metadata": {},
   "outputs": [
    {
     "data": {
      "text/html": [
       "<div>\n",
       "<style scoped>\n",
       "    .dataframe tbody tr th:only-of-type {\n",
       "        vertical-align: middle;\n",
       "    }\n",
       "\n",
       "    .dataframe tbody tr th {\n",
       "        vertical-align: top;\n",
       "    }\n",
       "\n",
       "    .dataframe thead th {\n",
       "        text-align: right;\n",
       "    }\n",
       "</style>\n",
       "<table border=\"1\" class=\"dataframe\">\n",
       "  <thead>\n",
       "    <tr style=\"text-align: right;\">\n",
       "      <th></th>\n",
       "      <th>product_id</th>\n",
       "      <th>product_category_name</th>\n",
       "      <th>product_name_lenght</th>\n",
       "      <th>product_description_lenght</th>\n",
       "      <th>product_photos_qty</th>\n",
       "      <th>product_weight_g</th>\n",
       "      <th>product_length_cm</th>\n",
       "      <th>product_height_cm</th>\n",
       "      <th>product_width_cm</th>\n",
       "    </tr>\n",
       "  </thead>\n",
       "  <tbody>\n",
       "    <tr>\n",
       "      <th>0</th>\n",
       "      <td>1e9e8ef04dbcff4541ed26657ea517e5</td>\n",
       "      <td>perfumaria</td>\n",
       "      <td>40.0</td>\n",
       "      <td>287.0</td>\n",
       "      <td>1.0</td>\n",
       "      <td>225.0</td>\n",
       "      <td>16.0</td>\n",
       "      <td>10.0</td>\n",
       "      <td>14.0</td>\n",
       "    </tr>\n",
       "    <tr>\n",
       "      <th>1</th>\n",
       "      <td>3aa071139cb16b67ca9e5dea641aaa2f</td>\n",
       "      <td>artes</td>\n",
       "      <td>44.0</td>\n",
       "      <td>276.0</td>\n",
       "      <td>1.0</td>\n",
       "      <td>1000.0</td>\n",
       "      <td>30.0</td>\n",
       "      <td>18.0</td>\n",
       "      <td>20.0</td>\n",
       "    </tr>\n",
       "    <tr>\n",
       "      <th>2</th>\n",
       "      <td>96bd76ec8810374ed1b65e291975717f</td>\n",
       "      <td>esporte_lazer</td>\n",
       "      <td>46.0</td>\n",
       "      <td>250.0</td>\n",
       "      <td>1.0</td>\n",
       "      <td>154.0</td>\n",
       "      <td>18.0</td>\n",
       "      <td>9.0</td>\n",
       "      <td>15.0</td>\n",
       "    </tr>\n",
       "    <tr>\n",
       "      <th>3</th>\n",
       "      <td>cef67bcfe19066a932b7673e239eb23d</td>\n",
       "      <td>bebes</td>\n",
       "      <td>27.0</td>\n",
       "      <td>261.0</td>\n",
       "      <td>1.0</td>\n",
       "      <td>371.0</td>\n",
       "      <td>26.0</td>\n",
       "      <td>4.0</td>\n",
       "      <td>26.0</td>\n",
       "    </tr>\n",
       "    <tr>\n",
       "      <th>4</th>\n",
       "      <td>9dc1a7de274444849c219cff195d0b71</td>\n",
       "      <td>utilidades_domesticas</td>\n",
       "      <td>37.0</td>\n",
       "      <td>402.0</td>\n",
       "      <td>4.0</td>\n",
       "      <td>625.0</td>\n",
       "      <td>20.0</td>\n",
       "      <td>17.0</td>\n",
       "      <td>13.0</td>\n",
       "    </tr>\n",
       "  </tbody>\n",
       "</table>\n",
       "</div>"
      ],
      "text/plain": [
       "                         product_id  product_category_name  \\\n",
       "0  1e9e8ef04dbcff4541ed26657ea517e5             perfumaria   \n",
       "1  3aa071139cb16b67ca9e5dea641aaa2f                  artes   \n",
       "2  96bd76ec8810374ed1b65e291975717f          esporte_lazer   \n",
       "3  cef67bcfe19066a932b7673e239eb23d                  bebes   \n",
       "4  9dc1a7de274444849c219cff195d0b71  utilidades_domesticas   \n",
       "\n",
       "   product_name_lenght  product_description_lenght  product_photos_qty  \\\n",
       "0                 40.0                       287.0                 1.0   \n",
       "1                 44.0                       276.0                 1.0   \n",
       "2                 46.0                       250.0                 1.0   \n",
       "3                 27.0                       261.0                 1.0   \n",
       "4                 37.0                       402.0                 4.0   \n",
       "\n",
       "   product_weight_g  product_length_cm  product_height_cm  product_width_cm  \n",
       "0             225.0               16.0               10.0              14.0  \n",
       "1            1000.0               30.0               18.0              20.0  \n",
       "2             154.0               18.0                9.0              15.0  \n",
       "3             371.0               26.0                4.0              26.0  \n",
       "4             625.0               20.0               17.0              13.0  "
      ]
     },
     "execution_count": 100,
     "metadata": {},
     "output_type": "execute_result"
    }
   ],
   "source": [
    "products_df.head()"
   ]
  },
  {
   "cell_type": "code",
   "execution_count": 101,
   "id": "80097951",
   "metadata": {},
   "outputs": [
    {
     "data": {
      "text/plain": [
       "product_id                      0\n",
       "product_category_name         610\n",
       "product_name_lenght           610\n",
       "product_description_lenght    610\n",
       "product_photos_qty            610\n",
       "product_weight_g                2\n",
       "product_length_cm               2\n",
       "product_height_cm               2\n",
       "product_width_cm                2\n",
       "dtype: int64"
      ]
     },
     "execution_count": 101,
     "metadata": {},
     "output_type": "execute_result"
    }
   ],
   "source": [
    "products_df.isna().sum()"
   ]
  },
  {
   "cell_type": "code",
   "execution_count": 102,
   "id": "320b8e19",
   "metadata": {},
   "outputs": [],
   "source": [
    "products_df = products_df.fillna(value={\"product_category_name\": \"unknown\"})"
   ]
  },
  {
   "cell_type": "code",
   "execution_count": 103,
   "id": "38971de2",
   "metadata": {},
   "outputs": [],
   "source": [
    "columns_to_drop = [\n",
    "    'product_name_lenght',\n",
    "    'product_description_lenght',\n",
    "    'product_photos_qty',\n",
    "    'product_weight_g',\n",
    "    'product_length_cm',\n",
    "    'product_height_cm',\n",
    "    'product_width_cm'\n",
    "]\n",
    "\n",
    "products_df = products_df.drop(columns=columns_to_drop)"
   ]
  },
  {
   "cell_type": "code",
   "execution_count": 104,
   "id": "c4cfec20",
   "metadata": {},
   "outputs": [],
   "source": [
    "order_payments=pd.read_csv('olist_order_payments_dataset.csv')"
   ]
  },
  {
   "cell_type": "code",
   "execution_count": 105,
   "id": "a5919d3b",
   "metadata": {},
   "outputs": [
    {
     "data": {
      "text/html": [
       "<div>\n",
       "<style scoped>\n",
       "    .dataframe tbody tr th:only-of-type {\n",
       "        vertical-align: middle;\n",
       "    }\n",
       "\n",
       "    .dataframe tbody tr th {\n",
       "        vertical-align: top;\n",
       "    }\n",
       "\n",
       "    .dataframe thead th {\n",
       "        text-align: right;\n",
       "    }\n",
       "</style>\n",
       "<table border=\"1\" class=\"dataframe\">\n",
       "  <thead>\n",
       "    <tr style=\"text-align: right;\">\n",
       "      <th></th>\n",
       "      <th>order_id</th>\n",
       "      <th>payment_sequential</th>\n",
       "      <th>payment_type</th>\n",
       "      <th>payment_installments</th>\n",
       "      <th>payment_value</th>\n",
       "    </tr>\n",
       "  </thead>\n",
       "  <tbody>\n",
       "    <tr>\n",
       "      <th>0</th>\n",
       "      <td>b81ef226f3fe1789b1e8b2acac839d17</td>\n",
       "      <td>1</td>\n",
       "      <td>credit_card</td>\n",
       "      <td>8</td>\n",
       "      <td>99.33</td>\n",
       "    </tr>\n",
       "    <tr>\n",
       "      <th>1</th>\n",
       "      <td>a9810da82917af2d9aefd1278f1dcfa0</td>\n",
       "      <td>1</td>\n",
       "      <td>credit_card</td>\n",
       "      <td>1</td>\n",
       "      <td>24.39</td>\n",
       "    </tr>\n",
       "    <tr>\n",
       "      <th>2</th>\n",
       "      <td>25e8ea4e93396b6fa0d3dd708e76c1bd</td>\n",
       "      <td>1</td>\n",
       "      <td>credit_card</td>\n",
       "      <td>1</td>\n",
       "      <td>65.71</td>\n",
       "    </tr>\n",
       "    <tr>\n",
       "      <th>3</th>\n",
       "      <td>ba78997921bbcdc1373bb41e913ab953</td>\n",
       "      <td>1</td>\n",
       "      <td>credit_card</td>\n",
       "      <td>8</td>\n",
       "      <td>107.78</td>\n",
       "    </tr>\n",
       "    <tr>\n",
       "      <th>4</th>\n",
       "      <td>42fdf880ba16b47b59251dd489d4441a</td>\n",
       "      <td>1</td>\n",
       "      <td>credit_card</td>\n",
       "      <td>2</td>\n",
       "      <td>128.45</td>\n",
       "    </tr>\n",
       "  </tbody>\n",
       "</table>\n",
       "</div>"
      ],
      "text/plain": [
       "                           order_id  payment_sequential payment_type  \\\n",
       "0  b81ef226f3fe1789b1e8b2acac839d17                   1  credit_card   \n",
       "1  a9810da82917af2d9aefd1278f1dcfa0                   1  credit_card   \n",
       "2  25e8ea4e93396b6fa0d3dd708e76c1bd                   1  credit_card   \n",
       "3  ba78997921bbcdc1373bb41e913ab953                   1  credit_card   \n",
       "4  42fdf880ba16b47b59251dd489d4441a                   1  credit_card   \n",
       "\n",
       "   payment_installments  payment_value  \n",
       "0                     8          99.33  \n",
       "1                     1          24.39  \n",
       "2                     1          65.71  \n",
       "3                     8         107.78  \n",
       "4                     2         128.45  "
      ]
     },
     "execution_count": 105,
     "metadata": {},
     "output_type": "execute_result"
    }
   ],
   "source": [
    "order_payments.head()"
   ]
  },
  {
   "cell_type": "code",
   "execution_count": 106,
   "id": "545ce1ce",
   "metadata": {},
   "outputs": [
    {
     "data": {
      "text/plain": [
       "order_id                0\n",
       "payment_sequential      0\n",
       "payment_type            0\n",
       "payment_installments    0\n",
       "payment_value           0\n",
       "dtype: int64"
      ]
     },
     "execution_count": 106,
     "metadata": {},
     "output_type": "execute_result"
    }
   ],
   "source": [
    "order_payments.isnull().sum()"
   ]
  },
  {
   "cell_type": "code",
   "execution_count": 107,
   "id": "19ead3c7",
   "metadata": {},
   "outputs": [],
   "source": [
    "order_items_df=pd.read_csv('olist_order_items_dataset.csv')"
   ]
  },
  {
   "cell_type": "code",
   "execution_count": 108,
   "id": "e6212116",
   "metadata": {},
   "outputs": [
    {
     "data": {
      "text/plain": [
       "order_id               0\n",
       "order_item_id          0\n",
       "product_id             0\n",
       "seller_id              0\n",
       "shipping_limit_date    0\n",
       "price                  0\n",
       "freight_value          0\n",
       "dtype: int64"
      ]
     },
     "execution_count": 108,
     "metadata": {},
     "output_type": "execute_result"
    }
   ],
   "source": [
    "order_items_df.isnull().sum()"
   ]
  },
  {
   "cell_type": "code",
   "execution_count": 109,
   "id": "e646945b",
   "metadata": {},
   "outputs": [],
   "source": [
    "reviews_df = pd.read_csv('olist_order_reviews_dataset.csv', encoding='latin1')"
   ]
  },
  {
   "cell_type": "code",
   "execution_count": 110,
   "id": "d0755477",
   "metadata": {},
   "outputs": [
    {
     "data": {
      "text/plain": [
       "(99224, 7)"
      ]
     },
     "execution_count": 110,
     "metadata": {},
     "output_type": "execute_result"
    }
   ],
   "source": [
    "reviews_df.shape"
   ]
  },
  {
   "cell_type": "code",
   "execution_count": 111,
   "id": "e438f043",
   "metadata": {},
   "outputs": [
    {
     "data": {
      "text/plain": [
       "review_id                      0\n",
       "order_id                       0\n",
       "review_score                   0\n",
       "review_comment_title       87656\n",
       "review_comment_message     58277\n",
       "review_creation_date           0\n",
       "review_answer_timestamp        0\n",
       "dtype: int64"
      ]
     },
     "execution_count": 111,
     "metadata": {},
     "output_type": "execute_result"
    }
   ],
   "source": [
    "reviews_df.isnull().sum()"
   ]
  },
  {
   "cell_type": "code",
   "execution_count": 112,
   "id": "74b2850e",
   "metadata": {},
   "outputs": [
    {
     "data": {
      "text/html": [
       "<div>\n",
       "<style scoped>\n",
       "    .dataframe tbody tr th:only-of-type {\n",
       "        vertical-align: middle;\n",
       "    }\n",
       "\n",
       "    .dataframe tbody tr th {\n",
       "        vertical-align: top;\n",
       "    }\n",
       "\n",
       "    .dataframe thead th {\n",
       "        text-align: right;\n",
       "    }\n",
       "</style>\n",
       "<table border=\"1\" class=\"dataframe\">\n",
       "  <thead>\n",
       "    <tr style=\"text-align: right;\">\n",
       "      <th></th>\n",
       "      <th>review_id</th>\n",
       "      <th>order_id</th>\n",
       "      <th>review_score</th>\n",
       "      <th>review_comment_title</th>\n",
       "      <th>review_comment_message</th>\n",
       "      <th>review_creation_date</th>\n",
       "      <th>review_answer_timestamp</th>\n",
       "    </tr>\n",
       "  </thead>\n",
       "  <tbody>\n",
       "    <tr>\n",
       "      <th>0</th>\n",
       "      <td>7bc2406110b926393aa56f80a40eba40</td>\n",
       "      <td>73fc7af87114b39712e6da79b0a377eb</td>\n",
       "      <td>4</td>\n",
       "      <td>NaN</td>\n",
       "      <td>NaN</td>\n",
       "      <td>18-01-2018 00:00</td>\n",
       "      <td>18-01-2018 21:46</td>\n",
       "    </tr>\n",
       "    <tr>\n",
       "      <th>1</th>\n",
       "      <td>80e641a11e56f04c1ad469d5645fdfde</td>\n",
       "      <td>a548910a1c6147796b98fdf73dbeba33</td>\n",
       "      <td>5</td>\n",
       "      <td>NaN</td>\n",
       "      <td>NaN</td>\n",
       "      <td>10-03-2018 00:00</td>\n",
       "      <td>11-03-2018 03:05</td>\n",
       "    </tr>\n",
       "    <tr>\n",
       "      <th>2</th>\n",
       "      <td>228ce5500dc1d8e020d8d1322874b6f0</td>\n",
       "      <td>f9e4b658b201a9f2ecdecbb34bed034b</td>\n",
       "      <td>5</td>\n",
       "      <td>NaN</td>\n",
       "      <td>NaN</td>\n",
       "      <td>17-02-2018 00:00</td>\n",
       "      <td>18-02-2018 14:36</td>\n",
       "    </tr>\n",
       "    <tr>\n",
       "      <th>3</th>\n",
       "      <td>e64fb393e7b32834bb789ff8bb30750e</td>\n",
       "      <td>658677c97b385a9be170737859d3511b</td>\n",
       "      <td>5</td>\n",
       "      <td>NaN</td>\n",
       "      <td>I received it well before the stipulated deadl...</td>\n",
       "      <td>21-04-2017 00:00</td>\n",
       "      <td>21-04-2017 22:02</td>\n",
       "    </tr>\n",
       "    <tr>\n",
       "      <th>4</th>\n",
       "      <td>f7c4243c7fe1938f181bec41a392bdeb</td>\n",
       "      <td>8e6bfb81e283fa7e4f11123a3fb894f1</td>\n",
       "      <td>5</td>\n",
       "      <td>NaN</td>\n",
       "      <td>Congratulations lannister stores I loved shopp...</td>\n",
       "      <td>01-03-2018 00:00</td>\n",
       "      <td>02-03-2018 10:26</td>\n",
       "    </tr>\n",
       "  </tbody>\n",
       "</table>\n",
       "</div>"
      ],
      "text/plain": [
       "                          review_id                          order_id  \\\n",
       "0  7bc2406110b926393aa56f80a40eba40  73fc7af87114b39712e6da79b0a377eb   \n",
       "1  80e641a11e56f04c1ad469d5645fdfde  a548910a1c6147796b98fdf73dbeba33   \n",
       "2  228ce5500dc1d8e020d8d1322874b6f0  f9e4b658b201a9f2ecdecbb34bed034b   \n",
       "3  e64fb393e7b32834bb789ff8bb30750e  658677c97b385a9be170737859d3511b   \n",
       "4  f7c4243c7fe1938f181bec41a392bdeb  8e6bfb81e283fa7e4f11123a3fb894f1   \n",
       "\n",
       "   review_score review_comment_title  \\\n",
       "0             4                  NaN   \n",
       "1             5                  NaN   \n",
       "2             5                  NaN   \n",
       "3             5                  NaN   \n",
       "4             5                  NaN   \n",
       "\n",
       "                              review_comment_message review_creation_date  \\\n",
       "0                                                NaN     18-01-2018 00:00   \n",
       "1                                                NaN     10-03-2018 00:00   \n",
       "2                                                NaN     17-02-2018 00:00   \n",
       "3  I received it well before the stipulated deadl...     21-04-2017 00:00   \n",
       "4  Congratulations lannister stores I loved shopp...     01-03-2018 00:00   \n",
       "\n",
       "  review_answer_timestamp  \n",
       "0        18-01-2018 21:46  \n",
       "1        11-03-2018 03:05  \n",
       "2        18-02-2018 14:36  \n",
       "3        21-04-2017 22:02  \n",
       "4        02-03-2018 10:26  "
      ]
     },
     "execution_count": 112,
     "metadata": {},
     "output_type": "execute_result"
    }
   ],
   "source": [
    "reviews_df.head()"
   ]
  },
  {
   "cell_type": "code",
   "execution_count": 113,
   "id": "22e0f245-77fe-416b-8a7a-2730e4fe86cc",
   "metadata": {},
   "outputs": [
    {
     "data": {
      "text/plain": [
       "(99224, 7)"
      ]
     },
     "execution_count": 113,
     "metadata": {},
     "output_type": "execute_result"
    }
   ],
   "source": [
    "reviews_df.shape"
   ]
  },
  {
   "cell_type": "code",
   "execution_count": 114,
   "id": "387101ed",
   "metadata": {},
   "outputs": [],
   "source": [
    "reviews_df.drop(columns=['review_comment_title'],inplace=True)"
   ]
  },
  {
   "cell_type": "code",
   "execution_count": 115,
   "id": "e35e81b7-e51f-443d-b3fe-adf46ac011a6",
   "metadata": {},
   "outputs": [],
   "source": [
    "reviews_df = reviews_df.dropna(subset=['review_comment_message'])"
   ]
  },
  {
   "cell_type": "code",
   "execution_count": 116,
   "id": "428fc448-5383-4362-9ce2-cb4576adf7b3",
   "metadata": {},
   "outputs": [
    {
     "data": {
      "text/html": [
       "<div>\n",
       "<style scoped>\n",
       "    .dataframe tbody tr th:only-of-type {\n",
       "        vertical-align: middle;\n",
       "    }\n",
       "\n",
       "    .dataframe tbody tr th {\n",
       "        vertical-align: top;\n",
       "    }\n",
       "\n",
       "    .dataframe thead th {\n",
       "        text-align: right;\n",
       "    }\n",
       "</style>\n",
       "<table border=\"1\" class=\"dataframe\">\n",
       "  <thead>\n",
       "    <tr style=\"text-align: right;\">\n",
       "      <th></th>\n",
       "      <th>review_id</th>\n",
       "      <th>order_id</th>\n",
       "      <th>review_score</th>\n",
       "      <th>review_comment_message</th>\n",
       "      <th>review_creation_date</th>\n",
       "      <th>review_answer_timestamp</th>\n",
       "    </tr>\n",
       "  </thead>\n",
       "  <tbody>\n",
       "    <tr>\n",
       "      <th>3</th>\n",
       "      <td>e64fb393e7b32834bb789ff8bb30750e</td>\n",
       "      <td>658677c97b385a9be170737859d3511b</td>\n",
       "      <td>5</td>\n",
       "      <td>I received it well before the stipulated deadl...</td>\n",
       "      <td>21-04-2017 00:00</td>\n",
       "      <td>21-04-2017 22:02</td>\n",
       "    </tr>\n",
       "    <tr>\n",
       "      <th>4</th>\n",
       "      <td>f7c4243c7fe1938f181bec41a392bdeb</td>\n",
       "      <td>8e6bfb81e283fa7e4f11123a3fb894f1</td>\n",
       "      <td>5</td>\n",
       "      <td>Congratulations lannister stores I loved shopp...</td>\n",
       "      <td>01-03-2018 00:00</td>\n",
       "      <td>02-03-2018 10:26</td>\n",
       "    </tr>\n",
       "    <tr>\n",
       "      <th>9</th>\n",
       "      <td>8670d52e15e00043ae7de4c01cc2fe06</td>\n",
       "      <td>b9bf720beb4ab3728760088589c62129</td>\n",
       "      <td>4</td>\n",
       "      <td>efficient device. On the website the brand of ...</td>\n",
       "      <td>22-05-2018 00:00</td>\n",
       "      <td>23-05-2018 16:45</td>\n",
       "    </tr>\n",
       "    <tr>\n",
       "      <th>12</th>\n",
       "      <td>4b49719c8a200003f700d3d986ea1a19</td>\n",
       "      <td>9d6f15f95d01e79bd1349cc208361f09</td>\n",
       "      <td>4</td>\n",
       "      <td>But a little slow...for the price, it's good.</td>\n",
       "      <td>16-02-2018 00:00</td>\n",
       "      <td>20-02-2018 10:52</td>\n",
       "    </tr>\n",
       "    <tr>\n",
       "      <th>15</th>\n",
       "      <td>3948b09f7c818e2d86c9a546758b2335</td>\n",
       "      <td>e51478e7e277a83743b6f9991dbfa3fb</td>\n",
       "      <td>5</td>\n",
       "      <td>Reliable seller, ok product and delivery on time.</td>\n",
       "      <td>23-05-2018 00:00</td>\n",
       "      <td>24-05-2018 03:00</td>\n",
       "    </tr>\n",
       "  </tbody>\n",
       "</table>\n",
       "</div>"
      ],
      "text/plain": [
       "                           review_id                          order_id  \\\n",
       "3   e64fb393e7b32834bb789ff8bb30750e  658677c97b385a9be170737859d3511b   \n",
       "4   f7c4243c7fe1938f181bec41a392bdeb  8e6bfb81e283fa7e4f11123a3fb894f1   \n",
       "9   8670d52e15e00043ae7de4c01cc2fe06  b9bf720beb4ab3728760088589c62129   \n",
       "12  4b49719c8a200003f700d3d986ea1a19  9d6f15f95d01e79bd1349cc208361f09   \n",
       "15  3948b09f7c818e2d86c9a546758b2335  e51478e7e277a83743b6f9991dbfa3fb   \n",
       "\n",
       "    review_score                             review_comment_message  \\\n",
       "3              5  I received it well before the stipulated deadl...   \n",
       "4              5  Congratulations lannister stores I loved shopp...   \n",
       "9              4  efficient device. On the website the brand of ...   \n",
       "12             4      But a little slow...for the price, it's good.   \n",
       "15             5  Reliable seller, ok product and delivery on time.   \n",
       "\n",
       "   review_creation_date review_answer_timestamp  \n",
       "3      21-04-2017 00:00        21-04-2017 22:02  \n",
       "4      01-03-2018 00:00        02-03-2018 10:26  \n",
       "9      22-05-2018 00:00        23-05-2018 16:45  \n",
       "12     16-02-2018 00:00        20-02-2018 10:52  \n",
       "15     23-05-2018 00:00        24-05-2018 03:00  "
      ]
     },
     "execution_count": 116,
     "metadata": {},
     "output_type": "execute_result"
    }
   ],
   "source": [
    "reviews_df.head()"
   ]
  },
  {
   "cell_type": "code",
   "execution_count": 117,
   "id": "5c6c0e16-8daf-4fe9-b41a-8320aaaca593",
   "metadata": {},
   "outputs": [
    {
     "data": {
      "text/plain": [
       "(40947, 6)"
      ]
     },
     "execution_count": 117,
     "metadata": {},
     "output_type": "execute_result"
    }
   ],
   "source": [
    "reviews_df.shape"
   ]
  },
  {
   "cell_type": "code",
   "execution_count": 118,
   "id": "372d4880",
   "metadata": {},
   "outputs": [],
   "source": [
    "sellers_df=pd.read_csv('olist_sellers_dataset.csv')\n"
   ]
  },
  {
   "cell_type": "code",
   "execution_count": 119,
   "id": "8b1e7b87",
   "metadata": {},
   "outputs": [
    {
     "data": {
      "text/html": [
       "<div>\n",
       "<style scoped>\n",
       "    .dataframe tbody tr th:only-of-type {\n",
       "        vertical-align: middle;\n",
       "    }\n",
       "\n",
       "    .dataframe tbody tr th {\n",
       "        vertical-align: top;\n",
       "    }\n",
       "\n",
       "    .dataframe thead th {\n",
       "        text-align: right;\n",
       "    }\n",
       "</style>\n",
       "<table border=\"1\" class=\"dataframe\">\n",
       "  <thead>\n",
       "    <tr style=\"text-align: right;\">\n",
       "      <th></th>\n",
       "      <th>seller_id</th>\n",
       "      <th>seller_zip_code_prefix</th>\n",
       "      <th>seller_city</th>\n",
       "      <th>seller_state</th>\n",
       "    </tr>\n",
       "  </thead>\n",
       "  <tbody>\n",
       "    <tr>\n",
       "      <th>0</th>\n",
       "      <td>3442f8959a84dea7ee197c632cb2df15</td>\n",
       "      <td>13023</td>\n",
       "      <td>campinas</td>\n",
       "      <td>SP</td>\n",
       "    </tr>\n",
       "    <tr>\n",
       "      <th>1</th>\n",
       "      <td>d1b65fc7debc3361ea86b5f14c68d2e2</td>\n",
       "      <td>13844</td>\n",
       "      <td>mogi guacu</td>\n",
       "      <td>SP</td>\n",
       "    </tr>\n",
       "    <tr>\n",
       "      <th>2</th>\n",
       "      <td>ce3ad9de960102d0677a81f5d0bb7b2d</td>\n",
       "      <td>20031</td>\n",
       "      <td>rio de janeiro</td>\n",
       "      <td>RJ</td>\n",
       "    </tr>\n",
       "    <tr>\n",
       "      <th>3</th>\n",
       "      <td>c0f3eea2e14555b6faeea3dd58c1b1c3</td>\n",
       "      <td>4195</td>\n",
       "      <td>sao paulo</td>\n",
       "      <td>SP</td>\n",
       "    </tr>\n",
       "    <tr>\n",
       "      <th>4</th>\n",
       "      <td>51a04a8a6bdcb23deccc82b0b80742cf</td>\n",
       "      <td>12914</td>\n",
       "      <td>braganca paulista</td>\n",
       "      <td>SP</td>\n",
       "    </tr>\n",
       "  </tbody>\n",
       "</table>\n",
       "</div>"
      ],
      "text/plain": [
       "                          seller_id  seller_zip_code_prefix  \\\n",
       "0  3442f8959a84dea7ee197c632cb2df15                   13023   \n",
       "1  d1b65fc7debc3361ea86b5f14c68d2e2                   13844   \n",
       "2  ce3ad9de960102d0677a81f5d0bb7b2d                   20031   \n",
       "3  c0f3eea2e14555b6faeea3dd58c1b1c3                    4195   \n",
       "4  51a04a8a6bdcb23deccc82b0b80742cf                   12914   \n",
       "\n",
       "         seller_city seller_state  \n",
       "0           campinas           SP  \n",
       "1         mogi guacu           SP  \n",
       "2     rio de janeiro           RJ  \n",
       "3          sao paulo           SP  \n",
       "4  braganca paulista           SP  "
      ]
     },
     "execution_count": 119,
     "metadata": {},
     "output_type": "execute_result"
    }
   ],
   "source": [
    "sellers_df.head()"
   ]
  },
  {
   "cell_type": "code",
   "execution_count": 120,
   "id": "282a8003",
   "metadata": {},
   "outputs": [
    {
     "data": {
      "text/plain": [
       "seller_id                 0\n",
       "seller_zip_code_prefix    0\n",
       "seller_city               0\n",
       "seller_state              0\n",
       "dtype: int64"
      ]
     },
     "execution_count": 120,
     "metadata": {},
     "output_type": "execute_result"
    }
   ],
   "source": [
    "sellers_df.isna().sum()"
   ]
  },
  {
   "cell_type": "code",
   "execution_count": 121,
   "id": "01038b87",
   "metadata": {},
   "outputs": [
    {
     "data": {
      "text/plain": [
       "product_category_name            0\n",
       "product_category_name_english    0\n",
       "dtype: int64"
      ]
     },
     "execution_count": 121,
     "metadata": {},
     "output_type": "execute_result"
    }
   ],
   "source": [
    "product_category_name_translation_df=pd.read_csv('product_category_name_translation.csv')\n",
    "product_category_name_translation_df.isna().sum()"
   ]
  },
  {
   "cell_type": "code",
   "execution_count": 122,
   "id": "2edbe3a6",
   "metadata": {},
   "outputs": [
    {
     "data": {
      "text/html": [
       "<div>\n",
       "<style scoped>\n",
       "    .dataframe tbody tr th:only-of-type {\n",
       "        vertical-align: middle;\n",
       "    }\n",
       "\n",
       "    .dataframe tbody tr th {\n",
       "        vertical-align: top;\n",
       "    }\n",
       "\n",
       "    .dataframe thead th {\n",
       "        text-align: right;\n",
       "    }\n",
       "</style>\n",
       "<table border=\"1\" class=\"dataframe\">\n",
       "  <thead>\n",
       "    <tr style=\"text-align: right;\">\n",
       "      <th></th>\n",
       "      <th>product_category_name</th>\n",
       "      <th>product_category_name_english</th>\n",
       "    </tr>\n",
       "  </thead>\n",
       "  <tbody>\n",
       "    <tr>\n",
       "      <th>0</th>\n",
       "      <td>beleza_saude</td>\n",
       "      <td>health_beauty</td>\n",
       "    </tr>\n",
       "    <tr>\n",
       "      <th>1</th>\n",
       "      <td>informatica_acessorios</td>\n",
       "      <td>computers_accessories</td>\n",
       "    </tr>\n",
       "    <tr>\n",
       "      <th>2</th>\n",
       "      <td>automotivo</td>\n",
       "      <td>auto</td>\n",
       "    </tr>\n",
       "    <tr>\n",
       "      <th>3</th>\n",
       "      <td>cama_mesa_banho</td>\n",
       "      <td>bed_bath_table</td>\n",
       "    </tr>\n",
       "    <tr>\n",
       "      <th>4</th>\n",
       "      <td>moveis_decoracao</td>\n",
       "      <td>furniture_decor</td>\n",
       "    </tr>\n",
       "    <tr>\n",
       "      <th>...</th>\n",
       "      <td>...</td>\n",
       "      <td>...</td>\n",
       "    </tr>\n",
       "    <tr>\n",
       "      <th>66</th>\n",
       "      <td>flores</td>\n",
       "      <td>flowers</td>\n",
       "    </tr>\n",
       "    <tr>\n",
       "      <th>67</th>\n",
       "      <td>artes_e_artesanato</td>\n",
       "      <td>arts_and_craftmanship</td>\n",
       "    </tr>\n",
       "    <tr>\n",
       "      <th>68</th>\n",
       "      <td>fraldas_higiene</td>\n",
       "      <td>diapers_and_hygiene</td>\n",
       "    </tr>\n",
       "    <tr>\n",
       "      <th>69</th>\n",
       "      <td>fashion_roupa_infanto_juvenil</td>\n",
       "      <td>fashion_childrens_clothes</td>\n",
       "    </tr>\n",
       "    <tr>\n",
       "      <th>70</th>\n",
       "      <td>seguros_e_servicos</td>\n",
       "      <td>security_and_services</td>\n",
       "    </tr>\n",
       "  </tbody>\n",
       "</table>\n",
       "<p>71 rows × 2 columns</p>\n",
       "</div>"
      ],
      "text/plain": [
       "            product_category_name product_category_name_english\n",
       "0                    beleza_saude                 health_beauty\n",
       "1          informatica_acessorios         computers_accessories\n",
       "2                      automotivo                          auto\n",
       "3                 cama_mesa_banho                bed_bath_table\n",
       "4                moveis_decoracao               furniture_decor\n",
       "..                            ...                           ...\n",
       "66                         flores                       flowers\n",
       "67             artes_e_artesanato         arts_and_craftmanship\n",
       "68                fraldas_higiene           diapers_and_hygiene\n",
       "69  fashion_roupa_infanto_juvenil     fashion_childrens_clothes\n",
       "70             seguros_e_servicos         security_and_services\n",
       "\n",
       "[71 rows x 2 columns]"
      ]
     },
     "execution_count": 122,
     "metadata": {},
     "output_type": "execute_result"
    }
   ],
   "source": [
    "product_category_name_translation_df"
   ]
  },
  {
   "cell_type": "code",
   "execution_count": 123,
   "id": "5423f396",
   "metadata": {},
   "outputs": [
    {
     "data": {
      "text/plain": [
       "order_id               0\n",
       "order_item_id          0\n",
       "product_id             0\n",
       "seller_id              0\n",
       "shipping_limit_date    0\n",
       "price                  0\n",
       "freight_value          0\n",
       "dtype: int64"
      ]
     },
     "execution_count": 123,
     "metadata": {},
     "output_type": "execute_result"
    }
   ],
   "source": [
    "order_items_df=pd.read_csv('olist_order_items_dataset.csv')\n",
    "order_items_df.isna().sum()"
   ]
  },
  {
   "cell_type": "code",
   "execution_count": 124,
   "id": "d5c0a65e",
   "metadata": {},
   "outputs": [
    {
     "data": {
      "text/html": [
       "<div>\n",
       "<style scoped>\n",
       "    .dataframe tbody tr th:only-of-type {\n",
       "        vertical-align: middle;\n",
       "    }\n",
       "\n",
       "    .dataframe tbody tr th {\n",
       "        vertical-align: top;\n",
       "    }\n",
       "\n",
       "    .dataframe thead th {\n",
       "        text-align: right;\n",
       "    }\n",
       "</style>\n",
       "<table border=\"1\" class=\"dataframe\">\n",
       "  <thead>\n",
       "    <tr style=\"text-align: right;\">\n",
       "      <th></th>\n",
       "      <th>order_id</th>\n",
       "      <th>order_item_id</th>\n",
       "      <th>product_id</th>\n",
       "      <th>seller_id</th>\n",
       "      <th>shipping_limit_date</th>\n",
       "      <th>price</th>\n",
       "      <th>freight_value</th>\n",
       "    </tr>\n",
       "  </thead>\n",
       "  <tbody>\n",
       "    <tr>\n",
       "      <th>0</th>\n",
       "      <td>00010242fe8c5a6d1ba2dd792cb16214</td>\n",
       "      <td>1</td>\n",
       "      <td>4244733e06e7ecb4970a6e2683c13e61</td>\n",
       "      <td>48436dade18ac8b2bce089ec2a041202</td>\n",
       "      <td>2017-09-19 09:45:35</td>\n",
       "      <td>58.90</td>\n",
       "      <td>13.29</td>\n",
       "    </tr>\n",
       "    <tr>\n",
       "      <th>1</th>\n",
       "      <td>00018f77f2f0320c557190d7a144bdd3</td>\n",
       "      <td>1</td>\n",
       "      <td>e5f2d52b802189ee658865ca93d83a8f</td>\n",
       "      <td>dd7ddc04e1b6c2c614352b383efe2d36</td>\n",
       "      <td>2017-05-03 11:05:13</td>\n",
       "      <td>239.90</td>\n",
       "      <td>19.93</td>\n",
       "    </tr>\n",
       "    <tr>\n",
       "      <th>2</th>\n",
       "      <td>000229ec398224ef6ca0657da4fc703e</td>\n",
       "      <td>1</td>\n",
       "      <td>c777355d18b72b67abbeef9df44fd0fd</td>\n",
       "      <td>5b51032eddd242adc84c38acab88f23d</td>\n",
       "      <td>2018-01-18 14:48:30</td>\n",
       "      <td>199.00</td>\n",
       "      <td>17.87</td>\n",
       "    </tr>\n",
       "    <tr>\n",
       "      <th>3</th>\n",
       "      <td>00024acbcdf0a6daa1e931b038114c75</td>\n",
       "      <td>1</td>\n",
       "      <td>7634da152a4610f1595efa32f14722fc</td>\n",
       "      <td>9d7a1d34a5052409006425275ba1c2b4</td>\n",
       "      <td>2018-08-15 10:10:18</td>\n",
       "      <td>12.99</td>\n",
       "      <td>12.79</td>\n",
       "    </tr>\n",
       "    <tr>\n",
       "      <th>4</th>\n",
       "      <td>00042b26cf59d7ce69dfabb4e55b4fd9</td>\n",
       "      <td>1</td>\n",
       "      <td>ac6c3623068f30de03045865e4e10089</td>\n",
       "      <td>df560393f3a51e74553ab94004ba5c87</td>\n",
       "      <td>2017-02-13 13:57:51</td>\n",
       "      <td>199.90</td>\n",
       "      <td>18.14</td>\n",
       "    </tr>\n",
       "  </tbody>\n",
       "</table>\n",
       "</div>"
      ],
      "text/plain": [
       "                           order_id  order_item_id  \\\n",
       "0  00010242fe8c5a6d1ba2dd792cb16214              1   \n",
       "1  00018f77f2f0320c557190d7a144bdd3              1   \n",
       "2  000229ec398224ef6ca0657da4fc703e              1   \n",
       "3  00024acbcdf0a6daa1e931b038114c75              1   \n",
       "4  00042b26cf59d7ce69dfabb4e55b4fd9              1   \n",
       "\n",
       "                         product_id                         seller_id  \\\n",
       "0  4244733e06e7ecb4970a6e2683c13e61  48436dade18ac8b2bce089ec2a041202   \n",
       "1  e5f2d52b802189ee658865ca93d83a8f  dd7ddc04e1b6c2c614352b383efe2d36   \n",
       "2  c777355d18b72b67abbeef9df44fd0fd  5b51032eddd242adc84c38acab88f23d   \n",
       "3  7634da152a4610f1595efa32f14722fc  9d7a1d34a5052409006425275ba1c2b4   \n",
       "4  ac6c3623068f30de03045865e4e10089  df560393f3a51e74553ab94004ba5c87   \n",
       "\n",
       "   shipping_limit_date   price  freight_value  \n",
       "0  2017-09-19 09:45:35   58.90          13.29  \n",
       "1  2017-05-03 11:05:13  239.90          19.93  \n",
       "2  2018-01-18 14:48:30  199.00          17.87  \n",
       "3  2018-08-15 10:10:18   12.99          12.79  \n",
       "4  2017-02-13 13:57:51  199.90          18.14  "
      ]
     },
     "execution_count": 124,
     "metadata": {},
     "output_type": "execute_result"
    }
   ],
   "source": [
    "order_items_df.head()"
   ]
  },
  {
   "cell_type": "code",
   "execution_count": 125,
   "id": "2af9658a",
   "metadata": {},
   "outputs": [],
   "source": [
    "orders_df['order_id'] = orders_df['order_id'].astype(str)\n",
    "order_items_df['order_id'] = order_items_df['order_id'].astype(str)\n",
    "order_payments['order_id'] = order_payments['order_id'].astype(str)\n",
    "customers_df['customer_id'] = customers_df['customer_id'].astype(str)\n",
    "reviews_df['order_id'] = reviews_df['order_id'].astype(str)\n",
    "products_df['product_id'] = products_df['product_id'].astype(str)\n",
    "sellers_df['seller_id'] = sellers_df['seller_id'].astype(str)\n",
    "product_category_name_translation_df['product_category_name'] = product_category_name_translation_df['product_category_name'].astype(str)"
   ]
  },
  {
   "cell_type": "code",
   "execution_count": 126,
   "id": "2b6d646a",
   "metadata": {},
   "outputs": [
    {
     "name": "stdout",
     "output_type": "stream",
     "text": [
      "order_id                         object\n",
      "customer_id                      object\n",
      "order_status                     object\n",
      "order_purchase_timestamp         object\n",
      "order_delivered_customer_date    object\n",
      "order_estimated_delivery_date    object\n",
      "dtype: object\n",
      "order_id                object\n",
      "order_item_id            int64\n",
      "product_id              object\n",
      "seller_id               object\n",
      "shipping_limit_date     object\n",
      "price                  float64\n",
      "freight_value          float64\n",
      "dtype: object\n",
      "order_id                 object\n",
      "payment_sequential        int64\n",
      "payment_type             object\n",
      "payment_installments      int64\n",
      "payment_value           float64\n",
      "dtype: object\n",
      "customer_id                 object\n",
      "customer_unique_id          object\n",
      "customer_zip_code_prefix     int64\n",
      "customer_city               object\n",
      "customer_state              object\n",
      "dtype: object\n",
      "review_id                  object\n",
      "order_id                   object\n",
      "review_score                int64\n",
      "review_comment_message     object\n",
      "review_creation_date       object\n",
      "review_answer_timestamp    object\n",
      "dtype: object\n",
      "product_id               object\n",
      "product_category_name    object\n",
      "dtype: object\n",
      "seller_id                 object\n",
      "seller_zip_code_prefix     int64\n",
      "seller_city               object\n",
      "seller_state              object\n",
      "dtype: object\n",
      "product_category_name            object\n",
      "product_category_name_english    object\n",
      "dtype: object\n"
     ]
    }
   ],
   "source": [
    "print(orders_df.dtypes)\n",
    "print(order_items_df.dtypes)\n",
    "print(order_payments.dtypes)\n",
    "print(customers_df.dtypes)\n",
    "print(reviews_df.dtypes)\n",
    "print(products_df.dtypes)\n",
    "print(sellers_df.dtypes)\n",
    "print(product_category_name_translation_df.dtypes)"
   ]
  },
  {
   "cell_type": "code",
   "execution_count": 127,
   "id": "8f617de3",
   "metadata": {},
   "outputs": [],
   "source": [
    "merged_df = (orders_df\n",
    "             .merge(order_items_df, on='order_id', how='inner')\n",
    "             .merge(order_payments, on='order_id', how='inner')\n",
    "             .merge(customers_df, on='customer_id', how='inner')\n",
    "             .merge(reviews_df, on='order_id', how='inner')\n",
    "             .merge(products_df, on='product_id', how='inner')\n",
    "             .merge(sellers_df, on='seller_id', how='inner')\n",
    "             .merge(product_category_name_translation_df, on='product_category_name', how='inner'))"
   ]
  },
  {
   "cell_type": "code",
   "execution_count": 128,
   "id": "32a5707b",
   "metadata": {},
   "outputs": [
    {
     "data": {
      "text/html": [
       "<div>\n",
       "<style scoped>\n",
       "    .dataframe tbody tr th:only-of-type {\n",
       "        vertical-align: middle;\n",
       "    }\n",
       "\n",
       "    .dataframe tbody tr th {\n",
       "        vertical-align: top;\n",
       "    }\n",
       "\n",
       "    .dataframe thead th {\n",
       "        text-align: right;\n",
       "    }\n",
       "</style>\n",
       "<table border=\"1\" class=\"dataframe\">\n",
       "  <thead>\n",
       "    <tr style=\"text-align: right;\">\n",
       "      <th></th>\n",
       "      <th>order_id</th>\n",
       "      <th>customer_id</th>\n",
       "      <th>order_status</th>\n",
       "      <th>order_purchase_timestamp</th>\n",
       "      <th>order_delivered_customer_date</th>\n",
       "      <th>order_estimated_delivery_date</th>\n",
       "      <th>order_item_id</th>\n",
       "      <th>product_id</th>\n",
       "      <th>seller_id</th>\n",
       "      <th>shipping_limit_date</th>\n",
       "      <th>...</th>\n",
       "      <th>review_id</th>\n",
       "      <th>review_score</th>\n",
       "      <th>review_comment_message</th>\n",
       "      <th>review_creation_date</th>\n",
       "      <th>review_answer_timestamp</th>\n",
       "      <th>product_category_name</th>\n",
       "      <th>seller_zip_code_prefix</th>\n",
       "      <th>seller_city</th>\n",
       "      <th>seller_state</th>\n",
       "      <th>product_category_name_english</th>\n",
       "    </tr>\n",
       "  </thead>\n",
       "  <tbody>\n",
       "    <tr>\n",
       "      <th>0</th>\n",
       "      <td>e481f51cbdc54678b7cc49136f2d6af7</td>\n",
       "      <td>9ef432eb6251297304e76186b10a928d</td>\n",
       "      <td>delivered</td>\n",
       "      <td>2017-10-02 10:56:33</td>\n",
       "      <td>2017-10-10 21:25:13</td>\n",
       "      <td>2017-10-18 00:00:00</td>\n",
       "      <td>1</td>\n",
       "      <td>87285b34884572647811a353c7ac498a</td>\n",
       "      <td>3504c0cb71d7fa48d967e0e4c94d59d9</td>\n",
       "      <td>2017-10-06 11:07:15</td>\n",
       "      <td>...</td>\n",
       "      <td>a54f0611adc9ed256b57ede6b6eb5114</td>\n",
       "      <td>4</td>\n",
       "      <td>I haven't tested the product yet, but it arriv...</td>\n",
       "      <td>11-10-2017 00:00</td>\n",
       "      <td>12-10-2017 03:43</td>\n",
       "      <td>utilidades_domesticas</td>\n",
       "      <td>9350</td>\n",
       "      <td>maua</td>\n",
       "      <td>SP</td>\n",
       "      <td>housewares</td>\n",
       "    </tr>\n",
       "    <tr>\n",
       "      <th>1</th>\n",
       "      <td>e481f51cbdc54678b7cc49136f2d6af7</td>\n",
       "      <td>9ef432eb6251297304e76186b10a928d</td>\n",
       "      <td>delivered</td>\n",
       "      <td>2017-10-02 10:56:33</td>\n",
       "      <td>2017-10-10 21:25:13</td>\n",
       "      <td>2017-10-18 00:00:00</td>\n",
       "      <td>1</td>\n",
       "      <td>87285b34884572647811a353c7ac498a</td>\n",
       "      <td>3504c0cb71d7fa48d967e0e4c94d59d9</td>\n",
       "      <td>2017-10-06 11:07:15</td>\n",
       "      <td>...</td>\n",
       "      <td>a54f0611adc9ed256b57ede6b6eb5114</td>\n",
       "      <td>4</td>\n",
       "      <td>I haven't tested the product yet, but it arriv...</td>\n",
       "      <td>11-10-2017 00:00</td>\n",
       "      <td>12-10-2017 03:43</td>\n",
       "      <td>utilidades_domesticas</td>\n",
       "      <td>9350</td>\n",
       "      <td>maua</td>\n",
       "      <td>SP</td>\n",
       "      <td>housewares</td>\n",
       "    </tr>\n",
       "    <tr>\n",
       "      <th>2</th>\n",
       "      <td>e481f51cbdc54678b7cc49136f2d6af7</td>\n",
       "      <td>9ef432eb6251297304e76186b10a928d</td>\n",
       "      <td>delivered</td>\n",
       "      <td>2017-10-02 10:56:33</td>\n",
       "      <td>2017-10-10 21:25:13</td>\n",
       "      <td>2017-10-18 00:00:00</td>\n",
       "      <td>1</td>\n",
       "      <td>87285b34884572647811a353c7ac498a</td>\n",
       "      <td>3504c0cb71d7fa48d967e0e4c94d59d9</td>\n",
       "      <td>2017-10-06 11:07:15</td>\n",
       "      <td>...</td>\n",
       "      <td>a54f0611adc9ed256b57ede6b6eb5114</td>\n",
       "      <td>4</td>\n",
       "      <td>I haven't tested the product yet, but it arriv...</td>\n",
       "      <td>11-10-2017 00:00</td>\n",
       "      <td>12-10-2017 03:43</td>\n",
       "      <td>utilidades_domesticas</td>\n",
       "      <td>9350</td>\n",
       "      <td>maua</td>\n",
       "      <td>SP</td>\n",
       "      <td>housewares</td>\n",
       "    </tr>\n",
       "    <tr>\n",
       "      <th>3</th>\n",
       "      <td>53cdb2fc8bc7dce0b6741e2150273451</td>\n",
       "      <td>b0830fb4747a6c6d20dea0b8c802d7ef</td>\n",
       "      <td>delivered</td>\n",
       "      <td>2018-07-24 20:41:37</td>\n",
       "      <td>2018-08-07 15:27:45</td>\n",
       "      <td>2018-08-13 00:00:00</td>\n",
       "      <td>1</td>\n",
       "      <td>595fac2a385ac33a80bd5114aec74eb8</td>\n",
       "      <td>289cdb325fb7e7f891c38608bf9e0962</td>\n",
       "      <td>2018-07-30 03:24:27</td>\n",
       "      <td>...</td>\n",
       "      <td>8d5266042046a06655c8db133d120ba5</td>\n",
       "      <td>4</td>\n",
       "      <td>The product is very good.</td>\n",
       "      <td>08-08-2018 00:00</td>\n",
       "      <td>08-08-2018 18:37</td>\n",
       "      <td>perfumaria</td>\n",
       "      <td>31570</td>\n",
       "      <td>belo horizonte</td>\n",
       "      <td>SP</td>\n",
       "      <td>perfumery</td>\n",
       "    </tr>\n",
       "    <tr>\n",
       "      <th>4</th>\n",
       "      <td>949d5b44dbf5de918fe9c16f97b45f8a</td>\n",
       "      <td>f88197465ea7920adcdbec7375364d82</td>\n",
       "      <td>delivered</td>\n",
       "      <td>2017-11-18 19:28:06</td>\n",
       "      <td>2017-12-02 00:28:42</td>\n",
       "      <td>2017-12-15 00:00:00</td>\n",
       "      <td>1</td>\n",
       "      <td>d0b61bfb1de832b15ba9d266ca96e5b0</td>\n",
       "      <td>66922902710d126a0e7d26b0e3805106</td>\n",
       "      <td>2017-11-23 19:45:59</td>\n",
       "      <td>...</td>\n",
       "      <td>359d03e676b3c069f62cadba8dd3f6e8</td>\n",
       "      <td>5</td>\n",
       "      <td>The product was exactly what I expected and wa...</td>\n",
       "      <td>03-12-2017 00:00</td>\n",
       "      <td>05-12-2017 19:21</td>\n",
       "      <td>pet_shop</td>\n",
       "      <td>31842</td>\n",
       "      <td>belo horizonte</td>\n",
       "      <td>MG</td>\n",
       "      <td>pet_shop</td>\n",
       "    </tr>\n",
       "  </tbody>\n",
       "</table>\n",
       "<p>5 rows × 30 columns</p>\n",
       "</div>"
      ],
      "text/plain": [
       "                           order_id                       customer_id  \\\n",
       "0  e481f51cbdc54678b7cc49136f2d6af7  9ef432eb6251297304e76186b10a928d   \n",
       "1  e481f51cbdc54678b7cc49136f2d6af7  9ef432eb6251297304e76186b10a928d   \n",
       "2  e481f51cbdc54678b7cc49136f2d6af7  9ef432eb6251297304e76186b10a928d   \n",
       "3  53cdb2fc8bc7dce0b6741e2150273451  b0830fb4747a6c6d20dea0b8c802d7ef   \n",
       "4  949d5b44dbf5de918fe9c16f97b45f8a  f88197465ea7920adcdbec7375364d82   \n",
       "\n",
       "  order_status order_purchase_timestamp order_delivered_customer_date  \\\n",
       "0    delivered      2017-10-02 10:56:33           2017-10-10 21:25:13   \n",
       "1    delivered      2017-10-02 10:56:33           2017-10-10 21:25:13   \n",
       "2    delivered      2017-10-02 10:56:33           2017-10-10 21:25:13   \n",
       "3    delivered      2018-07-24 20:41:37           2018-08-07 15:27:45   \n",
       "4    delivered      2017-11-18 19:28:06           2017-12-02 00:28:42   \n",
       "\n",
       "  order_estimated_delivery_date  order_item_id  \\\n",
       "0           2017-10-18 00:00:00              1   \n",
       "1           2017-10-18 00:00:00              1   \n",
       "2           2017-10-18 00:00:00              1   \n",
       "3           2018-08-13 00:00:00              1   \n",
       "4           2017-12-15 00:00:00              1   \n",
       "\n",
       "                         product_id                         seller_id  \\\n",
       "0  87285b34884572647811a353c7ac498a  3504c0cb71d7fa48d967e0e4c94d59d9   \n",
       "1  87285b34884572647811a353c7ac498a  3504c0cb71d7fa48d967e0e4c94d59d9   \n",
       "2  87285b34884572647811a353c7ac498a  3504c0cb71d7fa48d967e0e4c94d59d9   \n",
       "3  595fac2a385ac33a80bd5114aec74eb8  289cdb325fb7e7f891c38608bf9e0962   \n",
       "4  d0b61bfb1de832b15ba9d266ca96e5b0  66922902710d126a0e7d26b0e3805106   \n",
       "\n",
       "   shipping_limit_date  ...                         review_id  review_score  \\\n",
       "0  2017-10-06 11:07:15  ...  a54f0611adc9ed256b57ede6b6eb5114             4   \n",
       "1  2017-10-06 11:07:15  ...  a54f0611adc9ed256b57ede6b6eb5114             4   \n",
       "2  2017-10-06 11:07:15  ...  a54f0611adc9ed256b57ede6b6eb5114             4   \n",
       "3  2018-07-30 03:24:27  ...  8d5266042046a06655c8db133d120ba5             4   \n",
       "4  2017-11-23 19:45:59  ...  359d03e676b3c069f62cadba8dd3f6e8             5   \n",
       "\n",
       "                              review_comment_message review_creation_date  \\\n",
       "0  I haven't tested the product yet, but it arriv...     11-10-2017 00:00   \n",
       "1  I haven't tested the product yet, but it arriv...     11-10-2017 00:00   \n",
       "2  I haven't tested the product yet, but it arriv...     11-10-2017 00:00   \n",
       "3                          The product is very good.     08-08-2018 00:00   \n",
       "4  The product was exactly what I expected and wa...     03-12-2017 00:00   \n",
       "\n",
       "   review_answer_timestamp  product_category_name seller_zip_code_prefix  \\\n",
       "0         12-10-2017 03:43  utilidades_domesticas                   9350   \n",
       "1         12-10-2017 03:43  utilidades_domesticas                   9350   \n",
       "2         12-10-2017 03:43  utilidades_domesticas                   9350   \n",
       "3         08-08-2018 18:37             perfumaria                  31570   \n",
       "4         05-12-2017 19:21               pet_shop                  31842   \n",
       "\n",
       "      seller_city seller_state product_category_name_english  \n",
       "0            maua           SP                    housewares  \n",
       "1            maua           SP                    housewares  \n",
       "2            maua           SP                    housewares  \n",
       "3  belo horizonte           SP                     perfumery  \n",
       "4  belo horizonte           MG                      pet_shop  \n",
       "\n",
       "[5 rows x 30 columns]"
      ]
     },
     "execution_count": 128,
     "metadata": {},
     "output_type": "execute_result"
    }
   ],
   "source": [
    "merged_df.head()"
   ]
  },
  {
   "cell_type": "code",
   "execution_count": 129,
   "id": "ee64ee1d",
   "metadata": {},
   "outputs": [],
   "source": [
    "merged_df.to_csv('merged_data.csv', index=False)"
   ]
  },
  {
   "cell_type": "code",
   "execution_count": 130,
   "id": "6893649c",
   "metadata": {},
   "outputs": [
    {
     "data": {
      "text/plain": [
       "(47331, 30)"
      ]
     },
     "execution_count": 130,
     "metadata": {},
     "output_type": "execute_result"
    }
   ],
   "source": [
    "merged_df.shape"
   ]
  },
  {
   "cell_type": "code",
   "execution_count": 131,
   "id": "1fbcaf48",
   "metadata": {},
   "outputs": [],
   "source": [
    "df=pd.read_csv('merged_data.csv')"
   ]
  },
  {
   "cell_type": "code",
   "execution_count": 132,
   "id": "2dc8440a",
   "metadata": {},
   "outputs": [
    {
     "data": {
      "text/plain": [
       "order_id                                          e481f51cbdc54678b7cc49136f2d6af7\n",
       "customer_id                                       9ef432eb6251297304e76186b10a928d\n",
       "order_status                                                             delivered\n",
       "order_purchase_timestamp                                       2017-10-02 10:56:33\n",
       "order_delivered_customer_date                                  2017-10-10 21:25:13\n",
       "order_estimated_delivery_date                                  2017-10-18 00:00:00\n",
       "order_item_id                                                                    1\n",
       "product_id                                        87285b34884572647811a353c7ac498a\n",
       "seller_id                                         3504c0cb71d7fa48d967e0e4c94d59d9\n",
       "shipping_limit_date                                            2017-10-06 11:07:15\n",
       "price                                                                        29.99\n",
       "freight_value                                                                 8.72\n",
       "payment_sequential                                                               3\n",
       "payment_type                                                               voucher\n",
       "payment_installments                                                             1\n",
       "payment_value                                                                  2.0\n",
       "customer_unique_id                                7c396fd4830fd04220f754e42b4e5bff\n",
       "customer_zip_code_prefix                                                      3149\n",
       "customer_city                                                            sao paulo\n",
       "customer_state                                                                  SP\n",
       "review_id                                         a54f0611adc9ed256b57ede6b6eb5114\n",
       "review_score                                                                     4\n",
       "review_comment_message           I haven't tested the product yet, but it arriv...\n",
       "review_creation_date                                              11-10-2017 00:00\n",
       "review_answer_timestamp                                           12-10-2017 03:43\n",
       "product_category_name                                        utilidades_domesticas\n",
       "seller_zip_code_prefix                                                        9350\n",
       "seller_city                                                                   maua\n",
       "seller_state                                                                    SP\n",
       "product_category_name_english                                           housewares\n",
       "Name: 1, dtype: object"
      ]
     },
     "execution_count": 132,
     "metadata": {},
     "output_type": "execute_result"
    }
   ],
   "source": [
    "df.iloc[1]"
   ]
  },
  {
   "cell_type": "code",
   "execution_count": null,
   "id": "c543fa58",
   "metadata": {},
   "outputs": [],
   "source": []
  },
  {
   "cell_type": "code",
   "execution_count": 133,
   "id": "ab9bd4f1",
   "metadata": {},
   "outputs": [
    {
     "data": {
      "text/plain": [
       "71"
      ]
     },
     "execution_count": 133,
     "metadata": {},
     "output_type": "execute_result"
    }
   ],
   "source": [
    "df['product_category_name_english'].nunique()"
   ]
  },
  {
   "cell_type": "code",
   "execution_count": 134,
   "id": "40b3cb7a-7a24-4964-9c66-9996a1dc93eb",
   "metadata": {},
   "outputs": [
    {
     "name": "stdout",
     "output_type": "stream",
     "text": [
      "Dataset shape: (47331, 2)\n"
     ]
    },
    {
     "data": {
      "text/html": [
       "<div>\n",
       "<style scoped>\n",
       "    .dataframe tbody tr th:only-of-type {\n",
       "        vertical-align: middle;\n",
       "    }\n",
       "\n",
       "    .dataframe tbody tr th {\n",
       "        vertical-align: top;\n",
       "    }\n",
       "\n",
       "    .dataframe thead th {\n",
       "        text-align: right;\n",
       "    }\n",
       "</style>\n",
       "<table border=\"1\" class=\"dataframe\">\n",
       "  <thead>\n",
       "    <tr style=\"text-align: right;\">\n",
       "      <th></th>\n",
       "      <th>score</th>\n",
       "      <th>comment</th>\n",
       "    </tr>\n",
       "  </thead>\n",
       "  <tbody>\n",
       "    <tr>\n",
       "      <th>0</th>\n",
       "      <td>4</td>\n",
       "      <td>I haven't tested the product yet, but it arriv...</td>\n",
       "    </tr>\n",
       "    <tr>\n",
       "      <th>1</th>\n",
       "      <td>4</td>\n",
       "      <td>I haven't tested the product yet, but it arriv...</td>\n",
       "    </tr>\n",
       "    <tr>\n",
       "      <th>2</th>\n",
       "      <td>4</td>\n",
       "      <td>I haven't tested the product yet, but it arriv...</td>\n",
       "    </tr>\n",
       "    <tr>\n",
       "      <th>3</th>\n",
       "      <td>4</td>\n",
       "      <td>The product is very good.</td>\n",
       "    </tr>\n",
       "    <tr>\n",
       "      <th>4</th>\n",
       "      <td>5</td>\n",
       "      <td>The product was exactly what I expected and wa...</td>\n",
       "    </tr>\n",
       "  </tbody>\n",
       "</table>\n",
       "</div>"
      ],
      "text/plain": [
       "   score                                            comment\n",
       "0      4  I haven't tested the product yet, but it arriv...\n",
       "1      4  I haven't tested the product yet, but it arriv...\n",
       "2      4  I haven't tested the product yet, but it arriv...\n",
       "3      4                          The product is very good.\n",
       "4      5  The product was exactly what I expected and wa..."
      ]
     },
     "execution_count": 134,
     "metadata": {},
     "output_type": "execute_result"
    }
   ],
   "source": [
    "df_comments = df.loc[:, ['review_score', 'review_comment_message']]\n",
    "df_comments = df_comments.dropna(subset=['review_comment_message'])\n",
    "df_comments = df_comments.reset_index(drop=True)\n",
    "print(f'Dataset shape: {df_comments.shape}')\n",
    "df_comments.columns = ['score', 'comment']\n",
    "df_comments.head()"
   ]
  },
  {
   "cell_type": "markdown",
   "id": "2fdf0a4c-64e6-4ffc-b045-7d227b22558c",
   "metadata": {},
   "source": [
    "# Regular Expressions"
   ]
  },
  {
   "cell_type": "code",
   "execution_count": 135,
   "id": "fe506b07-c796-418b-aeb1-8329bf213c70",
   "metadata": {},
   "outputs": [],
   "source": [
    "#Breakline and Carriage Return\n",
    "import re\n",
    "def re_breakline(text_list):\n",
    "    \"\"\"\n",
    "    Args:\n",
    "    ----------\n",
    "    text_list: list object with text content to be prepared [type: list]\n",
    "    \"\"\"\n",
    "    \n",
    "    # Applying regex\n",
    "    return [re.sub('[\\n\\r]', ' ', r) for r in text_list]"
   ]
  },
  {
   "cell_type": "code",
   "execution_count": 136,
   "id": "5eb8b894-a9de-428b-916f-7ecb6d7dccdf",
   "metadata": {},
   "outputs": [
    {
     "name": "stdout",
     "output_type": "stream",
     "text": [
      "Original[0]: I haven't tested the product yet, but it arrived correct and in good condition. Just the box that came very dented and damaged, which will be annoying, as it is a gift.\n",
      "Modified[0]: I haven't tested the product yet, but it arrived correct and in good condition. Just the box that came very dented and damaged, which will be annoying, as it is a gift.\n",
      "\n",
      "Original[9]: the post office is on strike... I didn't receive any notice of delay, but in any case the company responsible should give some response about the delay.\n",
      "Modified[9]: the post office is on strike... I didn't receive any notice of delay, but in any case the company responsible should give some response about the delay.\n",
      "\n",
      "Original[49]: It arrived ahead of schedule and the product is exactly what I wanted\n",
      "Modified[49]: It arrived ahead of schedule and the product is exactly what I wanted\n",
      "\n"
     ]
    }
   ],
   "source": [
    "# Creating a list of comment reviews\n",
    "reviews = list(df_comments['comment'].values)\n",
    "\n",
    "# Applying RegEx\n",
    "reviews_breakline = re_breakline(reviews)\n",
    "df_comments['re_breakline'] = reviews_breakline\n",
    "\n",
    "def print_step_result(original_list, modified_list, idx_list):\n",
    "    \"\"\"\n",
    "    Prints the original and modified text at specified indices for verification.\n",
    "\n",
    "    Args:\n",
    "    original_list: list\n",
    "        List containing original text.\n",
    "    \n",
    "    modified_list: list\n",
    "        List containing modified text.\n",
    "    \n",
    "    idx_list: list\n",
    "        List of indices to be verified.\n",
    "    \"\"\"\n",
    "    for idx in idx_list:\n",
    "        print(f\"Original[{idx}]: {original_list[idx]}\")\n",
    "        print(f\"Modified[{idx}]: {modified_list[idx]}\")\n",
    "        print()\n",
    "\n",
    "# Verifying results\n",
    "print_step_result(reviews, reviews_breakline, idx_list=[0, 9, 49])"
   ]
  },
  {
   "cell_type": "code",
   "execution_count": 137,
   "id": "63fd7128-262d-42ff-be39-a7a57ed6b3d8",
   "metadata": {},
   "outputs": [
    {
     "name": "stderr",
     "output_type": "stream",
     "text": [
      "<>:10: SyntaxWarning: invalid escape sequence '\\('\n",
      "<>:10: SyntaxWarning: invalid escape sequence '\\('\n",
      "C:\\Users\\Hp\\AppData\\Local\\Temp\\ipykernel_14220\\3046921371.py:10: SyntaxWarning: invalid escape sequence '\\('\n",
      "  pattern = 'http[s]?://(?:[a-zA-Z]|[0-9]|[$-_@.&+]|[!*\\(\\),]|(?:%[0-9a-fA-F][0-9a-fA-F]))+'\n"
     ]
    }
   ],
   "source": [
    "#Sites and Hiperlinks\n",
    "def re_hiperlinks(text_list):\n",
    "    \"\"\"\n",
    "    Args:\n",
    "    text_list: list object with text content to be prepared [type: list]\n",
    "    \"\"\"\n",
    "    \n",
    "    # Applying regex\n",
    "    pattern = 'http[s]?://(?:[a-zA-Z]|[0-9]|[$-_@.&+]|[!*\\(\\),]|(?:%[0-9a-fA-F][0-9a-fA-F]))+'\n",
    "    return [re.sub(pattern, ' link ', r) for r in text_list]"
   ]
  },
  {
   "cell_type": "code",
   "execution_count": 138,
   "id": "b0e313c2-1b84-426a-ab3b-2a09d5cd7454",
   "metadata": {},
   "outputs": [
    {
     "name": "stdout",
     "output_type": "stream",
     "text": [
      "Original[10796]: Excellent, it looks beautiful on my Boris, I highly recommend it. Great quality merchandise, products were delivered before the scheduled deadline\n",
      "Modified[10796]: Excellent, it looks beautiful on my Boris, I highly recommend it. Great quality merchandise, products were delivered before the scheduled deadline\n",
      "\n",
      "Original[12782]: medium quality product\n",
      "Modified[12782]: medium quality product\n",
      "\n"
     ]
    }
   ],
   "source": [
    "# Applying RegEx\n",
    "reviews_hiperlinks = re_hiperlinks(reviews_breakline)\n",
    "df_comments['re_hiperlinks'] = reviews_hiperlinks\n",
    "\n",
    "# Verifying results\n",
    "print_step_result(reviews_breakline, reviews_hiperlinks, idx_list=[10796, 12782])"
   ]
  },
  {
   "cell_type": "code",
   "execution_count": 139,
   "id": "56dad50d-cff7-4817-9220-2ba88d5f0cd0",
   "metadata": {},
   "outputs": [
    {
     "name": "stderr",
     "output_type": "stream",
     "text": [
      "<>:10: SyntaxWarning: invalid escape sequence '\\/'\n",
      "<>:10: SyntaxWarning: invalid escape sequence '\\/'\n",
      "C:\\Users\\Hp\\AppData\\Local\\Temp\\ipykernel_14220\\3215900726.py:10: SyntaxWarning: invalid escape sequence '\\/'\n",
      "  pattern = '([0-2][0-9]|(3)[0-1])(\\/|\\.)(((0)[0-9])|((1)[0-2]))(\\/|\\.)\\d{2,4}'\n"
     ]
    }
   ],
   "source": [
    "#Dates\n",
    "def re_dates(text_list):\n",
    "    \"\"\"\n",
    "    Args:\n",
    "    ----------\n",
    "    text_list: list object with text content to be prepared [type: list]\n",
    "    \"\"\"\n",
    "    \n",
    "    # Applying regex\n",
    "    pattern = '([0-2][0-9]|(3)[0-1])(\\/|\\.)(((0)[0-9])|((1)[0-2]))(\\/|\\.)\\d{2,4}'\n",
    "    return [re.sub(pattern, ' data ', r) for r in text_list]"
   ]
  },
  {
   "cell_type": "code",
   "execution_count": 140,
   "id": "87b718b4-3fdc-4a63-bb06-ba75b3ea7c1d",
   "metadata": {},
   "outputs": [
    {
     "name": "stdout",
     "output_type": "stream",
     "text": [
      "Original[26665]: The product I received is not the color I purchased. I have already requested a return.\n",
      "Modified[26665]: The product I received is not the color I purchased. I have already requested a return.\n",
      "\n",
      "Original[41497]: I received it before the deadline\n",
      "Modified[41497]: I received it before the deadline\n",
      "\n",
      "Original[41674]: I purchased one product but received another.\n",
      "Modified[41674]: I purchased one product but received another.\n",
      "\n"
     ]
    }
   ],
   "source": [
    "# Applying RegEx\n",
    "reviews_dates = re_dates(reviews_hiperlinks)\n",
    "df_comments['re_dates'] = reviews_dates\n",
    "\n",
    "# Verifying results\n",
    "print_step_result(reviews_hiperlinks, reviews_dates, idx_list=[26665, 41497, 41674])"
   ]
  },
  {
   "cell_type": "code",
   "execution_count": 141,
   "id": "1a1903a8-dc50-41e3-9508-7236b9ea5b66",
   "metadata": {},
   "outputs": [
    {
     "name": "stderr",
     "output_type": "stream",
     "text": [
      "<>:10: SyntaxWarning: invalid escape sequence '\\$'\n",
      "<>:10: SyntaxWarning: invalid escape sequence '\\$'\n",
      "C:\\Users\\Hp\\AppData\\Local\\Temp\\ipykernel_14220\\2493006721.py:10: SyntaxWarning: invalid escape sequence '\\$'\n",
      "  pattern = '[R]{0,1}\\$[ ]{0,}\\d+(,|\\.)\\d+'\n"
     ]
    }
   ],
   "source": [
    "#Money\n",
    "def re_money(text_list):\n",
    "    \"\"\"\n",
    "    Args:\n",
    "    ----------\n",
    "    text_list: list object with text content to be prepared [type: list]\n",
    "    \"\"\"\n",
    "    \n",
    "    # Applying regex\n",
    "    pattern = '[R]{0,1}\\$[ ]{0,}\\d+(,|\\.)\\d+'\n",
    "    return [re.sub(pattern, ' dinheiro ', r) for r in text_list]"
   ]
  },
  {
   "cell_type": "code",
   "execution_count": 142,
   "id": "5fec8ad0-e4aa-455c-9620-169b6b11f348",
   "metadata": {},
   "outputs": [
    {
     "name": "stdout",
     "output_type": "stream",
     "text": [
      "Original[26020]: The delivery was made to a neighbor's house and the courier did not notify us.\n",
      "Modified[26020]: The delivery was made to a neighbor's house and the courier did not notify us.\n",
      "\n",
      "Original[33297]: 1 unit is missing\n",
      "Modified[33297]: 1 unit is missing\n",
      "\n",
      "Original[32998]: Satisfactory doll\n",
      "Modified[32998]: Satisfactory doll\n",
      "\n"
     ]
    }
   ],
   "source": [
    "# Applying RegEx\n",
    "reviews_money = re_money(reviews_dates)\n",
    "df_comments['re_money'] = reviews_money\n",
    "\n",
    "# Verifying results\n",
    "print_step_result(reviews_dates, reviews_money, idx_list=[26020, 33297, 32998])"
   ]
  },
  {
   "cell_type": "code",
   "execution_count": 143,
   "id": "3845e0c9-a599-4053-974f-c6c7bbb997a0",
   "metadata": {},
   "outputs": [],
   "source": [
    "#Numbers\n",
    "def re_numbers(text_list):\n",
    "    \"\"\"\n",
    "    Args:\n",
    "    ----------\n",
    "    text_series: list object with text content to be prepared [type: list]\n",
    "    \"\"\"\n",
    "    \n",
    "    # Applying regex\n",
    "    return [re.sub('[0-9]+', ' numero ', r) for r in text_list]"
   ]
  },
  {
   "cell_type": "code",
   "execution_count": 144,
   "id": "1c9f3c09-53b4-4eac-b858-04d17cecc953",
   "metadata": {},
   "outputs": [
    {
     "name": "stdout",
     "output_type": "stream",
     "text": [
      "Original[68]: I think I should send the products together, since on the invoice they were together and they are the same lights and not send them almost a week later due to the difference.\n",
      "Modified[68]: I think I should send the products together, since on the invoice they were together and they are the same lights and not send them almost a week later due to the difference.\n",
      "\n"
     ]
    }
   ],
   "source": [
    "# Applying RegEx\n",
    "reviews_numbers = re_numbers(reviews_money)\n",
    "df_comments['re_numbers'] = reviews_numbers\n",
    "\n",
    "# Verifying results\n",
    "print_step_result(reviews_money, reviews_numbers, idx_list=[68])"
   ]
  },
  {
   "cell_type": "code",
   "execution_count": 145,
   "id": "78c8329d-98ce-4e37-a1d6-75586aa2f7fd",
   "metadata": {},
   "outputs": [],
   "source": [
    "#Negation\n",
    "\n",
    "def re_negation(text_list):\n",
    "    \"\"\"\n",
    "    Args:\n",
    "    ----------\n",
    "    text_series: list object with text content to be prepared [type: list]\n",
    "    \"\"\"\n",
    "    \n",
    "    # Applying regex\n",
    "    return [re.sub('([nN][ãÃaA][oO]|[ñÑ]| [nN] )', ' negação ', r) for r in text_list]"
   ]
  },
  {
   "cell_type": "code",
   "execution_count": 146,
   "id": "8a2523d8-e38f-457d-a3e3-f5c0ebac54fa",
   "metadata": {},
   "outputs": [
    {
     "name": "stdout",
     "output_type": "stream",
     "text": [
      "Original[4783]: It's been more than  numero  month since I placed the order, paid by invoice and I haven't received the product. Don't buy it.\n",
      "Modified[4783]: It's been more than  numero  month since I placed the order, paid by invoice and I haven't received the product. Don't buy it.\n",
      "\n",
      "Original[4627]: As for the product, nothing to complain about, but the Targaryen delivery company took a long time to separate and deliver the product, I bought another product from another company and it arrived much earlier!\n",
      "Modified[4627]: As for the product, nothing to complain about, but the Targaryen delivery company took a long time to separate and deliver the product, I bought another product from another company and it arrived much earlier!\n",
      "\n",
      "Original[4856]: Fragile product, came chipped and just broke on the first attempt to use.\n",
      "Modified[4856]: Fragile product, came chipped and just broke on the first attempt to use.\n",
      "\n",
      "Original[4904]: I did not receive my product!\n",
      "Modified[4904]: I did not receive my product!\n",
      "\n"
     ]
    }
   ],
   "source": [
    "# Applying RegEx\n",
    "reviews_negation = re_negation(reviews_numbers)\n",
    "df_comments['re_negation'] = reviews_negation\n",
    "\n",
    "# Verifying results\n",
    "print_step_result(reviews_numbers, reviews_negation, idx_list=[4783, 4627, 4856, 4904])"
   ]
  },
  {
   "cell_type": "code",
   "execution_count": 147,
   "id": "9eea5d65-71c6-4c96-8627-502f38c3a123",
   "metadata": {},
   "outputs": [
    {
     "name": "stderr",
     "output_type": "stream",
     "text": [
      "<>:10: SyntaxWarning: invalid escape sequence '\\W'\n",
      "<>:10: SyntaxWarning: invalid escape sequence '\\W'\n",
      "C:\\Users\\Hp\\AppData\\Local\\Temp\\ipykernel_14220\\2656665227.py:10: SyntaxWarning: invalid escape sequence '\\W'\n",
      "  return [re.sub('\\W', ' ', r) for r in text_list]\n"
     ]
    }
   ],
   "source": [
    "#Special Characters\n",
    "def re_special_chars(text_list):\n",
    "    \"\"\"\n",
    "    Args:\n",
    "    ----------\n",
    "    text_series: list object with text content to be prepared [type: list]\n",
    "    \"\"\"\n",
    "    \n",
    "    # Applying regex\n",
    "    return [re.sub('\\W', ' ', r) for r in text_list]"
   ]
  },
  {
   "cell_type": "code",
   "execution_count": 148,
   "id": "5608d270-aa33-44f9-9bfe-4d732236f429",
   "metadata": {},
   "outputs": [
    {
     "name": "stdout",
     "output_type": "stream",
     "text": [
      "Original[45]: The store offered the other products but did not deliver.\n",
      "Modified[45]: The store offered the other products but did not deliver \n",
      "\n",
      "Original[135]: I have another sling from another brand with much softer, more malleable and pleasant fabric\n",
      "Modified[135]: I have another sling from another brand with much softer  more malleable and pleasant fabric\n",
      "\n",
      "Original[234]: I've always bought from Baratheon and never had any problems, but the last two purchases left something to be desired. .\n",
      "Modified[234]: I ve always bought from Baratheon and never had any problems  but the last two purchases left something to be desired   \n",
      "\n"
     ]
    }
   ],
   "source": [
    "# Applying RegEx\n",
    "reviews_special_chars = re_special_chars(reviews_negation)\n",
    "df_comments['re_special_chars'] = reviews_special_chars\n",
    "\n",
    "# Verifying results\n",
    "print_step_result(reviews_negation, reviews_special_chars, idx_list=[45, 135, 234])"
   ]
  },
  {
   "cell_type": "code",
   "execution_count": 149,
   "id": "0441ad85-1f9d-4835-9f37-91c6d311b743",
   "metadata": {},
   "outputs": [
    {
     "name": "stderr",
     "output_type": "stream",
     "text": [
      "<>:10: SyntaxWarning: invalid escape sequence '\\s'\n",
      "<>:10: SyntaxWarning: invalid escape sequence '\\s'\n",
      "C:\\Users\\Hp\\AppData\\Local\\Temp\\ipykernel_14220\\517935289.py:10: SyntaxWarning: invalid escape sequence '\\s'\n",
      "  white_spaces = [re.sub('\\s+', ' ', r) for r in text_list]\n"
     ]
    }
   ],
   "source": [
    "# Additional Whitespaces\n",
    "def re_whitespaces(text_list):\n",
    "    \"\"\"\n",
    "    Args:\n",
    "    ----------\n",
    "    text_series: list object with text content to be prepared [type: list]\n",
    "    \"\"\"\n",
    "    \n",
    "    # Applying regex\n",
    "    white_spaces = [re.sub('\\s+', ' ', r) for r in text_list]\n",
    "    white_spaces_end = [re.sub('[ \\t]+$', '', r) for r in white_spaces]\n",
    "    return white_spaces_end"
   ]
  },
  {
   "cell_type": "code",
   "execution_count": 150,
   "id": "ade48d58-4e86-44cd-87d5-51dfccf5e5c3",
   "metadata": {},
   "outputs": [
    {
     "name": "stdout",
     "output_type": "stream",
     "text": [
      "Original[3]: The product is very good \n",
      "Modified[3]: The product is very good\n",
      "\n",
      "Original[4]: The product was exactly what I expected and was described on the website and arrived well before the expected date \n",
      "Modified[4]: The product was exactly what I expected and was described on the website and arrived well before the expected date\n",
      "\n",
      "Original[-1]: Only  numero  was delivered  I want to know about the other product \n",
      "Modified[-1]: Only numero was delivered I want to know about the other product\n",
      "\n"
     ]
    }
   ],
   "source": [
    "# Applying RegEx\n",
    "reviews_whitespaces = re_whitespaces(reviews_special_chars)\n",
    "df_comments['re_whitespaces'] = reviews_whitespaces\n",
    "\n",
    "# Verifying results\n",
    "print_step_result(reviews_special_chars, reviews_whitespaces, idx_list=[3, 4, -1])"
   ]
  },
  {
   "cell_type": "code",
   "execution_count": 151,
   "id": "2136db95-10c5-421b-9c02-366a77922f05",
   "metadata": {},
   "outputs": [
    {
     "name": "stdout",
     "output_type": "stream",
     "text": [
      "Requirement already satisfied: nltk in c:\\users\\hp\\appdata\\local\\programs\\python\\python312\\lib\\site-packages (3.8.1)\n",
      "Requirement already satisfied: click in c:\\users\\hp\\appdata\\local\\programs\\python\\python312\\lib\\site-packages (from nltk) (8.1.7)\n",
      "Requirement already satisfied: joblib in c:\\users\\hp\\appdata\\local\\programs\\python\\python312\\lib\\site-packages (from nltk) (1.4.2)\n",
      "Requirement already satisfied: regex>=2021.8.3 in c:\\users\\hp\\appdata\\local\\programs\\python\\python312\\lib\\site-packages (from nltk) (2024.7.24)\n",
      "Requirement already satisfied: tqdm in c:\\users\\hp\\appdata\\local\\programs\\python\\python312\\lib\\site-packages (from nltk) (4.66.5)\n",
      "Requirement already satisfied: colorama in c:\\users\\hp\\appdata\\local\\programs\\python\\python312\\lib\\site-packages (from click->nltk) (0.4.6)\n",
      "Note: you may need to restart the kernel to use updated packages.\n"
     ]
    },
    {
     "name": "stderr",
     "output_type": "stream",
     "text": [
      "\n",
      "[notice] A new release of pip is available: 24.0 -> 24.2\n",
      "[notice] To update, run: python.exe -m pip install --upgrade pip\n"
     ]
    }
   ],
   "source": [
    "pip install nltk"
   ]
  },
  {
   "cell_type": "code",
   "execution_count": 152,
   "id": "451a00d9-995c-4c49-b004-9b695862a223",
   "metadata": {},
   "outputs": [
    {
     "name": "stderr",
     "output_type": "stream",
     "text": [
      "[nltk_data] Downloading package stopwords to\n",
      "[nltk_data]     C:\\Users\\Hp\\AppData\\Roaming\\nltk_data...\n",
      "[nltk_data]   Package stopwords is already up-to-date!\n"
     ]
    },
    {
     "data": {
      "text/plain": [
       "True"
      ]
     },
     "execution_count": 152,
     "metadata": {},
     "output_type": "execute_result"
    }
   ],
   "source": [
    "import nltk\n",
    "nltk.download('stopwords')"
   ]
  },
  {
   "cell_type": "code",
   "execution_count": 153,
   "id": "b6084da7-6b28-47e4-a0ba-b7da28c8a161",
   "metadata": {},
   "outputs": [
    {
     "name": "stdout",
     "output_type": "stream",
     "text": [
      "Total English stopwords in the nltk.corpus module: 179\n"
     ]
    },
    {
     "data": {
      "text/plain": [
       "['i', 'me', 'my', 'myself', 'we', 'our', 'ours', 'ourselves', 'you', \"you're\"]"
      ]
     },
     "execution_count": 153,
     "metadata": {},
     "output_type": "execute_result"
    }
   ],
   "source": [
    "#Stopwords\n",
    "from nltk.corpus import stopwords\n",
    "\n",
    "# Examples of some English stopwords\n",
    "en_stopwords = stopwords.words('english')\n",
    "print(f'Total English stopwords in the nltk.corpus module: {len(en_stopwords)}')\n",
    "en_stopwords[:10]"
   ]
  },
  {
   "cell_type": "code",
   "execution_count": 154,
   "id": "54b9d929-8381-445e-94b9-76a51a4cae9b",
   "metadata": {},
   "outputs": [
    {
     "name": "stderr",
     "output_type": "stream",
     "text": [
      "[nltk_data] Downloading package stopwords to\n",
      "[nltk_data]     C:\\Users\\Hp\\AppData\\Roaming\\nltk_data...\n",
      "[nltk_data]   Package stopwords is already up-to-date!\n"
     ]
    },
    {
     "name": "stdout",
     "output_type": "stream",
     "text": [
      "\n",
      "DataFrame with Stopwords Removed and Lowercased:\n"
     ]
    },
    {
     "data": {
      "text/html": [
       "<div>\n",
       "<style scoped>\n",
       "    .dataframe tbody tr th:only-of-type {\n",
       "        vertical-align: middle;\n",
       "    }\n",
       "\n",
       "    .dataframe tbody tr th {\n",
       "        vertical-align: top;\n",
       "    }\n",
       "\n",
       "    .dataframe thead th {\n",
       "        text-align: right;\n",
       "    }\n",
       "</style>\n",
       "<table border=\"1\" class=\"dataframe\">\n",
       "  <thead>\n",
       "    <tr style=\"text-align: right;\">\n",
       "      <th></th>\n",
       "      <th>re_whitespaces</th>\n",
       "      <th>no_stopwords</th>\n",
       "    </tr>\n",
       "  </thead>\n",
       "  <tbody>\n",
       "    <tr>\n",
       "      <th>0</th>\n",
       "      <td>I haven t tested the product yet but it arrive...</td>\n",
       "      <td>tested product yet arrived correct good condit...</td>\n",
       "    </tr>\n",
       "    <tr>\n",
       "      <th>1</th>\n",
       "      <td>I haven t tested the product yet but it arrive...</td>\n",
       "      <td>tested product yet arrived correct good condit...</td>\n",
       "    </tr>\n",
       "    <tr>\n",
       "      <th>2</th>\n",
       "      <td>I haven t tested the product yet but it arrive...</td>\n",
       "      <td>tested product yet arrived correct good condit...</td>\n",
       "    </tr>\n",
       "    <tr>\n",
       "      <th>3</th>\n",
       "      <td>The product is very good</td>\n",
       "      <td>product good</td>\n",
       "    </tr>\n",
       "    <tr>\n",
       "      <th>4</th>\n",
       "      <td>The product was exactly what I expected and wa...</td>\n",
       "      <td>product exactly expected described website arr...</td>\n",
       "    </tr>\n",
       "    <tr>\n",
       "      <th>...</th>\n",
       "      <td>...</td>\n",
       "      <td>...</td>\n",
       "    </tr>\n",
       "    <tr>\n",
       "      <th>47326</th>\n",
       "      <td>It is not a mini cajon it is a shaker that is ...</td>\n",
       "      <td>mini cajon shaker rattle imitates cajon terrible</td>\n",
       "    </tr>\n",
       "    <tr>\n",
       "      <th>47327</th>\n",
       "      <td>It s just a piece that arrived cracked but it ...</td>\n",
       "      <td>piece arrived cracked ok lol</td>\n",
       "    </tr>\n",
       "    <tr>\n",
       "      <th>47328</th>\n",
       "      <td>It was delivered ahead of schedule</td>\n",
       "      <td>delivered ahead schedule</td>\n",
       "    </tr>\n",
       "    <tr>\n",
       "      <th>47329</th>\n",
       "      <td>Only numero was delivered I want to know about...</td>\n",
       "      <td>numero delivered want know product</td>\n",
       "    </tr>\n",
       "    <tr>\n",
       "      <th>47330</th>\n",
       "      <td>Only numero was delivered I want to know about...</td>\n",
       "      <td>numero delivered want know product</td>\n",
       "    </tr>\n",
       "  </tbody>\n",
       "</table>\n",
       "<p>47331 rows × 2 columns</p>\n",
       "</div>"
      ],
      "text/plain": [
       "                                          re_whitespaces  \\\n",
       "0      I haven t tested the product yet but it arrive...   \n",
       "1      I haven t tested the product yet but it arrive...   \n",
       "2      I haven t tested the product yet but it arrive...   \n",
       "3                               The product is very good   \n",
       "4      The product was exactly what I expected and wa...   \n",
       "...                                                  ...   \n",
       "47326  It is not a mini cajon it is a shaker that is ...   \n",
       "47327  It s just a piece that arrived cracked but it ...   \n",
       "47328                 It was delivered ahead of schedule   \n",
       "47329  Only numero was delivered I want to know about...   \n",
       "47330  Only numero was delivered I want to know about...   \n",
       "\n",
       "                                            no_stopwords  \n",
       "0      tested product yet arrived correct good condit...  \n",
       "1      tested product yet arrived correct good condit...  \n",
       "2      tested product yet arrived correct good condit...  \n",
       "3                                           product good  \n",
       "4      product exactly expected described website arr...  \n",
       "...                                                  ...  \n",
       "47326   mini cajon shaker rattle imitates cajon terrible  \n",
       "47327                       piece arrived cracked ok lol  \n",
       "47328                           delivered ahead schedule  \n",
       "47329                 numero delivered want know product  \n",
       "47330                 numero delivered want know product  \n",
       "\n",
       "[47331 rows x 2 columns]"
      ]
     },
     "execution_count": 154,
     "metadata": {},
     "output_type": "execute_result"
    }
   ],
   "source": [
    "import pandas as pd\n",
    "from nltk.corpus import stopwords\n",
    "import nltk\n",
    "\n",
    "# Ensure stopwords data is downloaded\n",
    "nltk.download('stopwords')\n",
    "\n",
    "# Define the function to remove stopwords and convert to lowercase\n",
    "def stopwords_removal(text, cached_stopwords=stopwords.words('english')):\n",
    "    \"\"\"\n",
    "    Removes stopwords from a given text and converts it to lowercase.\n",
    "\n",
    "    Args:\n",
    "    ----------\n",
    "    text: str\n",
    "        The text from which stopwords will be removed.\n",
    "    cached_stopwords: list\n",
    "        A list of stopwords to remove from the text. Default is English stopwords from NLTK.\n",
    "    \n",
    "    Returns:\n",
    "    ----------\n",
    "    str\n",
    "        The text with stopwords removed and converted to lowercase.\n",
    "    \"\"\"\n",
    "    # Ensure the input is a string\n",
    "    if not isinstance(text, str):\n",
    "        return text\n",
    "    \n",
    "    # Tokenize the text, remove stopwords, and convert to lowercase\n",
    "    filtered_words = [word.lower() for word in text.split() if word.lower() not in cached_stopwords]\n",
    "    # Join words back into a single string\n",
    "    return ' '.join(filtered_words)\n",
    "\n",
    "# Load English stopwords\n",
    "cached_stopwords = stopwords.words('english')\n",
    "\n",
    "\n",
    "# Apply the function to the customer_comments column\n",
    "df_comments['no_stopwords'] = df_comments['re_whitespaces'].apply(lambda x: stopwords_removal(x, cached_stopwords))\n",
    "\n",
    "# Print the DataFrame with the new column\n",
    "print(\"\\nDataFrame with Stopwords Removed and Lowercased:\")\n",
    "df_comments[['re_whitespaces', 'no_stopwords']]"
   ]
  },
  {
   "cell_type": "code",
   "execution_count": 155,
   "id": "de16375e-db78-4434-8c33-9d53132e1d98",
   "metadata": {},
   "outputs": [
    {
     "name": "stderr",
     "output_type": "stream",
     "text": [
      "[nltk_data] Downloading package wordnet to\n",
      "[nltk_data]     C:\\Users\\Hp\\AppData\\Roaming\\nltk_data...\n",
      "[nltk_data]   Package wordnet is already up-to-date!\n",
      "[nltk_data] Downloading package omw-1.4 to\n",
      "[nltk_data]     C:\\Users\\Hp\\AppData\\Roaming\\nltk_data...\n",
      "[nltk_data]   Package omw-1.4 is already up-to-date!\n",
      "[nltk_data] Downloading package averaged_perceptron_tagger to\n",
      "[nltk_data]     C:\\Users\\Hp\\AppData\\Roaming\\nltk_data...\n",
      "[nltk_data]   Package averaged_perceptron_tagger is already up-to-\n",
      "[nltk_data]       date!\n"
     ]
    },
    {
     "name": "stdout",
     "output_type": "stream",
     "text": [
      "\n",
      "DataFrame with Lemmatization Applied:\n"
     ]
    },
    {
     "data": {
      "text/html": [
       "<div>\n",
       "<style scoped>\n",
       "    .dataframe tbody tr th:only-of-type {\n",
       "        vertical-align: middle;\n",
       "    }\n",
       "\n",
       "    .dataframe tbody tr th {\n",
       "        vertical-align: top;\n",
       "    }\n",
       "\n",
       "    .dataframe thead th {\n",
       "        text-align: right;\n",
       "    }\n",
       "</style>\n",
       "<table border=\"1\" class=\"dataframe\">\n",
       "  <thead>\n",
       "    <tr style=\"text-align: right;\">\n",
       "      <th></th>\n",
       "      <th>no_stopwords</th>\n",
       "      <th>lemmatized_comments</th>\n",
       "      <th>score</th>\n",
       "    </tr>\n",
       "  </thead>\n",
       "  <tbody>\n",
       "    <tr>\n",
       "      <th>0</th>\n",
       "      <td>tested product yet arrived correct good condit...</td>\n",
       "      <td>test product yet arrive correct good condition...</td>\n",
       "      <td>4</td>\n",
       "    </tr>\n",
       "    <tr>\n",
       "      <th>1</th>\n",
       "      <td>tested product yet arrived correct good condit...</td>\n",
       "      <td>test product yet arrive correct good condition...</td>\n",
       "      <td>4</td>\n",
       "    </tr>\n",
       "    <tr>\n",
       "      <th>2</th>\n",
       "      <td>tested product yet arrived correct good condit...</td>\n",
       "      <td>test product yet arrive correct good condition...</td>\n",
       "      <td>4</td>\n",
       "    </tr>\n",
       "    <tr>\n",
       "      <th>3</th>\n",
       "      <td>product good</td>\n",
       "      <td>product good</td>\n",
       "      <td>4</td>\n",
       "    </tr>\n",
       "    <tr>\n",
       "      <th>4</th>\n",
       "      <td>product exactly expected described website arr...</td>\n",
       "      <td>product exactly expect described website arriv...</td>\n",
       "      <td>5</td>\n",
       "    </tr>\n",
       "    <tr>\n",
       "      <th>...</th>\n",
       "      <td>...</td>\n",
       "      <td>...</td>\n",
       "      <td>...</td>\n",
       "    </tr>\n",
       "    <tr>\n",
       "      <th>47326</th>\n",
       "      <td>mini cajon shaker rattle imitates cajon terrible</td>\n",
       "      <td>mini cajon shaker rattle imitates cajon terrible</td>\n",
       "      <td>1</td>\n",
       "    </tr>\n",
       "    <tr>\n",
       "      <th>47327</th>\n",
       "      <td>piece arrived cracked ok lol</td>\n",
       "      <td>piece arrive crack ok lol</td>\n",
       "      <td>4</td>\n",
       "    </tr>\n",
       "    <tr>\n",
       "      <th>47328</th>\n",
       "      <td>delivered ahead schedule</td>\n",
       "      <td>deliver ahead schedule</td>\n",
       "      <td>5</td>\n",
       "    </tr>\n",
       "    <tr>\n",
       "      <th>47329</th>\n",
       "      <td>numero delivered want know product</td>\n",
       "      <td>numero deliver want know product</td>\n",
       "      <td>2</td>\n",
       "    </tr>\n",
       "    <tr>\n",
       "      <th>47330</th>\n",
       "      <td>numero delivered want know product</td>\n",
       "      <td>numero deliver want know product</td>\n",
       "      <td>2</td>\n",
       "    </tr>\n",
       "  </tbody>\n",
       "</table>\n",
       "<p>47331 rows × 3 columns</p>\n",
       "</div>"
      ],
      "text/plain": [
       "                                            no_stopwords  \\\n",
       "0      tested product yet arrived correct good condit...   \n",
       "1      tested product yet arrived correct good condit...   \n",
       "2      tested product yet arrived correct good condit...   \n",
       "3                                           product good   \n",
       "4      product exactly expected described website arr...   \n",
       "...                                                  ...   \n",
       "47326   mini cajon shaker rattle imitates cajon terrible   \n",
       "47327                       piece arrived cracked ok lol   \n",
       "47328                           delivered ahead schedule   \n",
       "47329                 numero delivered want know product   \n",
       "47330                 numero delivered want know product   \n",
       "\n",
       "                                     lemmatized_comments  score  \n",
       "0      test product yet arrive correct good condition...      4  \n",
       "1      test product yet arrive correct good condition...      4  \n",
       "2      test product yet arrive correct good condition...      4  \n",
       "3                                           product good      4  \n",
       "4      product exactly expect described website arriv...      5  \n",
       "...                                                  ...    ...  \n",
       "47326   mini cajon shaker rattle imitates cajon terrible      1  \n",
       "47327                          piece arrive crack ok lol      4  \n",
       "47328                             deliver ahead schedule      5  \n",
       "47329                   numero deliver want know product      2  \n",
       "47330                   numero deliver want know product      2  \n",
       "\n",
       "[47331 rows x 3 columns]"
      ]
     },
     "execution_count": 155,
     "metadata": {},
     "output_type": "execute_result"
    }
   ],
   "source": [
    "import pandas as pd\n",
    "from nltk.stem import WordNetLemmatizer\n",
    "from nltk.corpus import wordnet\n",
    "import nltk\n",
    "\n",
    "# Ensure NLTK data is downloaded\n",
    "nltk.download('wordnet')\n",
    "nltk.download('omw-1.4')\n",
    "nltk.download('averaged_perceptron_tagger')\n",
    "\n",
    "# Initialize the lemmatizer\n",
    "lemmatizer = WordNetLemmatizer()\n",
    "\n",
    "# Function to get the part of speech tag\n",
    "def get_wordnet_pos(word):\n",
    "    tag = nltk.pos_tag([word])[0][1][0].upper()\n",
    "    tag_dict = {\"J\": wordnet.ADJ, \"N\": wordnet.NOUN, \"V\": wordnet.VERB, \"R\": wordnet.ADV}\n",
    "    return tag_dict.get(tag, wordnet.NOUN)\n",
    "\n",
    "# Define the function to apply lemmatization\n",
    "def lemmatization_process(text, lemmatizer=WordNetLemmatizer()):\n",
    "    \"\"\"\n",
    "    Applies lemmatization to the given text.\n",
    "\n",
    "    Args:\n",
    "    ----------\n",
    "    text: str\n",
    "        The text to be lemmatized.\n",
    "    lemmatizer: object\n",
    "        The lemmatizer to use for lemmatizing words. Default is WordNetLemmatizer.\n",
    "    \n",
    "    Returns:\n",
    "    ----------\n",
    "    str\n",
    "        The text with lemmatization applied.\n",
    "    \"\"\"\n",
    "    \n",
    "    if not isinstance(text, str):\n",
    "        return text\n",
    "    \n",
    "    # Apply lemmatization\n",
    "    return ' '.join(lemmatizer.lemmatize(word, get_wordnet_pos(word)) for word in text.split())\n",
    "\n",
    "# Apply the function to the customer_comments column\n",
    "df_comments['lemmatized_comments'] = df_comments['no_stopwords'].apply(lambda x: lemmatization_process(x, lemmatizer))\n",
    "\n",
    "# Print the DataFrame with the new column\n",
    "print(\"\\nDataFrame with Lemmatization Applied:\")\n",
    "df_comments[['no_stopwords', 'lemmatized_comments','score']]"
   ]
  },
  {
   "cell_type": "code",
   "execution_count": 156,
   "id": "366bc296-ecac-4522-aed5-0214c7c1da39",
   "metadata": {},
   "outputs": [],
   "source": [
    "df_comments=df_comments[['comment','no_stopwords','lemmatized_comments','score']]"
   ]
  },
  {
   "cell_type": "code",
   "execution_count": 157,
   "id": "fb112118-64a5-4a12-8106-03e92e14ae99",
   "metadata": {},
   "outputs": [
    {
     "data": {
      "text/html": [
       "<div>\n",
       "<style scoped>\n",
       "    .dataframe tbody tr th:only-of-type {\n",
       "        vertical-align: middle;\n",
       "    }\n",
       "\n",
       "    .dataframe tbody tr th {\n",
       "        vertical-align: top;\n",
       "    }\n",
       "\n",
       "    .dataframe thead th {\n",
       "        text-align: right;\n",
       "    }\n",
       "</style>\n",
       "<table border=\"1\" class=\"dataframe\">\n",
       "  <thead>\n",
       "    <tr style=\"text-align: right;\">\n",
       "      <th></th>\n",
       "      <th>comment</th>\n",
       "      <th>no_stopwords</th>\n",
       "      <th>lemmatized_comments</th>\n",
       "      <th>score</th>\n",
       "    </tr>\n",
       "  </thead>\n",
       "  <tbody>\n",
       "    <tr>\n",
       "      <th>0</th>\n",
       "      <td>I haven't tested the product yet, but it arriv...</td>\n",
       "      <td>tested product yet arrived correct good condit...</td>\n",
       "      <td>test product yet arrive correct good condition...</td>\n",
       "      <td>4</td>\n",
       "    </tr>\n",
       "    <tr>\n",
       "      <th>1</th>\n",
       "      <td>I haven't tested the product yet, but it arriv...</td>\n",
       "      <td>tested product yet arrived correct good condit...</td>\n",
       "      <td>test product yet arrive correct good condition...</td>\n",
       "      <td>4</td>\n",
       "    </tr>\n",
       "    <tr>\n",
       "      <th>2</th>\n",
       "      <td>I haven't tested the product yet, but it arriv...</td>\n",
       "      <td>tested product yet arrived correct good condit...</td>\n",
       "      <td>test product yet arrive correct good condition...</td>\n",
       "      <td>4</td>\n",
       "    </tr>\n",
       "    <tr>\n",
       "      <th>3</th>\n",
       "      <td>The product is very good.</td>\n",
       "      <td>product good</td>\n",
       "      <td>product good</td>\n",
       "      <td>4</td>\n",
       "    </tr>\n",
       "    <tr>\n",
       "      <th>4</th>\n",
       "      <td>The product was exactly what I expected and wa...</td>\n",
       "      <td>product exactly expected described website arr...</td>\n",
       "      <td>product exactly expect described website arriv...</td>\n",
       "      <td>5</td>\n",
       "    </tr>\n",
       "  </tbody>\n",
       "</table>\n",
       "</div>"
      ],
      "text/plain": [
       "                                             comment  \\\n",
       "0  I haven't tested the product yet, but it arriv...   \n",
       "1  I haven't tested the product yet, but it arriv...   \n",
       "2  I haven't tested the product yet, but it arriv...   \n",
       "3                          The product is very good.   \n",
       "4  The product was exactly what I expected and wa...   \n",
       "\n",
       "                                        no_stopwords  \\\n",
       "0  tested product yet arrived correct good condit...   \n",
       "1  tested product yet arrived correct good condit...   \n",
       "2  tested product yet arrived correct good condit...   \n",
       "3                                       product good   \n",
       "4  product exactly expected described website arr...   \n",
       "\n",
       "                                 lemmatized_comments  score  \n",
       "0  test product yet arrive correct good condition...      4  \n",
       "1  test product yet arrive correct good condition...      4  \n",
       "2  test product yet arrive correct good condition...      4  \n",
       "3                                       product good      4  \n",
       "4  product exactly expect described website arriv...      5  "
      ]
     },
     "execution_count": 157,
     "metadata": {},
     "output_type": "execute_result"
    }
   ],
   "source": [
    "df_comments.head(5)"
   ]
  },
  {
   "cell_type": "code",
   "execution_count": 158,
   "id": "11cffe23-1d9c-43e0-a61d-7ed6638e3e56",
   "metadata": {},
   "outputs": [
    {
     "name": "stdout",
     "output_type": "stream",
     "text": [
      "<class 'pandas.core.frame.DataFrame'>\n",
      "RangeIndex: 47331 entries, 0 to 47330\n",
      "Data columns (total 4 columns):\n",
      " #   Column               Non-Null Count  Dtype \n",
      "---  ------               --------------  ----- \n",
      " 0   comment              47331 non-null  object\n",
      " 1   no_stopwords         47331 non-null  object\n",
      " 2   lemmatized_comments  47331 non-null  object\n",
      " 3   score                47331 non-null  int64 \n",
      "dtypes: int64(1), object(3)\n",
      "memory usage: 1.4+ MB\n"
     ]
    }
   ],
   "source": [
    "df_comments.info()"
   ]
  },
  {
   "cell_type": "code",
   "execution_count": 159,
   "id": "ac4968f8-d858-4fc1-9059-a4d833eb6745",
   "metadata": {},
   "outputs": [
    {
     "data": {
      "image/png": "[encoded data removed]",
      "text/plain": [
       "<Figure size 600x400 with 1 Axes>"
      ]
     },
     "metadata": {},
     "output_type": "display_data"
    }
   ],
   "source": [
    "#Labelling\n",
    "import pandas as pd\n",
    "import matplotlib.pyplot as plt\n",
    "\n",
    "# Assign labels based on review_score\n",
    "df_comments['label'] = df_comments['score'].apply(lambda x: 1 if x in [4, 5] else 0)\n",
    "\n",
    "# Display the labeled DataFrame\n",
    "# print(\"\\nLabeled DataFrame:\")\n",
    "# df_comments.head()\n",
    "\n",
    "# Visualize the distribution of positive and negative comments\n",
    "plt.figure(figsize=(6, 4))\n",
    "df_comments['label'].value_counts().plot(kind='bar', color=['red', 'green'])\n",
    "plt.title('Distribution of Sentiment Labels')\n",
    "plt.xlabel('Sentiment')\n",
    "plt.ylabel('Count')\n",
    "plt.xticks(ticks=[0, 1], labels=['Negative', 'Positive'], rotation=0)\n",
    "plt.show()"
   ]
  },
  {
   "cell_type": "code",
   "execution_count": 160,
   "id": "b517c1cf-6402-4e61-8c9d-d9f2d11f687e",
   "metadata": {
    "scrolled": true
   },
   "outputs": [
    {
     "name": "stdout",
     "output_type": "stream",
     "text": [
      "\n",
      "DataFrame with Original Data and Filtered TF-IDF Features:\n"
     ]
    },
    {
     "data": {
      "text/html": [
       "<div>\n",
       "<style scoped>\n",
       "    .dataframe tbody tr th:only-of-type {\n",
       "        vertical-align: middle;\n",
       "    }\n",
       "\n",
       "    .dataframe tbody tr th {\n",
       "        vertical-align: top;\n",
       "    }\n",
       "\n",
       "    .dataframe thead th {\n",
       "        text-align: right;\n",
       "    }\n",
       "</style>\n",
       "<table border=\"1\" class=\"dataframe\">\n",
       "  <thead>\n",
       "    <tr style=\"text-align: right;\">\n",
       "      <th></th>\n",
       "      <th>comment</th>\n",
       "      <th>no_stopwords</th>\n",
       "      <th>lemmatized_comments</th>\n",
       "      <th>score</th>\n",
       "      <th>label</th>\n",
       "      <th>__</th>\n",
       "      <th>aa</th>\n",
       "      <th>aaa</th>\n",
       "      <th>ab</th>\n",
       "      <th>abdominal</th>\n",
       "      <th>...</th>\n",
       "      <th>zip</th>\n",
       "      <th>zipper</th>\n",
       "      <th>zippo</th>\n",
       "      <th>zl</th>\n",
       "      <th>zone</th>\n",
       "      <th>zoo</th>\n",
       "      <th>zoom</th>\n",
       "      <th>zufer</th>\n",
       "      <th>zumax</th>\n",
       "      <th>zupin</th>\n",
       "    </tr>\n",
       "  </thead>\n",
       "  <tbody>\n",
       "    <tr>\n",
       "      <th>0</th>\n",
       "      <td>I haven't tested the product yet, but it arriv...</td>\n",
       "      <td>tested product yet arrived correct good condit...</td>\n",
       "      <td>test product yet arrive correct good condition...</td>\n",
       "      <td>4</td>\n",
       "      <td>1</td>\n",
       "      <td>0.0</td>\n",
       "      <td>0.0</td>\n",
       "      <td>0.0</td>\n",
       "      <td>0.0</td>\n",
       "      <td>0.0</td>\n",
       "      <td>...</td>\n",
       "      <td>0.0</td>\n",
       "      <td>0.0</td>\n",
       "      <td>0.0</td>\n",
       "      <td>0.0</td>\n",
       "      <td>0.0</td>\n",
       "      <td>0.0</td>\n",
       "      <td>0.0</td>\n",
       "      <td>0.0</td>\n",
       "      <td>0.0</td>\n",
       "      <td>0.0</td>\n",
       "    </tr>\n",
       "    <tr>\n",
       "      <th>1</th>\n",
       "      <td>I haven't tested the product yet, but it arriv...</td>\n",
       "      <td>tested product yet arrived correct good condit...</td>\n",
       "      <td>test product yet arrive correct good condition...</td>\n",
       "      <td>4</td>\n",
       "      <td>1</td>\n",
       "      <td>0.0</td>\n",
       "      <td>0.0</td>\n",
       "      <td>0.0</td>\n",
       "      <td>0.0</td>\n",
       "      <td>0.0</td>\n",
       "      <td>...</td>\n",
       "      <td>0.0</td>\n",
       "      <td>0.0</td>\n",
       "      <td>0.0</td>\n",
       "      <td>0.0</td>\n",
       "      <td>0.0</td>\n",
       "      <td>0.0</td>\n",
       "      <td>0.0</td>\n",
       "      <td>0.0</td>\n",
       "      <td>0.0</td>\n",
       "      <td>0.0</td>\n",
       "    </tr>\n",
       "    <tr>\n",
       "      <th>2</th>\n",
       "      <td>I haven't tested the product yet, but it arriv...</td>\n",
       "      <td>tested product yet arrived correct good condit...</td>\n",
       "      <td>test product yet arrive correct good condition...</td>\n",
       "      <td>4</td>\n",
       "      <td>1</td>\n",
       "      <td>0.0</td>\n",
       "      <td>0.0</td>\n",
       "      <td>0.0</td>\n",
       "      <td>0.0</td>\n",
       "      <td>0.0</td>\n",
       "      <td>...</td>\n",
       "      <td>0.0</td>\n",
       "      <td>0.0</td>\n",
       "      <td>0.0</td>\n",
       "      <td>0.0</td>\n",
       "      <td>0.0</td>\n",
       "      <td>0.0</td>\n",
       "      <td>0.0</td>\n",
       "      <td>0.0</td>\n",
       "      <td>0.0</td>\n",
       "      <td>0.0</td>\n",
       "    </tr>\n",
       "    <tr>\n",
       "      <th>3</th>\n",
       "      <td>The product is very good.</td>\n",
       "      <td>product good</td>\n",
       "      <td>product good</td>\n",
       "      <td>4</td>\n",
       "      <td>1</td>\n",
       "      <td>0.0</td>\n",
       "      <td>0.0</td>\n",
       "      <td>0.0</td>\n",
       "      <td>0.0</td>\n",
       "      <td>0.0</td>\n",
       "      <td>...</td>\n",
       "      <td>0.0</td>\n",
       "      <td>0.0</td>\n",
       "      <td>0.0</td>\n",
       "      <td>0.0</td>\n",
       "      <td>0.0</td>\n",
       "      <td>0.0</td>\n",
       "      <td>0.0</td>\n",
       "      <td>0.0</td>\n",
       "      <td>0.0</td>\n",
       "      <td>0.0</td>\n",
       "    </tr>\n",
       "    <tr>\n",
       "      <th>4</th>\n",
       "      <td>The product was exactly what I expected and wa...</td>\n",
       "      <td>product exactly expected described website arr...</td>\n",
       "      <td>product exactly expect described website arriv...</td>\n",
       "      <td>5</td>\n",
       "      <td>1</td>\n",
       "      <td>0.0</td>\n",
       "      <td>0.0</td>\n",
       "      <td>0.0</td>\n",
       "      <td>0.0</td>\n",
       "      <td>0.0</td>\n",
       "      <td>...</td>\n",
       "      <td>0.0</td>\n",
       "      <td>0.0</td>\n",
       "      <td>0.0</td>\n",
       "      <td>0.0</td>\n",
       "      <td>0.0</td>\n",
       "      <td>0.0</td>\n",
       "      <td>0.0</td>\n",
       "      <td>0.0</td>\n",
       "      <td>0.0</td>\n",
       "      <td>0.0</td>\n",
       "    </tr>\n",
       "    <tr>\n",
       "      <th>...</th>\n",
       "      <td>...</td>\n",
       "      <td>...</td>\n",
       "      <td>...</td>\n",
       "      <td>...</td>\n",
       "      <td>...</td>\n",
       "      <td>...</td>\n",
       "      <td>...</td>\n",
       "      <td>...</td>\n",
       "      <td>...</td>\n",
       "      <td>...</td>\n",
       "      <td>...</td>\n",
       "      <td>...</td>\n",
       "      <td>...</td>\n",
       "      <td>...</td>\n",
       "      <td>...</td>\n",
       "      <td>...</td>\n",
       "      <td>...</td>\n",
       "      <td>...</td>\n",
       "      <td>...</td>\n",
       "      <td>...</td>\n",
       "      <td>...</td>\n",
       "    </tr>\n",
       "    <tr>\n",
       "      <th>47326</th>\n",
       "      <td>It is not a mini cajon, it is a shaker, that i...</td>\n",
       "      <td>mini cajon shaker rattle imitates cajon terrible</td>\n",
       "      <td>mini cajon shaker rattle imitates cajon terrible</td>\n",
       "      <td>1</td>\n",
       "      <td>0</td>\n",
       "      <td>0.0</td>\n",
       "      <td>0.0</td>\n",
       "      <td>0.0</td>\n",
       "      <td>0.0</td>\n",
       "      <td>0.0</td>\n",
       "      <td>...</td>\n",
       "      <td>0.0</td>\n",
       "      <td>0.0</td>\n",
       "      <td>0.0</td>\n",
       "      <td>0.0</td>\n",
       "      <td>0.0</td>\n",
       "      <td>0.0</td>\n",
       "      <td>0.0</td>\n",
       "      <td>0.0</td>\n",
       "      <td>0.0</td>\n",
       "      <td>0.0</td>\n",
       "    </tr>\n",
       "    <tr>\n",
       "      <th>47327</th>\n",
       "      <td>It's just a piece that arrived cracked but it'...</td>\n",
       "      <td>piece arrived cracked ok lol</td>\n",
       "      <td>piece arrive crack ok lol</td>\n",
       "      <td>4</td>\n",
       "      <td>1</td>\n",
       "      <td>0.0</td>\n",
       "      <td>0.0</td>\n",
       "      <td>0.0</td>\n",
       "      <td>0.0</td>\n",
       "      <td>0.0</td>\n",
       "      <td>...</td>\n",
       "      <td>0.0</td>\n",
       "      <td>0.0</td>\n",
       "      <td>0.0</td>\n",
       "      <td>0.0</td>\n",
       "      <td>0.0</td>\n",
       "      <td>0.0</td>\n",
       "      <td>0.0</td>\n",
       "      <td>0.0</td>\n",
       "      <td>0.0</td>\n",
       "      <td>0.0</td>\n",
       "    </tr>\n",
       "    <tr>\n",
       "      <th>47328</th>\n",
       "      <td>It was delivered ahead of schedule.</td>\n",
       "      <td>delivered ahead schedule</td>\n",
       "      <td>deliver ahead schedule</td>\n",
       "      <td>5</td>\n",
       "      <td>1</td>\n",
       "      <td>0.0</td>\n",
       "      <td>0.0</td>\n",
       "      <td>0.0</td>\n",
       "      <td>0.0</td>\n",
       "      <td>0.0</td>\n",
       "      <td>...</td>\n",
       "      <td>0.0</td>\n",
       "      <td>0.0</td>\n",
       "      <td>0.0</td>\n",
       "      <td>0.0</td>\n",
       "      <td>0.0</td>\n",
       "      <td>0.0</td>\n",
       "      <td>0.0</td>\n",
       "      <td>0.0</td>\n",
       "      <td>0.0</td>\n",
       "      <td>0.0</td>\n",
       "    </tr>\n",
       "    <tr>\n",
       "      <th>47329</th>\n",
       "      <td>Only 1 was delivered. I want to know about the...</td>\n",
       "      <td>numero delivered want know product</td>\n",
       "      <td>numero deliver want know product</td>\n",
       "      <td>2</td>\n",
       "      <td>0</td>\n",
       "      <td>0.0</td>\n",
       "      <td>0.0</td>\n",
       "      <td>0.0</td>\n",
       "      <td>0.0</td>\n",
       "      <td>0.0</td>\n",
       "      <td>...</td>\n",
       "      <td>0.0</td>\n",
       "      <td>0.0</td>\n",
       "      <td>0.0</td>\n",
       "      <td>0.0</td>\n",
       "      <td>0.0</td>\n",
       "      <td>0.0</td>\n",
       "      <td>0.0</td>\n",
       "      <td>0.0</td>\n",
       "      <td>0.0</td>\n",
       "      <td>0.0</td>\n",
       "    </tr>\n",
       "    <tr>\n",
       "      <th>47330</th>\n",
       "      <td>Only 1 was delivered. I want to know about the...</td>\n",
       "      <td>numero delivered want know product</td>\n",
       "      <td>numero deliver want know product</td>\n",
       "      <td>2</td>\n",
       "      <td>0</td>\n",
       "      <td>0.0</td>\n",
       "      <td>0.0</td>\n",
       "      <td>0.0</td>\n",
       "      <td>0.0</td>\n",
       "      <td>0.0</td>\n",
       "      <td>...</td>\n",
       "      <td>0.0</td>\n",
       "      <td>0.0</td>\n",
       "      <td>0.0</td>\n",
       "      <td>0.0</td>\n",
       "      <td>0.0</td>\n",
       "      <td>0.0</td>\n",
       "      <td>0.0</td>\n",
       "      <td>0.0</td>\n",
       "      <td>0.0</td>\n",
       "      <td>0.0</td>\n",
       "    </tr>\n",
       "  </tbody>\n",
       "</table>\n",
       "<p>47331 rows × 5005 columns</p>\n",
       "</div>"
      ],
      "text/plain": [
       "                                                 comment  \\\n",
       "0      I haven't tested the product yet, but it arriv...   \n",
       "1      I haven't tested the product yet, but it arriv...   \n",
       "2      I haven't tested the product yet, but it arriv...   \n",
       "3                              The product is very good.   \n",
       "4      The product was exactly what I expected and wa...   \n",
       "...                                                  ...   \n",
       "47326  It is not a mini cajon, it is a shaker, that i...   \n",
       "47327  It's just a piece that arrived cracked but it'...   \n",
       "47328                It was delivered ahead of schedule.   \n",
       "47329  Only 1 was delivered. I want to know about the...   \n",
       "47330  Only 1 was delivered. I want to know about the...   \n",
       "\n",
       "                                            no_stopwords  \\\n",
       "0      tested product yet arrived correct good condit...   \n",
       "1      tested product yet arrived correct good condit...   \n",
       "2      tested product yet arrived correct good condit...   \n",
       "3                                           product good   \n",
       "4      product exactly expected described website arr...   \n",
       "...                                                  ...   \n",
       "47326   mini cajon shaker rattle imitates cajon terrible   \n",
       "47327                       piece arrived cracked ok lol   \n",
       "47328                           delivered ahead schedule   \n",
       "47329                 numero delivered want know product   \n",
       "47330                 numero delivered want know product   \n",
       "\n",
       "                                     lemmatized_comments  score  label   __  \\\n",
       "0      test product yet arrive correct good condition...      4      1  0.0   \n",
       "1      test product yet arrive correct good condition...      4      1  0.0   \n",
       "2      test product yet arrive correct good condition...      4      1  0.0   \n",
       "3                                           product good      4      1  0.0   \n",
       "4      product exactly expect described website arriv...      5      1  0.0   \n",
       "...                                                  ...    ...    ...  ...   \n",
       "47326   mini cajon shaker rattle imitates cajon terrible      1      0  0.0   \n",
       "47327                          piece arrive crack ok lol      4      1  0.0   \n",
       "47328                             deliver ahead schedule      5      1  0.0   \n",
       "47329                   numero deliver want know product      2      0  0.0   \n",
       "47330                   numero deliver want know product      2      0  0.0   \n",
       "\n",
       "        aa  aaa   ab  abdominal  ...  zip  zipper  zippo   zl  zone  zoo  \\\n",
       "0      0.0  0.0  0.0        0.0  ...  0.0     0.0    0.0  0.0   0.0  0.0   \n",
       "1      0.0  0.0  0.0        0.0  ...  0.0     0.0    0.0  0.0   0.0  0.0   \n",
       "2      0.0  0.0  0.0        0.0  ...  0.0     0.0    0.0  0.0   0.0  0.0   \n",
       "3      0.0  0.0  0.0        0.0  ...  0.0     0.0    0.0  0.0   0.0  0.0   \n",
       "4      0.0  0.0  0.0        0.0  ...  0.0     0.0    0.0  0.0   0.0  0.0   \n",
       "...    ...  ...  ...        ...  ...  ...     ...    ...  ...   ...  ...   \n",
       "47326  0.0  0.0  0.0        0.0  ...  0.0     0.0    0.0  0.0   0.0  0.0   \n",
       "47327  0.0  0.0  0.0        0.0  ...  0.0     0.0    0.0  0.0   0.0  0.0   \n",
       "47328  0.0  0.0  0.0        0.0  ...  0.0     0.0    0.0  0.0   0.0  0.0   \n",
       "47329  0.0  0.0  0.0        0.0  ...  0.0     0.0    0.0  0.0   0.0  0.0   \n",
       "47330  0.0  0.0  0.0        0.0  ...  0.0     0.0    0.0  0.0   0.0  0.0   \n",
       "\n",
       "       zoom  zufer  zumax  zupin  \n",
       "0       0.0    0.0    0.0    0.0  \n",
       "1       0.0    0.0    0.0    0.0  \n",
       "2       0.0    0.0    0.0    0.0  \n",
       "3       0.0    0.0    0.0    0.0  \n",
       "4       0.0    0.0    0.0    0.0  \n",
       "...     ...    ...    ...    ...  \n",
       "47326   0.0    0.0    0.0    0.0  \n",
       "47327   0.0    0.0    0.0    0.0  \n",
       "47328   0.0    0.0    0.0    0.0  \n",
       "47329   0.0    0.0    0.0    0.0  \n",
       "47330   0.0    0.0    0.0    0.0  \n",
       "\n",
       "[47331 rows x 5005 columns]"
      ]
     },
     "execution_count": 160,
     "metadata": {},
     "output_type": "execute_result"
    }
   ],
   "source": [
    "import pandas as pd\n",
    "from sklearn.feature_extraction.text import TfidfVectorizer\n",
    "\n",
    "# Ensure the lemmatized_comments column is filled\n",
    "# df_comments['lemmatized_comments'] = df_comments['no_stopwords']\n",
    "\n",
    "# Initialize TfidfVectorizer\n",
    "tfidf_vectorizer = TfidfVectorizer(max_features=5000, stop_words='english')\n",
    "\n",
    "# Fit and transform the lemmatized_comments column\n",
    "x_vectorized = tfidf_vectorizer.fit_transform(df_comments['lemmatized_comments'])\n",
    "\n",
    "# Convert the TF-IDF matrix to a DataFrame\n",
    "tfidf_df = pd.DataFrame(x_vectorized.toarray(), columns=tfidf_vectorizer.get_feature_names_out())\n",
    "\n",
    "# Get the feature names from the TF-IDF vectorizer\n",
    "features = tfidf_vectorizer.get_feature_names_out()\n",
    "\n",
    "# Filter out columns where the TF-IDF score is all zeros\n",
    "non_zero_features = [feature for feature in features if (tfidf_df[feature] != 0).any()]\n",
    "tfidf_df_filtered = tfidf_df[non_zero_features]\n",
    "\n",
    "# Concatenate the TF-IDF DataFrame with the original DataFrame\n",
    "df_comments = pd.concat([df_comments, tfidf_df_filtered], axis=1)\n",
    "\n",
    "# Display the DataFrame with original data and filtered TF-IDF features\n",
    "print(\"\\nDataFrame with Original Data and Filtered TF-IDF Features:\")\n",
    "df_comments"
   ]
  },
  {
   "cell_type": "code",
   "execution_count": 161,
   "id": "cf20b1d0-4f63-432a-981b-21db786a2d31",
   "metadata": {},
   "outputs": [
    {
     "data": {
      "text/html": [
       "<div>\n",
       "<style scoped>\n",
       "    .dataframe tbody tr th:only-of-type {\n",
       "        vertical-align: middle;\n",
       "    }\n",
       "\n",
       "    .dataframe tbody tr th {\n",
       "        vertical-align: top;\n",
       "    }\n",
       "\n",
       "    .dataframe thead th {\n",
       "        text-align: right;\n",
       "    }\n",
       "</style>\n",
       "<table border=\"1\" class=\"dataframe\">\n",
       "  <thead>\n",
       "    <tr style=\"text-align: right;\">\n",
       "      <th></th>\n",
       "      <th>test</th>\n",
       "      <th>product</th>\n",
       "      <th>good</th>\n",
       "    </tr>\n",
       "  </thead>\n",
       "  <tbody>\n",
       "    <tr>\n",
       "      <th>0</th>\n",
       "      <td>0.323116</td>\n",
       "      <td>0.099093</td>\n",
       "      <td>0.156633</td>\n",
       "    </tr>\n",
       "    <tr>\n",
       "      <th>1</th>\n",
       "      <td>0.323116</td>\n",
       "      <td>0.099093</td>\n",
       "      <td>0.156633</td>\n",
       "    </tr>\n",
       "    <tr>\n",
       "      <th>2</th>\n",
       "      <td>0.323116</td>\n",
       "      <td>0.099093</td>\n",
       "      <td>0.156633</td>\n",
       "    </tr>\n",
       "    <tr>\n",
       "      <th>3</th>\n",
       "      <td>0.000000</td>\n",
       "      <td>0.534638</td>\n",
       "      <td>0.845081</td>\n",
       "    </tr>\n",
       "    <tr>\n",
       "      <th>4</th>\n",
       "      <td>0.000000</td>\n",
       "      <td>0.132474</td>\n",
       "      <td>0.000000</td>\n",
       "    </tr>\n",
       "    <tr>\n",
       "      <th>...</th>\n",
       "      <td>...</td>\n",
       "      <td>...</td>\n",
       "      <td>...</td>\n",
       "    </tr>\n",
       "    <tr>\n",
       "      <th>47326</th>\n",
       "      <td>0.000000</td>\n",
       "      <td>0.000000</td>\n",
       "      <td>0.000000</td>\n",
       "    </tr>\n",
       "    <tr>\n",
       "      <th>47327</th>\n",
       "      <td>0.000000</td>\n",
       "      <td>0.000000</td>\n",
       "      <td>0.000000</td>\n",
       "    </tr>\n",
       "    <tr>\n",
       "      <th>47328</th>\n",
       "      <td>0.000000</td>\n",
       "      <td>0.000000</td>\n",
       "      <td>0.000000</td>\n",
       "    </tr>\n",
       "    <tr>\n",
       "      <th>47329</th>\n",
       "      <td>0.000000</td>\n",
       "      <td>0.218440</td>\n",
       "      <td>0.000000</td>\n",
       "    </tr>\n",
       "    <tr>\n",
       "      <th>47330</th>\n",
       "      <td>0.000000</td>\n",
       "      <td>0.218440</td>\n",
       "      <td>0.000000</td>\n",
       "    </tr>\n",
       "  </tbody>\n",
       "</table>\n",
       "<p>47331 rows × 3 columns</p>\n",
       "</div>"
      ],
      "text/plain": [
       "           test   product      good\n",
       "0      0.323116  0.099093  0.156633\n",
       "1      0.323116  0.099093  0.156633\n",
       "2      0.323116  0.099093  0.156633\n",
       "3      0.000000  0.534638  0.845081\n",
       "4      0.000000  0.132474  0.000000\n",
       "...         ...       ...       ...\n",
       "47326  0.000000  0.000000  0.000000\n",
       "47327  0.000000  0.000000  0.000000\n",
       "47328  0.000000  0.000000  0.000000\n",
       "47329  0.000000  0.218440  0.000000\n",
       "47330  0.000000  0.218440  0.000000\n",
       "\n",
       "[47331 rows x 3 columns]"
      ]
     },
     "execution_count": 161,
     "metadata": {},
     "output_type": "execute_result"
    }
   ],
   "source": [
    "df_comments[['test','product','good']]"
   ]
  },
  {
   "cell_type": "code",
   "execution_count": 173,
   "id": "edc74f04-34ff-4124-b3e0-dada1d4aec9f",
   "metadata": {},
   "outputs": [
    {
     "name": "stdout",
     "output_type": "stream",
     "text": [
      "Accuracy Score: 0.8694366197183099\n",
      "\n",
      "Classification Report:\n",
      "              precision    recall  f1-score   support\n",
      "\n",
      "           0       0.78      0.88      0.83      5094\n",
      "           1       0.93      0.86      0.89      9106\n",
      "\n",
      "    accuracy                           0.87     14200\n",
      "   macro avg       0.86      0.87      0.86     14200\n",
      "weighted avg       0.88      0.87      0.87     14200\n",
      "\n"
     ]
    }
   ],
   "source": [
    "from imblearn.over_sampling import SMOTE\n",
    "from sklearn.model_selection import train_test_split\n",
    "from sklearn.linear_model import LogisticRegression\n",
    "from sklearn.metrics import classification_report, accuracy_score\n",
    "\n",
    "# Assume X and y are your features and labels\n",
    "X = tfidf_vectorizer.transform(df_comments['lemmatized_comments'])\n",
    "y = df_comments.iloc[:,4]\n",
    "\n",
    "# Split the data\n",
    "X_train, X_test, y_train, y_test = train_test_split(X, y, test_size=0.3, random_state=42)\n",
    "\n",
    "# Apply SMOTE to handle imbalance\n",
    "smote = SMOTE(random_state=42)\n",
    "X_resampled, y_resampled = smote.fit_resample(X_train, y_train)\n",
    "\n",
    "# Train the model\n",
    "model = LogisticRegression()\n",
    "model.fit(X_resampled, y_resampled)\n",
    "\n",
    "# Make predictions\n",
    "y_pred = model.predict(X_test)\n",
    "\n",
    "# Evaluate the model\n",
    "print(\"Accuracy Score:\", accuracy_score(y_test, y_pred))\n",
    "print(\"\\nClassification Report:\")\n",
    "print(classification_report(y_test, y_pred))"
   ]
  },
  {
   "cell_type": "code",
   "execution_count": 164,
   "id": "28034457-9b21-4e69-80a8-8a93763860ed",
   "metadata": {},
   "outputs": [
    {
     "name": "stdout",
     "output_type": "stream",
     "text": [
      "Accuracy Score: 0.8614788732394366\n",
      "\n",
      "Classification Report:\n",
      "              precision    recall  f1-score   support\n",
      "\n",
      "           0       0.77      0.87      0.82      5094\n",
      "           1       0.92      0.86      0.89      9106\n",
      "\n",
      "    accuracy                           0.86     14200\n",
      "   macro avg       0.85      0.86      0.85     14200\n",
      "weighted avg       0.87      0.86      0.86     14200\n",
      "\n"
     ]
    }
   ],
   "source": [
    "import pandas as pd\n",
    "from sklearn.feature_extraction.text import TfidfVectorizer\n",
    "from sklearn.model_selection import train_test_split\n",
    "from sklearn.naive_bayes import MultinomialNB\n",
    "from sklearn.metrics import classification_report, accuracy_score\n",
    "\n",
    "# Training the Naive Bayes model\n",
    "model = MultinomialNB()\n",
    "model.fit(X_resampled, y_resampled)\n",
    "\n",
    "# Making predictions\n",
    "y_pred = model.predict(X_test)\n",
    "\n",
    "# Evaluating the model\n",
    "print(\"Accuracy Score:\", accuracy_score(y_test, y_pred))\n",
    "print(\"\\nClassification Report:\")\n",
    "print(classification_report(y_test, y_pred))"
   ]
  },
  {
   "cell_type": "code",
   "execution_count": 165,
   "id": "1d098b7d-f1fb-47c1-9e09-1cdd355a2b87",
   "metadata": {},
   "outputs": [
    {
     "name": "stdout",
     "output_type": "stream",
     "text": [
      "Accuracy Score: 0.8982394366197183\n",
      "\n",
      "Classification Report:\n",
      "              precision    recall  f1-score   support\n",
      "\n",
      "           0       0.85      0.88      0.86      5094\n",
      "           1       0.93      0.91      0.92      9106\n",
      "\n",
      "    accuracy                           0.90     14200\n",
      "   macro avg       0.89      0.89      0.89     14200\n",
      "weighted avg       0.90      0.90      0.90     14200\n",
      "\n"
     ]
    },
    {
     "data": {
      "text/plain": [
       "<sklearn.metrics._plot.confusion_matrix.ConfusionMatrixDisplay at 0x286b6ddb140>"
      ]
     },
     "execution_count": 165,
     "metadata": {},
     "output_type": "execute_result"
    },
    {
     "data": {
      "image/png": "[encoded data removed]",
      "text/plain": [
       "<Figure size 640x480 with 2 Axes>"
      ]
     },
     "metadata": {},
     "output_type": "display_data"
    }
   ],
   "source": [
    "import pandas as pd\n",
    "from sklearn.feature_extraction.text import TfidfVectorizer\n",
    "from sklearn.model_selection import train_test_split\n",
    "from sklearn.ensemble import RandomForestClassifier\n",
    "from sklearn.metrics import classification_report, accuracy_score\n",
    "from sklearn.metrics import confusion_matrix, ConfusionMatrixDisplay\n",
    "\n",
    "# Define the Random Forest model\n",
    "rf_model = RandomForestClassifier(n_estimators=100, max_depth=None, random_state=42)\n",
    "\n",
    "# Train the model\n",
    "rf_model.fit(X_resampled, y_resampled)\n",
    "\n",
    "# Predicting the labels for the test set\n",
    "y_pred = rf_model.predict(X_test)\n",
    "\n",
    "# Evaluating the model\n",
    "print(\"Accuracy Score:\", accuracy_score(y_test, y_pred))\n",
    "print(\"\\nClassification Report:\")\n",
    "print(classification_report(y_test, y_pred))\n",
    "\n",
    "cm = confusion_matrix(y_test, y_pred)\n",
    "\n",
    "# Displaying the confusion matrix\n",
    "disp = ConfusionMatrixDisplay(confusion_matrix=cm)\n",
    "disp.plot()"
   ]
  },
  {
   "cell_type": "code",
   "execution_count": 166,
   "id": "8cddb1c1-0a3a-41ce-98e5-5392dba39c17",
   "metadata": {},
   "outputs": [
    {
     "data": {
      "image/png": "[encoded data removed]",
      "text/plain": [
       "<Figure size 640x480 with 1 Axes>"
      ]
     },
     "metadata": {},
     "output_type": "display_data"
    }
   ],
   "source": [
    "# Compute ROC curve and ROC AUC\n",
    "from sklearn.metrics import roc_curve, auc\n",
    "import matplotlib.pyplot as plt\n",
    "\n",
    "y_proba = rf_model.predict_proba(X_test)[:, 1]  # Probability of the positive class\n",
    "fpr, tpr, thresholds = roc_curve(y_test, y_proba)\n",
    "roc_auc = auc(fpr, tpr)\n",
    "\n",
    "# Plot ROC curve\n",
    "plt.figure()\n",
    "plt.plot(fpr, tpr, color='blue', lw=2, label='ROC curve (area = %0.2f)' % roc_auc)\n",
    "plt.plot([0, 1], [0, 1], color='gray', linestyle='--')\n",
    "plt.xlim([0.0, 1.0])\n",
    "plt.ylim([0.0, 1.05])\n",
    "plt.xlabel('False Positive Rate')\n",
    "plt.ylabel('True Positive Rate')\n",
    "plt.title('Receiver Operating Characteristic (ROC) Curve')\n",
    "plt.legend(loc='lower right')\n",
    "plt.show()"
   ]
  },
  {
   "cell_type": "code",
   "execution_count": 167,
   "id": "d129f839-4b22-4698-acd9-80a488125a4e",
   "metadata": {
    "scrolled": true
   },
   "outputs": [
    {
     "name": "stdout",
     "output_type": "stream",
     "text": [
      "Requirement already satisfied: xgboost in c:\\users\\hp\\appdata\\local\\programs\\python\\python312\\lib\\site-packages (2.1.1)Note: you may need to restart the kernel to use updated packages.\n"
     ]
    },
    {
     "name": "stderr",
     "output_type": "stream",
     "text": [
      "\n",
      "[notice] A new release of pip is available: 24.0 -> 24.2\n",
      "[notice] To update, run: python.exe -m pip install --upgrade pip\n"
     ]
    },
    {
     "name": "stdout",
     "output_type": "stream",
     "text": [
      "\n",
      "Requirement already satisfied: numpy in c:\\users\\hp\\appdata\\local\\programs\\python\\python312\\lib\\site-packages (from xgboost) (1.26.4)\n",
      "Requirement already satisfied: scipy in c:\\users\\hp\\appdata\\local\\programs\\python\\python312\\lib\\site-packages (from xgboost) (1.13.1)\n"
     ]
    }
   ],
   "source": [
    "pip install xgboost"
   ]
  },
  {
   "cell_type": "code",
   "execution_count": 168,
   "id": "b4e041ab-2bac-4673-88bb-06fc6078ad95",
   "metadata": {},
   "outputs": [
    {
     "name": "stderr",
     "output_type": "stream",
     "text": [
      "C:\\Users\\Hp\\AppData\\Local\\Programs\\Python\\Python312\\Lib\\site-packages\\xgboost\\core.py:158: UserWarning: [10:21:30] WARNING: C:\\buildkite-agent\\builds\\buildkite-windows-cpu-autoscaling-group-i-0015a694724fa8361-1\\xgboost\\xgboost-ci-windows\\src\\learner.cc:740: \n",
      "Parameters: { \"use_label_encoder\" } are not used.\n",
      "\n",
      "  warnings.warn(smsg, UserWarning)\n"
     ]
    },
    {
     "name": "stdout",
     "output_type": "stream",
     "text": [
      "Accuracy Score: 0.8781690140845071\n",
      "\n",
      "Classification Report:\n",
      "              precision    recall  f1-score   support\n",
      "\n",
      "           0       0.83      0.84      0.83      5094\n",
      "           1       0.91      0.90      0.90      9106\n",
      "\n",
      "    accuracy                           0.88     14200\n",
      "   macro avg       0.87      0.87      0.87     14200\n",
      "weighted avg       0.88      0.88      0.88     14200\n",
      "\n"
     ]
    }
   ],
   "source": [
    "import pandas as pd\n",
    "from sklearn.feature_extraction.text import TfidfVectorizer\n",
    "from sklearn.model_selection import train_test_split\n",
    "from xgboost import XGBClassifier  # Make sure this import is correct\n",
    "from sklearn.metrics import classification_report, accuracy_score\n",
    "\n",
    "xgb_model = XGBClassifier(use_label_encoder=False, eval_metric='mlogloss')\n",
    "\n",
    "# Train the model\n",
    "xgb_model.fit(X_resampled, y_resampled)\n",
    "\n",
    "# Make predictions\n",
    "y_pred = xgb_model.predict(X_test)\n",
    "\n",
    "# Evaluate the model\n",
    "print(\"Accuracy Score:\", accuracy_score(y_test, y_pred))\n",
    "print(\"\\nClassification Report:\")\n",
    "print(classification_report(y_test, y_pred))"
   ]
  },
  {
   "cell_type": "code",
   "execution_count": 169,
   "id": "9d285c10-ab0b-4cda-ada3-34d4cfe00628",
   "metadata": {},
   "outputs": [
    {
     "name": "stdout",
     "output_type": "stream",
     "text": [
      "Requirement already satisfied: wordcloud in c:\\users\\hp\\appdata\\local\\programs\\python\\python312\\lib\\site-packages (1.9.3)\n",
      "Requirement already satisfied: numpy>=1.6.1 in c:\\users\\hp\\appdata\\local\\programs\\python\\python312\\lib\\site-packages (from wordcloud) (1.26.4)\n",
      "Requirement already satisfied: pillow in c:\\users\\hp\\appdata\\local\\programs\\python\\python312\\lib\\site-packages (from wordcloud) (10.3.0)\n",
      "Requirement already satisfied: matplotlib in c:\\users\\hp\\appdata\\local\\programs\\python\\python312\\lib\\site-packages (from wordcloud) (3.8.4)\n",
      "Requirement already satisfied: contourpy>=1.0.1 in c:\\users\\hp\\appdata\\local\\programs\\python\\python312\\lib\\site-packages (from matplotlib->wordcloud) (1.2.1)\n",
      "Requirement already satisfied: cycler>=0.10 in c:\\users\\hp\\appdata\\local\\programs\\python\\python312\\lib\\site-packages (from matplotlib->wordcloud) (0.12.1)\n",
      "Requirement already satisfied: fonttools>=4.22.0 in c:\\users\\hp\\appdata\\local\\programs\\python\\python312\\lib\\site-packages (from matplotlib->wordcloud) (4.51.0)\n",
      "Requirement already satisfied: kiwisolver>=1.3.1 in c:\\users\\hp\\appdata\\local\\programs\\python\\python312\\lib\\site-packages (from matplotlib->wordcloud) (1.4.5)\n",
      "Requirement already satisfied: packaging>=20.0 in c:\\users\\hp\\appdata\\local\\programs\\python\\python312\\lib\\site-packages (from matplotlib->wordcloud) (23.2)\n",
      "Requirement already satisfied: pyparsing>=2.3.1 in c:\\users\\hp\\appdata\\local\\programs\\python\\python312\\lib\\site-packages (from matplotlib->wordcloud) (3.1.2)\n",
      "Requirement already satisfied: python-dateutil>=2.7 in c:\\users\\hp\\appdata\\local\\programs\\python\\python312\\lib\\site-packages (from matplotlib->wordcloud) (2.8.2)\n",
      "Requirement already satisfied: six>=1.5 in c:\\users\\hp\\appdata\\local\\programs\\python\\python312\\lib\\site-packages (from python-dateutil>=2.7->matplotlib->wordcloud) (1.16.0)\n",
      "Note: you may need to restart the kernel to use updated packages.\n"
     ]
    },
    {
     "name": "stderr",
     "output_type": "stream",
     "text": [
      "\n",
      "[notice] A new release of pip is available: 24.0 -> 24.2\n",
      "[notice] To update, run: python.exe -m pip install --upgrade pip\n"
     ]
    }
   ],
   "source": [
    "pip install wordcloud"
   ]
  },
  {
   "cell_type": "code",
   "execution_count": 170,
   "id": "57ac10a8-5419-4af7-b868-170b5b8b1d66",
   "metadata": {},
   "outputs": [
    {
     "name": "stdout",
     "output_type": "stream",
     "text": [
      "Requirement already satisfied: numpy in c:\\users\\hp\\appdata\\local\\programs\\python\\python312\\lib\\site-packages (1.26.4)\n",
      "Requirement already satisfied: pandas in c:\\users\\hp\\appdata\\local\\programs\\python\\python312\\lib\\site-packages (2.2.2)\n",
      "Requirement already satisfied: matplotlib in c:\\users\\hp\\appdata\\local\\programs\\python\\python312\\lib\\site-packages (3.8.4)\n",
      "Requirement already satisfied: pillow in c:\\users\\hp\\appdata\\local\\programs\\python\\python312\\lib\\site-packages (10.3.0)\n",
      "Requirement already satisfied: wordcloud in c:\\users\\hp\\appdata\\local\\programs\\python\\python312\\lib\\site-packages (1.9.3)\n",
      "Requirement already satisfied: python-dateutil>=2.8.2 in c:\\users\\hp\\appdata\\local\\programs\\python\\python312\\lib\\site-packages (from pandas) (2.8.2)\n",
      "Requirement already satisfied: pytz>=2020.1 in c:\\users\\hp\\appdata\\local\\programs\\python\\python312\\lib\\site-packages (from pandas) (2024.1)\n",
      "Requirement already satisfied: tzdata>=2022.7 in c:\\users\\hp\\appdata\\local\\programs\\python\\python312\\lib\\site-packages (from pandas) (2024.1)\n",
      "Requirement already satisfied: contourpy>=1.0.1 in c:\\users\\hp\\appdata\\local\\programs\\python\\python312\\lib\\site-packages (from matplotlib) (1.2.1)\n",
      "Requirement already satisfied: cycler>=0.10 in c:\\users\\hp\\appdata\\local\\programs\\python\\python312\\lib\\site-packages (from matplotlib) (0.12.1)\n",
      "Requirement already satisfied: fonttools>=4.22.0 in c:\\users\\hp\\appdata\\local\\programs\\python\\python312\\lib\\site-packages (from matplotlib) (4.51.0)\n",
      "Requirement already satisfied: kiwisolver>=1.3.1 in c:\\users\\hp\\appdata\\local\\programs\\python\\python312\\lib\\site-packages (from matplotlib) (1.4.5)\n",
      "Requirement already satisfied: packaging>=20.0 in c:\\users\\hp\\appdata\\local\\programs\\python\\python312\\lib\\site-packages (from matplotlib) (23.2)\n",
      "Requirement already satisfied: pyparsing>=2.3.1 in c:\\users\\hp\\appdata\\local\\programs\\python\\python312\\lib\\site-packages (from matplotlib) (3.1.2)\n",
      "Requirement already satisfied: six>=1.5 in c:\\users\\hp\\appdata\\local\\programs\\python\\python312\\lib\\site-packages (from python-dateutil>=2.8.2->pandas) (1.16.0)\n",
      "Note: you may need to restart the kernel to use updated packages.\n"
     ]
    },
    {
     "name": "stderr",
     "output_type": "stream",
     "text": [
      "\n",
      "[notice] A new release of pip is available: 24.0 -> 24.2\n",
      "[notice] To update, run: python.exe -m pip install --upgrade pip\n"
     ]
    }
   ],
   "source": [
    "pip install numpy pandas matplotlib pillow wordcloud"
   ]
  },
  {
   "cell_type": "code",
   "execution_count": 171,
   "id": "034619d2-47e5-4ed5-83f6-fed84c113be8",
   "metadata": {},
   "outputs": [
    {
     "name": "stderr",
     "output_type": "stream",
     "text": [
      "[nltk_data] Downloading package stopwords to\n",
      "[nltk_data]     C:\\Users\\Hp\\AppData\\Roaming\\nltk_data...\n",
      "[nltk_data]   Package stopwords is already up-to-date!\n"
     ]
    },
    {
     "data": {
      "image/png": "[encoded data removed]",
      "text/plain": [
       "<Figure size 1200x600 with 2 Axes>"
      ]
     },
     "metadata": {},
     "output_type": "display_data"
    }
   ],
   "source": [
    "import pandas as pd\n",
    "from wordcloud import WordCloud\n",
    "import matplotlib.pyplot as plt\n",
    "from collections import Counter\n",
    "import nltk\n",
    "from nltk.corpus import stopwords\n",
    "\n",
    "# Ensure you have NLTK stopwords\n",
    "nltk.download('stopwords')\n",
    "\n",
    "# Filter positive and negative reviews\n",
    "positive_reviews = df_comments[df_comments.iloc[:, 4] == 1]['lemmatized_comments']\n",
    "negative_reviews = df_comments[df_comments.iloc[:, 4] == 0]['lemmatized_comments']\n",
    "\n",
    "# Combine all positive and negative comments into one large string\n",
    "positive_text = ' '.join(positive_reviews.astype(str))\n",
    "negative_text = ' '.join(negative_reviews.astype(str))\n",
    "\n",
    "# Tokenize the text\n",
    "positive_tokens = positive_text.split()\n",
    "negative_tokens = negative_text.split()\n",
    "\n",
    "# Define a set of stop words\n",
    "stop_words = set(stopwords.words('english'))\n",
    "\n",
    "# Count word frequencies\n",
    "positive_word_counts = Counter(positive_tokens)\n",
    "negative_word_counts = Counter(negative_tokens)\n",
    "\n",
    "# Find common words in both positive and negative reviews\n",
    "common_words = set(positive_word_counts.keys()).intersection(set(negative_word_counts.keys()))\n",
    "\n",
    "# Exclude common words from negative reviews\n",
    "filtered_negative_tokens = [word for word in negative_tokens if word not in common_words]\n",
    "\n",
    "# Combine the filtered tokens into a new string for negative reviews\n",
    "filtered_negative_text = ' '.join(filtered_negative_tokens)\n",
    "\n",
    "# Create WordCloud objects\n",
    "wordcloud_positive = WordCloud(width=800, height=400, background_color='white').generate(positive_text)\n",
    "wordcloud_filtered_negative = WordCloud(width=800, height=400, background_color='white').generate(filtered_negative_text)\n",
    "\n",
    "# Plot the positive word cloud\n",
    "plt.figure(figsize=(12, 6))\n",
    "\n",
    "plt.subplot(1, 2, 1)\n",
    "plt.imshow(wordcloud_positive, interpolation='bilinear')\n",
    "plt.axis('off')\n",
    "plt.title('Positive Reviews')\n",
    "\n",
    "# Plot the filtered negative word cloud\n",
    "plt.subplot(1, 2, 2)\n",
    "plt.imshow(wordcloud_filtered_negative, interpolation='bilinear')\n",
    "plt.axis('off')\n",
    "plt.title('Negative Reviews')\n",
    "\n",
    "plt.show()"
   ]
  },
  {
   "cell_type": "code",
   "execution_count": 176,
   "id": "c87db5d7-0eef-4f13-83ae-1c47057054ee",
   "metadata": {},
   "outputs": [],
   "source": [
    "# Save the trained model to a pickle file\n",
    "import pickle\n",
    "with open('rf_model.pkl', 'wb') as file:\n",
    "    pickle.dump(rf_model, file)"
   ]
  },
  {
   "cell_type": "code",
   "execution_count": 178,
   "id": "0049fc39-bee3-4ad6-a6d4-5e3a6689c37c",
   "metadata": {},
   "outputs": [],
   "source": [
    "import pickle\n",
    "with open('vectorizer.pkl', 'wb') as file:\n",
    "    pickle.dump(tfidf_vectorizer, file)"
   ]
  }
 ],
 "metadata": {
  "kernelspec": {
   "display_name": "Python 3 (ipykernel)",
   "language": "python",
   "name": "python3"
  },
  "language_info": {
   "codemirror_mode": {
    "name": "ipython",
    "version": 3
   },
   "file_extension": ".py",
   "mimetype": "text/x-python",
   "name": "python",
   "nbconvert_exporter": "python",
   "pygments_lexer": "ipython3",
   "version": "3.12.2"
  }
 },
 "nbformat": 4,
 "nbformat_minor": 5
}
