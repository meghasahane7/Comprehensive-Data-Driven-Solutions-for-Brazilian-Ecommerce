{
 "cells": [
  {
   "cell_type": "code",
   "execution_count": 1,
   "id": "bbc015b0",
   "metadata": {},
   "outputs": [],
   "source": [
    "import pandas as pd\n",
    "import numpy as np\n",
    "import matplotlib.pyplot as plt\n",
    "import seaborn as sns"
   ]
  },
  {
   "cell_type": "code",
   "execution_count": 2,
   "id": "a108458e",
   "metadata": {},
   "outputs": [],
   "source": [
    "df = pd.read_csv('part-00000-tid-6503057286819044125-9528d30b-04de-4e0f-b2fb-4ee7f1df03cb-261-1-c000.csv', low_memory=False)\n",
    "\n"
   ]
  },
  {
   "cell_type": "code",
   "execution_count": 5,
   "id": "ef18e6af",
   "metadata": {},
   "outputs": [
    {
     "data": {
      "text/plain": [
       "(109023, 33)"
      ]
     },
     "execution_count": 5,
     "metadata": {},
     "output_type": "execute_result"
    }
   ],
   "source": [
    "df.shape"
   ]
  },
  {
   "cell_type": "code",
   "execution_count": 6,
   "id": "2246a3b0",
   "metadata": {},
   "outputs": [
    {
     "data": {
      "text/html": [
       "<div>\n",
       "<style scoped>\n",
       "    .dataframe tbody tr th:only-of-type {\n",
       "        vertical-align: middle;\n",
       "    }\n",
       "\n",
       "    .dataframe tbody tr th {\n",
       "        vertical-align: top;\n",
       "    }\n",
       "\n",
       "    .dataframe thead th {\n",
       "        text-align: right;\n",
       "    }\n",
       "</style>\n",
       "<table border=\"1\" class=\"dataframe\">\n",
       "  <thead>\n",
       "    <tr style=\"text-align: right;\">\n",
       "      <th></th>\n",
       "      <th>product_category_name</th>\n",
       "      <th>seller_id</th>\n",
       "      <th>product_id</th>\n",
       "      <th>order_id</th>\n",
       "      <th>customer_id</th>\n",
       "      <th>order_status</th>\n",
       "      <th>order_purchase_timestamp</th>\n",
       "      <th>order_delivered_customer_date</th>\n",
       "      <th>order_estimated_delivery_date</th>\n",
       "      <th>order_item_id</th>\n",
       "      <th>...</th>\n",
       "      <th>review_creation_date</th>\n",
       "      <th>review_answer_timestamp</th>\n",
       "      <th>product_weight_g</th>\n",
       "      <th>product_length_cm</th>\n",
       "      <th>product_height_cm</th>\n",
       "      <th>product_width_cm</th>\n",
       "      <th>seller_city</th>\n",
       "      <th>seller_state</th>\n",
       "      <th>product_category_name_english</th>\n",
       "      <th>Unnamed: 32</th>\n",
       "    </tr>\n",
       "  </thead>\n",
       "  <tbody>\n",
       "    <tr>\n",
       "      <th>0</th>\n",
       "      <td>utilidades_domesticas</td>\n",
       "      <td>3504c0cb71d7fa48d967e0e4c94d59d9</td>\n",
       "      <td>87285b34884572647811a353c7ac498a</td>\n",
       "      <td>e481f51cbdc54678b7cc49136f2d6af7</td>\n",
       "      <td>9ef432eb6251297304e76186b10a928d</td>\n",
       "      <td>delivered</td>\n",
       "      <td>2017-10-02T10:56:33.000Z</td>\n",
       "      <td>2017-10-10T21:25:13.000Z</td>\n",
       "      <td>2017-10-18T00:00:00.000Z</td>\n",
       "      <td>1</td>\n",
       "      <td>...</td>\n",
       "      <td>10/11/2017 0:00</td>\n",
       "      <td>10/12/2017 3:43</td>\n",
       "      <td>500</td>\n",
       "      <td>19</td>\n",
       "      <td>8</td>\n",
       "      <td>13</td>\n",
       "      <td>maua</td>\n",
       "      <td>SP</td>\n",
       "      <td>housewares</td>\n",
       "      <td>NaN</td>\n",
       "    </tr>\n",
       "    <tr>\n",
       "      <th>1</th>\n",
       "      <td>utilidades_domesticas</td>\n",
       "      <td>3504c0cb71d7fa48d967e0e4c94d59d9</td>\n",
       "      <td>87285b34884572647811a353c7ac498a</td>\n",
       "      <td>e481f51cbdc54678b7cc49136f2d6af7</td>\n",
       "      <td>9ef432eb6251297304e76186b10a928d</td>\n",
       "      <td>delivered</td>\n",
       "      <td>2017-10-02T10:56:33.000Z</td>\n",
       "      <td>2017-10-10T21:25:13.000Z</td>\n",
       "      <td>2017-10-18T00:00:00.000Z</td>\n",
       "      <td>1</td>\n",
       "      <td>...</td>\n",
       "      <td>10/11/2017 0:00</td>\n",
       "      <td>10/12/2017 3:43</td>\n",
       "      <td>500</td>\n",
       "      <td>19</td>\n",
       "      <td>8</td>\n",
       "      <td>13</td>\n",
       "      <td>maua</td>\n",
       "      <td>SP</td>\n",
       "      <td>housewares</td>\n",
       "      <td>NaN</td>\n",
       "    </tr>\n",
       "    <tr>\n",
       "      <th>2</th>\n",
       "      <td>utilidades_domesticas</td>\n",
       "      <td>3504c0cb71d7fa48d967e0e4c94d59d9</td>\n",
       "      <td>87285b34884572647811a353c7ac498a</td>\n",
       "      <td>e481f51cbdc54678b7cc49136f2d6af7</td>\n",
       "      <td>9ef432eb6251297304e76186b10a928d</td>\n",
       "      <td>delivered</td>\n",
       "      <td>2017-10-02T10:56:33.000Z</td>\n",
       "      <td>2017-10-10T21:25:13.000Z</td>\n",
       "      <td>2017-10-18T00:00:00.000Z</td>\n",
       "      <td>1</td>\n",
       "      <td>...</td>\n",
       "      <td>10/11/2017 0:00</td>\n",
       "      <td>10/12/2017 3:43</td>\n",
       "      <td>500</td>\n",
       "      <td>19</td>\n",
       "      <td>8</td>\n",
       "      <td>13</td>\n",
       "      <td>maua</td>\n",
       "      <td>SP</td>\n",
       "      <td>housewares</td>\n",
       "      <td>NaN</td>\n",
       "    </tr>\n",
       "    <tr>\n",
       "      <th>3</th>\n",
       "      <td>perfumaria</td>\n",
       "      <td>289cdb325fb7e7f891c38608bf9e0962</td>\n",
       "      <td>595fac2a385ac33a80bd5114aec74eb8</td>\n",
       "      <td>53cdb2fc8bc7dce0b6741e2150273451</td>\n",
       "      <td>b0830fb4747a6c6d20dea0b8c802d7ef</td>\n",
       "      <td>delivered</td>\n",
       "      <td>2018-07-24T20:41:37.000Z</td>\n",
       "      <td>2018-08-07T15:27:45.000Z</td>\n",
       "      <td>2018-08-13T00:00:00.000Z</td>\n",
       "      <td>1</td>\n",
       "      <td>...</td>\n",
       "      <td>8/8/2018 0:00</td>\n",
       "      <td>8/8/2018 18:37</td>\n",
       "      <td>400</td>\n",
       "      <td>19</td>\n",
       "      <td>13</td>\n",
       "      <td>19</td>\n",
       "      <td>belo horizonte</td>\n",
       "      <td>SP</td>\n",
       "      <td>perfumery</td>\n",
       "      <td>NaN</td>\n",
       "    </tr>\n",
       "    <tr>\n",
       "      <th>4</th>\n",
       "      <td>automotivo</td>\n",
       "      <td>4869f7a5dfa277a7dca6462dcf3b52b2</td>\n",
       "      <td>aa4383b373c6aca5d8797843e5594415</td>\n",
       "      <td>47770eb9100c2d0c44946d9cf07ec65d</td>\n",
       "      <td>41ce2a54c0b03bf3443c3d931a367089</td>\n",
       "      <td>delivered</td>\n",
       "      <td>2018-08-08T08:38:49.000Z</td>\n",
       "      <td>2018-08-17T18:06:29.000Z</td>\n",
       "      <td>2018-09-04T00:00:00.000Z</td>\n",
       "      <td>1</td>\n",
       "      <td>...</td>\n",
       "      <td>8/18/2018 0:00</td>\n",
       "      <td>8/22/2018 19:07</td>\n",
       "      <td>420</td>\n",
       "      <td>24</td>\n",
       "      <td>19</td>\n",
       "      <td>21</td>\n",
       "      <td>guariba</td>\n",
       "      <td>SP</td>\n",
       "      <td>auto</td>\n",
       "      <td>NaN</td>\n",
       "    </tr>\n",
       "  </tbody>\n",
       "</table>\n",
       "<p>5 rows × 33 columns</p>\n",
       "</div>"
      ],
      "text/plain": [
       "   product_category_name                         seller_id  \\\n",
       "0  utilidades_domesticas  3504c0cb71d7fa48d967e0e4c94d59d9   \n",
       "1  utilidades_domesticas  3504c0cb71d7fa48d967e0e4c94d59d9   \n",
       "2  utilidades_domesticas  3504c0cb71d7fa48d967e0e4c94d59d9   \n",
       "3             perfumaria  289cdb325fb7e7f891c38608bf9e0962   \n",
       "4             automotivo  4869f7a5dfa277a7dca6462dcf3b52b2   \n",
       "\n",
       "                         product_id                          order_id  \\\n",
       "0  87285b34884572647811a353c7ac498a  e481f51cbdc54678b7cc49136f2d6af7   \n",
       "1  87285b34884572647811a353c7ac498a  e481f51cbdc54678b7cc49136f2d6af7   \n",
       "2  87285b34884572647811a353c7ac498a  e481f51cbdc54678b7cc49136f2d6af7   \n",
       "3  595fac2a385ac33a80bd5114aec74eb8  53cdb2fc8bc7dce0b6741e2150273451   \n",
       "4  aa4383b373c6aca5d8797843e5594415  47770eb9100c2d0c44946d9cf07ec65d   \n",
       "\n",
       "                        customer_id order_status  order_purchase_timestamp  \\\n",
       "0  9ef432eb6251297304e76186b10a928d    delivered  2017-10-02T10:56:33.000Z   \n",
       "1  9ef432eb6251297304e76186b10a928d    delivered  2017-10-02T10:56:33.000Z   \n",
       "2  9ef432eb6251297304e76186b10a928d    delivered  2017-10-02T10:56:33.000Z   \n",
       "3  b0830fb4747a6c6d20dea0b8c802d7ef    delivered  2018-07-24T20:41:37.000Z   \n",
       "4  41ce2a54c0b03bf3443c3d931a367089    delivered  2018-08-08T08:38:49.000Z   \n",
       "\n",
       "  order_delivered_customer_date order_estimated_delivery_date order_item_id  \\\n",
       "0      2017-10-10T21:25:13.000Z      2017-10-18T00:00:00.000Z             1   \n",
       "1      2017-10-10T21:25:13.000Z      2017-10-18T00:00:00.000Z             1   \n",
       "2      2017-10-10T21:25:13.000Z      2017-10-18T00:00:00.000Z             1   \n",
       "3      2018-08-07T15:27:45.000Z      2018-08-13T00:00:00.000Z             1   \n",
       "4      2018-08-17T18:06:29.000Z      2018-09-04T00:00:00.000Z             1   \n",
       "\n",
       "   ... review_creation_date review_answer_timestamp product_weight_g  \\\n",
       "0  ...      10/11/2017 0:00         10/12/2017 3:43              500   \n",
       "1  ...      10/11/2017 0:00         10/12/2017 3:43              500   \n",
       "2  ...      10/11/2017 0:00         10/12/2017 3:43              500   \n",
       "3  ...        8/8/2018 0:00          8/8/2018 18:37              400   \n",
       "4  ...       8/18/2018 0:00         8/22/2018 19:07              420   \n",
       "\n",
       "  product_length_cm product_height_cm product_width_cm     seller_city  \\\n",
       "0                19                 8               13            maua   \n",
       "1                19                 8               13            maua   \n",
       "2                19                 8               13            maua   \n",
       "3                19                13               19  belo horizonte   \n",
       "4                24                19               21         guariba   \n",
       "\n",
       "  seller_state product_category_name_english Unnamed: 32  \n",
       "0           SP                    housewares         NaN  \n",
       "1           SP                    housewares         NaN  \n",
       "2           SP                    housewares         NaN  \n",
       "3           SP                     perfumery         NaN  \n",
       "4           SP                          auto         NaN  \n",
       "\n",
       "[5 rows x 33 columns]"
      ]
     },
     "execution_count": 6,
     "metadata": {},
     "output_type": "execute_result"
    }
   ],
   "source": [
    "df.head()"
   ]
  },
  {
   "cell_type": "markdown",
   "id": "d137ccc9",
   "metadata": {},
   "source": [
    "# I. Recency\n",
    "Recency in customer churn refers to the measure of how recently a customer has interacted with a company's product or service. It is a critical metric in customer relationship management (CRM) and is often used to predict customer churn. By analyzing recency, businesses can identify customers who may be at risk of churning and take proactive measures to retain them.\n",
    "\n",
    "Measuring Recency\n",
    "Recency can be measured using various metrics, depending on the type of business and the nature of customer interactions. Common measures include:\n",
    "\n",
    "Last Purchase Date: For retail businesses, recency might be the date of the last purchase.\n",
    "\n",
    "1. The last purchase date of every individual customer is taken using the group by function.\n",
    "2. Recency is calculated by subtracting the last recent date available in the dataset with every customer's last purchase date."
   ]
  },
  {
   "cell_type": "code",
   "execution_count": 3,
   "id": "f7b936d4",
   "metadata": {},
   "outputs": [],
   "source": [
    "from datetime import datetime\n",
    "# Finding most recent date of purchase\n",
    "df['order_purchase_timestamp'] = pd.to_datetime(df['order_purchase_timestamp'], errors='coerce')\n"
   ]
  },
  {
   "cell_type": "code",
   "execution_count": 4,
   "id": "45f94813",
   "metadata": {},
   "outputs": [
    {
     "data": {
      "text/plain": [
       "23"
      ]
     },
     "execution_count": 4,
     "metadata": {},
     "output_type": "execute_result"
    }
   ],
   "source": [
    "df['order_purchase_timestamp'].isna().sum()"
   ]
  },
  {
   "cell_type": "code",
   "execution_count": 5,
   "id": "7555b292",
   "metadata": {},
   "outputs": [],
   "source": [
    "df = df.dropna(subset=['order_purchase_timestamp'])"
   ]
  },
  {
   "cell_type": "code",
   "execution_count": 10,
   "id": "fd9a337b",
   "metadata": {},
   "outputs": [
    {
     "data": {
      "text/plain": [
       "0"
      ]
     },
     "execution_count": 10,
     "metadata": {},
     "output_type": "execute_result"
    }
   ],
   "source": [
    "df['order_purchase_timestamp'].isna().sum()"
   ]
  },
  {
   "cell_type": "code",
   "execution_count": 6,
   "id": "407e44cd",
   "metadata": {},
   "outputs": [],
   "source": [
    "# Convert all datetimes to be timezone-naive\n",
    "df['order_purchase_timestamp'] = df['order_purchase_timestamp'].apply(lambda x: x.replace(tzinfo=None) if x is not pd.NaT else x)"
   ]
  },
  {
   "cell_type": "code",
   "execution_count": 7,
   "id": "b9edf14d",
   "metadata": {},
   "outputs": [
    {
     "name": "stdout",
     "output_type": "stream",
     "text": [
      "The most recent date in the available dataset is: 2018-09-03 09:06:57\n"
     ]
    }
   ],
   "source": [
    "# Find the most recent date of purchase\n",
    "most_recent_date = df['order_purchase_timestamp'].max()\n",
    "\n",
    "# Convert most_recent_date to a datetime object\n",
    "most_recent_date = most_recent_date.to_pydatetime()\n",
    "print('The most recent date in the available dataset is:', most_recent_date)"
   ]
  },
  {
   "cell_type": "code",
   "execution_count": 8,
   "id": "75583546",
   "metadata": {},
   "outputs": [],
   "source": [
    "# Find the last purchase date for each customer_id\n",
    "df['last_purchase_date'] = df.groupby('customer_id')['order_purchase_timestamp'].transform('max')\n"
   ]
  },
  {
   "cell_type": "code",
   "execution_count": 9,
   "id": "89ed49c2",
   "metadata": {},
   "outputs": [],
   "source": [
    "df['recency'] = (most_recent_date - df['last_purchase_date']).dt.days"
   ]
  },
  {
   "cell_type": "code",
   "execution_count": 10,
   "id": "b20db122",
   "metadata": {},
   "outputs": [
    {
     "data": {
      "text/plain": [
       "count    109000.000000\n",
       "mean        246.216569\n",
       "std         241.865056\n",
       "min           0.000000\n",
       "25%         121.000000\n",
       "50%         227.000000\n",
       "75%         356.000000\n",
       "max       61606.000000\n",
       "Name: recency, dtype: float64"
      ]
     },
     "execution_count": 10,
     "metadata": {},
     "output_type": "execute_result"
    }
   ],
   "source": [
    "df['recency'].describe()"
   ]
  },
  {
   "cell_type": "code",
   "execution_count": 11,
   "id": "67f3680b",
   "metadata": {},
   "outputs": [],
   "source": [
    "# Define caps for recency\n",
    "lower_cap = df['recency'].quantile(0.00)  # 5th percentile\n",
    "upper_cap = df['recency'].quantile(0.98)  # 95th percentile\n",
    "\n",
    "# Cap the values\n",
    "df['recency'] = np.clip(df['recency'], lower_cap, upper_cap)\n"
   ]
  },
  {
   "cell_type": "code",
   "execution_count": 12,
   "id": "6b2b2252",
   "metadata": {},
   "outputs": [
    {
     "data": {
      "text/plain": [
       "(109000, 35)"
      ]
     },
     "execution_count": 12,
     "metadata": {},
     "output_type": "execute_result"
    }
   ],
   "source": [
    "df.shape"
   ]
  },
  {
   "cell_type": "code",
   "execution_count": 13,
   "id": "e73e988e",
   "metadata": {},
   "outputs": [
    {
     "name": "stdout",
     "output_type": "stream",
     "text": [
      "0.0 567.0\n"
     ]
    }
   ],
   "source": [
    "print(lower_cap,upper_cap)"
   ]
  },
  {
   "cell_type": "code",
   "execution_count": 14,
   "id": "4652b20c",
   "metadata": {},
   "outputs": [
    {
     "ename": "NameError",
     "evalue": "name 'lower_bound' is not defined",
     "output_type": "error",
     "traceback": [
      "\u001b[1;31m---------------------------------------------------------------------------\u001b[0m",
      "\u001b[1;31mNameError\u001b[0m                                 Traceback (most recent call last)",
      "Input \u001b[1;32mIn [14]\u001b[0m, in \u001b[0;36m<cell line: 2>\u001b[1;34m()\u001b[0m\n\u001b[0;32m      1\u001b[0m \u001b[38;5;66;03m# Identify outliers\u001b[39;00m\n\u001b[1;32m----> 2\u001b[0m outliers \u001b[38;5;241m=\u001b[39m df[(df[\u001b[38;5;124m'\u001b[39m\u001b[38;5;124mrecency\u001b[39m\u001b[38;5;124m'\u001b[39m] \u001b[38;5;241m<\u001b[39m \u001b[43mlower_bound\u001b[49m) \u001b[38;5;241m|\u001b[39m (df[\u001b[38;5;124m'\u001b[39m\u001b[38;5;124mrecency\u001b[39m\u001b[38;5;124m'\u001b[39m] \u001b[38;5;241m>\u001b[39m upper_bound)]\n\u001b[0;32m      4\u001b[0m \u001b[38;5;66;03m# Count the number of outliers\u001b[39;00m\n\u001b[0;32m      5\u001b[0m num_outliers \u001b[38;5;241m=\u001b[39m \u001b[38;5;28mlen\u001b[39m(outliers)\n",
      "\u001b[1;31mNameError\u001b[0m: name 'lower_bound' is not defined"
     ]
    }
   ],
   "source": [
    "# Identify outliers\n",
    "outliers = df[(df['recency'] < lower_bound) | (df['recency'] > upper_bound)]\n",
    "\n",
    "# Count the number of outliers\n",
    "num_outliers = len(outliers)\n",
    "print(f\"Number of outliers: {num_outliers}\")"
   ]
  },
  {
   "cell_type": "code",
   "execution_count": 18,
   "id": "08bb9650",
   "metadata": {},
   "outputs": [],
   "source": [
    "# Creating new dataframe \"recency\"\n",
    "recency = df[['customer_unique_id','recency','last_purchase_date']].copy()\n",
    "# Renaming columns\n",
    "recency = recency.rename(columns={\n",
    "    'last_purchase_date': 'LastPurchaseDate'\n",
    "})"
   ]
  },
  {
   "cell_type": "code",
   "execution_count": 16,
   "id": "f5c52a9a",
   "metadata": {},
   "outputs": [
    {
     "data": {
      "text/html": [
       "<div>\n",
       "<style scoped>\n",
       "    .dataframe tbody tr th:only-of-type {\n",
       "        vertical-align: middle;\n",
       "    }\n",
       "\n",
       "    .dataframe tbody tr th {\n",
       "        vertical-align: top;\n",
       "    }\n",
       "\n",
       "    .dataframe thead th {\n",
       "        text-align: right;\n",
       "    }\n",
       "</style>\n",
       "<table border=\"1\" class=\"dataframe\">\n",
       "  <thead>\n",
       "    <tr style=\"text-align: right;\">\n",
       "      <th></th>\n",
       "      <th>customer_unique_id</th>\n",
       "      <th>recency</th>\n",
       "      <th>LastPurchaseDate</th>\n",
       "    </tr>\n",
       "  </thead>\n",
       "  <tbody>\n",
       "    <tr>\n",
       "      <th>0</th>\n",
       "      <td>7c396fd4830fd04220f754e42b4e5bff</td>\n",
       "      <td>335.0</td>\n",
       "      <td>2017-10-02 10:56:33</td>\n",
       "    </tr>\n",
       "    <tr>\n",
       "      <th>1</th>\n",
       "      <td>7c396fd4830fd04220f754e42b4e5bff</td>\n",
       "      <td>335.0</td>\n",
       "      <td>2017-10-02 10:56:33</td>\n",
       "    </tr>\n",
       "    <tr>\n",
       "      <th>2</th>\n",
       "      <td>7c396fd4830fd04220f754e42b4e5bff</td>\n",
       "      <td>335.0</td>\n",
       "      <td>2017-10-02 10:56:33</td>\n",
       "    </tr>\n",
       "    <tr>\n",
       "      <th>3</th>\n",
       "      <td>af07308b275d755c9edb36a90c618231</td>\n",
       "      <td>40.0</td>\n",
       "      <td>2018-07-24 20:41:37</td>\n",
       "    </tr>\n",
       "    <tr>\n",
       "      <th>4</th>\n",
       "      <td>3a653a41f6f9fc3d2a113cf8398680e8</td>\n",
       "      <td>26.0</td>\n",
       "      <td>2018-08-08 08:38:49</td>\n",
       "    </tr>\n",
       "  </tbody>\n",
       "</table>\n",
       "</div>"
      ],
      "text/plain": [
       "                 customer_unique_id  recency    LastPurchaseDate\n",
       "0  7c396fd4830fd04220f754e42b4e5bff    335.0 2017-10-02 10:56:33\n",
       "1  7c396fd4830fd04220f754e42b4e5bff    335.0 2017-10-02 10:56:33\n",
       "2  7c396fd4830fd04220f754e42b4e5bff    335.0 2017-10-02 10:56:33\n",
       "3  af07308b275d755c9edb36a90c618231     40.0 2018-07-24 20:41:37\n",
       "4  3a653a41f6f9fc3d2a113cf8398680e8     26.0 2018-08-08 08:38:49"
      ]
     },
     "execution_count": 16,
     "metadata": {},
     "output_type": "execute_result"
    }
   ],
   "source": [
    "recency.head()"
   ]
  },
  {
   "cell_type": "code",
   "execution_count": 100,
   "id": "e6dcbe13",
   "metadata": {},
   "outputs": [
    {
     "data": {
      "text/plain": [
       "567.0"
      ]
     },
     "execution_count": 100,
     "metadata": {},
     "output_type": "execute_result"
    }
   ],
   "source": [
    "recency['recency'].max()\n"
   ]
  },
  {
   "cell_type": "code",
   "execution_count": 101,
   "id": "b2bcd66d",
   "metadata": {},
   "outputs": [
    {
     "data": {
      "text/html": [
       "<div>\n",
       "<style scoped>\n",
       "    .dataframe tbody tr th:only-of-type {\n",
       "        vertical-align: middle;\n",
       "    }\n",
       "\n",
       "    .dataframe tbody tr th {\n",
       "        vertical-align: top;\n",
       "    }\n",
       "\n",
       "    .dataframe thead th {\n",
       "        text-align: right;\n",
       "    }\n",
       "</style>\n",
       "<table border=\"1\" class=\"dataframe\">\n",
       "  <thead>\n",
       "    <tr style=\"text-align: right;\">\n",
       "      <th></th>\n",
       "      <th>recency</th>\n",
       "    </tr>\n",
       "  </thead>\n",
       "  <tbody>\n",
       "    <tr>\n",
       "      <th>count</th>\n",
       "      <td>109000.000000</td>\n",
       "    </tr>\n",
       "    <tr>\n",
       "      <th>mean</th>\n",
       "      <td>244.976073</td>\n",
       "    </tr>\n",
       "    <tr>\n",
       "      <th>std</th>\n",
       "      <td>152.004255</td>\n",
       "    </tr>\n",
       "    <tr>\n",
       "      <th>min</th>\n",
       "      <td>0.000000</td>\n",
       "    </tr>\n",
       "    <tr>\n",
       "      <th>25%</th>\n",
       "      <td>121.000000</td>\n",
       "    </tr>\n",
       "    <tr>\n",
       "      <th>50%</th>\n",
       "      <td>227.000000</td>\n",
       "    </tr>\n",
       "    <tr>\n",
       "      <th>75%</th>\n",
       "      <td>356.000000</td>\n",
       "    </tr>\n",
       "    <tr>\n",
       "      <th>max</th>\n",
       "      <td>567.000000</td>\n",
       "    </tr>\n",
       "  </tbody>\n",
       "</table>\n",
       "</div>"
      ],
      "text/plain": [
       "             recency\n",
       "count  109000.000000\n",
       "mean      244.976073\n",
       "std       152.004255\n",
       "min         0.000000\n",
       "25%       121.000000\n",
       "50%       227.000000\n",
       "75%       356.000000\n",
       "max       567.000000"
      ]
     },
     "execution_count": 101,
     "metadata": {},
     "output_type": "execute_result"
    }
   ],
   "source": [
    "recency.describe()"
   ]
  },
  {
   "cell_type": "code",
   "execution_count": 13,
   "id": "1d1f40f3",
   "metadata": {},
   "outputs": [
    {
     "name": "stdout",
     "output_type": "stream",
     "text": [
      "<class 'pandas.core.frame.DataFrame'>\n",
      "Int64Index: 109000 entries, 0 to 109022\n",
      "Data columns (total 35 columns):\n",
      " #   Column                         Non-Null Count   Dtype         \n",
      "---  ------                         --------------   -----         \n",
      " 0   product_category_name          108999 non-null  object        \n",
      " 1   seller_id                      109000 non-null  object        \n",
      " 2   product_id                     109000 non-null  object        \n",
      " 3   order_id                       109000 non-null  object        \n",
      " 4   customer_id                    109000 non-null  object        \n",
      " 5   order_status                   109000 non-null  object        \n",
      " 6   order_purchase_timestamp       109000 non-null  datetime64[ns]\n",
      " 7   order_delivered_customer_date  109000 non-null  object        \n",
      " 8   order_estimated_delivery_date  109000 non-null  object        \n",
      " 9   order_item_id                  109000 non-null  object        \n",
      " 10  shipping_limit_date            109000 non-null  object        \n",
      " 11  price                          109000 non-null  object        \n",
      " 12  freight_value                  109000 non-null  object        \n",
      " 13  payment_sequential             108998 non-null  object        \n",
      " 14  payment_type                   108998 non-null  object        \n",
      " 15  payment_installments           108996 non-null  object        \n",
      " 16  payment_value                  108996 non-null  object        \n",
      " 17  customer_unique_id             108996 non-null  object        \n",
      " 18  customer_zip_code_prefix       108996 non-null  object        \n",
      " 19  customer_city                  108996 non-null  object        \n",
      " 20  customer_state                 108996 non-null  object        \n",
      " 21  review_id                      108996 non-null  object        \n",
      " 22  review_score                   108996 non-null  object        \n",
      " 23  review_creation_date           108996 non-null  object        \n",
      " 24  review_answer_timestamp        108969 non-null  object        \n",
      " 25  product_weight_g               108961 non-null  object        \n",
      " 26  product_length_cm              108961 non-null  object        \n",
      " 27  product_height_cm              108961 non-null  object        \n",
      " 28  product_width_cm               108956 non-null  object        \n",
      " 29  seller_city                    108957 non-null  object        \n",
      " 30  seller_state                   108955 non-null  object        \n",
      " 31  product_category_name_english  108955 non-null  object        \n",
      " 32  Unnamed: 32                    1 non-null       object        \n",
      " 33  last_purchase_date             109000 non-null  datetime64[ns]\n",
      " 34  recency                        109000 non-null  float64       \n",
      "dtypes: datetime64[ns](2), float64(1), object(32)\n",
      "memory usage: 29.9+ MB\n"
     ]
    }
   ],
   "source": [
    "df.info()"
   ]
  },
  {
   "cell_type": "markdown",
   "id": "61d518d2",
   "metadata": {},
   "source": [
    "# Observations:\n",
    "1. The average recency is approximately 244 days. This indicates that, on average, customers made their last purchase or engagement about 244 days ago.\n",
    "2. The minimum recency value is 0.These customers represent very recent activity.\n",
    "3. Customers with low recency values may be more receptive to promotions or re-engagement campaigns.\n",
    "4. Higher recency values represents customers who have not made a purchase for an extended period. Strategies to re-engage or retain these      customers may be needed.\n",
    "*Strategies to reduce customer's recencies:\n",
    "1. Promotional Campaigns: Launch targeted promotional campaigns, such as discounts, special offers, or limited-time promotions\n",
    "2. Loyalty Programs: Rewards customers for frequent purchases. Offer points, discounts, or exclusive access to encourage repeat business.\n",
    "3. Reactivation Campaigns: Identify dormant customers (those with high recency values) and launch targeted reactivation campaigns. Provide special incentives or discounts to encourage them to return."
   ]
  },
  {
   "cell_type": "markdown",
   "id": "a7cb9cec",
   "metadata": {},
   "source": [
    "# Frequency"
   ]
  },
  {
   "cell_type": "code",
   "execution_count": 19,
   "id": "777c9faa",
   "metadata": {},
   "outputs": [],
   "source": [
    "frequency = df.groupby('customer_unique_id')['order_id'].count()\n",
    "df['frequency'] = df['customer_unique_id'].map(frequency)"
   ]
  },
  {
   "cell_type": "code",
   "execution_count": 20,
   "id": "4b0e4699",
   "metadata": {},
   "outputs": [
    {
     "data": {
      "text/html": [
       "<div>\n",
       "<style scoped>\n",
       "    .dataframe tbody tr th:only-of-type {\n",
       "        vertical-align: middle;\n",
       "    }\n",
       "\n",
       "    .dataframe tbody tr th {\n",
       "        vertical-align: top;\n",
       "    }\n",
       "\n",
       "    .dataframe thead th {\n",
       "        text-align: right;\n",
       "    }\n",
       "</style>\n",
       "<table border=\"1\" class=\"dataframe\">\n",
       "  <thead>\n",
       "    <tr style=\"text-align: right;\">\n",
       "      <th></th>\n",
       "      <th>customer_unique_id</th>\n",
       "      <th>frequency</th>\n",
       "    </tr>\n",
       "  </thead>\n",
       "  <tbody>\n",
       "    <tr>\n",
       "      <th>0</th>\n",
       "      <td>7c396fd4830fd04220f754e42b4e5bff</td>\n",
       "      <td>4.0</td>\n",
       "    </tr>\n",
       "    <tr>\n",
       "      <th>1</th>\n",
       "      <td>7c396fd4830fd04220f754e42b4e5bff</td>\n",
       "      <td>4.0</td>\n",
       "    </tr>\n",
       "    <tr>\n",
       "      <th>2</th>\n",
       "      <td>7c396fd4830fd04220f754e42b4e5bff</td>\n",
       "      <td>4.0</td>\n",
       "    </tr>\n",
       "    <tr>\n",
       "      <th>3</th>\n",
       "      <td>af07308b275d755c9edb36a90c618231</td>\n",
       "      <td>1.0</td>\n",
       "    </tr>\n",
       "    <tr>\n",
       "      <th>4</th>\n",
       "      <td>3a653a41f6f9fc3d2a113cf8398680e8</td>\n",
       "      <td>1.0</td>\n",
       "    </tr>\n",
       "  </tbody>\n",
       "</table>\n",
       "</div>"
      ],
      "text/plain": [
       "                 customer_unique_id  frequency\n",
       "0  7c396fd4830fd04220f754e42b4e5bff        4.0\n",
       "1  7c396fd4830fd04220f754e42b4e5bff        4.0\n",
       "2  7c396fd4830fd04220f754e42b4e5bff        4.0\n",
       "3  af07308b275d755c9edb36a90c618231        1.0\n",
       "4  3a653a41f6f9fc3d2a113cf8398680e8        1.0"
      ]
     },
     "execution_count": 20,
     "metadata": {},
     "output_type": "execute_result"
    }
   ],
   "source": [
    "# Creating a new dataframe \"frequency\"\n",
    "frequency = df[['customer_unique_id','frequency']].copy()\n",
    "frequency.head()"
   ]
  },
  {
   "cell_type": "code",
   "execution_count": 19,
   "id": "6ffbb7b7",
   "metadata": {},
   "outputs": [
    {
     "data": {
      "image/png": "[encoded data removed]",
      "text/plain": [
       "<Figure size 864x504 with 1 Axes>"
      ]
     },
     "metadata": {
      "needs_background": "light"
     },
     "output_type": "display_data"
    }
   ],
   "source": [
    "# Creating a new DataFrame \"frequency\"\n",
    "frequency = df[['customer_unique_id', 'frequency']].copy()\n",
    "\n",
    "# Creating frequency count and converting to percentages\n",
    "frequency_count = frequency['frequency'].value_counts().sort_index()\n",
    "frequency_percentage = (frequency_count / frequency_count.sum()) * 100\n",
    "\n",
    "# Select top 10 counts\n",
    "top_10_frequency = frequency_percentage.nlargest(10)\n",
    "\n",
    "# Create a bar plot\n",
    "plt.figure(figsize=(12, 7))\n",
    "bar_plot = sns.barplot(x=top_10_frequency.index, y=top_10_frequency.values, palette='viridis')\n",
    "\n",
    "# Add titles and labels\n",
    "plt.title('Top 10 Frequency Distribution of Frequency Values (Percentage)', fontsize=16)\n",
    "plt.xlabel('Frequency', fontsize=14)\n",
    "plt.ylabel('Percentage (%)', fontsize=14)\n",
    "\n",
    "# Rotate x labels if necessary\n",
    "plt.xticks(rotation=45)\n",
    "\n",
    "# Add percentage labels on top of bars\n",
    "for p in bar_plot.patches:\n",
    "    bar_plot.annotate(f'{p.get_height():.2f}%', \n",
    "                      (p.get_x() + p.get_width() / 2., p.get_height()), \n",
    "                      ha='center', va='center',\n",
    "                      xytext=(0, 5), \n",
    "                      textcoords='offset points', \n",
    "                      fontsize=12, color='black')\n",
    "\n",
    "# Show the plot\n",
    "plt.tight_layout()\n",
    "plt.show()"
   ]
  },
  {
   "cell_type": "code",
   "execution_count": 110,
   "id": "b617300b",
   "metadata": {},
   "outputs": [
    {
     "data": {
      "text/html": [
       "<div>\n",
       "<style scoped>\n",
       "    .dataframe tbody tr th:only-of-type {\n",
       "        vertical-align: middle;\n",
       "    }\n",
       "\n",
       "    .dataframe tbody tr th {\n",
       "        vertical-align: top;\n",
       "    }\n",
       "\n",
       "    .dataframe thead th {\n",
       "        text-align: right;\n",
       "    }\n",
       "</style>\n",
       "<table border=\"1\" class=\"dataframe\">\n",
       "  <thead>\n",
       "    <tr style=\"text-align: right;\">\n",
       "      <th></th>\n",
       "      <th>frequency</th>\n",
       "    </tr>\n",
       "  </thead>\n",
       "  <tbody>\n",
       "    <tr>\n",
       "      <th>count</th>\n",
       "      <td>108996.000000</td>\n",
       "    </tr>\n",
       "    <tr>\n",
       "      <th>mean</th>\n",
       "      <td>1.808690</td>\n",
       "    </tr>\n",
       "    <tr>\n",
       "      <th>std</th>\n",
       "      <td>2.863368</td>\n",
       "    </tr>\n",
       "    <tr>\n",
       "      <th>min</th>\n",
       "      <td>1.000000</td>\n",
       "    </tr>\n",
       "    <tr>\n",
       "      <th>25%</th>\n",
       "      <td>1.000000</td>\n",
       "    </tr>\n",
       "    <tr>\n",
       "      <th>50%</th>\n",
       "      <td>1.000000</td>\n",
       "    </tr>\n",
       "    <tr>\n",
       "      <th>75%</th>\n",
       "      <td>2.000000</td>\n",
       "    </tr>\n",
       "    <tr>\n",
       "      <th>max</th>\n",
       "      <td>75.000000</td>\n",
       "    </tr>\n",
       "  </tbody>\n",
       "</table>\n",
       "</div>"
      ],
      "text/plain": [
       "           frequency\n",
       "count  108996.000000\n",
       "mean        1.808690\n",
       "std         2.863368\n",
       "min         1.000000\n",
       "25%         1.000000\n",
       "50%         1.000000\n",
       "75%         2.000000\n",
       "max        75.000000"
      ]
     },
     "execution_count": 110,
     "metadata": {},
     "output_type": "execute_result"
    }
   ],
   "source": [
    "frequency.describe()"
   ]
  },
  {
   "cell_type": "markdown",
   "id": "93b32a4b",
   "metadata": {},
   "source": [
    "#### Observations:\n",
    "1. The mean frequency is approximately 1.81, suggesting that, on average, customers make less than two purchases. \n",
    "   This indicates that a significant portion of the customer base tends to have infrequent purchase behavior.(~70%)\n",
    "2. The maximum frequency of 75 suggests the presence of outliers, i.e., a few customers with exceptionally high purchase frequency. \n",
    "   These outliers could represent a specific segment of highly engaged or active customers.\n",
    "3. Marketing Strategy Implications: For customers with a frequency of 1, strategies could focus on increasing engagement \n",
    "   and encouraging repeat purchases. For higher-frequency customers, loyalty programs or personalized offerings may be effective.\n",
    "\n",
    "*To encourage one-time customers to make repeat purchases, businesses can implement:\n",
    "1. Personalized Recommendations: Analyze the purchase history of one-time customers and provide personalized product recommendations based      on their preferences.\n",
    "2. Loyalty Programs: Introduce a loyalty program that rewards customers for repeat purchases. Offer points, discounts, or exclusive perks       for every transaction.\n",
    "3. Special Promotions: Create targeted promotions or exclusive offers for one-time customers. Provide time-limited discounts, buy-one-get-      one-free (BOGO) deals, or unique promotions to encourage them to make another purchase.\n",
    "4. Post-Purchase Communication: Implement a strategic post-purchase communication strategy. Send personalized thank-you emails, follow-up        surveys, or feedback requests. Use these interactions to express appreciation, gather insights, and encourage future engagement.\n",
    "5. Re-Engagement Campaigns: Design re-engagement campaigns specifically targeting one-time customers. Utilize email marketing, social media,    or other channels to remind them about your brand, showcase new products, and highlight any ongoing promotions."
   ]
  },
  {
   "cell_type": "code",
   "execution_count": null,
   "id": "71836df5",
   "metadata": {},
   "outputs": [],
   "source": []
  },
  {
   "cell_type": "code",
   "execution_count": 21,
   "id": "5500a4c2",
   "metadata": {},
   "outputs": [],
   "source": [
    "df['freight_value'] = pd.to_numeric(df['freight_value'], errors='coerce').fillna(0).astype(int)\n",
    "df['payment_value'] = pd.to_numeric(df['payment_value'], errors='coerce').fillna(0).astype(int)\n"
   ]
  },
  {
   "cell_type": "code",
   "execution_count": 22,
   "id": "f2f359ba",
   "metadata": {},
   "outputs": [],
   "source": [
    "monetary_value = df.groupby('customer_unique_id')['payment_value'].sum()\n"
   ]
  },
  {
   "cell_type": "code",
   "execution_count": 23,
   "id": "9b15b8cc",
   "metadata": {},
   "outputs": [],
   "source": [
    "df['monetary_value'] = df['customer_unique_id'].map(monetary_value)\n"
   ]
  },
  {
   "cell_type": "code",
   "execution_count": 24,
   "id": "fad921bd",
   "metadata": {},
   "outputs": [
    {
     "data": {
      "text/html": [
       "<div>\n",
       "<style scoped>\n",
       "    .dataframe tbody tr th:only-of-type {\n",
       "        vertical-align: middle;\n",
       "    }\n",
       "\n",
       "    .dataframe tbody tr th {\n",
       "        vertical-align: top;\n",
       "    }\n",
       "\n",
       "    .dataframe thead th {\n",
       "        text-align: right;\n",
       "    }\n",
       "</style>\n",
       "<table border=\"1\" class=\"dataframe\">\n",
       "  <thead>\n",
       "    <tr style=\"text-align: right;\">\n",
       "      <th></th>\n",
       "      <th>customer_unique_id</th>\n",
       "      <th>monetary_value</th>\n",
       "    </tr>\n",
       "  </thead>\n",
       "  <tbody>\n",
       "    <tr>\n",
       "      <th>0</th>\n",
       "      <td>7c396fd4830fd04220f754e42b4e5bff</td>\n",
       "      <td>82.0</td>\n",
       "    </tr>\n",
       "    <tr>\n",
       "      <th>1</th>\n",
       "      <td>7c396fd4830fd04220f754e42b4e5bff</td>\n",
       "      <td>82.0</td>\n",
       "    </tr>\n",
       "    <tr>\n",
       "      <th>2</th>\n",
       "      <td>7c396fd4830fd04220f754e42b4e5bff</td>\n",
       "      <td>82.0</td>\n",
       "    </tr>\n",
       "    <tr>\n",
       "      <th>3</th>\n",
       "      <td>af07308b275d755c9edb36a90c618231</td>\n",
       "      <td>141.0</td>\n",
       "    </tr>\n",
       "    <tr>\n",
       "      <th>4</th>\n",
       "      <td>3a653a41f6f9fc3d2a113cf8398680e8</td>\n",
       "      <td>179.0</td>\n",
       "    </tr>\n",
       "  </tbody>\n",
       "</table>\n",
       "</div>"
      ],
      "text/plain": [
       "                 customer_unique_id  monetary_value\n",
       "0  7c396fd4830fd04220f754e42b4e5bff            82.0\n",
       "1  7c396fd4830fd04220f754e42b4e5bff            82.0\n",
       "2  7c396fd4830fd04220f754e42b4e5bff            82.0\n",
       "3  af07308b275d755c9edb36a90c618231           141.0\n",
       "4  3a653a41f6f9fc3d2a113cf8398680e8           179.0"
      ]
     },
     "execution_count": 24,
     "metadata": {},
     "output_type": "execute_result"
    }
   ],
   "source": [
    "# Creating a new dataframe \"monetary\"\n",
    "monetary = df[['customer_unique_id','monetary_value']].copy()\n",
    "monetary.head()"
   ]
  },
  {
   "cell_type": "code",
   "execution_count": 24,
   "id": "0cebdfc9",
   "metadata": {},
   "outputs": [
    {
     "data": {
      "text/html": [
       "<div>\n",
       "<style scoped>\n",
       "    .dataframe tbody tr th:only-of-type {\n",
       "        vertical-align: middle;\n",
       "    }\n",
       "\n",
       "    .dataframe tbody tr th {\n",
       "        vertical-align: top;\n",
       "    }\n",
       "\n",
       "    .dataframe thead th {\n",
       "        text-align: right;\n",
       "    }\n",
       "</style>\n",
       "<table border=\"1\" class=\"dataframe\">\n",
       "  <thead>\n",
       "    <tr style=\"text-align: right;\">\n",
       "      <th></th>\n",
       "      <th>monetary_value</th>\n",
       "    </tr>\n",
       "  </thead>\n",
       "  <tbody>\n",
       "    <tr>\n",
       "      <th>count</th>\n",
       "      <td>108996.000000</td>\n",
       "    </tr>\n",
       "    <tr>\n",
       "      <th>mean</th>\n",
       "      <td>369.532854</td>\n",
       "    </tr>\n",
       "    <tr>\n",
       "      <th>std</th>\n",
       "      <td>1590.472325</td>\n",
       "    </tr>\n",
       "    <tr>\n",
       "      <th>min</th>\n",
       "      <td>0.000000</td>\n",
       "    </tr>\n",
       "    <tr>\n",
       "      <th>25%</th>\n",
       "      <td>70.000000</td>\n",
       "    </tr>\n",
       "    <tr>\n",
       "      <th>50%</th>\n",
       "      <td>133.000000</td>\n",
       "    </tr>\n",
       "    <tr>\n",
       "      <th>75%</th>\n",
       "      <td>278.000000</td>\n",
       "    </tr>\n",
       "    <tr>\n",
       "      <th>max</th>\n",
       "      <td>109312.000000</td>\n",
       "    </tr>\n",
       "  </tbody>\n",
       "</table>\n",
       "</div>"
      ],
      "text/plain": [
       "       monetary_value\n",
       "count   108996.000000\n",
       "mean       369.532854\n",
       "std       1590.472325\n",
       "min          0.000000\n",
       "25%         70.000000\n",
       "50%        133.000000\n",
       "75%        278.000000\n",
       "max     109312.000000"
      ]
     },
     "execution_count": 24,
     "metadata": {},
     "output_type": "execute_result"
    }
   ],
   "source": [
    "monetary.describe()"
   ]
  },
  {
   "cell_type": "markdown",
   "id": "aab2a917",
   "metadata": {},
   "source": [
    "# Observations:\n",
    "1. The average monetary value per customer is 369. This represents the central tendency of spending across the customer base.\n",
    "2. The standard deviation is relatively high at 1590.49, indicating a wide dispersion in spending. \n",
    "   This suggests that customer spending varies significantly, and there may be outliers with exceptionally high monetary values.\n",
    "3. The wide range in monetary values highlights the heterogeneity in customer spending habits.\n",
    "4. The concentration of values in the lower quartiles (Q1 and Q2) suggests that a considerable portion of customers has relatively moderate     spending.\n",
    "5. Identification and focus on high-value customers may lead to strategies that enhance customer retention and increase overall revenue.\n",
    "\n",
    "* To gain more value from customers:\n",
    "1. Personalized Marketing\n",
    "2. Customer Segmentation: Segment customers based on their purchasing behavior, demographics, or preferences.\n",
    "   Design targeted marketing strategies for each segment to address their specific needs and preferences.\n",
    "3. Exclusive Offers for High-Value Customers"
   ]
  },
  {
   "cell_type": "code",
   "execution_count": 118,
   "id": "290fe991",
   "metadata": {},
   "outputs": [
    {
     "name": "stderr",
     "output_type": "stream",
     "text": [
      "C:\\Users\\Lenovo\\anaconda2\\lib\\site-packages\\seaborn\\distributions.py:1699: FutureWarning: The `bw` parameter is deprecated in favor of `bw_method` and `bw_adjust`. Using 1000 for `bw_method`, but please see the docs for the new parameters and update your code.\n",
      "  warnings.warn(msg, FutureWarning)\n"
     ]
    },
    {
     "data": {
      "image/png": "[encoded data removed]",
      "text/plain": [
       "<Figure size 720x432 with 1 Axes>"
      ]
     },
     "metadata": {
      "needs_background": "light"
     },
     "output_type": "display_data"
    }
   ],
   "source": [
    "plt.figure(figsize=(10, 6))\n",
    "\n",
    "# Adjust the bandwidth for a smoother plot\n",
    "sns.kdeplot(df['monetary_value'], shade=True, color='purple', bw=1000)\n",
    "\n",
    "# Add a vertical line at the mean spending\n",
    "mean_spending = df['monetary_value'].mean()\n",
    "plt.axvline(mean_spending, color='blue', linestyle='--', label=f'Mean Spending: ${mean_spending:.2f}')\n",
    "\n",
    "# Add titles and labels\n",
    "plt.title('Density Plot of Customer Spending')\n",
    "plt.xlabel('Total Spending')\n",
    "plt.ylabel('Density')\n",
    "\n",
    "# Show the plot\n",
    "plt.legend()\n",
    "plt.show()"
   ]
  },
  {
   "cell_type": "markdown",
   "id": "dbfd41dd",
   "metadata": {},
   "source": [
    "# Tenure"
   ]
  },
  {
   "cell_type": "code",
   "execution_count": 25,
   "id": "636d20a0",
   "metadata": {},
   "outputs": [],
   "source": [
    "# finding the latest and earliest purchase dates for each customer\n",
    "latest_purchase_date = df.groupby('customer_unique_id')['order_purchase_timestamp'].max().reset_index()\n",
    "earliest_purchase_date = df.groupby('customer_unique_id')['order_purchase_timestamp'].min().reset_index()\n"
   ]
  },
  {
   "cell_type": "code",
   "execution_count": 26,
   "id": "57710068",
   "metadata": {},
   "outputs": [],
   "source": [
    "# Calculate customer tenure in days\n",
    "latest_purchase_date['customer_tenure'] = (latest_purchase_date['order_purchase_timestamp']- earliest_purchase_date['order_purchase_timestamp']).dt.days"
   ]
  },
  {
   "cell_type": "code",
   "execution_count": 27,
   "id": "3ce4bc31",
   "metadata": {},
   "outputs": [],
   "source": [
    "df = pd.merge(df, latest_purchase_date[['customer_unique_id', 'customer_tenure']], on='customer_unique_id', how='left')"
   ]
  },
  {
   "cell_type": "code",
   "execution_count": 28,
   "id": "b8f63673",
   "metadata": {},
   "outputs": [
    {
     "data": {
      "text/html": [
       "<div>\n",
       "<style scoped>\n",
       "    .dataframe tbody tr th:only-of-type {\n",
       "        vertical-align: middle;\n",
       "    }\n",
       "\n",
       "    .dataframe tbody tr th {\n",
       "        vertical-align: top;\n",
       "    }\n",
       "\n",
       "    .dataframe thead th {\n",
       "        text-align: right;\n",
       "    }\n",
       "</style>\n",
       "<table border=\"1\" class=\"dataframe\">\n",
       "  <thead>\n",
       "    <tr style=\"text-align: right;\">\n",
       "      <th></th>\n",
       "      <th>customer_tenure</th>\n",
       "    </tr>\n",
       "  </thead>\n",
       "  <tbody>\n",
       "    <tr>\n",
       "      <th>count</th>\n",
       "      <td>108996.000000</td>\n",
       "    </tr>\n",
       "    <tr>\n",
       "      <th>mean</th>\n",
       "      <td>5.958209</td>\n",
       "    </tr>\n",
       "    <tr>\n",
       "      <th>std</th>\n",
       "      <td>37.757764</td>\n",
       "    </tr>\n",
       "    <tr>\n",
       "      <th>min</th>\n",
       "      <td>0.000000</td>\n",
       "    </tr>\n",
       "    <tr>\n",
       "      <th>25%</th>\n",
       "      <td>0.000000</td>\n",
       "    </tr>\n",
       "    <tr>\n",
       "      <th>50%</th>\n",
       "      <td>0.000000</td>\n",
       "    </tr>\n",
       "    <tr>\n",
       "      <th>75%</th>\n",
       "      <td>0.000000</td>\n",
       "    </tr>\n",
       "    <tr>\n",
       "      <th>max</th>\n",
       "      <td>633.000000</td>\n",
       "    </tr>\n",
       "  </tbody>\n",
       "</table>\n",
       "</div>"
      ],
      "text/plain": [
       "       customer_tenure\n",
       "count    108996.000000\n",
       "mean          5.958209\n",
       "std          37.757764\n",
       "min           0.000000\n",
       "25%           0.000000\n",
       "50%           0.000000\n",
       "75%           0.000000\n",
       "max         633.000000"
      ]
     },
     "execution_count": 28,
     "metadata": {},
     "output_type": "execute_result"
    }
   ],
   "source": [
    "# Tenure\n",
    "tenure = df[['customer_unique_id','customer_tenure']].copy()\n",
    "#tenure[tenure['customer_tenure']==0].count()\n",
    "tenure.describe()"
   ]
  },
  {
   "cell_type": "markdown",
   "id": "23954947",
   "metadata": {},
   "source": [
    "# Observations:\n",
    "1. The 25th, 50th (median), and 75th percentiles all have a value of 0. This indicates that a significant portion of customers has a \n",
    "   recorded tenure of 0, possibly implying that a considerable number of customers made a single purchase.\n",
    "* To encourage customers to make repeated visits\n",
    "1. Personalized Marketing\n",
    "2. Special Offers for Returning Customers\n",
    "3. Feedback and Surveys\n",
    "4. Community Building: Encourage customers to share their experiences, create user-generated content, and participate in discussions. "
   ]
  },
  {
   "cell_type": "code",
   "execution_count": 29,
   "id": "73cfb09c",
   "metadata": {},
   "outputs": [
    {
     "data": {
      "text/plain": [
       "0    100782\n",
       "1      8218\n",
       "Name: late_deliveries, dtype: int64"
      ]
     },
     "execution_count": 29,
     "metadata": {},
     "output_type": "execute_result"
    }
   ],
   "source": [
    "df['late_deliveries'] = (df['order_delivered_customer_date'] > df['order_estimated_delivery_date']).astype(int)\n",
    "# total count of late deliveries for each customer\n",
    "late_deliveries_count = df.groupby('customer_id')['late_deliveries'].sum().reset_index()\n",
    "\n",
    "# Rename the column for clarity\n",
    "late_deliveries_count = late_deliveries_count.rename(columns={'late_deliveries': 'total_late_deliveries'})\n",
    "\n",
    "#late_deliveries_count['total_late_deliveries'].unique()\n",
    "#late_deliveries_count.head()\n",
    "df['late_deliveries'].value_counts()"
   ]
  },
  {
   "cell_type": "code",
   "execution_count": 30,
   "id": "e81bb820",
   "metadata": {},
   "outputs": [
    {
     "name": "stdout",
     "output_type": "stream",
     "text": [
      "% of customer experienced late deliveries: 7.823911159838022\n"
     ]
    }
   ],
   "source": [
    "#To count number of late deliveries\n",
    "#late_deliveries_count = df['late_deliveries'].eq(1).sum()\n",
    "print(\"% of customer experienced late deliveries:\",(8849 / 113102)*100 )"
   ]
  },
  {
   "cell_type": "code",
   "execution_count": 31,
   "id": "6e1ce0e2",
   "metadata": {},
   "outputs": [],
   "source": [
    "orders_per_customer = df.groupby('customer_unique_id')['order_id'].nunique().reset_index()\n",
    "\n",
    "# Rename the column for clarity\n",
    "orders_per_customer = orders_per_customer.rename(columns={'order_id': 'num_orders'})\n",
    "\n",
    "# Merge 'num_orders' back into the original DataFrame 'customer_unique_id'\n",
    "df = pd.merge(df, orders_per_customer, on='customer_unique_id', how='left')"
   ]
  },
  {
   "cell_type": "code",
   "execution_count": 59,
   "id": "1a7e155b",
   "metadata": {},
   "outputs": [
    {
     "data": {
      "text/plain": [
       "1     85702\n",
       "2      2385\n",
       "3       167\n",
       "4        28\n",
       "5         7\n",
       "6         4\n",
       "7         2\n",
       "8         1\n",
       "14        1\n",
       "Name: num_orders, dtype: int64"
      ]
     },
     "execution_count": 59,
     "metadata": {},
     "output_type": "execute_result"
    }
   ],
   "source": [
    "orders_per_customer['num_orders'].value_counts()"
   ]
  },
  {
   "cell_type": "code",
   "execution_count": 80,
   "id": "1114bd7f",
   "metadata": {},
   "outputs": [],
   "source": [
    "df.to_csv('clv_data.csv',index = False)"
   ]
  },
  {
   "cell_type": "code",
   "execution_count": 32,
   "id": "86f1972a",
   "metadata": {},
   "outputs": [],
   "source": [
    "df['freight_value'] = pd.to_numeric(df['freight_value'], errors='coerce').fillna(0).astype(int)\n",
    "df['payment_value'] = pd.to_numeric(df['payment_value'], errors='coerce').fillna(0).astype(int)"
   ]
  },
  {
   "cell_type": "code",
   "execution_count": 61,
   "id": "7c4f98d5",
   "metadata": {},
   "outputs": [
    {
     "name": "stderr",
     "output_type": "stream",
     "text": [
      "\n",
      "KeyboardInterrupt\n",
      "\n"
     ]
    }
   ],
   "source": [
    "# create a grouped DataFrame based on individual customers\n",
    "grouped_df = df.groupby('customer_unique_id')\\\n",
    ".agg({'customer_zip_code_prefix'      : 'max',\n",
    "'customer_city'                 : 'max',\n",
    "'customer_state'                : 'max',\n",
    "'order_id'                      : 'nunique',\n",
    "'product_id'                    : 'nunique',\n",
    "'price'                         : 'sum',\n",
    "'freight_value'                 : 'sum',\n",
    "'payment_type'                  : 'max',\n",
    "'payment_installments'          : 'max',\n",
    "'payment_value'                 : 'sum',\n",
    "'review_score'                  : 'mean',\n",
    "'recency'                       : 'max',\n",
    "'num_orders'                    : 'nunique',\n",
    "'frequency'                     : 'mean',\n",
    "'monetary_value'                : 'sum',\n",
    "'customer_tenure'               : 'max',\n",
    "'late_deliveries'               : 'sum'}).reset_index()\n",
    "\n",
    "grouped_df.head()"
   ]
  },
  {
   "cell_type": "code",
   "execution_count": 85,
   "id": "b9ebdd25",
   "metadata": {},
   "outputs": [
    {
     "data": {
      "text/plain": [
       "product_category_name                    object\n",
       "seller_id                                object\n",
       "product_id                               object\n",
       "order_id                                 object\n",
       "customer_id                              object\n",
       "order_status                             object\n",
       "order_purchase_timestamp         datetime64[ns]\n",
       "order_delivered_customer_date            object\n",
       "order_estimated_delivery_date            object\n",
       "order_item_id                            object\n",
       "shipping_limit_date                      object\n",
       "price                                    object\n",
       "freight_value                             int32\n",
       "payment_sequential                       object\n",
       "payment_type                             object\n",
       "payment_installments                     object\n",
       "payment_value                             int32\n",
       "customer_unique_id                       object\n",
       "customer_zip_code_prefix                 object\n",
       "customer_city                            object\n",
       "customer_state                           object\n",
       "review_id                                object\n",
       "review_score                             object\n",
       "review_creation_date                     object\n",
       "review_answer_timestamp                  object\n",
       "product_weight_g                         object\n",
       "product_length_cm                        object\n",
       "product_height_cm                        object\n",
       "product_width_cm                         object\n",
       "seller_city                              object\n",
       "seller_state                             object\n",
       "product_category_name_english            object\n",
       "Unnamed: 32                              object\n",
       "recency                                   int64\n",
       "frequency                               float64\n",
       "monetary_value                          float64\n",
       "customer_tenure                         float64\n",
       "late_deliveries                           int32\n",
       "num_orders                              float64\n",
       "dtype: object"
      ]
     },
     "execution_count": 85,
     "metadata": {},
     "output_type": "execute_result"
    }
   ],
   "source": [
    "df.dtypes"
   ]
  },
  {
   "cell_type": "code",
   "execution_count": 33,
   "id": "7a283072",
   "metadata": {},
   "outputs": [],
   "source": [
    "df['review_score'] = pd.to_numeric(df['review_score'], errors='coerce').fillna(0).astype(int)"
   ]
  },
  {
   "cell_type": "markdown",
   "id": "4ab96b82",
   "metadata": {},
   "source": [
    "# Customer Segmentation"
   ]
  },
  {
   "cell_type": "code",
   "execution_count": 34,
   "id": "5ff6bb2b",
   "metadata": {},
   "outputs": [],
   "source": [
    "# Customer segmentation:\n",
    "bins = [-1, 60, 120, 220, float('inf')]\n",
    "labels = ['Recent', 'Moderately Recent', 'Not So Recent', 'Inactive']\n",
    "df['RecencySegment'] = pd.cut(df['recency'], bins=bins, labels=labels, right=False)"
   ]
  },
  {
   "cell_type": "code",
   "execution_count": 36,
   "id": "cb536855",
   "metadata": {},
   "outputs": [
    {
     "data": {
      "image/png": "[encoded data removed]",
      "text/plain": [
       "<Figure size 720x360 with 1 Axes>"
      ]
     },
     "metadata": {},
     "output_type": "display_data"
    }
   ],
   "source": [
    "sns.set(style=\"whitegrid\")\n",
    "\n",
    "# Plot the segmentation\n",
    "plt.figure(figsize=(10, 5))\n",
    "ax = sns.countplot(x='RecencySegment', data=df, order=labels, palette='viridis')\n",
    "\n",
    "# Calculate the percentages\n",
    "total = len(df)\n",
    "for p in ax.patches:\n",
    "    percentage = '{:.1f}%'.format(100 * p.get_height() / total)\n",
    "    x = p.get_x() + p.get_width() / 2 - 0.05\n",
    "    y = p.get_height() + 1\n",
    "    ax.annotate(percentage, (x, y), size=12)\n",
    "\n",
    "plt.title('Recency Segmentation')\n",
    "plt.xlabel('Recency Segments')\n",
    "plt.ylabel('Number of Customers')\n",
    "plt.show()"
   ]
  },
  {
   "cell_type": "code",
   "execution_count": null,
   "id": "3674f4b2",
   "metadata": {},
   "outputs": [],
   "source": [
    "'''Segmentation Breakdown:\n",
    "[-1, 60): Customers with recency values from 0 to 59 (inclusive) are labeled as \"Recent.\"\n",
    "[60, 120): Customers with recency values from 60 to 119 (inclusive) are labeled as \"Moderately Recent.\"\n",
    "[120, 220): Customers with recency values from 120 to 219 (inclusive) are labeled as \"Not So Recent.\"\n",
    "[220, inf): Customers with recency values of 220 and above are labeled as \"Inactive.\"'''"
   ]
  },
  {
   "cell_type": "code",
   "execution_count": 34,
   "id": "5b599b74",
   "metadata": {},
   "outputs": [
    {
     "data": {
      "image/png": "[encoded data removed]",
      "text/plain": [
       "<Figure size 864x432 with 1 Axes>"
      ]
     },
     "metadata": {
      "needs_background": "light"
     },
     "output_type": "display_data"
    }
   ],
   "source": [
    "sns.set(style=\"whitegrid\")\n",
    "\n",
    "# Create the plot\n",
    "plt.figure(figsize=(12, 6))  # Increase the size of the plot\n",
    "sns.histplot(recency['recency'], bins=30, kde=True, color='blue', edgecolor='black')\n",
    "\n",
    "# Add titles and labels\n",
    "plt.title(\"Recency Distribution\")\n",
    "plt.xlabel(\"Days Since Last Purchase (Recency)\")\n",
    "plt.ylabel(\"Density\")\n",
    "\n",
    "# Show the plot\n",
    "plt.show()\n"
   ]
  },
  {
   "cell_type": "code",
   "execution_count": null,
   "id": "b926ffb4",
   "metadata": {},
   "outputs": [],
   "source": [
    "Insights from the Recency Distribution Graph\n",
    "High Density Around Specific Intervals:\n",
    "\n",
    "There are clear peaks around the 0-50, 200-250, and 300-350 day ranges. \n",
    "This suggests that there are significant groups of customers who made their last purchase around \n",
    "these intervals.\n",
    "The spike around 300 days is particularly notable, indicating a large number of customers who made their last \n",
    "purchase around this time.\n",
    "\n",
    "Overall Distribution:\n",
    "\n",
    "The distribution is relatively even across the range, except for the notable peaks. This indicates that customers' recency is fairly spread out, with consistent activity over time.\n",
    "Potential Seasonal Trends:\n",
    "\n",
    "The peaks might indicate seasonal trends or marketing campaigns that were particularly effective \n",
    "during certain times of the year.\n",
    "\n",
    "Long Tail:\n",
    "\n",
    "There is a long tail towards the right of the distribution, indicating a smaller \n",
    "number of customers who haven't made a purchase in over 400 days. \n",
    "These customers might need re-engagement strategies."
   ]
  },
  {
   "cell_type": "code",
   "execution_count": 38,
   "id": "e100170c",
   "metadata": {},
   "outputs": [
    {
     "name": "stderr",
     "output_type": "stream",
     "text": [
      "C:\\Users\\Lenovo\\anaconda2\\lib\\site-packages\\seaborn\\distributions.py:2619: FutureWarning: `distplot` is a deprecated function and will be removed in a future version. Please adapt your code to use either `displot` (a figure-level function with similar flexibility) or `histplot` (an axes-level function for histograms).\n",
      "  warnings.warn(msg, FutureWarning)\n"
     ]
    },
    {
     "data": {
      "text/plain": [
       "Text(0.5, 0, \"Frequency of customer's purchases\")"
      ]
     },
     "execution_count": 38,
     "metadata": {},
     "output_type": "execute_result"
    },
    {
     "data": {
      "image/png": "[encoded data removed]",
      "text/plain": [
       "<Figure size 432x288 with 1 Axes>"
      ]
     },
     "metadata": {},
     "output_type": "display_data"
    }
   ],
   "source": [
    "# Frequency distribution\n",
    "sns.distplot(frequency.frequency)\n",
    "plt.title(\"Distribution of frequency\")\n",
    "plt.xlabel(\"Frequency of customer's purchases\")\n"
   ]
  },
  {
   "cell_type": "code",
   "execution_count": 35,
   "id": "d7cef4aa",
   "metadata": {},
   "outputs": [],
   "source": [
    "# Create a new column 'order_month' by extracting the month and year from 'order_purchase_timestamp'\n",
    "df['order_month'] = df['order_purchase_timestamp'].dt.to_period('M')"
   ]
  },
  {
   "cell_type": "code",
   "execution_count": 36,
   "id": "970c6dd8",
   "metadata": {},
   "outputs": [
    {
     "ename": "NameError",
     "evalue": "name 'monthly_orders' is not defined",
     "output_type": "error",
     "traceback": [
      "\u001b[1;31m---------------------------------------------------------------------------\u001b[0m",
      "\u001b[1;31mNameError\u001b[0m                                 Traceback (most recent call last)",
      "Input \u001b[1;32mIn [36]\u001b[0m, in \u001b[0;36m<cell line: 3>\u001b[1;34m()\u001b[0m\n\u001b[0;32m      1\u001b[0m \u001b[38;5;66;03m# Assuming df is your dataframe and monthly_orders has been calculated as before\u001b[39;00m\n\u001b[0;32m      2\u001b[0m \u001b[38;5;66;03m# Sort the monthly_orders DataFrame by 'Number_of_Orders' in descending order and select the top 12\u001b[39;00m\n\u001b[1;32m----> 3\u001b[0m top_12_months \u001b[38;5;241m=\u001b[39m \u001b[43mmonthly_orders\u001b[49m\u001b[38;5;241m.\u001b[39msort_values(by\u001b[38;5;241m=\u001b[39m\u001b[38;5;124m'\u001b[39m\u001b[38;5;124mNumber_of_Orders\u001b[39m\u001b[38;5;124m'\u001b[39m, ascending\u001b[38;5;241m=\u001b[39m\u001b[38;5;28;01mFalse\u001b[39;00m)\u001b[38;5;241m.\u001b[39mhead(\u001b[38;5;241m12\u001b[39m)\n\u001b[0;32m      5\u001b[0m \u001b[38;5;66;03m# Plotting the number of orders for the top 12 months\u001b[39;00m\n\u001b[0;32m      6\u001b[0m plt\u001b[38;5;241m.\u001b[39mfigure(figsize\u001b[38;5;241m=\u001b[39m(\u001b[38;5;241m12\u001b[39m, \u001b[38;5;241m6\u001b[39m))\n",
      "\u001b[1;31mNameError\u001b[0m: name 'monthly_orders' is not defined"
     ]
    }
   ],
   "source": [
    "# Assuming df is your dataframe and monthly_orders has been calculated as before\n",
    "# Sort the monthly_orders DataFrame by 'Number_of_Orders' in descending order and select the top 12\n",
    "top_12_months = monthly_orders.sort_values(by='Number_of_Orders', ascending=False).head(12)\n",
    "\n",
    "# Plotting the number of orders for the top 12 months\n",
    "plt.figure(figsize=(12, 6))\n",
    "sns.barplot(x='order_month', y='Number_of_Orders', data=top_12_months, palette='viridis')\n",
    "plt.xticks(rotation=45)\n",
    "plt.title('Top 12 Months with Highest Number of Orders')\n",
    "plt.xlabel('Order Month')\n",
    "plt.ylabel('Number of Orders')\n",
    "plt.show()"
   ]
  },
  {
   "cell_type": "markdown",
   "id": "e4c4cf7e",
   "metadata": {},
   "source": [
    "# Insights from frequency:\n",
    "1. 25th Percentile (Q1): 25% of the customers have a frequency of 1 or less.\n",
    "2. 50th Percentile (Median or Q2): The median frequency is 1, indicating that 50% of the customers made 1 or fewer purchases.\n",
    "3. 75th Percentile (Q3): 75% of the customers have a frequency of 2 or less.\n",
    "4. Maximum: The maximum frequency is 75, suggesting that there is at least one customer with a significantly higher number of purchases.\n",
    "\n",
    "Interpretatin:\n",
    "1. Distribution: The distribution of the frequency data is right-skewed, as the mean is greater than the median. \n",
    "   This indicates that there are some customers with a higher frequency of purchases, pulling the mean to the right.\n",
    "2. Majority of Customers: The majority of customers (50% or more) make 1 or fewer purchases.\n",
    "3. Variability: The relatively high standard deviation indicates variability in customer purchasing behavior.  \n",
    "   Some customers make significantly more purchases than others."
   ]
  },
  {
   "cell_type": "code",
   "execution_count": 37,
   "id": "ce0ee25b",
   "metadata": {},
   "outputs": [],
   "source": [
    "# Calculate the first and third quartiles (Q1 and Q3)\n",
    "Q1 = monetary['monetary_value'].quantile(0.25)\n",
    "Q3 = monetary['monetary_value'].quantile(0.75)\n",
    "\n",
    "# Calculate the IQR (Interquartile Range)\n",
    "IQR = Q3 - Q1\n",
    "\n",
    "# Define the lower and upper bounds for identifying outliers\n",
    "lower_bound = Q1 - 1.5 * IQR\n",
    "upper_bound = Q3 + 1.5 * IQR\n",
    "\n",
    "\n"
   ]
  },
  {
   "cell_type": "code",
   "execution_count": 38,
   "id": "57cc1a08",
   "metadata": {},
   "outputs": [
    {
     "name": "stdout",
     "output_type": "stream",
     "text": [
      "-242.0 590.0\n"
     ]
    }
   ],
   "source": [
    "print(lower_bound,upper_bound)"
   ]
  },
  {
   "cell_type": "code",
   "execution_count": 45,
   "id": "a1dda5ed",
   "metadata": {},
   "outputs": [
    {
     "name": "stdout",
     "output_type": "stream",
     "text": [
      "Number of outliers: 12451\n"
     ]
    }
   ],
   "source": [
    "# Identify outliers\n",
    "outliers = monetary[(monetary['monetary_value'] < lower_bound) | (monetary['monetary_value'] > upper_bound)]\n",
    "\n",
    "# Count the number of outliers\n",
    "num_outliers = len(outliers)\n",
    "print(f\"Number of outliers: {num_outliers}\")"
   ]
  },
  {
   "cell_type": "code",
   "execution_count": 42,
   "id": "fd467145",
   "metadata": {},
   "outputs": [
    {
     "name": "stderr",
     "output_type": "stream",
     "text": [
      "C:\\Users\\Lenovo\\anaconda2\\lib\\site-packages\\seaborn\\distributions.py:2619: FutureWarning: `distplot` is a deprecated function and will be removed in a future version. Please adapt your code to use either `displot` (a figure-level function with similar flexibility) or `histplot` (an axes-level function for histograms).\n",
      "  warnings.warn(msg, FutureWarning)\n"
     ]
    },
    {
     "data": {
      "image/png": "[encoded data removed]",
      "text/plain": [
       "<Figure size 720x432 with 1 Axes>"
      ]
     },
     "metadata": {},
     "output_type": "display_data"
    }
   ],
   "source": [
    "# Filter out values outside the bounds to remove outliers\n",
    "monetary_data_no_outliers = monetary['monetary_value'][(monetary['monetary_value'] >= lower_bound) \\\n",
    "& (monetary['monetary_value'] <= upper_bound)]\n",
    "\n",
    "# Set the style for the plot (optional, but it enhances visual appearance)\n",
    "sns.set(style=\"whitegrid\")\n",
    "\n",
    "# Plot histogram for data without outliers\n",
    "plt.figure(figsize=(10, 6))\n",
    "sns.distplot(monetary_data_no_outliers, color = 'green')\n",
    "#sns.histplot(monetary_data_no_outliers, bins=30, kde=True, color='orange', edgecolor='black')\n",
    "plt.title('Monetary Distribution without Outliers (IQR Method)')\n",
    "plt.xlabel('Monetary Value')\n",
    "plt.ylabel('Frequency')\n",
    "plt.show()"
   ]
  },
  {
   "cell_type": "code",
   "execution_count": 41,
   "id": "873c6257",
   "metadata": {},
   "outputs": [
    {
     "data": {
      "text/plain": [
       "count    96545.000000\n",
       "mean       155.249169\n",
       "std        123.360152\n",
       "min          0.000000\n",
       "25%         65.000000\n",
       "50%        115.000000\n",
       "75%        204.000000\n",
       "max        590.000000\n",
       "Name: monetary_value, dtype: float64"
      ]
     },
     "execution_count": 41,
     "metadata": {},
     "output_type": "execute_result"
    }
   ],
   "source": [
    "monetary_data_no_outliers.describe()"
   ]
  },
  {
   "cell_type": "markdown",
   "id": "01ceb5fd",
   "metadata": {},
   "source": [
    "# Insights:\n",
    "1. Mean: The mean (average) monetary value is approximately 155. On average, customers spend around 155.\n",
    "2. Standard Deviation (std): The standard deviation is approximately 123. This indicates the amount of variability \n",
    "   or dispersion in the monetary data after removing outliers.\n",
    "3. 25th Percentile (Q1): 25% of the customers spent 65. or less.\n",
    "4. 50th Percentile (Median or Q2): The median monetary value is 115, indicating that 50% of the customers spent 115 or less.\n",
    "5. 75th Percentile (Q3): 75% of the customers spent 204 or less.\n"
   ]
  },
  {
   "cell_type": "code",
   "execution_count": 43,
   "id": "3216cd4e",
   "metadata": {},
   "outputs": [
    {
     "data": {
      "image/png": "[encoded data removed]",
      "text/plain": [
       "<Figure size 432x288 with 1 Axes>"
      ]
     },
     "metadata": {},
     "output_type": "display_data"
    }
   ],
   "source": [
    "# Assuming monetary_data_no_outliers is your data and monetary is your DataFrame\n",
    "# Create a new column for segmentation\n",
    "monetary['MonetarySegment'] = pd.cut(monetary_data_no_outliers, bins=[0, 50, 150, 300, 600], labels=['Low', 'Medium', 'High', 'Very High'])\n",
    "\n",
    "# Visualize segmentation with counts above each bar\n",
    "plt.figure(figsize=(6, 4))\n",
    "ax = sns.countplot(x='MonetarySegment', data=monetary, palette='viridis')\n",
    "\n",
    "# Add counts above each bar\n",
    "for p in ax.patches:\n",
    "    count = p.get_height()\n",
    "    ax.annotate(f'{count}', (p.get_x() + p.get_width() / 2., count), ha='center', va='baseline', size=12)\n",
    "\n",
    "plt.title('Customer Segmentation based on Monetary Values (Without Outliers)')\n",
    "plt.xlabel('Monetary Segment')\n",
    "plt.ylabel('Number of Customers')\n",
    "plt.show()"
   ]
  },
  {
   "cell_type": "markdown",
   "id": "ab1086d3",
   "metadata": {},
   "source": [
    "Distribution of Customers:\n",
    "\n",
    "The largest segment is the \"Medium\" monetary segment, with over 40,000 customers. \n",
    "This indicates that most customers spend a moderate amount.\n",
    "\n",
    "The \"High\" segment also has a significant number of customers, suggesting a healthy portion of \n",
    "your customer base spends more than the average.\n",
    "The \"Very High\" segment is the smallest, but these customers likely represent the most valuable \n",
    "segment in terms of revenue.\n",
    "\n",
    "The \"Low\" segment, while not the largest, still represents a considerable number of customers.\n",
    "Revenue Opportunities:\n",
    "\n",
    "The \"Medium\" and \"High\" segments are substantial and present opportunities for upselling and cross-selling. Targeting these customers with tailored promotions could increase their lifetime value.\n",
    "The \"Very High\" segment, despite being the smallest, should be given special attention. These customers could be targeted with loyalty programs or exclusive offers to retain them.\n",
    "Customer Engagement:\n",
    "\n",
    "The \"Low\" segment might benefit from re-engagement strategies to move them up to higher spending segments. Understanding their barriers to spending more could inform these strategies.\n",
    "Recommendations\n",
    "Marketing Strategies:\n",
    "\n",
    "Medium and High Segments: Implement personalized marketing campaigns to encourage more frequent purchases or \n",
    "higher value purchases. Use targeted ads, personalized emails, and special discounts.\n",
    "Very High Segment: Develop a loyalty program with exclusive perks, early access to sales, and \n",
    "personalized service to retain these high-value customers.\n",
    "\n",
    "Low Segment: Re-engage with these customers through surveys to understand their needs and barriers. Offer introductory discounts or bundle deals to encourage higher spending.\n",
    "Product Bundling:\n",
    "\n",
    "Create product bundles that are appealing to each segment. For example, offer bundle deals on frequently purchased items for the \"Medium\" segment and premium bundles for the \"High\" and \"Very High\" segments.\n",
    "Customer Feedback:\n",
    "\n",
    "Collect feedback from different segments to understand their preferences and pain points. \n",
    "Use this feedback to improve products, services, and customer experience."
   ]
  },
  {
   "cell_type": "code",
   "execution_count": 44,
   "id": "ce9f82de",
   "metadata": {},
   "outputs": [
    {
     "name": "stdout",
     "output_type": "stream",
     "text": [
      "Expected value a customer bring to business based on data:  3982.29 brazillian real\n"
     ]
    }
   ],
   "source": [
    "# Calculate average purchase value\n",
    "average_purchase_value = df['monetary_value'].mean()\n",
    "\n",
    "# Calculate average purchase frequency\n",
    "purchase_frequency = df['frequency'].mean()\n",
    "\n",
    "# Calculate average customer lifespan (in days)\n",
    "average_customer_lifespan = df['customer_tenure'].mean()\n",
    "\n",
    "# Calculate historical CLV\n",
    "historical_clv = average_purchase_value * purchase_frequency * average_customer_lifespan\n",
    "\n",
    "print('Expected value a customer bring to business based on data: ', round(historical_clv, 2), 'brazillian real')"
   ]
  },
  {
   "cell_type": "code",
   "execution_count": null,
   "id": "e1545cfe",
   "metadata": {},
   "outputs": [],
   "source": []
  },
  {
   "cell_type": "code",
   "execution_count": 45,
   "id": "3036d853",
   "metadata": {},
   "outputs": [
    {
     "data": {
      "text/plain": [
       "array([ 0,  1,  2,  7,  6,  4,  3,  5,  8, 21])"
      ]
     },
     "execution_count": 45,
     "metadata": {},
     "output_type": "execute_result"
    }
   ],
   "source": [
    "late_deliveries_count['total_late_deliveries'].unique()\n",
    "#late_deliveries_count[late_deliveries_count['total_late_deliveries']==9].count()"
   ]
  },
  {
   "cell_type": "code",
   "execution_count": 102,
   "id": "c6fde30a",
   "metadata": {},
   "outputs": [
    {
     "name": "stdout",
     "output_type": "stream",
     "text": [
      "No Late Deliveries    84085\n",
      "Low                    7021\n",
      "High                     76\n",
      "Name: LateDeliverySegment, dtype: int64\n"
     ]
    }
   ],
   "source": [
    "# Segment customers based on the total count of late deliveries\n",
    "bins = [-1, 0, 3, float('inf')]\n",
    "labels = ['No Late Deliveries', 'Low', 'High']\n",
    "late_deliveries_count['LateDeliverySegment'] = pd.cut(late_deliveries_count['total_late_deliveries'], bins=bins, labels=labels)\n",
    "\n",
    "# Display the segmentation results\n",
    "print(late_deliveries_count['LateDeliverySegment'].value_counts())"
   ]
  },
  {
   "cell_type": "code",
   "execution_count": 104,
   "id": "3e58dcc7",
   "metadata": {
    "scrolled": true
   },
   "outputs": [
    {
     "data": {
      "image/png": "[encoded data removed]",
      "text/plain": [
       "<Figure size 432x288 with 1 Axes>"
      ]
     },
     "metadata": {},
     "output_type": "display_data"
    }
   ],
   "source": [
    "# late deliveries segmentation\n",
    "segment_counts = late_deliveries_count['LateDeliverySegment'].value_counts()\n",
    "\n",
    "# Plot a pie chart\n",
    "plt.figure(figsize=(6, 4))\n",
    "plt.pie(segment_counts, labels=segment_counts.index, autopct='%1.1f%%', colors=['pink', 'yellow', 'red'])\n",
    "plt.title('Late Delivery Segmentation')\n",
    "plt.show()"
   ]
  },
  {
   "cell_type": "code",
   "execution_count": 46,
   "id": "f387b114",
   "metadata": {},
   "outputs": [
    {
     "data": {
      "text/plain": [
       "5     56.885321\n",
       "4     19.146789\n",
       "1     12.163303\n",
       "3      8.382569\n",
       "2      3.412844\n",
       "0      0.005505\n",
       "20     0.000917\n",
       "35     0.000917\n",
       "60     0.000917\n",
       "16     0.000917\n",
       "Name: review_score, dtype: float64"
      ]
     },
     "execution_count": 46,
     "metadata": {},
     "output_type": "execute_result"
    }
   ],
   "source": [
    "reviewScore = df['review_score'].value_counts(normalize = True) * 100\n",
    "reviewScore\n"
   ]
  },
  {
   "cell_type": "code",
   "execution_count": 106,
   "id": "9e8fb944",
   "metadata": {},
   "outputs": [
    {
     "data": {
      "image/png": "[encoded data removed]",
      "text/plain": [
       "<Figure size 432x288 with 1 Axes>"
      ]
     },
     "metadata": {},
     "output_type": "display_data"
    }
   ],
   "source": [
    "# Plot a pie chart\n",
    "plt.figure(figsize=(6, 4))\n",
    "plt.pie(reviewScore, labels=reviewScore.index, autopct='%1.1f%%', colors=['skyblue', 'yellow', 'red'])\n",
    "plt.title('Review score Segmentation')\n",
    "plt.show()"
   ]
  },
  {
   "cell_type": "markdown",
   "id": "1a95d84e",
   "metadata": {},
   "source": [
    " #### Observation\n",
    "1. The majority of customers are highly satisfied, as indicated by the high percentage in the 5.0 category.\n",
    "2. A notable portion of customers gave scores indicating moderate to high satisfaction (4.0).\n",
    "3. Around 23% of customers are not satified."
   ]
  },
  {
   "cell_type": "markdown",
   "id": "b3bb91a9",
   "metadata": {},
   "source": [
    "# Impact on customer satisfaction from late deliveries"
   ]
  },
  {
   "cell_type": "code",
   "execution_count": 52,
   "id": "f5c09e2e",
   "metadata": {},
   "outputs": [],
   "source": [
    "order_reviews_df=pd.read_csv('olist_order_reviews_dataset.csv')"
   ]
  },
  {
   "cell_type": "code",
   "execution_count": 53,
   "id": "cf2d51dd",
   "metadata": {},
   "outputs": [],
   "source": [
    "orders_df=pd.read_csv('olist_orders_dataset.csv')"
   ]
  },
  {
   "cell_type": "code",
   "execution_count": 54,
   "id": "e73be624",
   "metadata": {},
   "outputs": [
    {
     "data": {
      "text/html": [
       "<div>\n",
       "<style scoped>\n",
       "    .dataframe tbody tr th:only-of-type {\n",
       "        vertical-align: middle;\n",
       "    }\n",
       "\n",
       "    .dataframe tbody tr th {\n",
       "        vertical-align: top;\n",
       "    }\n",
       "\n",
       "    .dataframe thead th {\n",
       "        text-align: right;\n",
       "    }\n",
       "</style>\n",
       "<table border=\"1\" class=\"dataframe\">\n",
       "  <thead>\n",
       "    <tr style=\"text-align: right;\">\n",
       "      <th></th>\n",
       "      <th>order_id</th>\n",
       "      <th>customer_id</th>\n",
       "      <th>order_status</th>\n",
       "      <th>order_purchase_timestamp</th>\n",
       "      <th>order_approved_at</th>\n",
       "      <th>order_delivered_carrier_date</th>\n",
       "      <th>order_delivered_customer_date</th>\n",
       "      <th>order_estimated_delivery_date</th>\n",
       "    </tr>\n",
       "  </thead>\n",
       "  <tbody>\n",
       "    <tr>\n",
       "      <th>0</th>\n",
       "      <td>e481f51cbdc54678b7cc49136f2d6af7</td>\n",
       "      <td>9ef432eb6251297304e76186b10a928d</td>\n",
       "      <td>delivered</td>\n",
       "      <td>2017-10-02 10:56:33</td>\n",
       "      <td>2017-10-02 11:07:15</td>\n",
       "      <td>2017-10-04 19:55:00</td>\n",
       "      <td>2017-10-10 21:25:13</td>\n",
       "      <td>2017-10-18 00:00:00</td>\n",
       "    </tr>\n",
       "    <tr>\n",
       "      <th>1</th>\n",
       "      <td>53cdb2fc8bc7dce0b6741e2150273451</td>\n",
       "      <td>b0830fb4747a6c6d20dea0b8c802d7ef</td>\n",
       "      <td>delivered</td>\n",
       "      <td>2018-07-24 20:41:37</td>\n",
       "      <td>2018-07-26 03:24:27</td>\n",
       "      <td>2018-07-26 14:31:00</td>\n",
       "      <td>2018-08-07 15:27:45</td>\n",
       "      <td>2018-08-13 00:00:00</td>\n",
       "    </tr>\n",
       "    <tr>\n",
       "      <th>2</th>\n",
       "      <td>47770eb9100c2d0c44946d9cf07ec65d</td>\n",
       "      <td>41ce2a54c0b03bf3443c3d931a367089</td>\n",
       "      <td>delivered</td>\n",
       "      <td>2018-08-08 08:38:49</td>\n",
       "      <td>2018-08-08 08:55:23</td>\n",
       "      <td>2018-08-08 13:50:00</td>\n",
       "      <td>2018-08-17 18:06:29</td>\n",
       "      <td>2018-09-04 00:00:00</td>\n",
       "    </tr>\n",
       "    <tr>\n",
       "      <th>3</th>\n",
       "      <td>949d5b44dbf5de918fe9c16f97b45f8a</td>\n",
       "      <td>f88197465ea7920adcdbec7375364d82</td>\n",
       "      <td>delivered</td>\n",
       "      <td>2017-11-18 19:28:06</td>\n",
       "      <td>2017-11-18 19:45:59</td>\n",
       "      <td>2017-11-22 13:39:59</td>\n",
       "      <td>2017-12-02 00:28:42</td>\n",
       "      <td>2017-12-15 00:00:00</td>\n",
       "    </tr>\n",
       "    <tr>\n",
       "      <th>4</th>\n",
       "      <td>ad21c59c0840e6cb83a9ceb5573f8159</td>\n",
       "      <td>8ab97904e6daea8866dbdbc4fb7aad2c</td>\n",
       "      <td>delivered</td>\n",
       "      <td>2018-02-13 21:18:39</td>\n",
       "      <td>2018-02-13 22:20:29</td>\n",
       "      <td>2018-02-14 19:46:34</td>\n",
       "      <td>2018-02-16 18:17:02</td>\n",
       "      <td>2018-02-26 00:00:00</td>\n",
       "    </tr>\n",
       "  </tbody>\n",
       "</table>\n",
       "</div>"
      ],
      "text/plain": [
       "                           order_id                       customer_id  \\\n",
       "0  e481f51cbdc54678b7cc49136f2d6af7  9ef432eb6251297304e76186b10a928d   \n",
       "1  53cdb2fc8bc7dce0b6741e2150273451  b0830fb4747a6c6d20dea0b8c802d7ef   \n",
       "2  47770eb9100c2d0c44946d9cf07ec65d  41ce2a54c0b03bf3443c3d931a367089   \n",
       "3  949d5b44dbf5de918fe9c16f97b45f8a  f88197465ea7920adcdbec7375364d82   \n",
       "4  ad21c59c0840e6cb83a9ceb5573f8159  8ab97904e6daea8866dbdbc4fb7aad2c   \n",
       "\n",
       "  order_status order_purchase_timestamp    order_approved_at  \\\n",
       "0    delivered      2017-10-02 10:56:33  2017-10-02 11:07:15   \n",
       "1    delivered      2018-07-24 20:41:37  2018-07-26 03:24:27   \n",
       "2    delivered      2018-08-08 08:38:49  2018-08-08 08:55:23   \n",
       "3    delivered      2017-11-18 19:28:06  2017-11-18 19:45:59   \n",
       "4    delivered      2018-02-13 21:18:39  2018-02-13 22:20:29   \n",
       "\n",
       "  order_delivered_carrier_date order_delivered_customer_date  \\\n",
       "0          2017-10-04 19:55:00           2017-10-10 21:25:13   \n",
       "1          2018-07-26 14:31:00           2018-08-07 15:27:45   \n",
       "2          2018-08-08 13:50:00           2018-08-17 18:06:29   \n",
       "3          2017-11-22 13:39:59           2017-12-02 00:28:42   \n",
       "4          2018-02-14 19:46:34           2018-02-16 18:17:02   \n",
       "\n",
       "  order_estimated_delivery_date  \n",
       "0           2017-10-18 00:00:00  \n",
       "1           2018-08-13 00:00:00  \n",
       "2           2018-09-04 00:00:00  \n",
       "3           2017-12-15 00:00:00  \n",
       "4           2018-02-26 00:00:00  "
      ]
     },
     "execution_count": 54,
     "metadata": {},
     "output_type": "execute_result"
    }
   ],
   "source": [
    "orders_df.head()"
   ]
  },
  {
   "cell_type": "code",
   "execution_count": 55,
   "id": "04ff36fb",
   "metadata": {},
   "outputs": [],
   "source": [
    "# Customers satisfaction based on late deliveries\n",
    "\n",
    "reviewScoreAnalysis = order_reviews_df.merge(\n",
    "    orders_df[['order_id', 'order_approved_at', 'order_delivered_carrier_date', 'order_delivered_customer_date', 'order_estimated_delivery_date']],\n",
    "    on='order_id',\n",
    "    how='inner'  # 'inner' join to keep only matching rows from both DataFrames\n",
    ")"
   ]
  },
  {
   "cell_type": "code",
   "execution_count": 56,
   "id": "04e7a5ea",
   "metadata": {},
   "outputs": [
    {
     "data": {
      "text/plain": [
       "review_id                        object\n",
       "order_id                         object\n",
       "review_score                      int64\n",
       "review_comment_title             object\n",
       "review_comment_message           object\n",
       "review_creation_date             object\n",
       "review_answer_timestamp          object\n",
       "order_approved_at                object\n",
       "order_delivered_carrier_date     object\n",
       "order_delivered_customer_date    object\n",
       "order_estimated_delivery_date    object\n",
       "dtype: object"
      ]
     },
     "execution_count": 56,
     "metadata": {},
     "output_type": "execute_result"
    }
   ],
   "source": [
    "reviewScoreAnalysis.dtypes"
   ]
  },
  {
   "cell_type": "code",
   "execution_count": 57,
   "id": "d405ce1f",
   "metadata": {},
   "outputs": [],
   "source": [
    "# Convert date columns to datetime\n",
    "reviewScoreAnalysis['order_approved_at'] = pd.to_datetime(reviewScoreAnalysis['order_approved_at'])\n",
    "reviewScoreAnalysis['order_delivered_carrier_date'] = pd.to_datetime(reviewScoreAnalysis['order_delivered_carrier_date'])\n",
    "reviewScoreAnalysis['order_estimated_delivery_date'] = pd.to_datetime(reviewScoreAnalysis['order_estimated_delivery_date'])\n",
    "reviewScoreAnalysis['order_delivered_customer_date'] = pd.to_datetime(reviewScoreAnalysis['order_delivered_customer_date'])\n",
    "\n",
    "reviewScoreAnalysis['delivered_estimated'] = (reviewScoreAnalysis['order_delivered_customer_date'] - reviewScoreAnalysis['order_estimated_delivery_date']).dt.days\n",
    "\n"
   ]
  },
  {
   "cell_type": "code",
   "execution_count": 58,
   "id": "44cf2806",
   "metadata": {},
   "outputs": [
    {
     "name": "stderr",
     "output_type": "stream",
     "text": [
      "C:\\Temp\\ipykernel_9280\\3303359468.py:1: FutureWarning: DataFrame.mean and DataFrame.median with numeric_only=None will include datetime64 and datetime64tz columns in a future version.\n",
      "  ontimeDelivery_review = reviewScoreAnalysis[reviewScoreAnalysis.delivered_estimated > 0][['review_score', 'order_approved_at', 'order_delivered_carrier_date', 'order_estimated_delivery_date', 'order_delivered_customer_date']].mean()\n",
      "C:\\Temp\\ipykernel_9280\\3303359468.py:2: FutureWarning: DataFrame.mean and DataFrame.median with numeric_only=None will include datetime64 and datetime64tz columns in a future version.\n",
      "  lateDelivery_review = reviewScoreAnalysis[reviewScoreAnalysis.delivered_estimated < 0][['review_score', 'order_approved_at', 'order_delivered_carrier_date', 'order_estimated_delivery_date', 'order_delivered_customer_date']].mean()\n"
     ]
    },
    {
     "data": {
      "text/html": [
       "<div>\n",
       "<style scoped>\n",
       "    .dataframe tbody tr th:only-of-type {\n",
       "        vertical-align: middle;\n",
       "    }\n",
       "\n",
       "    .dataframe tbody tr th {\n",
       "        vertical-align: top;\n",
       "    }\n",
       "\n",
       "    .dataframe thead th {\n",
       "        text-align: right;\n",
       "    }\n",
       "</style>\n",
       "<table border=\"1\" class=\"dataframe\">\n",
       "  <thead>\n",
       "    <tr style=\"text-align: right;\">\n",
       "      <th></th>\n",
       "      <th>on time delivery</th>\n",
       "      <th>late delivery</th>\n",
       "    </tr>\n",
       "  </thead>\n",
       "  <tbody>\n",
       "    <tr>\n",
       "      <th>review_score</th>\n",
       "      <td>2.25598</td>\n",
       "      <td>4.282892</td>\n",
       "    </tr>\n",
       "  </tbody>\n",
       "</table>\n",
       "</div>"
      ],
      "text/plain": [
       "              on time delivery  late delivery\n",
       "review_score           2.25598       4.282892"
      ]
     },
     "execution_count": 58,
     "metadata": {},
     "output_type": "execute_result"
    }
   ],
   "source": [
    "ontimeDelivery_review = reviewScoreAnalysis[reviewScoreAnalysis.delivered_estimated > 0][['review_score', 'order_approved_at', 'order_delivered_carrier_date', 'order_estimated_delivery_date', 'order_delivered_customer_date']].mean()\n",
    "lateDelivery_review = reviewScoreAnalysis[reviewScoreAnalysis.delivered_estimated < 0][['review_score', 'order_approved_at', 'order_delivered_carrier_date', 'order_estimated_delivery_date', 'order_delivered_customer_date']].mean()\n",
    "comparision_review = pd.DataFrame([ontimeDelivery_review, lateDelivery_review]).T\n",
    "comparision_review.rename(columns = {0 : 'on time delivery', 1 : 'late delivery'}, inplace = True)\n",
    "comparision_review"
   ]
  },
  {
   "cell_type": "code",
   "execution_count": 59,
   "id": "2b0e3894",
   "metadata": {},
   "outputs": [
    {
     "data": {
      "image/png": "[encoded data removed]",
      "text/plain": [
       "<Figure size 864x432 with 1 Axes>"
      ]
     },
     "metadata": {},
     "output_type": "display_data"
    }
   ],
   "source": [
    "# Plot the data\n",
    "comparision_review.plot(kind='barh', figsize=(12, 6), color=['#1f77b4', '#ff7f0e'])\n",
    "plt.title('Comparison of on-time Vs. late delivery orders', fontsize=16)\n",
    "plt.xlabel('Mean Value (days)')\n",
    "plt.ylabel('Metrics')\n",
    "plt.legend(loc='best', title='Delivery Status')\n",
    "plt.grid(axis='x')\n",
    "\n",
    "# Show the plot\n",
    "plt.tight_layout()\n",
    "plt.show()"
   ]
  },
  {
   "cell_type": "code",
   "execution_count": null,
   "id": "7f4aa673",
   "metadata": {},
   "outputs": [],
   "source": [
    "'''#### Interpretation: \n",
    "1. On-Time Delivery Average Review Score: 4.296071\n",
    "   Customers who received their deliveries on time gave an average review score of approximately 4.04. \n",
    "   This indicates a relatively high level of satisfaction among customers who experienced on-time deliveries.\n",
    "\n",
    "2. Late Delivery Average Review Score: 2.567125.\n",
    "   Customers who experienced late deliveries gave an average review score of approximately 2.56. \n",
    "   This suggests a lower level of satisfaction among customers who faced delays in their deliveries.\n",
    "3. Timely delivery appears to be positively correlated with higher customer satisfaction.\n",
    "4. Late deliveries may have a negative impact on the overall customer experience, leading to lower review scores.\n",
    "5. It took 25 days on an average for the orders to get delivered to the customers for late delivery orders, \n",
    "   while it took just 9 days for on-time delivery orders.\n",
    "6. On an average, orders were delivered 14 days before the estimated date of delivery for on-time delivered orders.\n",
    "'''"
   ]
  },
  {
   "cell_type": "code",
   "execution_count": 47,
   "id": "61912c60",
   "metadata": {},
   "outputs": [
    {
     "data": {
      "text/html": [
       "<div>\n",
       "<style scoped>\n",
       "    .dataframe tbody tr th:only-of-type {\n",
       "        vertical-align: middle;\n",
       "    }\n",
       "\n",
       "    .dataframe tbody tr th {\n",
       "        vertical-align: top;\n",
       "    }\n",
       "\n",
       "    .dataframe thead th {\n",
       "        text-align: right;\n",
       "    }\n",
       "</style>\n",
       "<table border=\"1\" class=\"dataframe\">\n",
       "  <thead>\n",
       "    <tr style=\"text-align: right;\">\n",
       "      <th></th>\n",
       "      <th>customer_id</th>\n",
       "      <th>recency</th>\n",
       "      <th>frequency</th>\n",
       "      <th>monetary_value</th>\n",
       "    </tr>\n",
       "  </thead>\n",
       "  <tbody>\n",
       "    <tr>\n",
       "      <th>0</th>\n",
       "      <td>9ef432eb6251297304e76186b10a928d</td>\n",
       "      <td>335.0</td>\n",
       "      <td>4.0</td>\n",
       "      <td>82.0</td>\n",
       "    </tr>\n",
       "    <tr>\n",
       "      <th>1</th>\n",
       "      <td>9ef432eb6251297304e76186b10a928d</td>\n",
       "      <td>335.0</td>\n",
       "      <td>4.0</td>\n",
       "      <td>82.0</td>\n",
       "    </tr>\n",
       "    <tr>\n",
       "      <th>2</th>\n",
       "      <td>9ef432eb6251297304e76186b10a928d</td>\n",
       "      <td>335.0</td>\n",
       "      <td>4.0</td>\n",
       "      <td>82.0</td>\n",
       "    </tr>\n",
       "    <tr>\n",
       "      <th>3</th>\n",
       "      <td>b0830fb4747a6c6d20dea0b8c802d7ef</td>\n",
       "      <td>40.0</td>\n",
       "      <td>1.0</td>\n",
       "      <td>141.0</td>\n",
       "    </tr>\n",
       "    <tr>\n",
       "      <th>4</th>\n",
       "      <td>41ce2a54c0b03bf3443c3d931a367089</td>\n",
       "      <td>26.0</td>\n",
       "      <td>1.0</td>\n",
       "      <td>179.0</td>\n",
       "    </tr>\n",
       "  </tbody>\n",
       "</table>\n",
       "</div>"
      ],
      "text/plain": [
       "                        customer_id  recency  frequency  monetary_value\n",
       "0  9ef432eb6251297304e76186b10a928d    335.0        4.0            82.0\n",
       "1  9ef432eb6251297304e76186b10a928d    335.0        4.0            82.0\n",
       "2  9ef432eb6251297304e76186b10a928d    335.0        4.0            82.0\n",
       "3  b0830fb4747a6c6d20dea0b8c802d7ef     40.0        1.0           141.0\n",
       "4  41ce2a54c0b03bf3443c3d931a367089     26.0        1.0           179.0"
      ]
     },
     "execution_count": 47,
     "metadata": {},
     "output_type": "execute_result"
    }
   ],
   "source": [
    "rfm_df = df[['customer_id','recency','frequency','monetary_value']]\n",
    "rfm_df.head()"
   ]
  },
  {
   "cell_type": "code",
   "execution_count": 48,
   "id": "c8a2da97",
   "metadata": {},
   "outputs": [],
   "source": [
    "#### Saving rfm_df as csv on dir: Project_X\n",
    "rfm_df.to_csv('rfm_df.csv', index=False)\n"
   ]
  },
  {
   "cell_type": "code",
   "execution_count": 72,
   "id": "7e383f8e",
   "metadata": {},
   "outputs": [],
   "source": [
    "final = df[['customer_id','customer_unique_id','recency','frequency','monetary_value','customer_tenure',\\\n",
    "            'late_deliveries','num_orders','review_score']]"
   ]
  },
  {
   "cell_type": "code",
   "execution_count": 73,
   "id": "19541d75",
   "metadata": {},
   "outputs": [],
   "source": [
    "### Saving final as csv\n",
    "final.to_csv('rfm_addf.csv',index=False)"
   ]
  },
  {
   "cell_type": "code",
   "execution_count": 1,
   "id": "4cebea1c",
   "metadata": {},
   "outputs": [],
   "source": [
    "import pandas as pd\n",
    "import numpy as np\n",
    "import matplotlib.pyplot as plt\n"
   ]
  },
  {
   "cell_type": "code",
   "execution_count": 2,
   "id": "8b457127",
   "metadata": {},
   "outputs": [],
   "source": [
    "df=pd.read_csv('rfm_addf.csv')"
   ]
  },
  {
   "cell_type": "code",
   "execution_count": 4,
   "id": "7de297a6",
   "metadata": {},
   "outputs": [
    {
     "data": {
      "text/plain": [
       "Index(['customer_id', 'customer_unique_id', 'recency', 'frequency',\n",
       "       'monetary_value', 'customer_tenure', 'late_deliveries', 'num_orders',\n",
       "       'review_score'],\n",
       "      dtype='object')"
      ]
     },
     "execution_count": 4,
     "metadata": {},
     "output_type": "execute_result"
    }
   ],
   "source": [
    "df.columns"
   ]
  },
  {
   "cell_type": "code",
   "execution_count": 5,
   "id": "1af634a7",
   "metadata": {},
   "outputs": [
    {
     "data": {
      "text/plain": [
       "(109000, 9)"
      ]
     },
     "execution_count": 5,
     "metadata": {},
     "output_type": "execute_result"
    }
   ],
   "source": [
    "df.shape"
   ]
  },
  {
   "cell_type": "code",
   "execution_count": 6,
   "id": "9f8fe2f8",
   "metadata": {},
   "outputs": [
    {
     "data": {
      "text/plain": [
       "91186"
      ]
     },
     "execution_count": 6,
     "metadata": {},
     "output_type": "execute_result"
    }
   ],
   "source": [
    "df['customer_id'].nunique()"
   ]
  },
  {
   "cell_type": "code",
   "execution_count": 7,
   "id": "6c1050f6",
   "metadata": {},
   "outputs": [],
   "source": [
    "df['clv'] = df['monetary_value'] * (df['frequency'] / df['customer_tenure']) * df['customer_tenure']\n"
   ]
  },
  {
   "cell_type": "code",
   "execution_count": 8,
   "id": "b684f798",
   "metadata": {},
   "outputs": [],
   "source": [
    "# Define segments\n",
    "bins = [0, 2000, 5000, np.inf]\n",
    "labels = ['Low CLV', 'Medium CLV', 'High CLV']\n",
    "df['clv_segment'] = pd.cut(df['clv'], bins=bins, labels=labels)"
   ]
  },
  {
   "cell_type": "code",
   "execution_count": 9,
   "id": "211a2759",
   "metadata": {},
   "outputs": [
    {
     "data": {
      "image/png": "[encoded data removed]",
      "text/plain": [
       "<Figure size 720x432 with 1 Axes>"
      ]
     },
     "metadata": {
      "needs_background": "light"
     },
     "output_type": "display_data"
    }
   ],
   "source": [
    "# Plot the distribution of CLV segments\n",
    "clv_counts = df['clv_segment'].value_counts().sort_index()\n",
    "\n",
    "plt.figure(figsize=(10, 6))\n",
    "plt.bar(clv_counts.index, clv_counts.values, color=['red', 'green', 'orange'])\n",
    "plt.title('Customer Lifetime Value Segments')\n",
    "plt.xlabel('CLV Segment')\n",
    "plt.ylabel('Number of Customers')\n",
    "plt.show()"
   ]
  },
  {
   "cell_type": "code",
   "execution_count": 12,
   "id": "dba555f2",
   "metadata": {},
   "outputs": [
    {
     "data": {
      "image/png": "[encoded data removed]",
      "text/plain": [
       "<Figure size 864x576 with 1 Axes>"
      ]
     },
     "metadata": {
      "needs_background": "light"
     },
     "output_type": "display_data"
    }
   ],
   "source": [
    "# Plot the bars\n",
    "# Create the plot\n",
    "fig, ax = plt.subplots(figsize=(12, 8))\n",
    "\n",
    "# Define the colors and labels\n",
    "colors = ['#ff9999','#66b3ff','#99ff99']\n",
    "labels = ['Low CLV', 'Medium CLV', 'High CLV']\n",
    "bars = ax.bar(clv_counts.index, clv_counts.values, color=colors, edgecolor='white', width=0.5)\n",
    "\n",
    "# Add text annotations\n",
    "for bar, label in zip(bars, labels):\n",
    "    height = bar.get_height()\n",
    "    ax.annotate(f'{height}%',\n",
    "                xy=(bar.get_x() + bar.get_width() / 2, height),\n",
    "                xytext=(0, 3),  # 3 points vertical offset\n",
    "                textcoords=\"offset points\",\n",
    "                ha='center', va='bottom')\n",
    "\n",
    "# Add the curved areas and text\n",
    "for i, (x, y) in enumerate(zip(clv_counts.index, clv_counts.values)):\n",
    "    if labels[i] == 'Low CLV':\n",
    "        ax.fill_between([i-0.5, i+0.5], [0, 0], [y, y], color=colors[i], alpha=0.5)\n",
    "    elif labels[i] == 'Medium CLV':\n",
    "        ax.fill_between([i-0.5, i+0.5], [0, 0], [y, y], color=colors[i], alpha=0.5)\n",
    "    elif labels[i] == 'High CLV':\n",
    "        ax.fill_between([i-0.5, i+0.5], [0, 0], [y, y], color=colors[i], alpha=0.5)\n",
    "\n",
    "# Set the title and labels\n",
    "ax.set_title('Customer Lifetime Value Segments', fontsize=16)\n",
    "ax.set_xlabel('CLV Segment', fontsize=14)\n",
    "ax.set_ylabel('Number of Customers', fontsize=14)\n",
    "\n",
    "# Customize the y-axis to show percentage\n",
    "ax.yaxis.set_major_formatter(plt.FuncFormatter(lambda x, loc: \"%d%%\" % x))\n",
    "\n",
    "plt.tight_layout()\n",
    "plt.show()"
   ]
  },
  {
   "cell_type": "code",
   "execution_count": null,
   "id": "ece7d765",
   "metadata": {},
   "outputs": [],
   "source": []
  },
  {
   "cell_type": "code",
   "execution_count": 67,
   "id": "427ab102",
   "metadata": {},
   "outputs": [
    {
     "name": "stdout",
     "output_type": "stream",
     "text": [
      "Descriptive Statistics:\n",
      "             recency      frequency  monetary_value  customer_tenure  \\\n",
      "count  108995.000000  108993.000000   108993.000000    108993.000000   \n",
      "mean      245.580036       1.808694      369.537346         5.958373   \n",
      "std       153.475442       2.863407     1590.493909        37.758271   \n",
      "min         0.000000       1.000000        0.000000         0.000000   \n",
      "25%       121.000000       1.000000       70.000000         0.000000   \n",
      "50%       227.000000       1.000000      133.000000         0.000000   \n",
      "75%       356.000000       2.000000      278.000000         0.000000   \n",
      "max       700.000000      75.000000   109312.000000       633.000000   \n",
      "\n",
      "       late_deliveries     num_orders   review_score  \n",
      "count    108995.000000  108993.000000  108995.000000  \n",
      "mean          0.075389       1.084978       4.052865  \n",
      "std           0.264019       0.378094       1.386650  \n",
      "min           0.000000       1.000000       0.000000  \n",
      "25%           0.000000       1.000000       4.000000  \n",
      "50%           0.000000       1.000000       5.000000  \n",
      "75%           0.000000       1.000000       5.000000  \n",
      "max           1.000000      14.000000      60.000000  \n"
     ]
    }
   ],
   "source": [
    "# Descriptive Statistics\n",
    "descriptive_stats = final.describe()\n",
    "print(\"Descriptive Statistics:\")\n",
    "print(descriptive_stats)"
   ]
  },
  {
   "cell_type": "code",
   "execution_count": 51,
   "id": "4dbd3b68",
   "metadata": {},
   "outputs": [],
   "source": [
    "# Create a copy of the original DataFrame\n",
    "final_transformed = final.copy()\n",
    "final_transformed['recency'] = final_transformed['recency'] + 1"
   ]
  },
  {
   "cell_type": "code",
   "execution_count": 52,
   "id": "9c0a4dbf",
   "metadata": {},
   "outputs": [
    {
     "name": "stdout",
     "output_type": "stream",
     "text": [
      "<class 'pandas.core.frame.DataFrame'>\n",
      "Int64Index: 109000 entries, 0 to 108999\n",
      "Data columns (total 9 columns):\n",
      " #   Column              Non-Null Count   Dtype  \n",
      "---  ------              --------------   -----  \n",
      " 0   customer_id         109000 non-null  object \n",
      " 1   customer_unique_id  108996 non-null  object \n",
      " 2   recency             109000 non-null  float64\n",
      " 3   frequency           108996 non-null  float64\n",
      " 4   monetary_value      108996 non-null  float64\n",
      " 5   customer_tenure     108996 non-null  float64\n",
      " 6   late_deliveries     109000 non-null  int32  \n",
      " 7   num_orders          108996 non-null  float64\n",
      " 8   review_score        109000 non-null  int32  \n",
      "dtypes: float64(5), int32(2), object(2)\n",
      "memory usage: 7.5+ MB\n"
     ]
    }
   ],
   "source": [
    "# Add a small constant (e.g., 1) to 'recency' to handle zero values\n",
    "final_transformed['recency'] = final_transformed['recency'] + 1\n",
    "\n",
    "# Log transform 'recency', 'frequency', and 'monetary_value' with addition of 1\n",
    "columns_to_log_transform = ['recency', 'frequency', 'monetary_value']\n",
    "final_transformed[columns_to_log_transform] = np.log1p(final_transformed[columns_to_log_transform])\n",
    "\n",
    "final_transformed.info()"
   ]
  },
  {
   "cell_type": "code",
   "execution_count": 53,
   "id": "2e626b4c",
   "metadata": {},
   "outputs": [
    {
     "data": {
      "text/html": [
       "<div>\n",
       "<style scoped>\n",
       "    .dataframe tbody tr th:only-of-type {\n",
       "        vertical-align: middle;\n",
       "    }\n",
       "\n",
       "    .dataframe tbody tr th {\n",
       "        vertical-align: top;\n",
       "    }\n",
       "\n",
       "    .dataframe thead th {\n",
       "        text-align: right;\n",
       "    }\n",
       "</style>\n",
       "<table border=\"1\" class=\"dataframe\">\n",
       "  <thead>\n",
       "    <tr style=\"text-align: right;\">\n",
       "      <th></th>\n",
       "      <th>recency</th>\n",
       "      <th>frequency</th>\n",
       "      <th>monetary_value</th>\n",
       "      <th>customer_tenure</th>\n",
       "      <th>late_deliveries</th>\n",
       "      <th>num_orders</th>\n",
       "      <th>review_score</th>\n",
       "    </tr>\n",
       "  </thead>\n",
       "  <tbody>\n",
       "    <tr>\n",
       "      <th>recency</th>\n",
       "      <td>1.000000</td>\n",
       "      <td>0.051903</td>\n",
       "      <td>0.010554</td>\n",
       "      <td>0.016732</td>\n",
       "      <td>-0.017231</td>\n",
       "      <td>0.041372</td>\n",
       "      <td>-0.040556</td>\n",
       "    </tr>\n",
       "    <tr>\n",
       "      <th>frequency</th>\n",
       "      <td>0.051903</td>\n",
       "      <td>1.000000</td>\n",
       "      <td>0.566521</td>\n",
       "      <td>0.221587</td>\n",
       "      <td>-0.031057</td>\n",
       "      <td>0.395359</td>\n",
       "      <td>-0.116093</td>\n",
       "    </tr>\n",
       "    <tr>\n",
       "      <th>monetary_value</th>\n",
       "      <td>0.010554</td>\n",
       "      <td>0.566521</td>\n",
       "      <td>1.000000</td>\n",
       "      <td>0.135950</td>\n",
       "      <td>-0.000710</td>\n",
       "      <td>0.222819</td>\n",
       "      <td>-0.137168</td>\n",
       "    </tr>\n",
       "    <tr>\n",
       "      <th>customer_tenure</th>\n",
       "      <td>0.016732</td>\n",
       "      <td>0.221587</td>\n",
       "      <td>0.135950</td>\n",
       "      <td>1.000000</td>\n",
       "      <td>-0.015475</td>\n",
       "      <td>0.600522</td>\n",
       "      <td>0.026394</td>\n",
       "    </tr>\n",
       "    <tr>\n",
       "      <th>late_deliveries</th>\n",
       "      <td>-0.017231</td>\n",
       "      <td>-0.031057</td>\n",
       "      <td>-0.000710</td>\n",
       "      <td>-0.015475</td>\n",
       "      <td>1.000000</td>\n",
       "      <td>-0.013350</td>\n",
       "      <td>-0.306010</td>\n",
       "    </tr>\n",
       "    <tr>\n",
       "      <th>num_orders</th>\n",
       "      <td>0.041372</td>\n",
       "      <td>0.395359</td>\n",
       "      <td>0.222819</td>\n",
       "      <td>0.600522</td>\n",
       "      <td>-0.013350</td>\n",
       "      <td>1.000000</td>\n",
       "      <td>0.017841</td>\n",
       "    </tr>\n",
       "    <tr>\n",
       "      <th>review_score</th>\n",
       "      <td>-0.040556</td>\n",
       "      <td>-0.116093</td>\n",
       "      <td>-0.137168</td>\n",
       "      <td>0.026394</td>\n",
       "      <td>-0.306010</td>\n",
       "      <td>0.017841</td>\n",
       "      <td>1.000000</td>\n",
       "    </tr>\n",
       "  </tbody>\n",
       "</table>\n",
       "</div>"
      ],
      "text/plain": [
       "                  recency  frequency  monetary_value  customer_tenure  \\\n",
       "recency          1.000000   0.051903        0.010554         0.016732   \n",
       "frequency        0.051903   1.000000        0.566521         0.221587   \n",
       "monetary_value   0.010554   0.566521        1.000000         0.135950   \n",
       "customer_tenure  0.016732   0.221587        0.135950         1.000000   \n",
       "late_deliveries -0.017231  -0.031057       -0.000710        -0.015475   \n",
       "num_orders       0.041372   0.395359        0.222819         0.600522   \n",
       "review_score    -0.040556  -0.116093       -0.137168         0.026394   \n",
       "\n",
       "                 late_deliveries  num_orders  review_score  \n",
       "recency                -0.017231    0.041372     -0.040556  \n",
       "frequency              -0.031057    0.395359     -0.116093  \n",
       "monetary_value         -0.000710    0.222819     -0.137168  \n",
       "customer_tenure        -0.015475    0.600522      0.026394  \n",
       "late_deliveries         1.000000   -0.013350     -0.306010  \n",
       "num_orders             -0.013350    1.000000      0.017841  \n",
       "review_score           -0.306010    0.017841      1.000000  "
      ]
     },
     "execution_count": 53,
     "metadata": {},
     "output_type": "execute_result"
    }
   ],
   "source": [
    "# Compute correlation matrix\n",
    "columns_to_drop = ['customer_unique_id', 'customer_id']\n",
    "corr_final = final_transformed.drop(columns = columns_to_drop, axis=1)\n",
    "correlation_matrix = corr_final.corr()\n",
    "# Print result\n",
    "correlation_matrix\n"
   ]
  },
  {
   "cell_type": "code",
   "execution_count": 54,
   "id": "a2181c0d",
   "metadata": {},
   "outputs": [
    {
     "data": {
      "image/png": "[encoded data removed]",
      "text/plain": [
       "<Figure size 576x432 with 2 Axes>"
      ]
     },
     "metadata": {},
     "output_type": "display_data"
    }
   ],
   "source": [
    "# Plot the heatmap\n",
    "plt.figure(figsize=(8, 6))\n",
    "sns.heatmap(correlation_matrix, annot=True, cmap='coolwarm', fmt='.2f', linewidths=0.5)\n",
    "plt.title('Correlation Matrix')\n",
    "plt.show()\n"
   ]
  },
  {
   "cell_type": "markdown",
   "id": "89d2f6b9",
   "metadata": {},
   "source": [
    "# ### Insights:\n",
    "1. Recency Correlations:\n",
    "        recency has a weak positive correlation with frequency (0.05). This suggests that more recent customers might tend to make purchases more frequently.\n",
    "\n",
    "2. Frequency Correlations:\n",
    "        frequency has a moderate positive correlation with both monetary_value (0.57) and num_orders (0.40). This indicates that customers who make more frequent purchases tend to spend more and place a higher number of orders.\n",
    "\n",
    "3. Monetary Value Correlations:\n",
    "        monetary_value has a moderate positive correlation with frequency (0.57) and a weaker positive correlation with num_orders (0.22). This reinforces the idea that customers who spend more in each transaction also tend to make more frequent purchases.\n",
    "\n",
    "4. Customer Tenure Correlations:\n",
    "        customer_tenure has a weak positive correlation with both num_orders (0.60) and recency (0.02). This suggests that longer-tenured customers tend to make more orders and might also have more recent purchases.\n",
    "\n",
    "5. Late Deliveries Correlations:\n",
    "        late_deliveries has a weak negative correlation with review_score (-0.33). This indicates that customers who experience more late deliveries are likely to give lower review scores.\n",
    "\n",
    "6. Review Score Correlations:\n",
    "        review_score has a weak negative correlation with both frequency (-0.14) and monetary_value (-0.14). This suggests that customers who make less frequent purchases or spend less might be more critical and give lower review scores."
   ]
  },
  {
   "cell_type": "code",
   "execution_count": 74,
   "id": "e8b61055",
   "metadata": {},
   "outputs": [
    {
     "data": {
      "image/png": "[encoded data removed]",
      "text/plain": [
       "<Figure size 432x288 with 1 Axes>"
      ]
     },
     "metadata": {
      "needs_background": "light"
     },
     "output_type": "display_data"
    }
   ],
   "source": [
    "# Customer Segmentation Based on Review Score\n",
    "sns.histplot(final, x='review_score', bins=5, kde=True)\n",
    "plt.title('Distribution of Review Scores')\n",
    "plt.show()"
   ]
  },
  {
   "cell_type": "code",
   "execution_count": 55,
   "id": "882948a2",
   "metadata": {},
   "outputs": [
    {
     "name": "stdout",
     "output_type": "stream",
     "text": [
      "Churn Analysis:\n",
      "  churn  monetary_value  frequency  customer_tenure  late_deliveries  \\\n",
      "0     0      358.245448   1.661107         5.321343         0.075493   \n",
      "1     1      376.748714   1.903038         6.365348         0.075331   \n",
      "\n",
      "   num_orders  \n",
      "0    1.064367  \n",
      "1    1.098150  \n"
     ]
    },
    {
     "name": "stderr",
     "output_type": "stream",
     "text": [
      "C:\\Temp\\ipykernel_3856\\611842155.py:3: SettingWithCopyWarning: \n",
      "A value is trying to be set on a copy of a slice from a DataFrame.\n",
      "Try using .loc[row_indexer,col_indexer] = value instead\n",
      "\n",
      "See the caveats in the documentation: https://pandas.pydata.org/pandas-docs/stable/user_guide/indexing.html#returning-a-view-versus-a-copy\n",
      "  final['churn'] = (final['recency'] > churn_threshold_days).astype(int).astype(str)\n"
     ]
    }
   ],
   "source": [
    "# Assuming a threshold for 'recency'\n",
    "churn_threshold_days = 180\n",
    "final['churn'] = (final['recency'] > churn_threshold_days).astype(int).astype(str)\n",
    "\n",
    "# Analyze features for churn prediction\n",
    "churn_analysis = final.groupby('churn').agg({\n",
    "    'monetary_value': 'mean',\n",
    "    'frequency': 'mean',\n",
    "    'customer_tenure': 'mean',\n",
    "    'late_deliveries': 'mean',\n",
    "    'num_orders': 'mean'\n",
    "}).reset_index()\n",
    "\n",
    "# Print insights\n",
    "print(\"Churn Analysis:\")\n",
    "print(churn_analysis)\n",
    "\n"
   ]
  },
  {
   "cell_type": "code",
   "execution_count": 56,
   "id": "6be56651",
   "metadata": {},
   "outputs": [
    {
     "name": "stdout",
     "output_type": "stream",
     "text": [
      "Churn Analysis:\n",
      "╒════╤═════════╤══════════════════╤═════════════╤═══════════════════╤═══════════════════╤══════════════╕\n",
      "│    │   churn │   monetary_value │   frequency │   customer_tenure │   late_deliveries │   num_orders │\n",
      "╞════╪═════════╪══════════════════╪═════════════╪═══════════════════╪═══════════════════╪══════════════╡\n",
      "│  0 │       0 │          358.245 │     1.66111 │           5.32134 │         0.0754934 │      1.06437 │\n",
      "├────┼─────────┼──────────────────┼─────────────┼───────────────────┼───────────────────┼──────────────┤\n",
      "│  1 │       1 │          376.749 │     1.90304 │           6.36535 │         0.0753312 │      1.09815 │\n",
      "╘════╧═════════╧══════════════════╧═════════════╧═══════════════════╧═══════════════════╧══════════════╛\n"
     ]
    },
    {
     "name": "stderr",
     "output_type": "stream",
     "text": [
      "C:\\Temp\\ipykernel_3856\\2700601745.py:6: SettingWithCopyWarning: \n",
      "A value is trying to be set on a copy of a slice from a DataFrame.\n",
      "Try using .loc[row_indexer,col_indexer] = value instead\n",
      "\n",
      "See the caveats in the documentation: https://pandas.pydata.org/pandas-docs/stable/user_guide/indexing.html#returning-a-view-versus-a-copy\n",
      "  final['churn'] = (final['recency'] > churn_threshold_days).astype(int).astype(str)\n"
     ]
    },
    {
     "data": {
      "text/html": [
       "<table border=\"1\" class=\"dataframe table table-striped table-bordered\">\n",
       "  <thead>\n",
       "    <tr style=\"text-align: right;\">\n",
       "      <th>churn</th>\n",
       "      <th>monetary_value</th>\n",
       "      <th>frequency</th>\n",
       "      <th>customer_tenure</th>\n",
       "      <th>late_deliveries</th>\n",
       "      <th>num_orders</th>\n",
       "    </tr>\n",
       "  </thead>\n",
       "  <tbody>\n",
       "    <tr>\n",
       "      <td>0</td>\n",
       "      <td>358.245448</td>\n",
       "      <td>1.661107</td>\n",
       "      <td>5.321343</td>\n",
       "      <td>0.075493</td>\n",
       "      <td>1.064367</td>\n",
       "    </tr>\n",
       "    <tr>\n",
       "      <td>1</td>\n",
       "      <td>376.748714</td>\n",
       "      <td>1.903038</td>\n",
       "      <td>6.365348</td>\n",
       "      <td>0.075331</td>\n",
       "      <td>1.098150</td>\n",
       "    </tr>\n",
       "  </tbody>\n",
       "</table>"
      ],
      "text/plain": [
       "<IPython.core.display.HTML object>"
      ]
     },
     "metadata": {},
     "output_type": "display_data"
    }
   ],
   "source": [
    "import pandas as pd\n",
    "from tabulate import tabulate\n",
    "\n",
    "# Assuming a threshold for 'recency'\n",
    "churn_threshold_days = 180\n",
    "final['churn'] = (final['recency'] > churn_threshold_days).astype(int).astype(str)\n",
    "\n",
    "# Function to calculate mode\n",
    "def mode(series):\n",
    "    return series.mode().iloc[0]\n",
    "\n",
    "# Analyze features for churn prediction\n",
    "churn_analysis = final.groupby('churn').agg({\n",
    "    'monetary_value': 'mean',\n",
    "    'frequency': 'mean',\n",
    "    'customer_tenure': 'mean',\n",
    "    'late_deliveries': 'mean',\n",
    "    'num_orders': 'mean'\n",
    "}).reset_index()\n",
    "\n",
    "# Print insights using tabulate\n",
    "print(\"Churn Analysis:\")\n",
    "print(tabulate(churn_analysis, headers='keys', tablefmt='fancy_grid'))\n",
    "\n",
    "# Alternatively, for a richer presentation in Jupyter Notebook\n",
    "from IPython.display import display, HTML\n",
    "\n",
    "# Convert DataFrame to HTML and display\n",
    "html_table = churn_analysis.to_html(index=False, classes='table table-striped table-bordered')\n",
    "display(HTML(html_table))\n"
   ]
  },
  {
   "cell_type": "code",
   "execution_count": 57,
   "id": "dc0231b8",
   "metadata": {},
   "outputs": [
    {
     "data": {
      "image/png": "[encoded data removed]",
      "text/plain": [
       "<Figure size 432x288 with 1 Axes>"
      ]
     },
     "metadata": {},
     "output_type": "display_data"
    }
   ],
   "source": [
    "# Visualize Churn Analysis without log-transformed features\n",
    "churn_analysis_melted = pd.melt(churn_analysis, id_vars='churn', var_name='feature', value_name='mean_value')\n",
    "sns.barplot(data=churn_analysis_melted, x='feature', y='mean_value', hue='churn', palette='viridis')\n",
    "plt.title('Churn Analysis')\n",
    "plt.xlabel('Features')\n",
    "plt.ylabel('Mean Value')\n",
    "plt.xticks(rotation=45, ha='right')\n",
    "plt.show()"
   ]
  },
  {
   "cell_type": "code",
   "execution_count": 58,
   "id": "b954c466",
   "metadata": {},
   "outputs": [
    {
     "name": "stderr",
     "output_type": "stream",
     "text": [
      "C:\\Temp\\ipykernel_3856\\228631274.py:9: SettingWithCopyWarning: \n",
      "A value is trying to be set on a copy of a slice from a DataFrame.\n",
      "Try using .loc[row_indexer,col_indexer] = value instead\n",
      "\n",
      "See the caveats in the documentation: https://pandas.pydata.org/pandas-docs/stable/user_guide/indexing.html#returning-a-view-versus-a-copy\n",
      "  final['churn'] = (final['recency'] > churn_threshold_days).astype(int).astype(str)\n",
      "C:\\Temp\\ipykernel_3856\\228631274.py:16: SettingWithCopyWarning: \n",
      "A value is trying to be set on a copy of a slice from a DataFrame.\n",
      "Try using .loc[row_indexer,col_indexer] = value instead\n",
      "\n",
      "See the caveats in the documentation: https://pandas.pydata.org/pandas-docs/stable/user_guide/indexing.html#returning-a-view-versus-a-copy\n",
      "  final[features_for_churn] = scaler.fit_transform(final[features_for_churn])\n"
     ]
    },
    {
     "name": "stdout",
     "output_type": "stream",
     "text": [
      "Churn Analysis:\n",
      "  churn  monetary_value  frequency  customer_tenure  late_deliveries  \\\n",
      "0     0       -0.007097  -0.051542        -0.016867         0.000375   \n",
      "1     1        0.004537   0.032950         0.010783        -0.000240   \n",
      "\n",
      "   num_orders  \n",
      "0   -0.054507  \n",
      "1    0.034845  \n"
     ]
    },
    {
     "data": {
      "image/png": "[encoded data removed]",
      "text/plain": [
       "<Figure size 432x288 with 1 Axes>"
      ]
     },
     "metadata": {},
     "output_type": "display_data"
    }
   ],
   "source": [
    "import numpy as np\n",
    "import pandas as pd\n",
    "import seaborn as sns\n",
    "import matplotlib.pyplot as plt\n",
    "from sklearn.preprocessing import StandardScaler\n",
    "\n",
    "# Assuming a threshold for 'recency'\n",
    "churn_threshold_days = 180\n",
    "final['churn'] = (final['recency'] > churn_threshold_days).astype(int).astype(str)\n",
    "\n",
    "# Features for churn prediction\n",
    "features_for_churn = ['monetary_value', 'frequency', 'customer_tenure', 'late_deliveries', 'num_orders']\n",
    "\n",
    "# Standardize features\n",
    "scaler = StandardScaler()\n",
    "final[features_for_churn] = scaler.fit_transform(final[features_for_churn])\n",
    "\n",
    "# Analyze features for churn prediction\n",
    "churn_analysis = final.groupby('churn').agg({\n",
    "    'monetary_value': 'mean',\n",
    "    'frequency': 'mean',\n",
    "    'customer_tenure': 'mean',\n",
    "    'late_deliveries': 'mean',\n",
    "    'num_orders': 'mean'\n",
    "}).reset_index()\n",
    "\n",
    "# Print insights\n",
    "print(\"Churn Analysis:\")\n",
    "print(churn_analysis)\n",
    "\n",
    "# Visualize Churn Analysis without log-transformed features\n",
    "churn_analysis_melted = pd.melt(churn_analysis, id_vars='churn', var_name='feature', value_name='mean_value')\n",
    "sns.barplot(data=churn_analysis_melted, x='feature', y='mean_value', hue='churn', palette='viridis')\n",
    "plt.title('Churn Analysis')\n",
    "plt.xlabel('Features')\n",
    "plt.ylabel('Mean Value')\n",
    "plt.xticks(rotation=45, ha='right')\n",
    "plt.show()"
   ]
  },
  {
   "cell_type": "markdown",
   "id": "363f5f31",
   "metadata": {},
   "source": [
    "# ### Insights:\n",
    "1. Monetary Value:\n",
    "        Customers who churned (churn = 1) have a positive standardized value for monetary value (0.0049), indicating that they tend to have a slightly higher monetary value compared to those who did not churn (churn = 0). However, the difference is relatively small.\n",
    "\n",
    "2. Frequency:\n",
    "        Customers who churned have a positive standardized value for frequency (0.03), suggesting that they tend to make purchases more frequently compared to those who did not churn.\n",
    "\n",
    "3. Customer Tenure:\n",
    "        Customers who churned have a positive standardized value for customer tenure (0.012309), indicating that they tend to have a slightly longer tenure compared to those who did not churn.\n",
    "\n",
    "4. Late Deliveries:\n",
    "        Customers who churned have a negative standardized value for late deliveries (-0.013), suggesting that they tend to experience slightly fewer late deliveries compared to those who did not churn.\n",
    "\n",
    "5. Number of Orders:\n",
    "        Customers who churned have a positive standardized value for the number of orders (0.034), indicating that they tend to place a slightly higher number of orders compared to those who did not churn."
   ]
  },
  {
   "cell_type": "code",
   "execution_count": 79,
   "id": "86e879c4",
   "metadata": {},
   "outputs": [
    {
     "name": "stdout",
     "output_type": "stream",
     "text": [
      "<class 'pandas.core.frame.DataFrame'>\n",
      "Int64Index: 108995 entries, 0 to 108994\n",
      "Data columns (total 4 columns):\n",
      " #   Column          Non-Null Count   Dtype  \n",
      "---  ------          --------------   -----  \n",
      " 0   customer_id     108995 non-null  object \n",
      " 1   recency         108995 non-null  int64  \n",
      " 2   frequency       108993 non-null  float64\n",
      " 3   monetary_value  108993 non-null  float64\n",
      "dtypes: float64(2), int64(1), object(1)\n",
      "memory usage: 8.2+ MB\n"
     ]
    }
   ],
   "source": [
    "rfm_df.info()"
   ]
  },
  {
   "cell_type": "code",
   "execution_count": 59,
   "id": "9bd7a135",
   "metadata": {},
   "outputs": [
    {
     "name": "stderr",
     "output_type": "stream",
     "text": [
      "C:\\Temp\\ipykernel_3856\\2759063112.py:3: SettingWithCopyWarning: \n",
      "A value is trying to be set on a copy of a slice from a DataFrame.\n",
      "Try using .loc[row_indexer,col_indexer] = value instead\n",
      "\n",
      "See the caveats in the documentation: https://pandas.pydata.org/pandas-docs/stable/user_guide/indexing.html#returning-a-view-versus-a-copy\n",
      "  rfm_df['recency_score'] = pd.qcut(rfm_df['recency'], q=4, labels=False, duplicates='drop')\n",
      "C:\\Temp\\ipykernel_3856\\2759063112.py:6: SettingWithCopyWarning: \n",
      "A value is trying to be set on a copy of a slice from a DataFrame.\n",
      "Try using .loc[row_indexer,col_indexer] = value instead\n",
      "\n",
      "See the caveats in the documentation: https://pandas.pydata.org/pandas-docs/stable/user_guide/indexing.html#returning-a-view-versus-a-copy\n",
      "  rfm_df['frequency_score'] = pd.qcut(rfm_df['frequency'], q=4, labels=False, duplicates='drop')\n",
      "C:\\Temp\\ipykernel_3856\\2759063112.py:9: SettingWithCopyWarning: \n",
      "A value is trying to be set on a copy of a slice from a DataFrame.\n",
      "Try using .loc[row_indexer,col_indexer] = value instead\n",
      "\n",
      "See the caveats in the documentation: https://pandas.pydata.org/pandas-docs/stable/user_guide/indexing.html#returning-a-view-versus-a-copy\n",
      "  rfm_df['monetary_score'] = pd.qcut(rfm_df['monetary_value'], q=4, labels=False, duplicates='drop')\n"
     ]
    }
   ],
   "source": [
    "# Bin RFM values\n",
    "# Recency Binning\n",
    "rfm_df['recency_score'] = pd.qcut(rfm_df['recency'], q=4, labels=False, duplicates='drop')\n",
    "\n",
    "# Frequency Binning\n",
    "rfm_df['frequency_score'] = pd.qcut(rfm_df['frequency'], q=4, labels=False, duplicates='drop')\n",
    "\n",
    "# Monetary Binning\n",
    "rfm_df['monetary_score'] = pd.qcut(rfm_df['monetary_value'], q=4, labels=False, duplicates='drop')\n"
   ]
  },
  {
   "cell_type": "code",
   "execution_count": 60,
   "id": "05494b1b",
   "metadata": {},
   "outputs": [
    {
     "name": "stderr",
     "output_type": "stream",
     "text": [
      "C:\\Temp\\ipykernel_3856\\3532329496.py:2: SettingWithCopyWarning: \n",
      "A value is trying to be set on a copy of a slice from a DataFrame.\n",
      "Try using .loc[row_indexer,col_indexer] = value instead\n",
      "\n",
      "See the caveats in the documentation: https://pandas.pydata.org/pandas-docs/stable/user_guide/indexing.html#returning-a-view-versus-a-copy\n",
      "  rfm_df['rfm_score'] = rfm_df['recency_score'] + rfm_df['frequency_score'] + rfm_df['monetary_score']\n"
     ]
    },
    {
     "data": {
      "text/html": [
       "<div>\n",
       "<style scoped>\n",
       "    .dataframe tbody tr th:only-of-type {\n",
       "        vertical-align: middle;\n",
       "    }\n",
       "\n",
       "    .dataframe tbody tr th {\n",
       "        vertical-align: top;\n",
       "    }\n",
       "\n",
       "    .dataframe thead th {\n",
       "        text-align: right;\n",
       "    }\n",
       "</style>\n",
       "<table border=\"1\" class=\"dataframe\">\n",
       "  <thead>\n",
       "    <tr style=\"text-align: right;\">\n",
       "      <th></th>\n",
       "      <th>customer_id</th>\n",
       "      <th>recency</th>\n",
       "      <th>frequency</th>\n",
       "      <th>monetary_value</th>\n",
       "      <th>recency_score</th>\n",
       "      <th>frequency_score</th>\n",
       "      <th>monetary_score</th>\n",
       "      <th>rfm_score</th>\n",
       "    </tr>\n",
       "  </thead>\n",
       "  <tbody>\n",
       "    <tr>\n",
       "      <th>0</th>\n",
       "      <td>9ef432eb6251297304e76186b10a928d</td>\n",
       "      <td>335.0</td>\n",
       "      <td>4.0</td>\n",
       "      <td>82.0</td>\n",
       "      <td>2</td>\n",
       "      <td>1.0</td>\n",
       "      <td>1.0</td>\n",
       "      <td>4.0</td>\n",
       "    </tr>\n",
       "    <tr>\n",
       "      <th>1</th>\n",
       "      <td>9ef432eb6251297304e76186b10a928d</td>\n",
       "      <td>335.0</td>\n",
       "      <td>4.0</td>\n",
       "      <td>82.0</td>\n",
       "      <td>2</td>\n",
       "      <td>1.0</td>\n",
       "      <td>1.0</td>\n",
       "      <td>4.0</td>\n",
       "    </tr>\n",
       "    <tr>\n",
       "      <th>2</th>\n",
       "      <td>9ef432eb6251297304e76186b10a928d</td>\n",
       "      <td>335.0</td>\n",
       "      <td>4.0</td>\n",
       "      <td>82.0</td>\n",
       "      <td>2</td>\n",
       "      <td>1.0</td>\n",
       "      <td>1.0</td>\n",
       "      <td>4.0</td>\n",
       "    </tr>\n",
       "    <tr>\n",
       "      <th>3</th>\n",
       "      <td>b0830fb4747a6c6d20dea0b8c802d7ef</td>\n",
       "      <td>40.0</td>\n",
       "      <td>1.0</td>\n",
       "      <td>141.0</td>\n",
       "      <td>0</td>\n",
       "      <td>0.0</td>\n",
       "      <td>2.0</td>\n",
       "      <td>2.0</td>\n",
       "    </tr>\n",
       "    <tr>\n",
       "      <th>4</th>\n",
       "      <td>41ce2a54c0b03bf3443c3d931a367089</td>\n",
       "      <td>26.0</td>\n",
       "      <td>1.0</td>\n",
       "      <td>179.0</td>\n",
       "      <td>0</td>\n",
       "      <td>0.0</td>\n",
       "      <td>2.0</td>\n",
       "      <td>2.0</td>\n",
       "    </tr>\n",
       "  </tbody>\n",
       "</table>\n",
       "</div>"
      ],
      "text/plain": [
       "                        customer_id  recency  frequency  monetary_value  \\\n",
       "0  9ef432eb6251297304e76186b10a928d    335.0        4.0            82.0   \n",
       "1  9ef432eb6251297304e76186b10a928d    335.0        4.0            82.0   \n",
       "2  9ef432eb6251297304e76186b10a928d    335.0        4.0            82.0   \n",
       "3  b0830fb4747a6c6d20dea0b8c802d7ef     40.0        1.0           141.0   \n",
       "4  41ce2a54c0b03bf3443c3d931a367089     26.0        1.0           179.0   \n",
       "\n",
       "   recency_score  frequency_score  monetary_score  rfm_score  \n",
       "0              2              1.0             1.0        4.0  \n",
       "1              2              1.0             1.0        4.0  \n",
       "2              2              1.0             1.0        4.0  \n",
       "3              0              0.0             2.0        2.0  \n",
       "4              0              0.0             2.0        2.0  "
      ]
     },
     "execution_count": 60,
     "metadata": {},
     "output_type": "execute_result"
    }
   ],
   "source": [
    "# Calculate RFM score\n",
    "rfm_df['rfm_score'] = rfm_df['recency_score'] + rfm_df['frequency_score'] + rfm_df['monetary_score']\n",
    "rfm_df.head()"
   ]
  },
  {
   "cell_type": "code",
   "execution_count": 79,
   "id": "49ae0d3b",
   "metadata": {},
   "outputs": [
    {
     "data": {
      "text/html": [
       "<div>\n",
       "<style scoped>\n",
       "    .dataframe tbody tr th:only-of-type {\n",
       "        vertical-align: middle;\n",
       "    }\n",
       "\n",
       "    .dataframe tbody tr th {\n",
       "        vertical-align: top;\n",
       "    }\n",
       "\n",
       "    .dataframe thead th {\n",
       "        text-align: right;\n",
       "    }\n",
       "</style>\n",
       "<table border=\"1\" class=\"dataframe\">\n",
       "  <thead>\n",
       "    <tr style=\"text-align: right;\">\n",
       "      <th></th>\n",
       "      <th>customer_id</th>\n",
       "      <th>recency</th>\n",
       "      <th>frequency</th>\n",
       "      <th>monetary_value</th>\n",
       "      <th>recency_score</th>\n",
       "      <th>frequency_score</th>\n",
       "      <th>monetary_score</th>\n",
       "      <th>rfm_score</th>\n",
       "      <th>segment</th>\n",
       "    </tr>\n",
       "  </thead>\n",
       "  <tbody>\n",
       "    <tr>\n",
       "      <th>0</th>\n",
       "      <td>9ef432eb6251297304e76186b10a928d</td>\n",
       "      <td>335.0</td>\n",
       "      <td>4.0</td>\n",
       "      <td>82.0</td>\n",
       "      <td>2</td>\n",
       "      <td>1.0</td>\n",
       "      <td>1.0</td>\n",
       "      <td>4.0</td>\n",
       "      <td>Regular</td>\n",
       "    </tr>\n",
       "    <tr>\n",
       "      <th>1</th>\n",
       "      <td>9ef432eb6251297304e76186b10a928d</td>\n",
       "      <td>335.0</td>\n",
       "      <td>4.0</td>\n",
       "      <td>82.0</td>\n",
       "      <td>2</td>\n",
       "      <td>1.0</td>\n",
       "      <td>1.0</td>\n",
       "      <td>4.0</td>\n",
       "      <td>Regular</td>\n",
       "    </tr>\n",
       "    <tr>\n",
       "      <th>2</th>\n",
       "      <td>9ef432eb6251297304e76186b10a928d</td>\n",
       "      <td>335.0</td>\n",
       "      <td>4.0</td>\n",
       "      <td>82.0</td>\n",
       "      <td>2</td>\n",
       "      <td>1.0</td>\n",
       "      <td>1.0</td>\n",
       "      <td>4.0</td>\n",
       "      <td>Regular</td>\n",
       "    </tr>\n",
       "    <tr>\n",
       "      <th>3</th>\n",
       "      <td>b0830fb4747a6c6d20dea0b8c802d7ef</td>\n",
       "      <td>40.0</td>\n",
       "      <td>1.0</td>\n",
       "      <td>141.0</td>\n",
       "      <td>0</td>\n",
       "      <td>0.0</td>\n",
       "      <td>2.0</td>\n",
       "      <td>2.0</td>\n",
       "      <td>Inactive</td>\n",
       "    </tr>\n",
       "    <tr>\n",
       "      <th>4</th>\n",
       "      <td>41ce2a54c0b03bf3443c3d931a367089</td>\n",
       "      <td>26.0</td>\n",
       "      <td>1.0</td>\n",
       "      <td>179.0</td>\n",
       "      <td>0</td>\n",
       "      <td>0.0</td>\n",
       "      <td>2.0</td>\n",
       "      <td>2.0</td>\n",
       "      <td>Inactive</td>\n",
       "    </tr>\n",
       "  </tbody>\n",
       "</table>\n",
       "</div>"
      ],
      "text/plain": [
       "                        customer_id  recency  frequency  monetary_value  \\\n",
       "0  9ef432eb6251297304e76186b10a928d    335.0        4.0            82.0   \n",
       "1  9ef432eb6251297304e76186b10a928d    335.0        4.0            82.0   \n",
       "2  9ef432eb6251297304e76186b10a928d    335.0        4.0            82.0   \n",
       "3  b0830fb4747a6c6d20dea0b8c802d7ef     40.0        1.0           141.0   \n",
       "4  41ce2a54c0b03bf3443c3d931a367089     26.0        1.0           179.0   \n",
       "\n",
       "   recency_score  frequency_score  monetary_score  rfm_score   segment  \n",
       "0              2              1.0             1.0        4.0   Regular  \n",
       "1              2              1.0             1.0        4.0   Regular  \n",
       "2              2              1.0             1.0        4.0   Regular  \n",
       "3              0              0.0             2.0        2.0  Inactive  \n",
       "4              0              0.0             2.0        2.0  Inactive  "
      ]
     },
     "execution_count": 79,
     "metadata": {},
     "output_type": "execute_result"
    }
   ],
   "source": [
    "rfm_df.head()"
   ]
  },
  {
   "cell_type": "code",
   "execution_count": 80,
   "id": "3592a045",
   "metadata": {},
   "outputs": [
    {
     "data": {
      "text/html": [
       "<div>\n",
       "<style scoped>\n",
       "    .dataframe tbody tr th:only-of-type {\n",
       "        vertical-align: middle;\n",
       "    }\n",
       "\n",
       "    .dataframe tbody tr th {\n",
       "        vertical-align: top;\n",
       "    }\n",
       "\n",
       "    .dataframe thead th {\n",
       "        text-align: right;\n",
       "    }\n",
       "</style>\n",
       "<table border=\"1\" class=\"dataframe\">\n",
       "  <thead>\n",
       "    <tr style=\"text-align: right;\">\n",
       "      <th></th>\n",
       "      <th>customer_id</th>\n",
       "      <th>customer_unique_id</th>\n",
       "      <th>recency</th>\n",
       "      <th>frequency</th>\n",
       "      <th>monetary_value</th>\n",
       "      <th>customer_tenure</th>\n",
       "      <th>late_deliveries</th>\n",
       "      <th>num_orders</th>\n",
       "      <th>review_score</th>\n",
       "    </tr>\n",
       "  </thead>\n",
       "  <tbody>\n",
       "    <tr>\n",
       "      <th>0</th>\n",
       "      <td>9ef432eb6251297304e76186b10a928d</td>\n",
       "      <td>7c396fd4830fd04220f754e42b4e5bff</td>\n",
       "      <td>335.0</td>\n",
       "      <td>4.0</td>\n",
       "      <td>82.0</td>\n",
       "      <td>27.0</td>\n",
       "      <td>0</td>\n",
       "      <td>2.0</td>\n",
       "      <td>4</td>\n",
       "    </tr>\n",
       "    <tr>\n",
       "      <th>1</th>\n",
       "      <td>9ef432eb6251297304e76186b10a928d</td>\n",
       "      <td>7c396fd4830fd04220f754e42b4e5bff</td>\n",
       "      <td>335.0</td>\n",
       "      <td>4.0</td>\n",
       "      <td>82.0</td>\n",
       "      <td>27.0</td>\n",
       "      <td>0</td>\n",
       "      <td>2.0</td>\n",
       "      <td>4</td>\n",
       "    </tr>\n",
       "    <tr>\n",
       "      <th>2</th>\n",
       "      <td>9ef432eb6251297304e76186b10a928d</td>\n",
       "      <td>7c396fd4830fd04220f754e42b4e5bff</td>\n",
       "      <td>335.0</td>\n",
       "      <td>4.0</td>\n",
       "      <td>82.0</td>\n",
       "      <td>27.0</td>\n",
       "      <td>0</td>\n",
       "      <td>2.0</td>\n",
       "      <td>4</td>\n",
       "    </tr>\n",
       "    <tr>\n",
       "      <th>3</th>\n",
       "      <td>b0830fb4747a6c6d20dea0b8c802d7ef</td>\n",
       "      <td>af07308b275d755c9edb36a90c618231</td>\n",
       "      <td>40.0</td>\n",
       "      <td>1.0</td>\n",
       "      <td>141.0</td>\n",
       "      <td>0.0</td>\n",
       "      <td>0</td>\n",
       "      <td>1.0</td>\n",
       "      <td>4</td>\n",
       "    </tr>\n",
       "    <tr>\n",
       "      <th>4</th>\n",
       "      <td>41ce2a54c0b03bf3443c3d931a367089</td>\n",
       "      <td>3a653a41f6f9fc3d2a113cf8398680e8</td>\n",
       "      <td>26.0</td>\n",
       "      <td>1.0</td>\n",
       "      <td>179.0</td>\n",
       "      <td>0.0</td>\n",
       "      <td>0</td>\n",
       "      <td>1.0</td>\n",
       "      <td>5</td>\n",
       "    </tr>\n",
       "  </tbody>\n",
       "</table>\n",
       "</div>"
      ],
      "text/plain": [
       "                        customer_id                customer_unique_id  \\\n",
       "0  9ef432eb6251297304e76186b10a928d  7c396fd4830fd04220f754e42b4e5bff   \n",
       "1  9ef432eb6251297304e76186b10a928d  7c396fd4830fd04220f754e42b4e5bff   \n",
       "2  9ef432eb6251297304e76186b10a928d  7c396fd4830fd04220f754e42b4e5bff   \n",
       "3  b0830fb4747a6c6d20dea0b8c802d7ef  af07308b275d755c9edb36a90c618231   \n",
       "4  41ce2a54c0b03bf3443c3d931a367089  3a653a41f6f9fc3d2a113cf8398680e8   \n",
       "\n",
       "   recency  frequency  monetary_value  customer_tenure  late_deliveries  \\\n",
       "0    335.0        4.0            82.0             27.0                0   \n",
       "1    335.0        4.0            82.0             27.0                0   \n",
       "2    335.0        4.0            82.0             27.0                0   \n",
       "3     40.0        1.0           141.0              0.0                0   \n",
       "4     26.0        1.0           179.0              0.0                0   \n",
       "\n",
       "   num_orders  review_score  \n",
       "0         2.0             4  \n",
       "1         2.0             4  \n",
       "2         2.0             4  \n",
       "3         1.0             4  \n",
       "4         1.0             5  "
      ]
     },
     "execution_count": 80,
     "metadata": {},
     "output_type": "execute_result"
    }
   ],
   "source": [
    "final.head()"
   ]
  },
  {
   "cell_type": "code",
   "execution_count": 76,
   "id": "ea2000c7",
   "metadata": {},
   "outputs": [
    {
     "data": {
      "text/plain": [
       "Index(['customer_id', 'recency_x', 'frequency_x', 'monetary_value_x',\n",
       "       'recency_score', 'frequency_score', 'monetary_score', 'rfm_score',\n",
       "       'segment', 'customer_unique_id', 'recency_y', 'frequency_y',\n",
       "       'monetary_value_y', 'customer_tenure', 'late_deliveries', 'num_orders',\n",
       "       'review_score'],\n",
       "      dtype='object')"
      ]
     },
     "execution_count": 76,
     "metadata": {},
     "output_type": "execute_result"
    }
   ],
   "source": [
    "merged_df.columns"
   ]
  },
  {
   "cell_type": "code",
   "execution_count": 81,
   "id": "1863641d",
   "metadata": {},
   "outputs": [],
   "source": [
    "merged_df = pd.merge(rfm_df, final, on='customer_id', how='inner')"
   ]
  },
  {
   "cell_type": "code",
   "execution_count": 82,
   "id": "99c38a12",
   "metadata": {},
   "outputs": [
    {
     "data": {
      "text/html": [
       "<div>\n",
       "<style scoped>\n",
       "    .dataframe tbody tr th:only-of-type {\n",
       "        vertical-align: middle;\n",
       "    }\n",
       "\n",
       "    .dataframe tbody tr th {\n",
       "        vertical-align: top;\n",
       "    }\n",
       "\n",
       "    .dataframe thead th {\n",
       "        text-align: right;\n",
       "    }\n",
       "</style>\n",
       "<table border=\"1\" class=\"dataframe\">\n",
       "  <thead>\n",
       "    <tr style=\"text-align: right;\">\n",
       "      <th></th>\n",
       "      <th>customer_id</th>\n",
       "      <th>recency_x</th>\n",
       "      <th>frequency_x</th>\n",
       "      <th>monetary_value_x</th>\n",
       "      <th>recency_score</th>\n",
       "      <th>frequency_score</th>\n",
       "      <th>monetary_score</th>\n",
       "      <th>rfm_score</th>\n",
       "      <th>segment</th>\n",
       "      <th>customer_unique_id</th>\n",
       "      <th>recency_y</th>\n",
       "      <th>frequency_y</th>\n",
       "      <th>monetary_value_y</th>\n",
       "      <th>customer_tenure</th>\n",
       "      <th>late_deliveries</th>\n",
       "      <th>num_orders</th>\n",
       "      <th>review_score</th>\n",
       "    </tr>\n",
       "  </thead>\n",
       "  <tbody>\n",
       "    <tr>\n",
       "      <th>0</th>\n",
       "      <td>9ef432eb6251297304e76186b10a928d</td>\n",
       "      <td>335.0</td>\n",
       "      <td>4.0</td>\n",
       "      <td>82.0</td>\n",
       "      <td>2</td>\n",
       "      <td>1.0</td>\n",
       "      <td>1.0</td>\n",
       "      <td>4.0</td>\n",
       "      <td>Regular</td>\n",
       "      <td>7c396fd4830fd04220f754e42b4e5bff</td>\n",
       "      <td>335.0</td>\n",
       "      <td>4.0</td>\n",
       "      <td>82.0</td>\n",
       "      <td>27.0</td>\n",
       "      <td>0</td>\n",
       "      <td>2.0</td>\n",
       "      <td>4</td>\n",
       "    </tr>\n",
       "    <tr>\n",
       "      <th>1</th>\n",
       "      <td>9ef432eb6251297304e76186b10a928d</td>\n",
       "      <td>335.0</td>\n",
       "      <td>4.0</td>\n",
       "      <td>82.0</td>\n",
       "      <td>2</td>\n",
       "      <td>1.0</td>\n",
       "      <td>1.0</td>\n",
       "      <td>4.0</td>\n",
       "      <td>Regular</td>\n",
       "      <td>7c396fd4830fd04220f754e42b4e5bff</td>\n",
       "      <td>335.0</td>\n",
       "      <td>4.0</td>\n",
       "      <td>82.0</td>\n",
       "      <td>27.0</td>\n",
       "      <td>0</td>\n",
       "      <td>2.0</td>\n",
       "      <td>4</td>\n",
       "    </tr>\n",
       "    <tr>\n",
       "      <th>2</th>\n",
       "      <td>9ef432eb6251297304e76186b10a928d</td>\n",
       "      <td>335.0</td>\n",
       "      <td>4.0</td>\n",
       "      <td>82.0</td>\n",
       "      <td>2</td>\n",
       "      <td>1.0</td>\n",
       "      <td>1.0</td>\n",
       "      <td>4.0</td>\n",
       "      <td>Regular</td>\n",
       "      <td>7c396fd4830fd04220f754e42b4e5bff</td>\n",
       "      <td>335.0</td>\n",
       "      <td>4.0</td>\n",
       "      <td>82.0</td>\n",
       "      <td>27.0</td>\n",
       "      <td>0</td>\n",
       "      <td>2.0</td>\n",
       "      <td>4</td>\n",
       "    </tr>\n",
       "    <tr>\n",
       "      <th>3</th>\n",
       "      <td>9ef432eb6251297304e76186b10a928d</td>\n",
       "      <td>335.0</td>\n",
       "      <td>4.0</td>\n",
       "      <td>82.0</td>\n",
       "      <td>2</td>\n",
       "      <td>1.0</td>\n",
       "      <td>1.0</td>\n",
       "      <td>4.0</td>\n",
       "      <td>Regular</td>\n",
       "      <td>7c396fd4830fd04220f754e42b4e5bff</td>\n",
       "      <td>335.0</td>\n",
       "      <td>4.0</td>\n",
       "      <td>82.0</td>\n",
       "      <td>27.0</td>\n",
       "      <td>0</td>\n",
       "      <td>2.0</td>\n",
       "      <td>4</td>\n",
       "    </tr>\n",
       "    <tr>\n",
       "      <th>4</th>\n",
       "      <td>9ef432eb6251297304e76186b10a928d</td>\n",
       "      <td>335.0</td>\n",
       "      <td>4.0</td>\n",
       "      <td>82.0</td>\n",
       "      <td>2</td>\n",
       "      <td>1.0</td>\n",
       "      <td>1.0</td>\n",
       "      <td>4.0</td>\n",
       "      <td>Regular</td>\n",
       "      <td>7c396fd4830fd04220f754e42b4e5bff</td>\n",
       "      <td>335.0</td>\n",
       "      <td>4.0</td>\n",
       "      <td>82.0</td>\n",
       "      <td>27.0</td>\n",
       "      <td>0</td>\n",
       "      <td>2.0</td>\n",
       "      <td>4</td>\n",
       "    </tr>\n",
       "  </tbody>\n",
       "</table>\n",
       "</div>"
      ],
      "text/plain": [
       "                        customer_id  recency_x  frequency_x  monetary_value_x  \\\n",
       "0  9ef432eb6251297304e76186b10a928d      335.0          4.0              82.0   \n",
       "1  9ef432eb6251297304e76186b10a928d      335.0          4.0              82.0   \n",
       "2  9ef432eb6251297304e76186b10a928d      335.0          4.0              82.0   \n",
       "3  9ef432eb6251297304e76186b10a928d      335.0          4.0              82.0   \n",
       "4  9ef432eb6251297304e76186b10a928d      335.0          4.0              82.0   \n",
       "\n",
       "   recency_score  frequency_score  monetary_score  rfm_score  segment  \\\n",
       "0              2              1.0             1.0        4.0  Regular   \n",
       "1              2              1.0             1.0        4.0  Regular   \n",
       "2              2              1.0             1.0        4.0  Regular   \n",
       "3              2              1.0             1.0        4.0  Regular   \n",
       "4              2              1.0             1.0        4.0  Regular   \n",
       "\n",
       "                 customer_unique_id  recency_y  frequency_y  monetary_value_y  \\\n",
       "0  7c396fd4830fd04220f754e42b4e5bff      335.0          4.0              82.0   \n",
       "1  7c396fd4830fd04220f754e42b4e5bff      335.0          4.0              82.0   \n",
       "2  7c396fd4830fd04220f754e42b4e5bff      335.0          4.0              82.0   \n",
       "3  7c396fd4830fd04220f754e42b4e5bff      335.0          4.0              82.0   \n",
       "4  7c396fd4830fd04220f754e42b4e5bff      335.0          4.0              82.0   \n",
       "\n",
       "   customer_tenure  late_deliveries  num_orders  review_score  \n",
       "0             27.0                0         2.0             4  \n",
       "1             27.0                0         2.0             4  \n",
       "2             27.0                0         2.0             4  \n",
       "3             27.0                0         2.0             4  \n",
       "4             27.0                0         2.0             4  "
      ]
     },
     "execution_count": 82,
     "metadata": {},
     "output_type": "execute_result"
    }
   ],
   "source": [
    "merged_df.head()"
   ]
  },
  {
   "cell_type": "code",
   "execution_count": 83,
   "id": "96c89a81",
   "metadata": {},
   "outputs": [],
   "source": [
    "columns_to_remove = ['recency_x', 'frequency_x', 'monetary_value_x']\n",
    "merged_df.drop(columns=columns_to_remove, inplace=True)"
   ]
  },
  {
   "cell_type": "code",
   "execution_count": 84,
   "id": "8bb97a56",
   "metadata": {},
   "outputs": [],
   "source": [
    "merged_df.rename(columns={\n",
    "    'recency_y': 'recency',\n",
    "    'frequency_y': 'frequency',\n",
    "    'monetary_value_y': 'monetary_value'\n",
    "}, inplace=True)"
   ]
  },
  {
   "cell_type": "code",
   "execution_count": 85,
   "id": "70222fe5",
   "metadata": {},
   "outputs": [],
   "source": [
    "merged_df.to_csv('merged_df.csv', index=False)\n"
   ]
  },
  {
   "cell_type": "code",
   "execution_count": 86,
   "id": "6805d88f",
   "metadata": {},
   "outputs": [
    {
     "data": {
      "text/html": [
       "<div>\n",
       "<style scoped>\n",
       "    .dataframe tbody tr th:only-of-type {\n",
       "        vertical-align: middle;\n",
       "    }\n",
       "\n",
       "    .dataframe tbody tr th {\n",
       "        vertical-align: top;\n",
       "    }\n",
       "\n",
       "    .dataframe thead th {\n",
       "        text-align: right;\n",
       "    }\n",
       "</style>\n",
       "<table border=\"1\" class=\"dataframe\">\n",
       "  <thead>\n",
       "    <tr style=\"text-align: right;\">\n",
       "      <th></th>\n",
       "      <th>recency_score</th>\n",
       "      <th>frequency_score</th>\n",
       "      <th>monetary_score</th>\n",
       "      <th>rfm_score</th>\n",
       "      <th>recency</th>\n",
       "      <th>frequency</th>\n",
       "      <th>monetary_value</th>\n",
       "      <th>customer_tenure</th>\n",
       "      <th>late_deliveries</th>\n",
       "      <th>num_orders</th>\n",
       "      <th>review_score</th>\n",
       "    </tr>\n",
       "  </thead>\n",
       "  <tbody>\n",
       "    <tr>\n",
       "      <th>recency_score</th>\n",
       "      <td>1.000000</td>\n",
       "      <td>0.096187</td>\n",
       "      <td>0.017639</td>\n",
       "      <td>0.635818</td>\n",
       "      <td>0.951891</td>\n",
       "      <td>0.220528</td>\n",
       "      <td>-0.019738</td>\n",
       "      <td>0.019731</td>\n",
       "      <td>-0.044638</td>\n",
       "      <td>0.096756</td>\n",
       "      <td>0.001995</td>\n",
       "    </tr>\n",
       "    <tr>\n",
       "      <th>frequency_score</th>\n",
       "      <td>0.096187</td>\n",
       "      <td>1.000000</td>\n",
       "      <td>0.481605</td>\n",
       "      <td>0.612993</td>\n",
       "      <td>0.095570</td>\n",
       "      <td>0.455630</td>\n",
       "      <td>0.253022</td>\n",
       "      <td>0.130177</td>\n",
       "      <td>-0.053313</td>\n",
       "      <td>0.290704</td>\n",
       "      <td>-0.130442</td>\n",
       "    </tr>\n",
       "    <tr>\n",
       "      <th>monetary_score</th>\n",
       "      <td>0.017639</td>\n",
       "      <td>0.481605</td>\n",
       "      <td>1.000000</td>\n",
       "      <td>0.748884</td>\n",
       "      <td>0.017580</td>\n",
       "      <td>0.268880</td>\n",
       "      <td>0.227873</td>\n",
       "      <td>0.110571</td>\n",
       "      <td>-0.014667</td>\n",
       "      <td>0.216978</td>\n",
       "      <td>-0.156009</td>\n",
       "    </tr>\n",
       "    <tr>\n",
       "      <th>rfm_score</th>\n",
       "      <td>0.635818</td>\n",
       "      <td>0.612993</td>\n",
       "      <td>0.748884</td>\n",
       "      <td>1.000000</td>\n",
       "      <td>0.606758</td>\n",
       "      <td>0.415633</td>\n",
       "      <td>0.193652</td>\n",
       "      <td>0.113476</td>\n",
       "      <td>-0.049654</td>\n",
       "      <td>0.266666</td>\n",
       "      <td>-0.128352</td>\n",
       "    </tr>\n",
       "    <tr>\n",
       "      <th>recency</th>\n",
       "      <td>0.951891</td>\n",
       "      <td>0.095570</td>\n",
       "      <td>0.017580</td>\n",
       "      <td>0.606758</td>\n",
       "      <td>1.000000</td>\n",
       "      <td>0.183434</td>\n",
       "      <td>-0.017002</td>\n",
       "      <td>0.013829</td>\n",
       "      <td>-0.048913</td>\n",
       "      <td>0.077067</td>\n",
       "      <td>0.000813</td>\n",
       "    </tr>\n",
       "    <tr>\n",
       "      <th>frequency</th>\n",
       "      <td>0.220528</td>\n",
       "      <td>0.455630</td>\n",
       "      <td>0.268880</td>\n",
       "      <td>0.415633</td>\n",
       "      <td>0.183434</td>\n",
       "      <td>1.000000</td>\n",
       "      <td>0.113994</td>\n",
       "      <td>0.038199</td>\n",
       "      <td>-0.062647</td>\n",
       "      <td>0.339475</td>\n",
       "      <td>0.035131</td>\n",
       "    </tr>\n",
       "    <tr>\n",
       "      <th>monetary_value</th>\n",
       "      <td>-0.019738</td>\n",
       "      <td>0.253022</td>\n",
       "      <td>0.227873</td>\n",
       "      <td>0.193652</td>\n",
       "      <td>-0.017002</td>\n",
       "      <td>0.113994</td>\n",
       "      <td>1.000000</td>\n",
       "      <td>0.016670</td>\n",
       "      <td>-0.022239</td>\n",
       "      <td>0.101373</td>\n",
       "      <td>-0.166082</td>\n",
       "    </tr>\n",
       "    <tr>\n",
       "      <th>customer_tenure</th>\n",
       "      <td>0.019731</td>\n",
       "      <td>0.130177</td>\n",
       "      <td>0.110571</td>\n",
       "      <td>0.113476</td>\n",
       "      <td>0.013829</td>\n",
       "      <td>0.038199</td>\n",
       "      <td>0.016670</td>\n",
       "      <td>1.000000</td>\n",
       "      <td>-0.020754</td>\n",
       "      <td>0.560123</td>\n",
       "      <td>0.034477</td>\n",
       "    </tr>\n",
       "    <tr>\n",
       "      <th>late_deliveries</th>\n",
       "      <td>-0.044638</td>\n",
       "      <td>-0.053313</td>\n",
       "      <td>-0.014667</td>\n",
       "      <td>-0.049654</td>\n",
       "      <td>-0.048913</td>\n",
       "      <td>-0.062647</td>\n",
       "      <td>-0.022239</td>\n",
       "      <td>-0.020754</td>\n",
       "      <td>1.000000</td>\n",
       "      <td>-0.035800</td>\n",
       "      <td>-0.251808</td>\n",
       "    </tr>\n",
       "    <tr>\n",
       "      <th>num_orders</th>\n",
       "      <td>0.096756</td>\n",
       "      <td>0.290704</td>\n",
       "      <td>0.216978</td>\n",
       "      <td>0.266666</td>\n",
       "      <td>0.077067</td>\n",
       "      <td>0.339475</td>\n",
       "      <td>0.101373</td>\n",
       "      <td>0.560123</td>\n",
       "      <td>-0.035800</td>\n",
       "      <td>1.000000</td>\n",
       "      <td>0.050789</td>\n",
       "    </tr>\n",
       "    <tr>\n",
       "      <th>review_score</th>\n",
       "      <td>0.001995</td>\n",
       "      <td>-0.130442</td>\n",
       "      <td>-0.156009</td>\n",
       "      <td>-0.128352</td>\n",
       "      <td>0.000813</td>\n",
       "      <td>0.035131</td>\n",
       "      <td>-0.166082</td>\n",
       "      <td>0.034477</td>\n",
       "      <td>-0.251808</td>\n",
       "      <td>0.050789</td>\n",
       "      <td>1.000000</td>\n",
       "    </tr>\n",
       "  </tbody>\n",
       "</table>\n",
       "</div>"
      ],
      "text/plain": [
       "                 recency_score  frequency_score  monetary_score  rfm_score  \\\n",
       "recency_score         1.000000         0.096187        0.017639   0.635818   \n",
       "frequency_score       0.096187         1.000000        0.481605   0.612993   \n",
       "monetary_score        0.017639         0.481605        1.000000   0.748884   \n",
       "rfm_score             0.635818         0.612993        0.748884   1.000000   \n",
       "recency               0.951891         0.095570        0.017580   0.606758   \n",
       "frequency             0.220528         0.455630        0.268880   0.415633   \n",
       "monetary_value       -0.019738         0.253022        0.227873   0.193652   \n",
       "customer_tenure       0.019731         0.130177        0.110571   0.113476   \n",
       "late_deliveries      -0.044638        -0.053313       -0.014667  -0.049654   \n",
       "num_orders            0.096756         0.290704        0.216978   0.266666   \n",
       "review_score          0.001995        -0.130442       -0.156009  -0.128352   \n",
       "\n",
       "                  recency  frequency  monetary_value  customer_tenure  \\\n",
       "recency_score    0.951891   0.220528       -0.019738         0.019731   \n",
       "frequency_score  0.095570   0.455630        0.253022         0.130177   \n",
       "monetary_score   0.017580   0.268880        0.227873         0.110571   \n",
       "rfm_score        0.606758   0.415633        0.193652         0.113476   \n",
       "recency          1.000000   0.183434       -0.017002         0.013829   \n",
       "frequency        0.183434   1.000000        0.113994         0.038199   \n",
       "monetary_value  -0.017002   0.113994        1.000000         0.016670   \n",
       "customer_tenure  0.013829   0.038199        0.016670         1.000000   \n",
       "late_deliveries -0.048913  -0.062647       -0.022239        -0.020754   \n",
       "num_orders       0.077067   0.339475        0.101373         0.560123   \n",
       "review_score     0.000813   0.035131       -0.166082         0.034477   \n",
       "\n",
       "                 late_deliveries  num_orders  review_score  \n",
       "recency_score          -0.044638    0.096756      0.001995  \n",
       "frequency_score        -0.053313    0.290704     -0.130442  \n",
       "monetary_score         -0.014667    0.216978     -0.156009  \n",
       "rfm_score              -0.049654    0.266666     -0.128352  \n",
       "recency                -0.048913    0.077067      0.000813  \n",
       "frequency              -0.062647    0.339475      0.035131  \n",
       "monetary_value         -0.022239    0.101373     -0.166082  \n",
       "customer_tenure        -0.020754    0.560123      0.034477  \n",
       "late_deliveries         1.000000   -0.035800     -0.251808  \n",
       "num_orders             -0.035800    1.000000      0.050789  \n",
       "review_score           -0.251808    0.050789      1.000000  "
      ]
     },
     "execution_count": 86,
     "metadata": {},
     "output_type": "execute_result"
    }
   ],
   "source": [
    "merged_df.corr()"
   ]
  },
  {
   "cell_type": "markdown",
   "id": "55ae6e1b",
   "metadata": {},
   "source": [
    "# RFM score:\n",
    "1. A higher RFM score typically indicates a more favorable customer behavior.\n",
    "2. Recency (R):\n",
    "   High Score: The customer has made a purchase very recently.\n",
    "   Recent customers are often more engaged and have a higher likelihood of making additional purchases.\n",
    "3. Frequency (F): High Score: The customer makes frequent purchases. High-frequency customers are loyal and consistently engaged with your business, indicating a strong relationship.\n",
    "4. Monetary (M): High Score: The customer has a higher monetary value, indicating higher spending. High monetary value suggests that the customer is a high spender, contributing significantly to your revenue.\n",
    "\n",
    "#### When combining these components into an overall RFM score, a higher total RFM score implies that a customer is recent, makes frequent purchases, and has a high monetary value. Therefore, customers with high RFM scores are often considered the most valuable and desirable for a business."
   ]
  },
  {
   "cell_type": "code",
   "execution_count": 61,
   "id": "f1cd9ecc",
   "metadata": {},
   "outputs": [
    {
     "data": {
      "text/html": [
       "<div>\n",
       "<style scoped>\n",
       "    .dataframe tbody tr th:only-of-type {\n",
       "        vertical-align: middle;\n",
       "    }\n",
       "\n",
       "    .dataframe tbody tr th {\n",
       "        vertical-align: top;\n",
       "    }\n",
       "\n",
       "    .dataframe thead th {\n",
       "        text-align: right;\n",
       "    }\n",
       "</style>\n",
       "<table border=\"1\" class=\"dataframe\">\n",
       "  <thead>\n",
       "    <tr style=\"text-align: right;\">\n",
       "      <th></th>\n",
       "      <th>recency_score</th>\n",
       "      <th>frequency_score</th>\n",
       "      <th>monetary_score</th>\n",
       "      <th>rfm_score</th>\n",
       "    </tr>\n",
       "  </thead>\n",
       "  <tbody>\n",
       "    <tr>\n",
       "      <th>recency_score</th>\n",
       "      <td>1.000000</td>\n",
       "      <td>0.035437</td>\n",
       "      <td>0.005208</td>\n",
       "      <td>0.660100</td>\n",
       "    </tr>\n",
       "    <tr>\n",
       "      <th>frequency_score</th>\n",
       "      <td>0.035437</td>\n",
       "      <td>1.000000</td>\n",
       "      <td>0.387196</td>\n",
       "      <td>0.473594</td>\n",
       "    </tr>\n",
       "    <tr>\n",
       "      <th>monetary_score</th>\n",
       "      <td>0.005208</td>\n",
       "      <td>0.387196</td>\n",
       "      <td>1.000000</td>\n",
       "      <td>0.732087</td>\n",
       "    </tr>\n",
       "    <tr>\n",
       "      <th>rfm_score</th>\n",
       "      <td>0.660100</td>\n",
       "      <td>0.473594</td>\n",
       "      <td>0.732087</td>\n",
       "      <td>1.000000</td>\n",
       "    </tr>\n",
       "  </tbody>\n",
       "</table>\n",
       "</div>"
      ],
      "text/plain": [
       "                 recency_score  frequency_score  monetary_score  rfm_score\n",
       "recency_score         1.000000         0.035437        0.005208   0.660100\n",
       "frequency_score       0.035437         1.000000        0.387196   0.473594\n",
       "monetary_score        0.005208         0.387196        1.000000   0.732087\n",
       "rfm_score             0.660100         0.473594        0.732087   1.000000"
      ]
     },
     "execution_count": 61,
     "metadata": {},
     "output_type": "execute_result"
    }
   ],
   "source": [
    "# Calculate correlation matrix\n",
    "correlation_matrix = rfm_df[['recency_score', 'frequency_score', 'monetary_score', 'rfm_score']].corr()\n",
    "\n",
    "#Print correlation matrix:\n",
    "correlation_matrix"
   ]
  },
  {
   "cell_type": "code",
   "execution_count": 62,
   "id": "2b5e786a",
   "metadata": {},
   "outputs": [
    {
     "data": {
      "image/png": "[encoded data removed]",
      "text/plain": [
       "<Figure size 432x288 with 2 Axes>"
      ]
     },
     "metadata": {},
     "output_type": "display_data"
    }
   ],
   "source": [
    "# Create a heatmap\n",
    "plt.figure(figsize=(6, 4))\n",
    "sns.heatmap(correlation_matrix, annot=True, cmap='viridis', fmt=\".2f\", linewidths=.5)\n",
    "plt.title('Correlation Heatmap of RFM Scores', fontsize=16)\n",
    "plt.show()\n"
   ]
  },
  {
   "cell_type": "markdown",
   "id": "4490cb75",
   "metadata": {},
   "source": [
    "# ### Interpretations:\n",
    "1. The RFM score is strongly influenced by monetary value, with a notable positive correlation.\n",
    "2. Recency has a moderate positive impact on the overall RFM score, but the relationship is not as strong as monetary value.\n",
    "3. Frequency has a moderate positive impact on both monetary value and the overall RFM score.\n",
    "4. Therefore, we will use rfm_score to decide churn"
   ]
  },
  {
   "cell_type": "code",
   "execution_count": 63,
   "id": "52d7c5c3",
   "metadata": {},
   "outputs": [
    {
     "name": "stderr",
     "output_type": "stream",
     "text": [
      "C:\\Temp\\ipykernel_3856\\1235650739.py:3: SettingWithCopyWarning: \n",
      "A value is trying to be set on a copy of a slice from a DataFrame.\n",
      "Try using .loc[row_indexer,col_indexer] = value instead\n",
      "\n",
      "See the caveats in the documentation: https://pandas.pydata.org/pandas-docs/stable/user_guide/indexing.html#returning-a-view-versus-a-copy\n",
      "  rfm_df['segment'] = pd.cut(rfm_df['rfm_score'], bins=[0, 3, 6, 9], labels=segment_labels)\n"
     ]
    }
   ],
   "source": [
    "# Define customer segments based on RFM score\n",
    "segment_labels = segment_labels = ['Inactive', 'Regular', 'Engaged']\n",
    "rfm_df['segment'] = pd.cut(rfm_df['rfm_score'], bins=[0, 3, 6, 9], labels=segment_labels)"
   ]
  },
  {
   "cell_type": "markdown",
   "id": "d85325a5",
   "metadata": {},
   "source": [
    "# #### bins decided based on rfm score:\n",
    "I. rfm score(0-3): inactive:\n",
    "1. These customers may have low recency, frequency, and monetary contributions.\n",
    "2. They might be considered less engaged or potentially at risk of churning.\n",
    "   \n",
    "rfm score(4-6): regular:\n",
    "1. This group represents customers with moderate recency, frequency, and monetary values.\n",
    "2. They are considered reasonably engaged and contribute to the business consistently.\n",
    "   \n",
    "rfm score(7-9): engaged:\n",
    "1. This segment includes customers with high recency, frequency, and monetary contributions.\n",
    "2. These are the most valuable and engaged customers, likely to be loyal and provide significant revenue."
   ]
  },
  {
   "cell_type": "code",
   "execution_count": 64,
   "id": "25f9758d",
   "metadata": {},
   "outputs": [
    {
     "data": {
      "text/html": [
       "<div>\n",
       "<style scoped>\n",
       "    .dataframe tbody tr th:only-of-type {\n",
       "        vertical-align: middle;\n",
       "    }\n",
       "\n",
       "    .dataframe tbody tr th {\n",
       "        vertical-align: top;\n",
       "    }\n",
       "\n",
       "    .dataframe thead th {\n",
       "        text-align: right;\n",
       "    }\n",
       "</style>\n",
       "<table border=\"1\" class=\"dataframe\">\n",
       "  <thead>\n",
       "    <tr style=\"text-align: right;\">\n",
       "      <th></th>\n",
       "      <th>customer_id</th>\n",
       "      <th>recency</th>\n",
       "      <th>frequency</th>\n",
       "      <th>monetary_value</th>\n",
       "      <th>recency_score</th>\n",
       "      <th>frequency_score</th>\n",
       "      <th>monetary_score</th>\n",
       "      <th>rfm_score</th>\n",
       "      <th>segment</th>\n",
       "    </tr>\n",
       "  </thead>\n",
       "  <tbody>\n",
       "    <tr>\n",
       "      <th>0</th>\n",
       "      <td>9ef432eb6251297304e76186b10a928d</td>\n",
       "      <td>335.0</td>\n",
       "      <td>4.0</td>\n",
       "      <td>82.0</td>\n",
       "      <td>2</td>\n",
       "      <td>1.0</td>\n",
       "      <td>1.0</td>\n",
       "      <td>4.0</td>\n",
       "      <td>Regular</td>\n",
       "    </tr>\n",
       "    <tr>\n",
       "      <th>1</th>\n",
       "      <td>9ef432eb6251297304e76186b10a928d</td>\n",
       "      <td>335.0</td>\n",
       "      <td>4.0</td>\n",
       "      <td>82.0</td>\n",
       "      <td>2</td>\n",
       "      <td>1.0</td>\n",
       "      <td>1.0</td>\n",
       "      <td>4.0</td>\n",
       "      <td>Regular</td>\n",
       "    </tr>\n",
       "    <tr>\n",
       "      <th>2</th>\n",
       "      <td>9ef432eb6251297304e76186b10a928d</td>\n",
       "      <td>335.0</td>\n",
       "      <td>4.0</td>\n",
       "      <td>82.0</td>\n",
       "      <td>2</td>\n",
       "      <td>1.0</td>\n",
       "      <td>1.0</td>\n",
       "      <td>4.0</td>\n",
       "      <td>Regular</td>\n",
       "    </tr>\n",
       "    <tr>\n",
       "      <th>3</th>\n",
       "      <td>b0830fb4747a6c6d20dea0b8c802d7ef</td>\n",
       "      <td>40.0</td>\n",
       "      <td>1.0</td>\n",
       "      <td>141.0</td>\n",
       "      <td>0</td>\n",
       "      <td>0.0</td>\n",
       "      <td>2.0</td>\n",
       "      <td>2.0</td>\n",
       "      <td>Inactive</td>\n",
       "    </tr>\n",
       "    <tr>\n",
       "      <th>4</th>\n",
       "      <td>41ce2a54c0b03bf3443c3d931a367089</td>\n",
       "      <td>26.0</td>\n",
       "      <td>1.0</td>\n",
       "      <td>179.0</td>\n",
       "      <td>0</td>\n",
       "      <td>0.0</td>\n",
       "      <td>2.0</td>\n",
       "      <td>2.0</td>\n",
       "      <td>Inactive</td>\n",
       "    </tr>\n",
       "  </tbody>\n",
       "</table>\n",
       "</div>"
      ],
      "text/plain": [
       "                        customer_id  recency  frequency  monetary_value  \\\n",
       "0  9ef432eb6251297304e76186b10a928d    335.0        4.0            82.0   \n",
       "1  9ef432eb6251297304e76186b10a928d    335.0        4.0            82.0   \n",
       "2  9ef432eb6251297304e76186b10a928d    335.0        4.0            82.0   \n",
       "3  b0830fb4747a6c6d20dea0b8c802d7ef     40.0        1.0           141.0   \n",
       "4  41ce2a54c0b03bf3443c3d931a367089     26.0        1.0           179.0   \n",
       "\n",
       "   recency_score  frequency_score  monetary_score  rfm_score   segment  \n",
       "0              2              1.0             1.0        4.0   Regular  \n",
       "1              2              1.0             1.0        4.0   Regular  \n",
       "2              2              1.0             1.0        4.0   Regular  \n",
       "3              0              0.0             2.0        2.0  Inactive  \n",
       "4              0              0.0             2.0        2.0  Inactive  "
      ]
     },
     "execution_count": 64,
     "metadata": {},
     "output_type": "execute_result"
    }
   ],
   "source": [
    "rfm_df.head()"
   ]
  },
  {
   "cell_type": "code",
   "execution_count": 65,
   "id": "d4f1b7fa",
   "metadata": {},
   "outputs": [
    {
     "data": {
      "image/png": "[encoded data removed]",
      "text/plain": [
       "<Figure size 1296x432 with 3 Axes>"
      ]
     },
     "metadata": {},
     "output_type": "display_data"
    }
   ],
   "source": [
    "plt.figure(figsize=(18, 6))\n",
    "\n",
    "# Bar Plot\n",
    "plt.subplot(1, 3, 1)\n",
    "sns.countplot(x='segment', data=rfm_df, palette='viridis')\n",
    "plt.title('Customer Segmentation', fontsize=16)\n",
    "plt.xlabel('Segment', fontsize=14)\n",
    "plt.ylabel('Number of Customers', fontsize=14)\n",
    "plt.xticks(fontsize=12)\n",
    "plt.yticks(fontsize=12)\n",
    "sns.despine()\n",
    "\n",
    "# Pie Chart \n",
    "plt.subplot(1, 3, 2)\n",
    "segment_counts = rfm_df['segment'].value_counts()\n",
    "colors = sns.color_palette('viridis')\n",
    "explode = (0.01, 0.01, 0.1)  # Explode the 'Engaged' slice\n",
    "plt.pie(segment_counts, labels=segment_counts.index, autopct='%1.2f%%', colors=colors, startangle=90, explode=explode)\n",
    "plt.title('Segment Distribution', fontsize=20)\n",
    "\n",
    "# Count Plot\n",
    "plt.subplot(1, 3, 3)\n",
    "sns.countplot(x='rfm_score', hue='segment', data=rfm_df, palette='viridis')\n",
    "plt.title('Count of Customers in Each RFM Score Segment', fontsize=16)\n",
    "plt.xlabel('RFM Score', fontsize=14)\n",
    "plt.ylabel('Number of Customers', fontsize=16)\n",
    "plt.legend(title='Segment', fontsize=12)\n",
    "plt.xticks(fontsize=12)\n",
    "plt.yticks(fontsize=12)\n",
    "sns.despine()\n",
    "\n",
    "# Adjust layout\n",
    "plt.tight_layout()\n",
    "plt.show()"
   ]
  },
  {
   "cell_type": "code",
   "execution_count": 87,
   "id": "a75cc77a",
   "metadata": {},
   "outputs": [
    {
     "name": "stdout",
     "output_type": "stream",
     "text": [
      "RFM Analysis:\n",
      "                        customer_id  recency  frequency  monetary_value  \\\n",
      "0  9ef432eb6251297304e76186b10a928d      335        4.0            82.0   \n",
      "1  9ef432eb6251297304e76186b10a928d      335        4.0            82.0   \n",
      "2  9ef432eb6251297304e76186b10a928d      335        4.0            82.0   \n",
      "3  b0830fb4747a6c6d20dea0b8c802d7ef       40        1.0           141.0   \n",
      "4  41ce2a54c0b03bf3443c3d931a367089       26        1.0           179.0   \n",
      "\n",
      "   recency_score  frequency_score  monetary_score  rfm_score   segment  \n",
      "0              2              1.0             1.0        4.0   Regular  \n",
      "1              2              1.0             1.0        4.0   Regular  \n",
      "2              2              1.0             1.0        4.0   Regular  \n",
      "3              0              0.0             2.0        2.0  Inactive  \n",
      "4              0              0.0             2.0        2.0  Inactive  \n",
      "\n",
      "Churn Analysis:\n",
      "  churn  monetary_value  frequency  customer_tenure  late_deliveries  \\\n",
      "0     0      358.245448   1.661107         5.321343         0.075493   \n",
      "1     1      376.756404   1.903049         6.365635         0.075322   \n",
      "\n",
      "   num_orders  review_score  \n",
      "0    1.064367      4.125344  \n",
      "1    1.098155      4.006527  \n"
     ]
    }
   ],
   "source": [
    " #Analyze churn\n",
    "churn_threshold = 180\n",
    "df['churn'] = (df['recency'] > churn_threshold_days).astype(int)\n",
    "\n",
    "df['churn'] = df['churn'].astype(str)\n",
    "\n",
    "# Analyze features for churn prediction\n",
    "churn_analysis = df.groupby('churn').agg({\n",
    "    'monetary_value': 'mean',\n",
    "    'frequency': 'mean',\n",
    "    'customer_tenure': 'mean',\n",
    "    'late_deliveries': 'mean',\n",
    "    'num_orders': 'mean',\n",
    "    'review_score': 'mean'\n",
    "}).reset_index()\n",
    "\n",
    "# Print insights\n",
    "print(\"RFM Analysis:\")\n",
    "print(rfm_df.head())\n",
    "\n",
    "print(\"\\nChurn Analysis:\")\n",
    "print(churn_analysis)"
   ]
  },
  {
   "cell_type": "code",
   "execution_count": 66,
   "id": "032afee1",
   "metadata": {},
   "outputs": [
    {
     "data": {
      "image/png": "[encoded data removed]",
      "text/plain": [
       "<Figure size 864x360 with 2 Axes>"
      ]
     },
     "metadata": {},
     "output_type": "display_data"
    }
   ],
   "source": [
    "# Create subplots for RFM analysis\n",
    "plt.figure(figsize=(12, 5))\n",
    "plt.subplot(1, 2, 1)\n",
    "\n",
    "# Visualize RFM scores\n",
    "sns.histplot(data=rfm_df, x='rfm_score', kde=True, bins=20, color='skyblue')\n",
    "plt.title('Distribution of RFM Scores')\n",
    "plt.xlabel('RFM Score')\n",
    "plt.ylabel('Frequency')\n",
    "\n",
    "# Create subplots for Churn analysis\n",
    "plt.subplot(1, 2, 2)\n",
    "\n",
    "# Visualize churn analysis\n",
    "churn_analysis_melted = pd.melt(churn_analysis, id_vars='churn', var_name='feature', value_name='mean_value')\n",
    "sns.barplot(data=churn_analysis_melted, x='feature', y='mean_value', hue='churn', palette='viridis')\n",
    "plt.title('Churn Analysis')\n",
    "plt.xlabel('Features')\n",
    "plt.ylabel('Mean Value')\n",
    "plt.xticks(rotation='vertical')\n",
    "# Display the plots\n",
    "plt.tight_layout()\n",
    "plt.show()"
   ]
  },
  {
   "cell_type": "markdown",
   "id": "735fbf69",
   "metadata": {},
   "source": [
    "# ## Customer Retention\n",
    "Customer retention refers to a company’s ability to turn customers into repeat buyers and prevent them from switching to a competitor.\n",
    "\n",
    "### Why?\n",
    "Acquiring a new customer can be five to 25 times more expensive than holding on to an existing one.\n",
    "### Customer retention benefits\n",
    "\n",
    "    Cost savings: Customer retention is generally more cost-effective than acquiring first-time customers\n",
    "    Positive word of mouth marketing: Loyal customers are more likely to tell their friends and family about your brand\n",
    "    A better bottom line: Increasing retention rates by just 5 percent can increase revenue by 25 percent to 95 percent\n",
    "    \n",
    "  #### 6 strategies to improve customer retention\n",
    "\n",
    "    Deliver fast support\n",
    "    Personalize interactions\n",
    "    Invest in employees\n",
    "    Meet customers where they are\n",
    "    Gather customer feedback\n",
    "    Incentivise loyalty\n",
    "\n"
   ]
  },
  {
   "cell_type": "markdown",
   "id": "f016b749",
   "metadata": {},
   "source": [
    "# 1. Segmentation Understanding:\n",
    "\n",
    "#### Regular Customers (Segment: Regular):\n",
    "   - **Insight:** Moderate recency, frequency, and monetary value.\n",
    "   - **Strategy:** Implement personalized promotions for related products, maintaining engagement and increasing average order value.\n",
    "\n",
    "#### Inactive Customers (Segment: Inactive):\n",
    "   - **Insight:** Low recency, frequency, and monetary value.\n",
    "   - **Strategy:** Launch reactivation campaigns with special offers and targeted messaging to reignite interest.\n",
    "\n",
    "### 2. Churn Analysis Insights:\n",
    "\n",
    "   - **Churned Customers:**\n",
    "      - **Insight:** Churn associated with late deliveries and review scores.\n",
    "      - **Strategy:** Address late deliveries promptly, gather feedback, and showcase resolutions to improve customer satisfaction.\n",
    "\n",
    "### 3. Recency-Frequency-Monetary (RFM) Score Utilization:\n",
    "\n",
    "   - **Recency Score:**\n",
    "      - **Insight:** Win-back potential in higher recency scores.\n",
    "      - **Strategy:** Launch time-sensitive promotions for recent customers, emphasizing exclusive benefits.\n",
    "\n",
    "   - **Frequency Score:**\n",
    "      - **Insight:** Low engagement in customers with low frequency scores.\n",
    "      - **Strategy:** Introduce a loyalty program with tiered benefits to increase engagement.\n",
    "\n",
    "   - **Monetary Score:**\n",
    "      - **Insight:** Create VIP programs for high monetary score customers.\n",
    "      - **Strategy:** Design premium VIP programs with exclusive benefits, aiming to increase the monetary value of moderate-scoring customers.\n",
    "\n",
    "### 4. RFM Score (Overall) Strategy:\n",
    "\n",
    "   - **High RFM Score :**\n",
    "      - **Insight:** Indicates highly engaged and valuable customers.\n",
    "      - **Strategy:** Implement an exclusive loyalty program, offering personalized perks, early access to promotions, and special events to maintain their loyalty.\n",
    "\n",
    "   - **Moderate RFM Score :**\n",
    "      - **Insight:** Indicates room for improvement and potential for increased engagement.\n",
    "      - **Strategy:** Launch targeted promotions and personalized communication to elevate their RFM scores, encouraging more frequent and higher-value transactions.\n",
    "\n",
    "   - **Low RFM Score :**\n",
    "      - **Insight:** Indicates less engaged and lower-value customers.\n",
    "      - **Strategy:** Implement win-back campaigns, offering special incentives to encourage repeat purchases and regain their interest.\n",
    "\n",
    "### 5. Customer Experience Enhancement:\n",
    "\n",
    "   - **Late Deliveries:**\n",
    "      - **Insight:** Optimize the supply chain to reduce late deliveries.\n",
    "      - **Strategy:** Implement real-time tracking and proactive communication for better customer satisfaction.\n",
    "\n",
    "   - **Review Scores:**\n",
    "      - **Insight:** Positive reviews correlate with customer retention.\n",
    "      - **Strategy:** Encourage customers to leave positive reviews and address negative ones promptly.\n",
    "\n",
    "### 6. Communication Strategies:\n",
    "\n",
    "   - **Personalized Messaging:**\n",
    "      - **Insight:** Tailor communications based on customer segments and RFM scores.\n",
    "      - **Strategy:** Use dynamic content in emails showcasing relevant products and promotions based on each customer's past behavior.\n",
    "\n",
    "   - **Reactivation Campaigns:**\n",
    "      - **Insight:** Inactive customers show potential for reactivation.\n",
    "      - **Strategy:** Employ multi-channel communication with personalized incentives to win back inactive customers.\n",
    "\n",
    "### 7. Retention KPIs and Measurement:\n",
    "\n",
    "   - **Key Performance Indicators (KPIs):**\n",
    "      - **Insight:** Monitor customer retention rate, repeat purchase rate, and customer lifetime value.\n",
    "      - **Strategy:** Regularly track and analyze KPIs to measure the success of campaigns, adjusting strategies based on performance metrics.\n",
    "\n",
    "   - **Feedback and Surveys:**\n",
    "      - **Insight:** Customer feedback provides valuable insights.\n",
    "      - **Strategy:** Conduct regular surveys to gather feedback and make data-driven improvements.\n",
    "\n",
    "### 8. Continuous Improvement:\n",
    "\n",
    "   - **Data Analysis:**\n",
    "      - **Insight:** Regularly analyze customer behavior data for trends.\n",
    "      - **Strategy:** Adapt strategies based on evolving customer preferences and market dynamics.\n",
    "\n",
    "   - **Adaptability:**\n",
    "      - **Insight:** Stay informed about industry changes.\n",
    "      - **Strategy:** Adapt the retention strategy to align with emerging market trends, maintaining a competitive edge.\n",
    "\n",
    "### 9. Employee Training and Customer Service:\n",
    "\n",
    "   - **Training Programs:**\n",
    "      - **Insight:** Well-trained staff contributes to positive interactions.\n",
    "      - **Strategy:** Provide ongoing training to customer service teams, empowering them to handle concerns proactively.\n",
    "\n",
    "   - **Customer Service Excellence:**\n",
    "      - **Insight:** Customer service excellence positively impacts brand perception.\n",
    "      - **Strategy:** Implement a customer-centric culture within the organization to ensure excellence in every customer interaction.\n",
    "\n",
    "### Conclusion:\n",
    "\n",
    "This retention strategy, enriched with specific insights from RFM and churn analyses, includes a tailored approach for customers based on their overall RFM scores. The goal is to maximize engagement, increase loyalty, and address specific needs of each customer segment. Regular evaluation and adaptability are crucial to sustaining a successful retention strategy in the dynamic landscape of customer preferences and market trends.\n"
   ]
  },
  {
   "cell_type": "code",
   "execution_count": null,
   "id": "7fe816df",
   "metadata": {},
   "outputs": [],
   "source": []
  }
 ],
 "metadata": {
  "kernelspec": {
   "display_name": "Python 3 (ipykernel)",
   "language": "python",
   "name": "python3"
  },
  "language_info": {
   "codemirror_mode": {
    "name": "ipython",
    "version": 3
   },
   "file_extension": ".py",
   "mimetype": "text/x-python",
   "name": "python",
   "nbconvert_exporter": "python",
   "pygments_lexer": "ipython3",
   "version": "3.12.2"
  }
 },
 "nbformat": 4,
 "nbformat_minor": 5
}
